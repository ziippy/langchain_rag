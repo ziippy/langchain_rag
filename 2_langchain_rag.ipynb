{
 "cells": [
  {
   "cell_type": "markdown",
   "metadata": {},
   "source": [
    "## 랭체인을 이용한 RAG\n",
    "\n",
    "RAG 를 이용해 사용자 쿼리에 맞게 답변을 제공하는 챗봇을 만들어 보자."
   ]
  },
  {
   "cell_type": "code",
   "execution_count": 1,
   "metadata": {},
   "outputs": [
    {
     "data": {
      "text/plain": [
       "True"
      ]
     },
     "execution_count": 1,
     "metadata": {},
     "output_type": "execute_result"
    }
   ],
   "source": [
    "from dotenv import load_dotenv\n",
    "load_dotenv()"
   ]
  },
  {
   "cell_type": "code",
   "execution_count": 1,
   "metadata": {},
   "outputs": [
    {
     "name": "stdout",
     "output_type": "stream",
     "text": [
      "Requirement already satisfied: chromadb in /home/haiqv/conda/envs/agent/lib/python3.10/site-packages (1.0.4)\n",
      "Requirement already satisfied: build>=1.0.3 in /home/haiqv/conda/envs/agent/lib/python3.10/site-packages (from chromadb) (1.2.2.post1)\n",
      "Requirement already satisfied: pydantic>=1.9 in /home/haiqv/conda/envs/agent/lib/python3.10/site-packages (from chromadb) (2.11.3)\n",
      "Requirement already satisfied: chroma-hnswlib==0.7.6 in /home/haiqv/conda/envs/agent/lib/python3.10/site-packages (from chromadb) (0.7.6)\n",
      "Requirement already satisfied: fastapi==0.115.9 in /home/haiqv/conda/envs/agent/lib/python3.10/site-packages (from chromadb) (0.115.9)\n",
      "Requirement already satisfied: uvicorn>=0.18.3 in /home/haiqv/conda/envs/agent/lib/python3.10/site-packages (from uvicorn[standard]>=0.18.3->chromadb) (0.34.1)\n",
      "Requirement already satisfied: numpy>=1.22.5 in /home/haiqv/conda/envs/agent/lib/python3.10/site-packages (from chromadb) (2.2.4)\n",
      "Requirement already satisfied: posthog>=2.4.0 in /home/haiqv/conda/envs/agent/lib/python3.10/site-packages (from chromadb) (3.24.1)\n",
      "Requirement already satisfied: typing-extensions>=4.5.0 in /home/haiqv/conda/envs/agent/lib/python3.10/site-packages (from chromadb) (4.13.2)\n",
      "Requirement already satisfied: onnxruntime>=1.14.1 in /home/haiqv/conda/envs/agent/lib/python3.10/site-packages (from chromadb) (1.21.0)\n",
      "Requirement already satisfied: opentelemetry-api>=1.2.0 in /home/haiqv/conda/envs/agent/lib/python3.10/site-packages (from chromadb) (1.32.0)\n",
      "Requirement already satisfied: opentelemetry-exporter-otlp-proto-grpc>=1.2.0 in /home/haiqv/conda/envs/agent/lib/python3.10/site-packages (from chromadb) (1.32.0)\n",
      "Requirement already satisfied: opentelemetry-instrumentation-fastapi>=0.41b0 in /home/haiqv/conda/envs/agent/lib/python3.10/site-packages (from chromadb) (0.53b0)\n",
      "Requirement already satisfied: opentelemetry-sdk>=1.2.0 in /home/haiqv/conda/envs/agent/lib/python3.10/site-packages (from chromadb) (1.32.0)\n",
      "Requirement already satisfied: tokenizers>=0.13.2 in /home/haiqv/conda/envs/agent/lib/python3.10/site-packages (from chromadb) (0.21.1)\n",
      "Requirement already satisfied: pypika>=0.48.9 in /home/haiqv/conda/envs/agent/lib/python3.10/site-packages (from chromadb) (0.48.9)\n",
      "Requirement already satisfied: tqdm>=4.65.0 in /home/haiqv/conda/envs/agent/lib/python3.10/site-packages (from chromadb) (4.67.1)\n",
      "Requirement already satisfied: overrides>=7.3.1 in /home/haiqv/conda/envs/agent/lib/python3.10/site-packages (from chromadb) (7.7.0)\n",
      "Requirement already satisfied: importlib-resources in /home/haiqv/conda/envs/agent/lib/python3.10/site-packages (from chromadb) (6.5.2)\n",
      "Requirement already satisfied: grpcio>=1.58.0 in /home/haiqv/conda/envs/agent/lib/python3.10/site-packages (from chromadb) (1.71.0)\n",
      "Requirement already satisfied: bcrypt>=4.0.1 in /home/haiqv/conda/envs/agent/lib/python3.10/site-packages (from chromadb) (4.3.0)\n",
      "Requirement already satisfied: typer>=0.9.0 in /home/haiqv/conda/envs/agent/lib/python3.10/site-packages (from chromadb) (0.15.2)\n",
      "Requirement already satisfied: kubernetes>=28.1.0 in /home/haiqv/conda/envs/agent/lib/python3.10/site-packages (from chromadb) (32.0.1)\n",
      "Requirement already satisfied: tenacity>=8.2.3 in /home/haiqv/conda/envs/agent/lib/python3.10/site-packages (from chromadb) (8.5.0)\n",
      "Requirement already satisfied: pyyaml>=6.0.0 in /home/haiqv/conda/envs/agent/lib/python3.10/site-packages (from chromadb) (6.0.2)\n",
      "Requirement already satisfied: mmh3>=4.0.1 in /home/haiqv/conda/envs/agent/lib/python3.10/site-packages (from chromadb) (5.1.0)\n",
      "Requirement already satisfied: orjson>=3.9.12 in /home/haiqv/conda/envs/agent/lib/python3.10/site-packages (from chromadb) (3.10.16)\n",
      "Requirement already satisfied: httpx>=0.27.0 in /home/haiqv/conda/envs/agent/lib/python3.10/site-packages (from chromadb) (0.27.2)\n",
      "Requirement already satisfied: rich>=10.11.0 in /home/haiqv/conda/envs/agent/lib/python3.10/site-packages (from chromadb) (14.0.0)\n",
      "Requirement already satisfied: jsonschema>=4.19.0 in /home/haiqv/conda/envs/agent/lib/python3.10/site-packages (from chromadb) (4.23.0)\n",
      "Requirement already satisfied: starlette<0.46.0,>=0.40.0 in /home/haiqv/conda/envs/agent/lib/python3.10/site-packages (from fastapi==0.115.9->chromadb) (0.45.3)\n",
      "Requirement already satisfied: packaging>=19.1 in /home/haiqv/conda/envs/agent/lib/python3.10/site-packages (from build>=1.0.3->chromadb) (23.2)\n",
      "Requirement already satisfied: pyproject_hooks in /home/haiqv/conda/envs/agent/lib/python3.10/site-packages (from build>=1.0.3->chromadb) (1.2.0)\n",
      "Requirement already satisfied: tomli>=1.1.0 in /home/haiqv/conda/envs/agent/lib/python3.10/site-packages (from build>=1.0.3->chromadb) (2.2.1)\n",
      "Requirement already satisfied: anyio in /home/haiqv/conda/envs/agent/lib/python3.10/site-packages (from httpx>=0.27.0->chromadb) (4.9.0)\n",
      "Requirement already satisfied: certifi in /home/haiqv/conda/envs/agent/lib/python3.10/site-packages (from httpx>=0.27.0->chromadb) (2025.1.31)\n",
      "Requirement already satisfied: httpcore==1.* in /home/haiqv/conda/envs/agent/lib/python3.10/site-packages (from httpx>=0.27.0->chromadb) (1.0.8)\n",
      "Requirement already satisfied: idna in /home/haiqv/conda/envs/agent/lib/python3.10/site-packages (from httpx>=0.27.0->chromadb) (3.10)\n",
      "Requirement already satisfied: sniffio in /home/haiqv/conda/envs/agent/lib/python3.10/site-packages (from httpx>=0.27.0->chromadb) (1.3.1)\n",
      "Requirement already satisfied: h11<0.15,>=0.13 in /home/haiqv/conda/envs/agent/lib/python3.10/site-packages (from httpcore==1.*->httpx>=0.27.0->chromadb) (0.14.0)\n",
      "Requirement already satisfied: attrs>=22.2.0 in /home/haiqv/conda/envs/agent/lib/python3.10/site-packages (from jsonschema>=4.19.0->chromadb) (25.3.0)\n",
      "Requirement already satisfied: jsonschema-specifications>=2023.03.6 in /home/haiqv/conda/envs/agent/lib/python3.10/site-packages (from jsonschema>=4.19.0->chromadb) (2024.10.1)\n",
      "Requirement already satisfied: referencing>=0.28.4 in /home/haiqv/conda/envs/agent/lib/python3.10/site-packages (from jsonschema>=4.19.0->chromadb) (0.36.2)\n",
      "Requirement already satisfied: rpds-py>=0.7.1 in /home/haiqv/conda/envs/agent/lib/python3.10/site-packages (from jsonschema>=4.19.0->chromadb) (0.24.0)\n",
      "Requirement already satisfied: six>=1.9.0 in /home/haiqv/conda/envs/agent/lib/python3.10/site-packages (from kubernetes>=28.1.0->chromadb) (1.17.0)\n",
      "Requirement already satisfied: python-dateutil>=2.5.3 in /home/haiqv/conda/envs/agent/lib/python3.10/site-packages (from kubernetes>=28.1.0->chromadb) (2.9.0.post0)\n",
      "Requirement already satisfied: google-auth>=1.0.1 in /home/haiqv/conda/envs/agent/lib/python3.10/site-packages (from kubernetes>=28.1.0->chromadb) (2.38.0)\n",
      "Requirement already satisfied: websocket-client!=0.40.0,!=0.41.*,!=0.42.*,>=0.32.0 in /home/haiqv/conda/envs/agent/lib/python3.10/site-packages (from kubernetes>=28.1.0->chromadb) (1.8.0)\n",
      "Requirement already satisfied: requests in /home/haiqv/conda/envs/agent/lib/python3.10/site-packages (from kubernetes>=28.1.0->chromadb) (2.32.3)\n",
      "Requirement already satisfied: requests-oauthlib in /home/haiqv/conda/envs/agent/lib/python3.10/site-packages (from kubernetes>=28.1.0->chromadb) (2.0.0)\n",
      "Requirement already satisfied: oauthlib>=3.2.2 in /home/haiqv/conda/envs/agent/lib/python3.10/site-packages (from kubernetes>=28.1.0->chromadb) (3.2.2)\n",
      "Requirement already satisfied: urllib3>=1.24.2 in /home/haiqv/conda/envs/agent/lib/python3.10/site-packages (from kubernetes>=28.1.0->chromadb) (2.4.0)\n",
      "Requirement already satisfied: durationpy>=0.7 in /home/haiqv/conda/envs/agent/lib/python3.10/site-packages (from kubernetes>=28.1.0->chromadb) (0.9)\n",
      "Requirement already satisfied: coloredlogs in /home/haiqv/conda/envs/agent/lib/python3.10/site-packages (from onnxruntime>=1.14.1->chromadb) (15.0.1)\n",
      "Requirement already satisfied: flatbuffers in /home/haiqv/conda/envs/agent/lib/python3.10/site-packages (from onnxruntime>=1.14.1->chromadb) (25.2.10)\n",
      "Requirement already satisfied: protobuf in /home/haiqv/conda/envs/agent/lib/python3.10/site-packages (from onnxruntime>=1.14.1->chromadb) (5.29.4)\n",
      "Requirement already satisfied: sympy in /home/haiqv/conda/envs/agent/lib/python3.10/site-packages (from onnxruntime>=1.14.1->chromadb) (1.13.3)\n",
      "Requirement already satisfied: deprecated>=1.2.6 in /home/haiqv/conda/envs/agent/lib/python3.10/site-packages (from opentelemetry-api>=1.2.0->chromadb) (1.2.18)\n",
      "Requirement already satisfied: importlib-metadata<8.7.0,>=6.0 in /home/haiqv/conda/envs/agent/lib/python3.10/site-packages (from opentelemetry-api>=1.2.0->chromadb) (8.6.1)\n",
      "Requirement already satisfied: googleapis-common-protos~=1.52 in /home/haiqv/conda/envs/agent/lib/python3.10/site-packages (from opentelemetry-exporter-otlp-proto-grpc>=1.2.0->chromadb) (1.69.2)\n",
      "Requirement already satisfied: opentelemetry-exporter-otlp-proto-common==1.32.0 in /home/haiqv/conda/envs/agent/lib/python3.10/site-packages (from opentelemetry-exporter-otlp-proto-grpc>=1.2.0->chromadb) (1.32.0)\n",
      "Requirement already satisfied: opentelemetry-proto==1.32.0 in /home/haiqv/conda/envs/agent/lib/python3.10/site-packages (from opentelemetry-exporter-otlp-proto-grpc>=1.2.0->chromadb) (1.32.0)\n",
      "Requirement already satisfied: opentelemetry-instrumentation-asgi==0.53b0 in /home/haiqv/conda/envs/agent/lib/python3.10/site-packages (from opentelemetry-instrumentation-fastapi>=0.41b0->chromadb) (0.53b0)\n",
      "Requirement already satisfied: opentelemetry-instrumentation==0.53b0 in /home/haiqv/conda/envs/agent/lib/python3.10/site-packages (from opentelemetry-instrumentation-fastapi>=0.41b0->chromadb) (0.53b0)\n",
      "Requirement already satisfied: opentelemetry-semantic-conventions==0.53b0 in /home/haiqv/conda/envs/agent/lib/python3.10/site-packages (from opentelemetry-instrumentation-fastapi>=0.41b0->chromadb) (0.53b0)\n",
      "Requirement already satisfied: opentelemetry-util-http==0.53b0 in /home/haiqv/conda/envs/agent/lib/python3.10/site-packages (from opentelemetry-instrumentation-fastapi>=0.41b0->chromadb) (0.53b0)\n",
      "Requirement already satisfied: wrapt<2.0.0,>=1.0.0 in /home/haiqv/conda/envs/agent/lib/python3.10/site-packages (from opentelemetry-instrumentation==0.53b0->opentelemetry-instrumentation-fastapi>=0.41b0->chromadb) (1.17.2)\n",
      "Requirement already satisfied: asgiref~=3.0 in /home/haiqv/conda/envs/agent/lib/python3.10/site-packages (from opentelemetry-instrumentation-asgi==0.53b0->opentelemetry-instrumentation-fastapi>=0.41b0->chromadb) (3.8.1)\n",
      "Requirement already satisfied: monotonic>=1.5 in /home/haiqv/conda/envs/agent/lib/python3.10/site-packages (from posthog>=2.4.0->chromadb) (1.6)\n",
      "Requirement already satisfied: backoff>=1.10.0 in /home/haiqv/conda/envs/agent/lib/python3.10/site-packages (from posthog>=2.4.0->chromadb) (2.2.1)\n",
      "Requirement already satisfied: distro>=1.5.0 in /home/haiqv/conda/envs/agent/lib/python3.10/site-packages (from posthog>=2.4.0->chromadb) (1.9.0)\n",
      "Requirement already satisfied: annotated-types>=0.6.0 in /home/haiqv/conda/envs/agent/lib/python3.10/site-packages (from pydantic>=1.9->chromadb) (0.7.0)\n",
      "Requirement already satisfied: pydantic-core==2.33.1 in /home/haiqv/conda/envs/agent/lib/python3.10/site-packages (from pydantic>=1.9->chromadb) (2.33.1)\n",
      "Requirement already satisfied: typing-inspection>=0.4.0 in /home/haiqv/conda/envs/agent/lib/python3.10/site-packages (from pydantic>=1.9->chromadb) (0.4.0)\n",
      "Requirement already satisfied: markdown-it-py>=2.2.0 in /home/haiqv/conda/envs/agent/lib/python3.10/site-packages (from rich>=10.11.0->chromadb) (3.0.0)\n",
      "Requirement already satisfied: pygments<3.0.0,>=2.13.0 in /home/haiqv/conda/envs/agent/lib/python3.10/site-packages (from rich>=10.11.0->chromadb) (2.19.1)\n",
      "Requirement already satisfied: huggingface-hub<1.0,>=0.16.4 in /home/haiqv/conda/envs/agent/lib/python3.10/site-packages (from tokenizers>=0.13.2->chromadb) (0.30.2)\n",
      "Requirement already satisfied: click>=8.0.0 in /home/haiqv/conda/envs/agent/lib/python3.10/site-packages (from typer>=0.9.0->chromadb) (8.1.8)\n",
      "Requirement already satisfied: shellingham>=1.3.0 in /home/haiqv/conda/envs/agent/lib/python3.10/site-packages (from typer>=0.9.0->chromadb) (1.5.4)\n",
      "Requirement already satisfied: httptools>=0.6.3 in /home/haiqv/conda/envs/agent/lib/python3.10/site-packages (from uvicorn[standard]>=0.18.3->chromadb) (0.6.4)\n",
      "Requirement already satisfied: python-dotenv>=0.13 in /home/haiqv/conda/envs/agent/lib/python3.10/site-packages (from uvicorn[standard]>=0.18.3->chromadb) (1.1.0)\n",
      "Requirement already satisfied: uvloop!=0.15.0,!=0.15.1,>=0.14.0 in /home/haiqv/conda/envs/agent/lib/python3.10/site-packages (from uvicorn[standard]>=0.18.3->chromadb) (0.21.0)\n",
      "Requirement already satisfied: watchfiles>=0.13 in /home/haiqv/conda/envs/agent/lib/python3.10/site-packages (from uvicorn[standard]>=0.18.3->chromadb) (1.0.5)\n",
      "Requirement already satisfied: websockets>=10.4 in /home/haiqv/conda/envs/agent/lib/python3.10/site-packages (from uvicorn[standard]>=0.18.3->chromadb) (15.0.1)\n",
      "Requirement already satisfied: cachetools<6.0,>=2.0.0 in /home/haiqv/conda/envs/agent/lib/python3.10/site-packages (from google-auth>=1.0.1->kubernetes>=28.1.0->chromadb) (5.5.2)\n",
      "Requirement already satisfied: pyasn1-modules>=0.2.1 in /home/haiqv/conda/envs/agent/lib/python3.10/site-packages (from google-auth>=1.0.1->kubernetes>=28.1.0->chromadb) (0.4.2)\n",
      "Requirement already satisfied: rsa<5,>=3.1.4 in /home/haiqv/conda/envs/agent/lib/python3.10/site-packages (from google-auth>=1.0.1->kubernetes>=28.1.0->chromadb) (4.9)\n",
      "Requirement already satisfied: filelock in /home/haiqv/conda/envs/agent/lib/python3.10/site-packages (from huggingface-hub<1.0,>=0.16.4->tokenizers>=0.13.2->chromadb) (3.18.0)\n",
      "Requirement already satisfied: fsspec>=2023.5.0 in /home/haiqv/conda/envs/agent/lib/python3.10/site-packages (from huggingface-hub<1.0,>=0.16.4->tokenizers>=0.13.2->chromadb) (2025.3.2)\n",
      "Requirement already satisfied: zipp>=3.20 in /home/haiqv/conda/envs/agent/lib/python3.10/site-packages (from importlib-metadata<8.7.0,>=6.0->opentelemetry-api>=1.2.0->chromadb) (3.21.0)\n",
      "Requirement already satisfied: mdurl~=0.1 in /home/haiqv/conda/envs/agent/lib/python3.10/site-packages (from markdown-it-py>=2.2.0->rich>=10.11.0->chromadb) (0.1.2)\n",
      "Requirement already satisfied: charset-normalizer<4,>=2 in /home/haiqv/conda/envs/agent/lib/python3.10/site-packages (from requests->kubernetes>=28.1.0->chromadb) (3.4.1)\n",
      "Requirement already satisfied: exceptiongroup>=1.0.2 in /home/haiqv/conda/envs/agent/lib/python3.10/site-packages (from anyio->httpx>=0.27.0->chromadb) (1.2.2)\n",
      "Requirement already satisfied: humanfriendly>=9.1 in /home/haiqv/conda/envs/agent/lib/python3.10/site-packages (from coloredlogs->onnxruntime>=1.14.1->chromadb) (10.0)\n",
      "Requirement already satisfied: mpmath<1.4,>=1.1.0 in /home/haiqv/conda/envs/agent/lib/python3.10/site-packages (from sympy->onnxruntime>=1.14.1->chromadb) (1.3.0)\n",
      "Requirement already satisfied: pyasn1<0.7.0,>=0.6.1 in /home/haiqv/conda/envs/agent/lib/python3.10/site-packages (from pyasn1-modules>=0.2.1->google-auth>=1.0.1->kubernetes>=28.1.0->chromadb) (0.6.1)\n"
     ]
    }
   ],
   "source": [
    "!pip install chromadb"
   ]
  },
  {
   "cell_type": "markdown",
   "metadata": {},
   "source": [
    "#### 1) 라이브러리 import"
   ]
  },
  {
   "cell_type": "code",
   "execution_count": 2,
   "metadata": {},
   "outputs": [],
   "source": [
    "import os\n",
    "from langchain_openai import OpenAIEmbeddings\n",
    "from langchain_openai import OpenAI\n",
    "from langchain_openai import ChatOpenAI # 새로운 import 경로\n",
    "from langchain.vectorstores import Chroma\n",
    "from langchain.text_splitter import CharacterTextSplitter\n",
    "from langchain.chains import create_retrieval_chain # 검색 기반 질의 응답 체인을 생성하는 함수\n",
    "from langchain.chains.combine_documents import create_stuff_documents_chain # 문서 처리를 위한 체인을 생성하는 함수\n",
    "from langchain_core.prompts import PromptTemplate, ChatPromptTemplate # 프롬프트 템플릿을 생성하고 관리하는 클래스. 질문과 답변 형식을 템플릿화하여 일관된 형식을 유지.\n",
    "from langchain_openai import ChatOpenAI"
   ]
  },
  {
   "cell_type": "markdown",
   "metadata": {},
   "source": [
    "##### 2) 데이터 로드\n",
    "\n",
    "PDF 파일 로드"
   ]
  },
  {
   "cell_type": "code",
   "execution_count": 4,
   "metadata": {},
   "outputs": [],
   "source": [
    "from langchain_community.document_loaders import PyPDFLoader\n",
    "\n",
    "file_path = (\n",
    "    \"이슈리포트 Vol.6 고령화시대 해결을 위한 기술개발.pdf\"\n",
    ")\n",
    "# pdf load\n",
    "loader = PyPDFLoader(file_path)  # PyPDFLoader를 통한 문서데이터 로드\n",
    "pages = []\n",
    "async for page in loader.alazy_load(): # 비동기로드\n",
    "    pages.append(page)"
   ]
  },
  {
   "cell_type": "code",
   "execution_count": 7,
   "metadata": {},
   "outputs": [
    {
     "name": "stdout",
     "output_type": "stream",
     "text": [
      "page_content='TIPA 이슈 리포트Vol. 6\n",
      "- 10 -\n",
      "2고령친화산업 동향◎ 시장규모 및 전망 (미국) 실버시장 규모 1위의 미국 시장은 2025년 약 3조 5천억 달러가 될 것으로 추정16)▪ 2030년 약 8천만 명의 베이비붐 세대(1946~1965년생) 모두가 65세 이상 고령층에 진입하여 초고령 사회에 도달할 것으로 추정되며, 이들은 자녀 세대보다 자산과 연금소득이 많아 은퇴 이후에도 높은 소비력을 보이며, 의약 및 건강관리 산업 등의 주요 수요층으로 해당 분야 산업을 이끄는 핵심 동력이 될 것이라 전망 (일본) 노인 인구비율이 가장 높은 일본은 2025년 실버시장 규모가 100조 엔(약 8천억 달러)을 넘을 것으로 전망되며, 일본의 실버시장은 일상생활 및 주거, 의료, 여행 등 다양한 분야에서 고령자의 수요를 반영한 제품 및 서비스가 활성화17)▪ 특히 생활용품 시장은 사용자의 건강상태나 연령과 상관없이 모든 사람이 사용하기 편리하도록 설계된 “유니버설 디자인”이 확대되고 있으며 고령층을 고려한 제품이 주류가 될 정도로 탄탄한 시장규모 형성 (중국) 고령인구가 가장 많은 중국의 실버시장은 2030년까지 20조 위안(약 3조 달러) 규모로 성장 예상18)▪ 중국은 역사상 3번의 베이비붐 세대가 있었으며, 2차 베이비붐 세대(1962~76년생)에 태어난 인구가 고령층에 편입되기 시작하면서 빠르게 고령화가 이루어질 전망이며, 중국 고령층의 구매력은 2030년 26조 7천억 위안에서 2050년 106조 7천억 위안으로 확대될 전망▪ 중국 고령층의 증가는 미용･건강･패션분야에 대한 구매력 상승, 온라인 쇼핑 비중 증가 등 실버산업 시장에 변화를 가져옴 (국내) 2020년 기준 고령친화산업 시장 규모는 72조 8,305억 원으로 추계되었으며 여가, 식품, 의약품, 요양서비스 분야가 높은 시장점유율을 나타냄19)▪ 고령친화산업 범위는 「고령친화산업 진흥법」 제2조에서 정의하고 있는데, 노인이 주로 사용하거나 착용하는 용구ㆍ용품ㆍ의료기기, 주택(시설), 노인요양서비스, 금융ㆍ자산관리서비스, 정보기기 및 서비스, 여가ㆍ관광ㆍ문화 및 건강지원서비스, 농업용품 및 영농지원서비스, 의약품 및 화장품, 교통수단ㆍ교통시설 및 관련 서비스, 건강기능식품 및 급식서비스 등 다양한 제품과 서비스산업을 포함▪ 한국보건산업진흥원에서는 데이터 생산 여부, 최근 정책 수요 등을 반영하여 아래와 같이 8대 산업을 선정하여 고령친화산업 시장규모를 추계함 ▪ 전체 고령친화산업 시장규모는 2012년 기준 27조 3,809억 원이며, 연평균 13.0%의 높은 성장률로 2020년 72조 8,305억 원 규모에 달할 것으로 추계됨▪ 전체 고령친화산업 중 여가, 식품, 의약품 순으로 높은 비중을 차지하고 있으며, 2012년 대비 가장 큰 비중 변화를 보이는 산업은 요양산업으로, 2012년 10.7%에서 2020년 13.8%를 치지하는 것으로 추산16) World Data Lab, 2021.17) 일본 실버시장을 잡아라, KOTRA, 2020.18) 3700조 中 실버산업을 잡아라, 주요 테마주는?, 아주경제, 2021. 11. 27.19) 고령친화산업환경 변화 및 대응방안- 고령친화산업 시장현황 및 수요분석, 한국보건산업진흥원, 2015. 07.' metadata={'producer': 'Hancom PDF 1.3.0.546', 'creator': 'Hwp 2020 11.0.0.7936', 'creationdate': '2024-02-14T13:09:13+09:00', 'author': '1860072', 'moddate': '2024-02-14T13:09:13+09:00', 'pdfversion': '1.4', 'source': '이슈리포트 Vol.6 고령화시대 해결을 위한 기술개발.pdf', 'total_pages': 22, 'page': 9, 'page_label': '10'}\n"
     ]
    }
   ],
   "source": [
    "print(pages[9])"
   ]
  },
  {
   "cell_type": "markdown",
   "metadata": {},
   "source": [
    "##### 3) 데이터 청킹\n",
    "\n",
    "RAG 시스템에서 문서를 효과적으로 처리하기 위해서는 긴 텍스트를 적절한 크기로 나누는 청킹(Chunking) 과정이 필수"
   ]
  },
  {
   "cell_type": "code",
   "execution_count": 8,
   "metadata": {},
   "outputs": [
    {
     "name": "stderr",
     "output_type": "stream",
     "text": [
      "Created a chunk of size 753, which is longer than the specified 500\n",
      "Created a chunk of size 623, which is longer than the specified 500\n",
      "Created a chunk of size 949, which is longer than the specified 500\n",
      "Created a chunk of size 896, which is longer than the specified 500\n",
      "Created a chunk of size 573, which is longer than the specified 500\n",
      "Created a chunk of size 721, which is longer than the specified 500\n",
      "Created a chunk of size 513, which is longer than the specified 500\n",
      "Created a chunk of size 795, which is longer than the specified 500\n",
      "Created a chunk of size 953, which is longer than the specified 500\n",
      "Created a chunk of size 615, which is longer than the specified 500\n",
      "Created a chunk of size 672, which is longer than the specified 500\n"
     ]
    }
   ],
   "source": [
    "# 가장 대표적이면서 간단한 방식인 CharacterTextSplitter를 사용하여 문서를 분할\n",
    "# chunk_size에 도달할 때까지 텍스트를 누적하다가 크기를 초과하면 분할\n",
    "\n",
    "text_splitter = CharacterTextSplitter(\n",
    "    chunk_size=500, # 각 청크의 최대 길이를 500자로 설정합니다.\n",
    "    chunk_overlap=40,  # 최소한의 중복만 허용하여 문맥의 연속성 유지\n",
    "    length_function=len,\n",
    "    separator=\"\\n\"\n",
    ")\n",
    "# 문서를 청크로 분할\n",
    "texts = text_splitter.split_documents(pages)"
   ]
  },
  {
   "cell_type": "code",
   "execution_count": 9,
   "metadata": {},
   "outputs": [
    {
     "name": "stdout",
     "output_type": "stream",
     "text": [
      "한 문장의 길이 : 11\n",
      "=== 작은 오버랩 (chunk_overlap=5) ===\n",
      "청크 1: 첫 번째 문단입니다.\n",
      "두 번째 문단입니다.\n",
      "\n",
      "청크 2: 세 번째 문단입니다.\n",
      "네 번째 문단입니다.\n",
      "\n",
      "=== 큰 오버랩 (chunk_overlap=12) ===\n",
      "청크 1: 첫 번째 문단입니다.\n",
      "두 번째 문단입니다.\n",
      "\n",
      "청크 2: 두 번째 문단입니다.\n",
      "세 번째 문단입니다.\n",
      "\n",
      "청크 3: 세 번째 문단입니다.\n",
      "네 번째 문단입니다.\n",
      "\n"
     ]
    }
   ],
   "source": [
    "print(\"한 문장의 길이 :\", len(\"첫 번째 문단입니다.\")) # --11자\n",
    "\n",
    "text = \"\"\"첫 번째 문단입니다.\n",
    "두 번째 문단입니다.\n",
    "세 번째 문단입니다.\n",
    "네 번째 문단입니다.\n",
    "\"\"\"\n",
    "\n",
    "# 작은 오버랩\n",
    "text_splitter_small = CharacterTextSplitter(\n",
    "    chunk_size=30,\n",
    "    chunk_overlap=5,  # 작은 오버랩\n",
    "    separator=\"\\n\"\n",
    ")\n",
    "\n",
    "print(\"=== 작은 오버랩 (chunk_overlap=5) ===\")\n",
    "chunks = text_splitter_small.split_text(text)\n",
    "for i, chunk in enumerate(chunks, 1):\n",
    "    print(f\"청크 {i}: {chunk}\\n\")\n",
    "\n",
    "# 큰 오버랩\n",
    "text_splitter_large = CharacterTextSplitter(\n",
    "    chunk_size=30,\n",
    "    chunk_overlap=12,  # 큰 오버랩\n",
    "    separator=\"\\n\"\n",
    ")\n",
    "\n",
    "print(\"=== 큰 오버랩 (chunk_overlap=12) ===\")\n",
    "chunks = text_splitter_large.split_text(text)\n",
    "for i, chunk in enumerate(chunks, 1):\n",
    "    print(f\"청크 {i}: {chunk}\\n\")"
   ]
  },
  {
   "cell_type": "code",
   "execution_count": 10,
   "metadata": {},
   "outputs": [
    {
     "name": "stdout",
     "output_type": "stream",
     "text": [
      "청크 1: 첫 번째 문단입니다.\n",
      "두 번째 문단입니다.\n",
      "세 번째 문단입니다.\n",
      "네 번째 문단입니다.\n",
      "\n"
     ]
    }
   ],
   "source": [
    "text = \"\"\"첫 번째 문단입니다.\n",
    "두 번째 문단입니다.\n",
    "세 번째 문단입니다.\n",
    "네 번째 문단입니다.\"\"\"\n",
    "\n",
    "text_splitter = CharacterTextSplitter(\n",
    "    chunk_size=50,\n",
    "    chunk_overlap=15,\n",
    "    separator=\"\\n\"\n",
    ")\n",
    "\n",
    "chunks = text_splitter.split_text(text)\n",
    "for i, chunk in enumerate(chunks, 1):\n",
    "    print(f\"청크 {i}: {chunk}\\n\")"
   ]
  },
  {
   "cell_type": "markdown",
   "metadata": {},
   "source": [
    "##### 4) 벡터 스토어\n",
    "\n",
    "Chroma는 이러한 벡터화된 텍스트를 효율적으로 저장하고 검색할 수 있게 해주는 데이터베이스"
   ]
  },
  {
   "cell_type": "code",
   "execution_count": 11,
   "metadata": {},
   "outputs": [
    {
     "name": "stderr",
     "output_type": "stream",
     "text": [
      "/tmp/ipykernel_59581/2428110890.py:16: LangChainDeprecationWarning: Since Chroma 0.4.x the manual persistence method is no longer supported as docs are automatically persisted.\n",
      "  vectordb.persist()\n"
     ]
    }
   ],
   "source": [
    "# OpenAI 의 임베딩 모델로 생성한 벡터를 ChromaDB에 저장\n",
    "\n",
    "# OpenAI 임베딩 초기화\n",
    "embeddings = OpenAIEmbeddings(model=\"text-embedding-ada-002\")\n",
    "# OpenAI의 text-embedding-ada-002 모델을 사용하여 텍스트를 벡터로 변환하는 객체를 초기화합니다.\n",
    "\n",
    "# Chroma 벡터 DB 생성\n",
    "vectordb = Chroma.from_documents(\n",
    "    documents=texts,\n",
    "    embedding=embeddings,\n",
    "    persist_directory=\"chroma_db_v1\"  # 벡터 DB 저장 경로\n",
    ")\n",
    "# texts의 각 청크를 임베딩하여 Chroma DB에 저장합니다.\n",
    "\n",
    "# 벡터 DB 저장\n",
    "vectordb.persist()"
   ]
  },
  {
   "cell_type": "code",
   "execution_count": 12,
   "metadata": {},
   "outputs": [
    {
     "name": "stdout",
     "output_type": "stream",
     "text": [
      "=== Chroma 벡터 DB에 저장된 데이터 ===\n",
      "\n",
      "1. 컬렉션 크기: 54 문서\n",
      "\n",
      "2. 첫 번째 문서의 임베딩 정보:\n",
      "벡터 차원: 1536\n",
      "임베딩 벡터 (앞부분 5개 요소): [-0.00648992 -0.02209836 -0.00151049 -0.02743197 -0.00188899]\n",
      "\n",
      "3. 문서 및 메타데이터 (2개):\n",
      "인덱스: 0, 문서: TIPA 이슈 리포트Vol. 6\n",
      "- 10 -, 메타데이터: {'creationdate': '2024-02-14T13:09:13+09:00', 'pdfversion': '1.4', 'page_label': '10', 'source': '이슈리포트 Vol.6 고령화시대 해결을 위한 기술개발.pdf', 'creator': 'Hwp 2020 11.0.0.7936', 'total_pages': 22, 'author': '1860072', 'moddate': '2024-02-14T13:09:13+09:00', 'page': 9, 'producer': 'Hancom PDF 1.3.0.546'}\n",
      "인덱스: 1, 문서: 2고령친화산업 동향◎ 시장규모 및 전망 (미국) 실버시장 규모 1위의 미국 시장은 2025년 약 3조 5천억 달러가 될 것으로 추정16)▪ 2030년 약 8천만 명의 베이비붐 세대(1946~1965년생) 모두가 65세 이상 고령층에 진입하여 초고령 사회에 도달할 것으로 추정되며, 이들은 자녀 세대보다 자산과 연금소득이 많아 은퇴 이후에도 높은 소비력을 보이며, 의약 및 건강관리 산업 등의 주요 수요층으로 해당 분야 산업을 이끄는 핵심 동력이 될 것이라 전망 (일본) 노인 인구비율이 가장 높은 일본은 2025년 실버시장 규모가 100조 엔(약 8천억 달러)을 넘을 것으로 전망되며, 일본의 실버시장은 일상생활 및 주거, 의료, 여행 등 다양한 분야에서 고령자의 수요를 반영한 제품 및 서비스가 활성화17)▪ 특히 생활용품 시장은 사용자의 건강상태나 연령과 상관없이 모든 사람이 사용하기 편리하도록 설계된 “유니버설 디자인”이 확대되고 있으며 고령층을 고려한 제품이 주류가 될 정도로 탄탄한 시장규모 형성 (중국) 고령인구가 가장 많은 중국의 실버시장은 2030년까지 20조 위안(약 3조 달러) 규모로 성장 예상18)▪ 중국은 역사상 3번의 베이비붐 세대가 있었으며, 2차 베이비붐 세대(1962~76년생)에 태어난 인구가 고령층에 편입되기 시작하면서 빠르게 고령화가 이루어질 전망이며, 중국 고령층의 구매력은 2030년 26조 7천억 위안에서 2050년 106조 7천억 위안으로 확대될 전망▪ 중국 고령층의 증가는 미용･건강･패션분야에 대한 구매력 상승, 온라인 쇼핑 비중 증가 등 실버산업 시장에 변화를 가져옴 (국내) 2020년 기준 고령친화산업 시장 규모는 72조 8,305억 원으로 추계되었으며 여가, 식품, 의약품, 요양서비스 분야가 높은 시장점유율을 나타냄19)▪ 고령친화산업 범위는 「고령친화산업 진흥법」 제2조에서 정의하고 있는데, 노인이 주로 사용하거나 착용하는 용구ㆍ용품ㆍ의료기기, 주택(시설), 노인요양서비스, 금융ㆍ자산관리서비스, 정보기기 및 서비스, 여가ㆍ관광ㆍ문화 및 건강지원서비스, 농업용품 및 영농지원서비스, 의약품 및 화장품, 교통수단ㆍ교통시설 및 관련 서비스, 건강기능식품 및 급식서비스 등 다양한 제품과 서비스산업을 포함▪ 한국보건산업진흥원에서는 데이터 생산 여부, 최근 정책 수요 등을 반영하여 아래와 같이 8대 산업을 선정하여 고령친화산업 시장규모를 추계함 ▪ 전체 고령친화산업 시장규모는 2012년 기준 27조 3,809억 원이며, 연평균 13.0%의 높은 성장률로 2020년 72조 8,305억 원 규모에 달할 것으로 추계됨▪ 전체 고령친화산업 중 여가, 식품, 의약품 순으로 높은 비중을 차지하고 있으며, 2012년 대비 가장 큰 비중 변화를 보이는 산업은 요양산업으로, 2012년 10.7%에서 2020년 13.8%를 치지하는 것으로 추산16) World Data Lab, 2021.17) 일본 실버시장을 잡아라, KOTRA, 2020.18) 3700조 中 실버산업을 잡아라, 주요 테마주는?, 아주경제, 2021. 11. 27.19) 고령친화산업환경 변화 및 대응방안- 고령친화산업 시장현황 및 수요분석, 한국보건산업진흥원, 2015. 07., 메타데이터: {'creationdate': '2024-02-14T13:09:13+09:00', 'page_label': '10', 'total_pages': 22, 'source': '이슈리포트 Vol.6 고령화시대 해결을 위한 기술개발.pdf', 'moddate': '2024-02-14T13:09:13+09:00', 'author': '1860072', 'producer': 'Hancom PDF 1.3.0.546', 'creator': 'Hwp 2020 11.0.0.7936', 'page': 9, 'pdfversion': '1.4'}\n"
     ]
    },
    {
     "name": "stderr",
     "output_type": "stream",
     "text": [
      "/tmp/ipykernel_59581/400291883.py:4: LangChainDeprecationWarning: The class `Chroma` was deprecated in LangChain 0.2.9 and will be removed in 1.0. An updated version of the class exists in the :class:`~langchain-chroma package and should be used instead. To use it run `pip install -U :class:`~langchain-chroma` and import as `from :class:`~langchain_chroma import Chroma``.\n",
      "  vectordb = Chroma(\n"
     ]
    }
   ],
   "source": [
    "# 벡터 데이터베이스에 저장된 데이터 구조들을 확인해보자\n",
    "\n",
    "# 디스크에서 벡터 스토어 로드\n",
    "vectordb = Chroma(\n",
    "    persist_directory=\"chroma_db_v1\",\n",
    "    embedding_function=embeddings\n",
    ")\n",
    "\n",
    "# 저장된 데이터 조회 및 출력\n",
    "print(\"=== Chroma 벡터 DB에 저장된 데이터 ===\")\n",
    "collection = vectordb._collection\n",
    "data = collection.get(include=['embeddings', 'documents', 'metadatas'])\n",
    "print(f\"\\n1. 컬렉션 크기: {collection.count()} 문서\")\n",
    "\n",
    "# 첫 번째 문서의 임베딩 정보 출력\n",
    "print(\"\\n2. 첫 번째 문서의 임베딩 정보:\")\n",
    "print(f\"벡터 차원: {len(data['embeddings'][0])}\")\n",
    "print(f\"임베딩 벡터 (앞부분 5개 요소): {data['embeddings'][0][:5]}\")\n",
    "\n",
    "# 문서와 메타데이터 출력 (2개 예시)\n",
    "print(\"\\n3. 문서 및 메타데이터 (2개):\")\n",
    "for idx, (document, metadata) in enumerate(zip(data['documents'][20:22], data['metadatas'][20:22])):\n",
    "    print(f\"인덱스: {idx}, 문서: {document}, 메타데이터: {metadata}\")\n"
   ]
  },
  {
   "cell_type": "markdown",
   "metadata": {},
   "source": [
    "##### 5) 리트리버(Retriever) 및 프롬프트(Prompt)\n",
    "\n",
    "리트리버(Retriever)는 사용자의 질문과 가장 관련성 높은 문서들을 효율적으로 찾아내는 역할을 수행\n",
    "\n",
    "리트리버를 통해서 가져온 문서들을 정제하고 언어 모델이 더 잘 이해할 수 있도록 하는 프롬프트(Prompt) 템플릿을 정의"
   ]
  },
  {
   "cell_type": "code",
   "execution_count": 13,
   "metadata": {},
   "outputs": [],
   "source": [
    "# 리트리버(Retriever)\n",
    "\n",
    "retriever = vectordb.as_retriever(\n",
    "    search_type=\"mmr\",  # Maximal Marginal Relevance 검색\n",
    "    search_kwargs={\n",
    "        \"k\": 5,  # 최종 검색 문서 수\n",
    "        \"fetch_k\": 8,  # 초기 검색 문서 수\n",
    "        \"lambda_mult\": 0.7  # 다양성 가중치 (1에 가까울수록 다양성)\n",
    "    }\n",
    ")"
   ]
  },
  {
   "cell_type": "code",
   "execution_count": 14,
   "metadata": {},
   "outputs": [],
   "source": [
    "# 프롬프트 작성\n",
    "\n",
    "prompt = ChatPromptTemplate.from_messages([\n",
    "    (\"system\", \"\"\"주어진 문서들을 기반으로 질문에 정확하게 답변해주세요.\n",
    "    다음 지침을 반드시 따라주세요:\n",
    "    1. 문서의 정보만을 사용하여 답변하세요\n",
    "    2. 제품명이 언급된 경우 반드시 포함해서 답변하세요\n",
    "    3. 제품의 기능과 특징을 구체적으로 설명하세요\n",
    "    4. 답변에 확신이 없는 경우, 그 부분을 명시적으로 언급하세요\n",
    "\n",
    "    문맥: {context}\"\"\"),\n",
    "    (\"human\", \"{input}\")\n",
    "])"
   ]
  },
  {
   "cell_type": "code",
   "execution_count": 15,
   "metadata": {},
   "outputs": [],
   "source": [
    "# GPT-4o-mini 모델을 사용\n",
    "\n",
    "llm = ChatOpenAI(\n",
    "    temperature=0,  # 출력이 일정하도록 온도 설정\n",
    "    max_tokens=400,  # 최대 토큰 수\n",
    "    model_name=\"gpt-4o-mini\"  # 사용할 모델 이름\n",
    ")"
   ]
  },
  {
   "cell_type": "code",
   "execution_count": 16,
   "metadata": {},
   "outputs": [],
   "source": [
    "# 각 RAG 요소를 유기적으로 연결시키는 단계가 필요\n",
    "# 이 역할을 수행하는 메서드를 체인(Chain)이라고 부름\n",
    "\n",
    "# create_stuff_documents_chain: 문서들을 결합하여 하나의 응답을 생성하는 체인\n",
    "# create_retrieval_chain: 검색 기반 질의 응답 체인 생성\n",
    "\n",
    "# 단일 문서 처리 체인 생성\n",
    "document_chain = create_stuff_documents_chain(\n",
    "    llm=llm,\n",
    "    prompt=prompt\n",
    ")\n",
    "\n",
    "# 검색 및 응답 생성을 위한 최종 체인 생성\n",
    "qa_chain = create_retrieval_chain(\n",
    "    retriever=retriever,\n",
    "    combine_docs_chain=document_chain\n",
    ")\n"
   ]
  },
  {
   "cell_type": "code",
   "execution_count": 17,
   "metadata": {},
   "outputs": [],
   "source": [
    "# 하나의 데이터(문서)에 대해서 질문하고 답변을 받는 함수 정의\n",
    "\n",
    "def ask_question(question: str, qa_chain):\n",
    "    # qa_chain.invoke()는 새로운 형식의 입력을 사용\n",
    "    result = qa_chain.invoke({\n",
    "        \"input\": question  # 'query' 대신 'input' 사용\n",
    "    })\n",
    "    print(\"질문:\", question)\n",
    "    print(\"\\n답변:\", result['answer'])  # 'result' 대신 'answer' 키 사용\n",
    "    # source_documents가 있는 경우에만 출력\n",
    "    if 'context' in result:\n",
    "        print(\"\\n참고 문서:\")\n",
    "        documents = result['context']\n",
    "        for i, doc in enumerate(documents, 1):\n",
    "            print(f\"\\n문서 {i}:\")\n",
    "            print(doc.page_content[:500], \"...\")\n",
    "            if hasattr(doc, 'metadata'):\n",
    "                print(f\"(페이지: {doc.metadata.get('page', 'Unknown')})\")"
   ]
  },
  {
   "cell_type": "code",
   "execution_count": 18,
   "metadata": {},
   "outputs": [
    {
     "name": "stdout",
     "output_type": "stream",
     "text": [
      "질문:  노인들이 일어나도록 도와주는 로봇의 제품 이름은 뭔가요? 그리고 특징을 알려주세요 \n",
      "\n",
      "답변: 노인들이 일어나도록 도와주는 로봇의 제품 이름은 '허그'입니다. 이승 보조로봇 '허그'는 혼자 힘으로 일어나기 어려운 노인을 도와주는 제품으로, 노인이 제품을 끌어안듯이 체중을 실어 기대면 로봇팔이 노인을 감아 일으켜 세우는 방식으로 이동을 보조합니다. 이 제품은 가정용과 시설용으로 구분되어 판매되고 있습니다.\n",
      "\n",
      "참고 문서:\n",
      "\n",
      "문서 1:\n",
      "돌봄에프알티- 2015년 한국생산기술연구원 사내 벤처로 시작한 기업으로, 거동이 불편한 노약자들의 보행을 보조하기 위해 개발된 웨어러블 로봇 개발- 돌봄이 필요한 노인뿐만 아니라 돌봄을 제공하는 요양보호사와 간병인의 신체 부담 또한 감소\n",
      "여가/사회참여스프링소프트- 치매 예방과 인지 능력 향상 목적의 기능성 게임이 탑재된 터치스크린 기반의 스마트 테이블인 ‘해피테이블’을 개발- 상호작용을 기반으로 하는 경쟁과 협동 방식으로 게임이 구성된 것이 특징이며, 시니어 사용자의 정확도나 반응 속도 등 게임 데이터를 분석해 인지 능력 이상 유무 진단, 치매 조기 발견 등이 가능 ...\n",
      "(페이지: 12)\n",
      "\n",
      "문서 2:\n",
      "TIPA 이슈 리포트Vol. 6\n",
      "- 14 -\n",
      "Ⅲ. 고령화 기술·제품 동향◎ 신체활동/이동 보조 분야 (한국, 스마트 지팡기) 말하는 스마트 지팡기 ‘톡톡스틱’은 기존 지팡이에 IT 기술을 결합한 것으로 사고 및 넘어졌을 때, SOS전송 및 음성 도움 기능이 있으며, 위치반경 서비스·걸음 수 측정·온도측정 등 다방면 스마트 기능을 갖추고 있음 (한국, 이승 서포트 로봇) 혼자 힘으로 일어나기 어려운 노인을 도와주는 제품인 이승 보조로봇 ‘허그’는 노인이 제품을 끌어안듯이 체중을 실어 기대면 로봇팔을 감아 노인을 일으켜 세움으로써 이동을 보조하며, 가정용과 시설용으로 구분되어 판매 중임[ 톡톡스틱 ] [ 이승 보조로봇, 허그 ] ...\n",
      "(페이지: 13)\n",
      "\n",
      "문서 3:\n",
      "* 출처: AI 반려 동물 로봇, 고독사 예방 돕는다...세계 각 국 잇달아 출시, ai타임스, 2021.05.26* 출처: 전라남도-효돌, 반려 로봇 보급 업무 협약 체결, 로봇신문, 2022.03.16 (일본, DMM PALMI) 노인용 대화로봇으로써 분위기 등을 감지하여 상대의 말 예측 가능하고, 데이터가 쌓이면 말투를 비롯한 말솜씨가 발전, 상대방의 과거 대화내용·취미 등도 기억할 수 있으며 자발적으로 말을 거는 기능 탑재 (일본, 그루브X 러봇) “사랑(Love)”과 “로봇(Robot)”의 합성어로 인형의 외관과 체온을 설정하여 마치 사람과 교감하는 듯한 감성적인 케어를 제공. 사전프로그램 없이 센서와 딥러닝으로 주변을 인식하고 실시간 자기 행동을 결정 ...\n",
      "(페이지: 16)\n",
      "\n",
      "문서 4:\n",
      "* 출처: : Shinkachi-portal* 출처: 일본 사이버다인, 배설지원 로봇 개발, 로봇신문, 2019.09.30.◎ 주거/안전 분야 (응급 안전·안심 서비스) 인공지능 스피커와 캡스가 연계한 서비스 등 주거 환경에서 응급상황 대응을 위한 서비스 제공▪ SK텔레콤의 인공지능 스피커 NUGU와 ADT캡스와 연계한 서비스로 노인이 “아리아! 살려줘”, “아리아! 긴급 SOS” 등을 외치면 위급 상황으로 인지하고, ICT 케어센터와 담당매니저, ADT 캡스로 자동 연락이 보내지고 즉각적 대처가 가능하도록 설계▪ 응급호출기 및 활동량감지기·화재감지기·조도·온도 감지센서 등으로 구성된 IOT 기기를 독거 치매노인 및 중증장애인 가정에 설치하고, 다양한 감지기 센서들을 통해 대상자의 활동을 파악 후 응급 상황에서는 119 구호 조치가 가능하도록 자동 연결 (낙상 감지) 이미지 센서, 레이다 센서 등을 통해 움직임을 감지하여 노인의 낙상 상태를 확인하고 보호자에게 알림을 전송하는 기 ...\n",
      "(페이지: 14)\n",
      "\n",
      "문서 5:\n",
      "고령화시대 해결을 위한 기술개발\n",
      "- 15 -\n",
      "[ 보행 재활기구, 트리 ] [ 배설지원 로봇 ] ...\n",
      "(페이지: 14)\n",
      "\n",
      "==================================================\n",
      "\n"
     ]
    }
   ],
   "source": [
    "# 예시 질문\n",
    "\n",
    "questions = [\" 노인들이 일어나도록 도와주는 로봇의 제품 이름은 뭔가요? 그리고 특징을 알려주세요 \"]\n",
    "\n",
    "for question in questions:\n",
    "    ask_question(question,qa_chain)\n",
    "    print(\"\\n\" + \"=\"*50 + \"\\n\")"
   ]
  },
  {
   "cell_type": "markdown",
   "metadata": {},
   "source": [
    "#### 해결하고자 하는 문제 및 데이터 성격에 따라 리트리버 알고리즘과 관련 파라미터, 그리고 적합한 언어 모델 등 RAG 시스템을 커스텀하게 구성해야 한다."
   ]
  }
 ],
 "metadata": {
  "language_info": {
   "name": "python"
  }
 },
 "nbformat": 4,
 "nbformat_minor": 2
}
