{
 "cells": [
  {
   "cell_type": "markdown",
   "metadata": {},
   "source": [
    "## ReAct 에이전트\n",
    "\n",
    "ReAct = Reason + Act\n",
    "\n",
    "대형 언어 모델(LLMs)을 활용하여 언어 이해와 상호작용적 의사 결정 과제를 해결하는 새로운 접근법\n",
    "\n",
    "추론(Reasoning)과 행동(Acting)을 결합하여 다양한 작업을 효과적으로 해결하는 것을 목표로 함.  \n",
    "CoT(Chain-of-Thought) 프롬프팅에 기반하여 동작하는데, 이는 모델이 단순히 추론만 하는 것이 아니라, 추론 과정에서 얻은 정보를 바탕으로 실시간으로 행동을 결정할 수 있게 한다.\n",
    "\n",
    "#### ReAct의 핵심 원리\n",
    "\n",
    "추론과 행동을 상호 보완적으로 결합하여 에이전트가 복잡한 문제를 해결하는 데 있어 높은 유연성과 적응성을 발휘하게 하는 것"
   ]
  },
  {
   "cell_type": "markdown",
   "metadata": {},
   "source": [
    "### 검색 API 연동\n",
    "\n",
    "검색 API 는 실시간 정보 검색과 구조화된 결과 반환을 통해 AI 모델이 최신 데이터를 활용할 수 있도록 지원하는 강력한 도구"
   ]
  },
  {
   "cell_type": "code",
   "execution_count": 1,
   "metadata": {},
   "outputs": [
    {
     "data": {
      "text/plain": [
       "True"
      ]
     },
     "execution_count": 1,
     "metadata": {},
     "output_type": "execute_result"
    }
   ],
   "source": [
    "from dotenv import load_dotenv\n",
    "load_dotenv()"
   ]
  },
  {
   "cell_type": "code",
   "execution_count": 2,
   "metadata": {},
   "outputs": [],
   "source": [
    "from langchain.agents import initialize_agent, Tool\n",
    "from langchain_openai import OpenAI"
   ]
  },
  {
   "cell_type": "code",
   "execution_count": 3,
   "metadata": {},
   "outputs": [
    {
     "name": "stdout",
     "output_type": "stream",
     "text": [
      "{\"searchParameters\":{\"q\":\"LLM RAG Agent\",\"type\":\"search\",\"engine\":\"google\"},\"organic\":[{\"title\":\"RAG Architecture + LLM Agent = Better Responses - K2view\",\"link\":\"https://www.k2view.com/blog/rag-architecture-llm-agent/\",\"snippet\":\"RAG architectures powered by LLM agents retrieve relevant data from internal and external sources to generate more accurate and contextual responses.\",\"position\":1},{\"title\":\"Intro to LLM Agents with Langchain: When RAG is Not Enough\",\"link\":\"https://medium.com/data-science/intro-to-llm-agents-with-langchain-when-rag-is-not-enough-7d8c08145834\",\"snippet\":\"This walkthrough through the core elements of the LLM agent architecture will help you design functional bots for the cognitive tasks you aim to automate.\",\"date\":\"Mar 15, 2024\",\"position\":2},{\"title\":\"Agentic RAG - GitHub Pages\",\"link\":\"https://langchain-ai.github.io/langgraph/tutorials/rag/langgraph_agentic_rag/\",\"snippet\":\"In this tutorial we will build a retrieval agent. Retrieval agents are useful when you want an LLM to make a decision about whether to retrieve context from a ...\",\"sitelinks\":[{\"title\":\"1. Preprocess Documents\",\"link\":\"https://langchain-ai.github.io/langgraph/tutorials/rag/langgraph_agentic_rag/#:~:text=.-,1.%20Preprocess%20documents\"},{\"title\":\"3. Generate Query\",\"link\":\"https://langchain-ai.github.io/langgraph/tutorials/rag/langgraph_agentic_rag/#:~:text=%27-,3.%20Generate%20query\"},{\"title\":\"4. Grade Documents\",\"link\":\"https://langchain-ai.github.io/langgraph/tutorials/rag/langgraph_agentic_rag/#:~:text=hacking-,4.%20Grade%20documents\"}],\"position\":3},{\"title\":\"What is Agentic RAG | Weaviate\",\"link\":\"https://weaviate.io/blog/what-is-agentic-rag\",\"snippet\":\"Agentic RAG describes an AI agent-based implementation of RAG. Specifically, it incorporates AI agents into the RAG pipeline to orchestrate its components.\",\"date\":\"Nov 5, 2024\",\"sitelinks\":[{\"title\":\"Fundamentals of Agentic RAG\",\"link\":\"https://weaviate.io/blog/what-is-agentic-rag#fundamentals-of-agentic-rag\"},{\"title\":\"What is Agentic RAG?\",\"link\":\"https://weaviate.io/blog/what-is-agentic-rag#what-is-agentic-rag\"},{\"title\":\"Implementing Agentic RAG\",\"link\":\"https://weaviate.io/blog/what-is-agentic-rag#implementing-agentic-rag\"}],\"position\":4},{\"title\":\"Build a RAG agent to answer complex questions - IBM Developer\",\"link\":\"https://developer.ibm.com/tutorials/awb-build-rag-llm-agents/\",\"snippet\":\"I built a RAG-based LLM agent (hereafter called a RAG agent) to handle complex questions and interact with external information sources such as vector ...\",\"date\":\"Aug 27, 2024\",\"position\":5},{\"title\":\"Building LLM Agents for RAG from Scratch and Beyond - Unite.AI\",\"link\":\"https://www.unite.ai/building-llm-agents-for-rag-from-scratch-and-beyond-a-comprehensive-guide/\",\"snippet\":\"Discover how to build LLM agents for Retrieval-Augmented Generation (RAG) to improve the accuracy and reliability of AI-generated content.\",\"date\":\"Jul 3, 2024\",\"position\":6},{\"title\":\"Building RAG Agents with LLMs Online Course - NVIDIA\",\"link\":\"https://resources.nvidia.com/en-us-ai-large-language-models/building-rag-agents-with-llms-dli-course\",\"snippet\":\"This course will show you how to deploy an agent system in practice with the flexibility to scale up your system to meet the demands of users and customers.\",\"position\":7},{\"title\":\"Why do we need AI Agent, when we have LLM & RAG? - Medium\",\"link\":\"https://medium.com/@tarifabeach/why-do-we-need-ai-agent-when-we-have-llm-rag-d178db29a48e\",\"snippet\":\"While LLMs and RAG models excel in linguistic understanding and generation, AI agents are indispensable for tasks requiring real-world action, ...\",\"date\":\"Apr 15, 2024\",\"position\":8},{\"title\":\"LLM Agents - Prompt Engineering Guide\",\"link\":\"https://www.promptingguide.ai/research/llm-agents\",\"snippet\":\"When building LLM agents, an LLM serves as the main controller or \\\"brain\\\" that controls a flow of operations needed to complete a task or user ...\",\"date\":\"Apr 24, 2025\",\"sitelinks\":[{\"title\":\"Llm Agent Framework\",\"link\":\"https://www.promptingguide.ai/research/llm-agents#:~:text=.-,LLM%20Agent%20Framework\"},{\"title\":\"Planning\",\"link\":\"https://www.promptingguide.ai/research/llm-agents#:~:text=.-,Planning\"},{\"title\":\"Llm Agent Applications\",\"link\":\"https://www.promptingguide.ai/research/llm-agents#:~:text=LLM%20Agent%20Applications\"}],\"position\":9},{\"title\":\"9 RAG, LLM, and AI Agent Cheat Sheets - Daily Dose of Data Science\",\"link\":\"https://blog.dailydoseofds.com/p/9-rag-llm-and-ai-agent-cheat-sheets\",\"snippet\":\"9 RAG, LLM, and AI Agent Cheat Sheets · ​#1) Transformer vs. Mixture of Experts in LLMs​ · ​#2) 5 techniques to fine-tune LLMs​ · ​#3) RAG vs ...\",\"date\":\"Apr 1, 2025\",\"position\":10}],\"peopleAlsoAsk\":[{\"question\":\"What is the difference between RAG and agent LLM?\",\"snippet\":\"RAG excels at providing current, fact-based responses, which makes it especially effective for specialized tasks such as medical or legal inquiries, where specific domain knowledge is essential. In contrast, AI Agents provide adaptability and autonomy due to their continuous learning and decision-making capabilities.\",\"title\":\"RAG, AI Agents, and Agentic RAG: An In-Depth Review and Comparative ...\",\"link\":\"https://www.digitalocean.com/community/conceptual-articles/rag-ai-agents-agentic-rag-comparative-analysis\"},{\"question\":\"What is RAG and LLM?\",\"snippet\":\"Retrieval-Augmented Generation (RAG) enhances large language models (LLMs) by incorporating an information-retrieval mechanism that allows models to access and utilize additional data beyond their original training set.\",\"title\":\"Retrieval-augmented generation - Wikipedia\",\"link\":\"https://en.wikipedia.org/wiki/Retrieval-augmented_generation\"},{\"question\":\"What is the difference between LLM and agent?\",\"snippet\":\"Unlike Large Language Models (LLMs), which primarily handle language tasks, AI Agents are built to perform tasks autonomously, interact with their surroundings, and adapt to dynamic conditions. Different types of AI agents are widely used in various industries, including robotics, automation, and customer service.\",\"title\":\"LLMs vs AI Agents: Differences, and Use Cases Explained\",\"link\":\"https://www.allaboutai.com/ai-agents/llms-vs-ai-agents/\"},{\"question\":\"Do AI agents use LLMs?\",\"snippet\":\"LLM agents are AI systems for natural language tasks, like customer support and data analysis. LLM agents are a subset of AI agents that use large language models to complete language-based tasks.\",\"title\":\"Complete Guide to LLM Agents (2025) - Botpress\",\"link\":\"https://botpress.com/blog/llm-agents\"}],\"relatedSearches\":[{\"query\":\"Llm rag agent github\"},{\"query\":\"Llm rag agent example\"},{\"query\":\"Llm rag agent tutorial\"},{\"query\":\"LangGraph RAG agent\"},{\"query\":\"Agentic RAG example\"},{\"query\":\"Agentic RAG LangGraph\"},{\"query\":\"Agentic RAG LangChain\"},{\"query\":\"Agentic RAG-langchain github\"}],\"credits\":1}\n"
     ]
    }
   ],
   "source": [
    "# 검색 쿼리 함수 구현 및 API 호출\n",
    "\n",
    "import requests\n",
    "import os\n",
    "import json\n",
    "\n",
    "def search_query(query):\n",
    "    url = \"https://google.serper.dev/search\"\n",
    "\n",
    "    payload = json.dumps({\n",
    "        \"q\": query\n",
    "    })\n",
    "    headers = {\n",
    "        'X-API-KEY': os.getenv(\"SERPER_API_KEY\"),\n",
    "        'Content-Type': 'application/json'\n",
    "    }\n",
    "\n",
    "    response = requests.request(\"POST\", url, headers=headers, data=payload)\n",
    "\n",
    "    return response.text\n",
    "\n",
    "result = search_query(\"LLM RAG Agent\") # 원하는 쿼리를 입력\n",
    "print(result)"
   ]
  },
  {
   "cell_type": "markdown",
   "metadata": {},
   "source": [
    "##### ReAct 에이전트와 검색 API 통합"
   ]
  },
  {
   "cell_type": "code",
   "execution_count": 12,
   "metadata": {},
   "outputs": [
    {
     "name": "stdout",
     "output_type": "stream",
     "text": [
      "\n",
      "\n",
      "\u001b[1m> Entering new AgentExecutor chain...\u001b[0m\n",
      "\u001b[32;1m\u001b[1;3m I should search for the information about the winner of the Ballon d'Or in 2024.\n",
      "Action: Intermediate Answer\n",
      "Action Input: \"Ballon d'Or 2024 winner birth information\"\u001b[0m\n",
      "Observation: \u001b[36;1m\u001b[1;3m2024 Ballon d'Or winner Rodri ; 2024 Ballon d'Or winner Rodri · 28 October 2024 · Théâtre du Châtelet, Paris · France Football. Missing: birth | Show results with:birth. Rodri and Aitana Bonmati were named the best players in world football at the 2024 Ballon d'Or awards ceremony in Paris on Monday. 1K. 16K. 204K · Square profile picture · Ballon d'Or · @ballondor. ·. Feb 5. Happy birthday to the one and only. @Cristiano ! Our five-time Ballon d'Or winner ... Missing: birth | Show results with:birth. Harry Kane (England, Bayern Munich) and Kylian Mbappé (France, Paris Saint-Germain / Real Madrid) are the 2024 Gerd Müller Trophy winners. Spanish players won both the Men's and Women's Ballons d'Or in Paris on Monday, as Rodri Hernández and Aitana Bonmatí scooped the main awards. First player born in the '90s to win the Ballon d'Or. First since 2015 to win the award in his 20s. Probably the first player on crutches to win. Rodri is the current holder of the award, having won its most recent edition in 2024. Rodri becomes the second men's player born in Spain to win the sport's most prestigious individual prize, and the first since former Barcelona ... List of Men's Ballon d'Or award winners ; 2024, Rodri, Spain ; 2023 · Lionel Messi, Argentina ; 2022, Karim Benzema, France ; 2021 · Lionel Messi, Argentina ... Missing: birth | Show results with:birth. Rodri wins Ballon d'Or 2024: Man City midfielder pips Vinicius Junior to crown as Barcelona star Aitana Bonmati wins women's award · Barcelona ... Missing: birth | Show results with:birth.\u001b[0m\n",
      "Thought:\u001b[32;1m\u001b[1;3m I now know the final answer\n",
      "Final Answer: The winner of the 2024 Ballon d'Or, Rodri, was born in Spain.\u001b[0m\n",
      "\n",
      "\u001b[1m> Finished chain.\u001b[0m\n"
     ]
    },
    {
     "data": {
      "text/plain": [
       "\"The winner of the 2024 Ballon d'Or, Rodri, was born in Spain.\""
      ]
     },
     "execution_count": 12,
     "metadata": {},
     "output_type": "execute_result"
    }
   ],
   "source": [
    "# ReAct 에이전트와 구글 검색 API를 연동하여 답변 구성\n",
    "\n",
    "# Search 에이전트를 활용한 검색 쿼리\n",
    "\n",
    "from langchain_community.utilities import GoogleSerperAPIWrapper\n",
    "from langchain_openai import OpenAI\n",
    "from langchain.agents import initialize_agent, Tool\n",
    "from langchain.agents import AgentType\n",
    "\n",
    "llm = OpenAI(temperature=0)\n",
    "search = GoogleSerperAPIWrapper()\n",
    "tools = [\n",
    "    Tool(\n",
    "        name=\"Intermediate Answer\",\n",
    "        func=search.run,\n",
    "        description=\"검색 결과와 함께 유용한 답변을 제공합니다.\"\n",
    "    )\n",
    "]\n",
    "\n",
    "search = initialize_agent(tools, llm, agent=AgentType.ZERO_SHOT_REACT_DESCRIPTION, \n",
    "                          verbose=True,\n",
    "                          max_iterations=4, \n",
    "                          early_stopping_method=\"generate\", \n",
    "                          handle_parsing_errors=True)\n",
    "search.run(\"발롱도르 2024년도 수상자의 출생 정보는?\")"
   ]
  },
  {
   "cell_type": "code",
   "execution_count": 13,
   "metadata": {},
   "outputs": [],
   "source": [
    "# 복잡한 쿼리를 위한 답변 보완 방법\n",
    "\n",
    "# tool description 보강\n",
    "tools = [\n",
    "        Tool(\n",
    "            name=\"Intermediate Answer\",\n",
    "            func=search.run,\n",
    "            description=\"도구를 사용하여 현재 금융 데이터, 주식 정보 및 기업 지표에 대한 사실적인 답변을 찾아 답변하세요.\"\n",
    "        )\n",
    "    ]\n",
    "\n",
    "# 에이전트 내 파라미터 조정 (handle_parsing_errors, max_iterations)\n",
    "agent = initialize_agent(\n",
    "        tools=tools,\n",
    "        llm=llm,\n",
    "        agent=AgentType.SELF_ASK_WITH_SEARCH,\n",
    "        verbose=True,\n",
    "        handle_parsing_errors=True,\n",
    "        max_iterations=3\n",
    "    )\n"
   ]
  },
  {
   "cell_type": "code",
   "execution_count": 14,
   "metadata": {},
   "outputs": [
    {
     "name": "stdout",
     "output_type": "stream",
     "text": [
      "\n",
      "\n",
      "\u001b[1m> Entering new AgentExecutor chain...\u001b[0m\n",
      "\u001b[32;1m\u001b[1;3mCould not parse output:  No.\n",
      "For troubleshooting, visit: https://python.langchain.com/docs/troubleshooting/errors/OUTPUT_PARSING_FAILURE \u001b[0m\n",
      "Intermediate answer: Invalid or incomplete response\n",
      "\u001b[32;1m\u001b[1;3mSo the final answer is: Unable to determine.\u001b[0m\n",
      "\n",
      "\u001b[1m> Finished chain.\u001b[0m\n"
     ]
    },
    {
     "data": {
      "text/plain": [
       "'Unable to determine.'"
      ]
     },
     "execution_count": 14,
     "metadata": {},
     "output_type": "execute_result"
    }
   ],
   "source": [
    "agent.run(\"코카콜라의 가장 최근 배당금 지급액은 얼마였나요?\")"
   ]
  },
  {
   "cell_type": "markdown",
   "metadata": {},
   "source": [
    "댭변 내에서 답을 찾았음에도 불구하고 파싱 에러로 출력 형식이 맞지 않아 OutputParserException 에러가 나는 경우가 있다.  \n",
    "이 경우에는 기본 설정, 프롬프트 템플릿 조정, 별도 쿼리 사용으로 각 단계별로 점진적으로 구조화된 응답을 추가하여 개선할 수 도 있다."
   ]
  },
  {
   "cell_type": "code",
   "execution_count": 15,
   "metadata": {},
   "outputs": [],
   "source": [
    "# 프롬프트 템플릿 조정을 통해 agent_kwargs 를 추가\n",
    "\n",
    "prompt_template = \"\"\"다음 형식을 사용하세요:\n",
    "\n",
    "Question: 답변해야 할 입력 질문\n",
    "Thought: 무엇을 해야 할지 항상 생각하세요\n",
    "Action: 취해야 할 행동, 항상 \"Intermediate Answer\"여야 합니다\n",
    "Action Input: 행동에 대한 입력\n",
    "Observation: 행동의 결과\n",
    "... (이 Thought/Action/Action Input/Observation은 N번 반복될 수 있습니다)\n",
    "Thought: 이제 최종 답변을 알았습니다\n",
    "Final Answer: 원래 입력된 질문에 대한 최종 답변\n",
    "\n",
    "Question: {input}\n",
    "{agent_scratchpad}\n",
    "\"\"\""
   ]
  },
  {
   "cell_type": "code",
   "execution_count": 16,
   "metadata": {},
   "outputs": [],
   "source": [
    "from langchain.agents import initialize_agent, Tool\n",
    "from langchain.agents import AgentType\n",
    "from langchain_openai import OpenAI\n",
    "from langchain_community.utilities import GoogleSerperAPIWrapper\n",
    "\n",
    "# 에이전트 세팅 함수\n",
    "def setup_self_ask_agent():\n",
    "    \"\"\"\n",
    "    셀프 질문 에이전트 설정 및 반환\n",
    "    \"\"\"\n",
    "    llm = OpenAI(temperature=0)\n",
    "    search = GoogleSerperAPIWrapper()\n",
    "    tools = [\n",
    "        Tool(\n",
    "            name=\"Intermediate Answer\",\n",
    "            func=search.run,\n",
    "            description=\"도구를 사용하여 현재 금융 데이터, 주식 정보 및 기업 지표에 대한 사실적인 답변을 찾아 한국어로 답변하세요.\"\n",
    "        )\n",
    "    ]\n",
    "\n",
    "    # 에이전트 내 파라미터 조정 (handle_parsing_errors, max_iterations)\n",
    "    agent = initialize_agent(\n",
    "        tools=tools,\n",
    "        llm=llm,\n",
    "        agent=AgentType.SELF_ASK_WITH_SEARCH,\n",
    "        verbose=True,\n",
    "        handle_parsing_errors=True,\n",
    "        max_iterations=5\n",
    "    )\n",
    "\n",
    "    return agent\n",
    "\n",
    "# 금융 관련 질문에 대해 정보를 가져오는 함수\n",
    "def get_financial_info(query: str) -> str:\n",
    "    agent = setup_self_ask_agent()\n",
    "\n",
    "    # 구조화된 응답을 유도하기 위해 쿼리 형식 지정\n",
    "    formatted_query = f\"\"\" 다음 정보를 찾습니다:\n",
    "    {query}\n",
    "    답변의 형식은 다음과 같이 한국어로 답변하세요:\n",
    "    '[metric] [value]' 다음에 가능한 경우 출처의 날짜를 입력합니다.\"\"\"\n",
    "\n",
    "    try:\n",
    "        response = agent.run(formatted_query)\n",
    "        return response\n",
    "    except Exception as e:\n",
    "        # 가능한 경우 오류에서 유용한 정보를 추출\n",
    "        if \"Intermediate answer:\" in str(e):\n",
    "            try:\n",
    "                # 오류 메시지에서 실제 답변 추출\n",
    "                relevant_info = str(e).split(\"Intermediate answer:\")[-1].split(\"Follow up:\")[0].strip()\n",
    "                return f\"Found information: {relevant_info}\"\n",
    "\n",
    "            except:\n",
    "                pass\n",
    "        return f\"Error occurred: {str(e)}\"\n"
   ]
  },
  {
   "cell_type": "code",
   "execution_count": 17,
   "metadata": {},
   "outputs": [
    {
     "name": "stdout",
     "output_type": "stream",
     "text": [
      "\n",
      "\n",
      "\u001b[1m> Entering new AgentExecutor chain...\u001b[0m\n",
      "\u001b[32;1m\u001b[1;3m Yes.\n",
      "Follow up: When was the most recent dividend payment for Coca-Cola?\u001b[0m\n",
      "Intermediate answer: \u001b[36;1m\u001b[1;3mThe Coca-Cola Company's latest ex-dividend date was on June 13, 2025 . The KO stock shareholders received the last dividend payment of $0.51 per share on July 1, 2025 . When is The Coca-Cola Company's next dividend payment date? The Coca-Cola Company's next dividend payment will be on July 1, 2025 .\u001b[0m\n",
      "\u001b[32;1m\u001b[1;3mFollow up: What was the amount of the most recent dividend payment for Coca-Cola?\u001b[0m\n",
      "Intermediate answer: \u001b[36;1m\u001b[1;3mThe Coca-Cola Company's latest ex-dividend date was on June 13, 2025 . The KO stock shareholders received the last dividend payment of $0.51 per share on July 1, 2025 .\u001b[0m\n",
      "\u001b[32;1m\u001b[1;3mSo the final answer is: 배당금 0.51 달러 [출처: June 13, 2025]\u001b[0m\n",
      "\n",
      "\u001b[1m> Finished chain.\u001b[0m\n"
     ]
    },
    {
     "data": {
      "text/plain": [
       "'배당금 0.51 달러 [출처: June 13, 2025]'"
      ]
     },
     "execution_count": 17,
     "metadata": {},
     "output_type": "execute_result"
    }
   ],
   "source": [
    "get_financial_info('코카콜라의 가장 최근 배당금 지급액은 얼마였나요?')"
   ]
  },
  {
   "cell_type": "markdown",
   "metadata": {},
   "source": [
    "다음 코드를 통해 에이전트에서 도구를간편하게 로드도 가능하다"
   ]
  },
  {
   "cell_type": "code",
   "execution_count": 18,
   "metadata": {},
   "outputs": [],
   "source": [
    "from langchain.agents import load_tools\n",
    "tools = load_tools([\"google-serper\"])"
   ]
  },
  {
   "cell_type": "code",
   "execution_count": 19,
   "metadata": {},
   "outputs": [
    {
     "data": {
      "text/plain": [
       "[GoogleSerperRun(api_wrapper=GoogleSerperAPIWrapper(k=10, gl='us', hl='en', type='search', result_key_for_type={'news': 'news', 'places': 'places', 'images': 'images', 'search': 'organic'}, tbs=None, serper_api_key='6dc6e4ebdbc7235c4465f79cf6b65d7b78aeb6c1', aiosession=None))]"
      ]
     },
     "execution_count": 19,
     "metadata": {},
     "output_type": "execute_result"
    }
   ],
   "source": [
    "tools"
   ]
  },
  {
   "cell_type": "markdown",
   "metadata": {},
   "source": [
    "## 에이전트 기반 호출\n",
    "\n",
    "기본 에이전트를 사용하여 다양한 도구를 호출하고 이를 조합하여 문제를 해결하는 방법을 알아보자."
   ]
  },
  {
   "cell_type": "markdown",
   "metadata": {},
   "source": [
    "### 기본 에이전트에서의 도구 호출\n",
    "\n",
    "기본 에이전트는 AI 시스템의 가장 기초적인 형태로, 정해진 규칙에 따라 도구를 호출하고 결과를 생성하는 역할을 한다.  \n",
    "따라서 복잡한 작업보다는 단순하고 명확한 작업을 처리하는 데 적합하다."
   ]
  },
  {
   "cell_type": "code",
   "execution_count": 10,
   "metadata": {},
   "outputs": [
    {
     "data": {
      "text/plain": [
       "True"
      ]
     },
     "execution_count": 10,
     "metadata": {},
     "output_type": "execute_result"
    }
   ],
   "source": [
    "from dotenv import load_dotenv\n",
    "load_dotenv()"
   ]
  },
  {
   "cell_type": "code",
   "execution_count": 2,
   "metadata": {},
   "outputs": [
    {
     "name": "stderr",
     "output_type": "stream",
     "text": [
      "/home/haiqv/conda/envs/rag/lib/python3.10/site-packages/IPython/core/interactiveshell.py:3579: LangChainDeprecationWarning: As of langchain-core 0.3.0, LangChain uses pydantic v2 internally. The langchain.pydantic_v1 module was a compatibility shim for pydantic v1, and should no longer be used. Please update the code to import from Pydantic directly.\n",
      "\n",
      "For example, replace imports like: `from langchain.pydantic_v1 import BaseModel`\n",
      "with: `from pydantic import BaseModel`\n",
      "or the v1 compatibility namespace if you are working in a code base that has not been fully upgraded to pydantic 2 yet. \tfrom pydantic.v1 import BaseModel\n",
      "\n",
      "  exec(code_obj, self.user_global_ns, self.user_ns)\n"
     ]
    }
   ],
   "source": [
    "# Adder 와 Multiplier 라는 2가지 도구를 정의하고, 이를 기본 에이전트에서 호출해보자.\n",
    "\n",
    "from langchain.pydantic_v1 import BaseModel, Field\n",
    "from langchain.tools import StructuredTool"
   ]
  },
  {
   "cell_type": "code",
   "execution_count": 3,
   "metadata": {},
   "outputs": [],
   "source": [
    "class MultiplierInput(BaseModel):\n",
    "    a: int = Field(description=\"첫 번째 숫자\")\n",
    "    b: int = Field(description=\"두 번째 숫자\")\n",
    "\n",
    "\n",
    "def multiply(a: int, b: int) -> int:\n",
    "    return a * b\n",
    "\n",
    "\n",
    "multiplier = StructuredTool.from_function(\n",
    "    func=multiply,\n",
    "    name=\"Multiplier\",\n",
    "    description=\"두 숫자 곱셈\",\n",
    "    args_schema=MultiplierInput,\n",
    "    return_direct=False,\n",
    ")"
   ]
  },
  {
   "cell_type": "code",
   "execution_count": 4,
   "metadata": {},
   "outputs": [],
   "source": [
    "class AdderInput(BaseModel):\n",
    "    a: int = Field(description=\"첫 번째 숫자\")\n",
    "    b: int = Field(description=\"두 번째 숫자\")\n",
    "\n",
    "\n",
    "def add(a: int, b: int) -> int:\n",
    "    return a + b\n",
    "\n",
    "\n",
    "adder = StructuredTool.from_function(\n",
    "    func=add,\n",
    "    name=\"Adder\",\n",
    "    description=\"두 숫자 덧셈\",\n",
    "    args_schema=AdderInput,\n",
    "    return_direct=False,\n",
    ")"
   ]
  },
  {
   "cell_type": "code",
   "execution_count": 5,
   "metadata": {},
   "outputs": [],
   "source": [
    "tools=[multiplier, adder]"
   ]
  },
  {
   "cell_type": "code",
   "execution_count": 6,
   "metadata": {},
   "outputs": [],
   "source": [
    "# openai tool agent 생성\n",
    "\n",
    "from langchain_openai import ChatOpenAI\n",
    "from langchain.agents import create_openai_tools_agent\n",
    "from langchain_core.prompts import (\n",
    "    ChatPromptTemplate,\n",
    "    MessagesPlaceholder,\n",
    "    HumanMessagePromptTemplate,\n",
    "    SystemMessagePromptTemplate,\n",
    ")\n",
    "\n",
    "model = ChatOpenAI(model=\"gpt-4o-mini\", temperature=0, streaming=True)\n",
    "\n",
    "system_template = \"\"\"\n",
    "당신은 수학 계산을 도와주는 AI 어시스턴트입니다.\n",
    "사용 가능한 도구들:\n",
    "- Adder: 두 숫자를 더합니다\n",
    "- Multiplier: 두 숫자를 곱합니다\n",
    "\n",
    "각 단계별로 계산 과정을 설명하고, 최종 결과를 명확하게 알려주세요.\n",
    "\"\"\"\n",
    "\n",
    "human_template = \"{input}\"\n",
    "\n",
    "prompt = ChatPromptTemplate.from_messages(\n",
    "    [\n",
    "        SystemMessagePromptTemplate.from_template(system_template),\n",
    "        MessagesPlaceholder(variable_name=\"chat_history\", optional=True),\n",
    "        HumanMessagePromptTemplate.from_template(input_variables=[\"input\"], template=human_template),\n",
    "        MessagesPlaceholder(variable_name=\"agent_scratchpad\"),\n",
    "    ]\n",
    ")\n",
    "\n",
    "agent = create_openai_tools_agent(model, tools, prompt)"
   ]
  },
  {
   "cell_type": "code",
   "execution_count": 7,
   "metadata": {},
   "outputs": [
    {
     "name": "stdout",
     "output_type": "stream",
     "text": [
      "\n",
      "\n",
      "\u001b[1m> Entering new AgentExecutor chain...\u001b[0m\n",
      "\u001b[32;1m\u001b[1;3m\n",
      "Invoking: `Adder` with `{'a': 13, 'b': 28}`\n",
      "\n",
      "\n",
      "\u001b[0m\u001b[33;1m\u001b[1;3m41\u001b[0m\u001b[32;1m\u001b[1;3m\n",
      "Invoking: `Multiplier` with `{'a': 40, 'b': 1}`\n",
      "\n",
      "\n",
      "\u001b[0m\u001b[36;1m\u001b[1;3m40\u001b[0m\u001b[32;1m\u001b[1;3m\n",
      "Invoking: `Multiplier` with `{'a': 41, 'b': 40}`\n",
      "\n",
      "\n",
      "\u001b[0m\u001b[36;1m\u001b[1;3m1640\u001b[0m\u001b[32;1m\u001b[1;3m먼저, 13과 28을 더했습니다:\n",
      "\n",
      "\\[ 13 + 28 = 41 \\]\n",
      "\n",
      "그 다음, 이 결과인 41에 40을 곱했습니다:\n",
      "\n",
      "\\[ 41 \\times 40 = 1640 \\]\n",
      "\n",
      "따라서 최종 결과는 **1640**입니다.\u001b[0m\n",
      "\n",
      "\u001b[1m> Finished chain.\u001b[0m\n"
     ]
    }
   ],
   "source": [
    "# run agent\n",
    "\n",
    "from langchain.agents import AgentExecutor\n",
    "\n",
    "agent_executor = AgentExecutor(agent=agent, tools=tools, verbose=True, handle_parsing_errors=True)\n",
    "\n",
    "query = \"13과 28을 더하고 40을 곱하면 어떤 결과가 나올까요?\"\n",
    "response = agent_executor.invoke({\"input\": query, \"chat_history\": [] })\n",
    "result = response['output']\n"
   ]
  },
  {
   "cell_type": "code",
   "execution_count": 8,
   "metadata": {},
   "outputs": [
    {
     "name": "stdout",
     "output_type": "stream",
     "text": [
      "\n",
      "\n",
      "\u001b[1m> Entering new AgentExecutor chain...\u001b[0m\n",
      "\u001b[32;1m\u001b[1;3m\n",
      "Invoking: `Adder` with `{'a': 100, 'b': 20}`\n",
      "\n",
      "\n",
      "\u001b[0m\u001b[33;1m\u001b[1;3m120\u001b[0m\u001b[32;1m\u001b[1;3m100과 20을 더하면 120이 나옵니다.\u001b[0m\n",
      "\n",
      "\u001b[1m> Finished chain.\u001b[0m\n"
     ]
    }
   ],
   "source": [
    "query = \"100과 20을 더하면 어떤 결과가 나올까요?\"\n",
    "response = agent_executor.invoke({\"input\": query, \"chat_history\": [] })\n",
    "result = response['output']"
   ]
  },
  {
   "cell_type": "markdown",
   "metadata": {},
   "source": [
    "### ReAct를 활용한 고급 도구 호출\n",
    "\n",
    "ReAct 에이전트는 여러 도구를 연속적으로 호출하는 경우, 각 도구의 출력 결과를 바탕으로 동적으로 도구 선택을 할 수 있다.  \n",
    "이 과정에서 일부 도구의 실패나 오류를 고려하고, 다른 대체 도구를 선택하는 로직을 포함할 수 있다."
   ]
  },
  {
   "cell_type": "code",
   "execution_count": 13,
   "metadata": {},
   "outputs": [],
   "source": [
    "import requests\n",
    "import json\n",
    "from langchain.agents import create_tool_calling_agent, AgentExecutor\n",
    "from langchain_core.prompts import ChatPromptTemplate\n",
    "from langchain_openai import ChatOpenAI\n",
    "from langchain.tools import StructuredTool\n",
    "import os"
   ]
  },
  {
   "cell_type": "code",
   "execution_count": 11,
   "metadata": {},
   "outputs": [],
   "source": [
    "# 1. 도구 클래스/함수 정의\n",
    "class StockTool:\n",
    "    def run(self, input_data):\n",
    "        # 입력 데이터를 기반으로 주식 관련 작업 수행 함수 작성\n",
    "        api_key = os.getenv(\"rapid_api_key\")\n",
    "        url = \"https://seeking-alpha.p.rapidapi.com/symbols/get-ratings\"\n",
    "\n",
    "        querystring = {\"symbols\":input_data.lower()}\n",
    "\n",
    "        headers = {\n",
    "            \"x-rapidapi-key\": api_key,\n",
    "            \"x-rapidapi-host\": \"seeking-alpha.p.rapidapi.com\"\n",
    "        }\n",
    "\n",
    "        response = requests.get(url, headers=headers, params=querystring)\n",
    "        print(response)\n",
    "\n",
    "        if response.status_code == 200:\n",
    "            data = response.json()\n",
    "            result = json.dumps(data)\n",
    "        else:\n",
    "            raise ValueError(f\"{input_data}에 대한 데이터가 없습니다.\")\n",
    "        return f\"주식데이터 입력: {input_data}\\n{result}\"\n",
    "\n",
    "class SearchTool:\n",
    "    def run(self, input_data):\n",
    "        # 입력 데이터를 기반으로 검색 작업 수행 함수 작성\n",
    "        url = \"https://google.serper.dev/search\"\n",
    "\n",
    "        payload = json.dumps({\n",
    "            \"q\": input_data\n",
    "        })\n",
    "        headers = {\n",
    "            'X-API-KEY': os.getenv(\"SERPER_API_KEY\"),\n",
    "            'Content-Type': 'application/json'\n",
    "        }\n",
    "        response = requests.request(\"POST\", url, headers=headers, data=payload)\n",
    "\n",
    "        return response.text\n",
    "\n",
    "# 2. 도구 객체 생성\n",
    "stock_tool = StockTool()\n",
    "search_tool = SearchTool()"
   ]
  },
  {
   "cell_type": "code",
   "execution_count": 14,
   "metadata": {},
   "outputs": [
    {
     "name": "stdout",
     "output_type": "stream",
     "text": [
      "{\"searchParameters\":{\"q\":\"AI 연구 검색\",\"type\":\"search\",\"engine\":\"google\"},\"organic\":[{\"title\":\"Consensus: AI-powered Academic Search Engine\",\"link\":\"https://consensus.app/home/\",\"snippet\":\"Search through over 200M research papers across every domain of science & academia. Time-saving AI insights. Gain insight faster with our Pro Analysis ...\",\"position\":1},{\"title\":\"[Research Toolbox] 논문 검색을 더 빠르고 정확하게! 연구자를 ... - BRIC\",\"link\":\"https://www.ibric.org/bric/trend/bio-news.do?mode=view&articleNo=9958804&title=%5BResearch+Toolbox%5D+%EB%85%BC%EB%AC%B8+%EA%B2%80%EC%83%89%EC%9D%84+%EB%8D%94+%EB%B9%A0%EB%A5%B4%EA%B3%A0+%EC%A0%95%ED%99%95%ED%95%98%EA%B2%8C%21+%EC%97%B0%EA%B5%AC%EC%9E%90%EB%A5%BC+%EC%9C%84%ED%95%9C+AI+%EB%85%BC%EB%AC%B8+%EA%B2%80%EC%83%89+%EB%8F%84%EA%B5%AC+%EB%B9%84%EA%B5%90\",\"snippet\":\"오늘은 연구 과정에서 논문을 검색하는 시간을 줄이고 다량의 최신 논문을 효율적으로 정리하는 데 도움을 주는 AI 도구들을 소개하도록 하겠습니다. 1.\",\"date\":\"Mar 27, 2025\",\"position\":2},{\"title\":\"DBpia - 연구를 돕는 똑똑한 학술콘텐츠 플랫폼\",\"link\":\"https://www.dbpia.co.kr/\",\"snippet\":\"DBpia는 국내 우수 학술기관이 발행한 저널과 논문을 제공하고 있습니다. 연구자에게 꼭 맞는 콘텐츠와 서비스를 한 곳에서 만나보세요.\",\"position\":3},{\"title\":\"Semantic Scholar | AI-Powered Research Tool\",\"link\":\"https://www.semanticscholar.org/\",\"snippet\":\"Semantic Scholar uses groundbreaking AI and engineering to understand the semantics of scientific literature to help Scholars discover relevant research.\",\"position\":4},{\"title\":\"Scite: AI for Research\",\"link\":\"https://scite.ai/\",\"snippet\":\"Supercharge your research with AI and search powered by the world's scholarly content - both Open Access and paywalled. Start free 7-day trial\",\"position\":5},{\"title\":\"2025년 연구원을 위한 최고의 AI 추천 TOP8 | 워드바이스 AI\",\"link\":\"https://wordvice.ai/ko/blog/8-best-ai-tools-for-researchers\",\"snippet\":\"Scite.ai는 여러분의 학술적 요구에 맞는 더 신뢰할 만한 AI 학술 연구 도구입니다. 핵심 기능. 인용문 검색; 대시보드 생성; 저널 및 기관 지표; 대화형 시각화. 6.\",\"sitelinks\":[{\"title\":\"워드바이스 AI - 연구원들을 위...\",\"link\":\"https://wordvice.ai/ko/blog/8-best-ai-tools-for-researchers#1-%EC%9B%8C%EB%93%9C%EB%B0%94%EC%9D%B4%EC%8A%A4-ai---%EC%97%B0%EA%B5%AC%EC%9B%90%EB%93%A4%EC%9D%84-%EC%9C%84%ED%95%9C-%EC%B5%9C%EA%B3%A0%EC%9D%98-%EC%98%AC%EC%9D%B8%EC%9B%90-ai-%EC%82%AC%EC%9D%B4%ED%8A%B8\"},{\"title\":\"Scite.ai - 문헌 검색 시간 낭비...\",\"link\":\"https://wordvice.ai/ko/blog/8-best-ai-tools-for-researchers#5-sciteai---%EB%AC%B8%ED%97%8C-%EA%B2%80%EC%83%89-%EC%8B%9C%EA%B0%84-%EB%82%AD%EB%B9%84-%EB%B0%A9%EC%A7%80\"}],\"position\":6},{\"title\":\"논문 작성에 도움되는 6가지 AI 사이트 추천 - 진학프로\",\"link\":\"https://www.jinhakpro.com/insight/4\",\"snippet\":\"- OpenRead는 논문, 저널, 연구 문서 등을 분석할 수 있는 직관적인 AI 기반 대화형 플랫폼입니다. - 논문을 소화하여 문헌 리뷰 생성을 지원하는 Paper ...\",\"date\":\"Jul 29, 2024\",\"position\":7},{\"title\":\"2025년 학술 연구를 위한 9가지 최고의 AI 도구 | Felo Search Blog\",\"link\":\"https://felo.ai/ko/blog/2025-best-ai-tools-academic-research/\",\"snippet\":\"2025년 학술 연구를 위한 9가지 최고의 AI 도구 · 1. Felo AI: 다국어 연구 및 2억 개 이상의 학술 기사에서 답변 찾기​ · 2. Wordvice AI: 연구자를 위한 ...\",\"date\":\"Dec 30, 2024\",\"position\":8},{\"title\":\"AI Search Engine for Research - Consensus\",\"link\":\"https://consensus.app/search/\",\"snippet\":\"Consensus is a search engine that uses AI to find answers in scientific research. Try searching for free.\",\"attributes\":{\"Missing\":\"연구 | Show results with:연구\"},\"position\":9},{\"title\":\"해외 논문 검색 사이트와 SciSpace의 AI 기능 소개 - 네이버 블로그\",\"link\":\"https://m.blog.naver.com/gptfrontier/223385648998\",\"snippet\":\"소개: AI를 기반으로 한 논문 검색 사이트로써, 구글 학술검색과 비슷한 기능을 제공합니다. 출판사와 학회의 제휴를 통해 더욱 다양한 자료를 제공하고 ...\",\"date\":\"Mar 16, 2024\",\"position\":10}],\"relatedSearches\":[{\"query\":\"Naver\"},{\"query\":\"Consensus AI 사용법\"},{\"query\":\"구글 학술검색\"},{\"query\":\"논문 검색 사이트\"},{\"query\":\"Google Scholar\"},{\"query\":\"Paper search AI\"},{\"query\":\"SciSpace\"},{\"query\":\"Semantic Scholar\"},{\"query\":\"논문 검색 AI\"}],\"credits\":1}\n"
     ]
    }
   ],
   "source": [
    "# input 에 따른 도구 지정\n",
    "\n",
    "def choose_tool_based_on_input(input_data):\n",
    "    # 입력 데이터에 따라 사용할 도구를 동적으로 선택\n",
    "    if \"주식\" in input_data:\n",
    "        return stock_tool\n",
    "    elif \"검색\" in input_data:\n",
    "        return search_tool\n",
    "    else:\n",
    "        raise ValueError(\"입력에 적합한 도구를 찾을 수 없습니다.\")\n",
    "\n",
    "# 입력에 따라 적합한 도구 선택\n",
    "def dynamic_tool_call(input_data):\n",
    "    tool = choose_tool_based_on_input(input_data)\n",
    "    return tool.run(input_data)\n",
    "\n",
    "result = dynamic_tool_call(\"AI 연구 검색\")\n",
    "print(result)"
   ]
  },
  {
   "cell_type": "markdown",
   "metadata": {},
   "source": [
    "#### 복합적인 문제 해결에 적합한 ReAct 전략\n",
    "\n",
    "ReAct 에이전트는 다양한 도구를 결합하여 복잡한 문제를 해결할 수 있다.  \n",
    "이 과정에서 성능 향상과 안정승을 위해 여러 전략을 도입할 수 있다."
   ]
  },
  {
   "cell_type": "markdown",
   "metadata": {},
   "source": [
    "#### 캐싱 전략\n",
    "\n",
    "캐싱은 이미 처리한 데이터를 저장해 두고, 동일한 요청이 발생할 때 다시 계산하지 않도록 도와준다."
   ]
  },
  {
   "cell_type": "code",
   "execution_count": 15,
   "metadata": {},
   "outputs": [
    {
     "name": "stdout",
     "output_type": "stream",
     "text": [
      "{\"searchParameters\":{\"q\":\"AI 연구 동향\",\"type\":\"search\",\"engine\":\"google\"},\"organic\":[{\"title\":\"2023년 국내외 인공지능 산업 동향 연구 - SPRi - 소프트웨어정책연구소\",\"link\":\"https://www.spri.kr/posts/view/23728?code=research&study_type=&board_type=&flg=\",\"snippet\":\"1. 제 목 : 2023년 국내외 인공지능 산업 동향 연구 · 2. 연구 목적 및 필요성; ㅇ 생성AI 기술이 전세계적 이슈로 부상 · 3. 연구의 구성 및 범위; ㅇ 인공 ...\",\"date\":\"Apr 29, 2024\",\"position\":1},{\"title\":\"[ICLR 2024]Foundation Model 분야 최신 연구 동향 - LG AI연구원\",\"link\":\"https://www.lgresearch.ai/blog/view?seq=451\",\"snippet\":\"LG AI연구원 또한 인과추론 기반의 인공지능 모델 연구를 진행하며 이러한 흐름에 동참하고 있습니다. 통계적 모델들은 데이터의 분포가 고정되어 있다고 ...\",\"date\":\"Jul 5, 2024\",\"position\":2},{\"title\":\"2024년 AI/ML 20대 최신 기술 연구 동향 (April 1) - Medium\",\"link\":\"https://medium.com/@favorable_eminence_oyster_546/2024%EB%85%84-ai-ml-17%EB%8C%80-%EC%B5%9C%EC%8B%A0-%EA%B8%B0%EC%88%A0-%EC%97%B0%EA%B5%AC-%EB%8F%99%ED%96%A5-april-1-788f3cc4f6b2\",\"snippet\":\"언어 AI 연구의 선두주자 'NeuroScript'에서 차세대 Large Language Model(LLM) 'OmniLingua'를 발표했습니다. 이 모델은 기존 LLM의 한계를 극복하고, ...\",\"date\":\"Mar 31, 2024\",\"position\":3},{\"title\":\"2024년 국내외 인공지능 산업 동향 연구 - 소프트웨어정책연구소\",\"link\":\"https://spri.kr/posts/view/23867?code=data_all&study_type=&board_type=research\",\"snippet\":\"1. 제 목 : 2024년 국내외 인공지능 산업 동향 연구 · 2. 연구 배경 및 목적; ㅇ 생성AI 기술의 부상으로 인공지능 산업 생태계가 빠르게 변화 · 3. 연구의 ...\",\"date\":\"Apr 30, 2025\",\"position\":4},{\"title\":\"연구분야별 연구동향 - 한국학술지인용색인\",\"link\":\"https://www.kci.go.kr/kciportal/po/search/poFielResearchTrendList.kci?clasSearchBean.largMajorCd=D&poResearchTrendSearchBean.middMajorCds=D12\",\"snippet\":\"Topic Landscape 분석은 AI 분석 기술을 이용하여 KCI 논문 키워드 간의 관계를 분석한 결과를 제공하는 기능입니다. 맵 상에 고도는 키워드의 출현 빈도수가 많고 적은 ...\",\"position\":5},{\"title\":\"AI 연구의 최신 동향과 전망 - 코드잇\",\"link\":\"https://www.codeit.kr/tutorials/20030/AI%20%EC%97%B0%EA%B5%AC%EC%9D%98%20%EC%B5%9C%EC%8B%A0%20%EB%8F%99%ED%96%A5%EA%B3%BC%20%EC%A0%84%EB%A7%9D\",\"snippet\":\"AI 연구는 대형 언어 모델, 강화 학습, 컴퓨터 비전 등에서 혁신적 성과를 보이며, 산업 혁신과 지속 가능한 발전에 기여할 전망입니다.\",\"date\":\"Jul 25, 2024\",\"position\":6},{\"title\":\"최신 인공지능(AI) 연구 동향과 미래 전망 - woong - 티스토리\",\"link\":\"https://woongeee.tistory.com/41\",\"snippet\":\"이번 포스트에서는 최신 AI 연구 동향과 함께 AI가 산업·사회·경제에 미치는 영향, 그리고 현재 한계와 향후 해결 과제를 살펴보고 미래를 전망해 ...\",\"date\":\"Mar 6, 2025\",\"position\":7},{\"title\":\"인공지능 분야 산업·기술 동향 및 이슈\",\"link\":\"https://ettrends.etri.re.kr/ettrends/212/0905212008/\",\"snippet\":\"인공지능 분야 산업·기술 동향 및 이슈 · Ⅰ. 서론 · Ⅱ. 산업·기술 동향 · Ⅲ. AI 관련 주요 이슈 · Ⅳ. 결론 · 용어해설 · 약어 정리 · ETRI.\",\"date\":\"Feb 3, 2025\",\"position\":8},{\"title\":\"[PDF] 네트워킹을 위한 AI 연구 동향\",\"link\":\"https://repository.kisti.re.kr/bitstream/10580/15547/1/%28%EA%B8%B0%EC%88%A0%29%EB%84%A4%ED%8A%B8%EC%9B%8C%ED%82%B9%EC%9D%84%20%EC%9C%84%ED%95%9C%20AI%20%EC%97%B0%EA%B5%AC%20%EB%8F%99%ED%96%A5.pdf\",\"snippet\":\"이 문서에서는 라우팅 등 망 트래픽 제어와 관련된 네트워킹 분야에서의 머신 러닝. /딥 러닝 이슈에 대해 알아보며 혁신적인 네트워킹 알고리즘, 표준, 및 프레임워크. 를 ...\",\"position\":9},{\"title\":\"[ACL 2024] AI-generated Text Detection 최신 연구 동향 - LG AI연구원\",\"link\":\"https://www.lgresearch.ai/blog/view?seq=483\",\"snippet\":\"AI-generated 텍스트 탐지 분야에 대한 연구는 단순히 기술적 문제를 해결하는 것을 넘어, 사회적 책임을 다하는 데 초점을 맞추어야 합니다. 또한 AI- ...\",\"date\":\"Sep 13, 2024\",\"position\":10}],\"relatedSearches\":[{\"query\":\"Internation... Conferenc...\"},{\"query\":\"AI 기술 동향 2024\"},{\"query\":\"AI 최신 기술 동향\"},{\"query\":\"딥러닝 최신 동향\"},{\"query\":\"AI 기술 동향 2025\"},{\"query\":\"인공지능 최신 기술 사례\"},{\"query\":\"LLM 연구 동향\"},{\"query\":\"ICLR 수준\"},{\"query\":\"머신러닝 최신 동향\"}],\"credits\":1}\n"
     ]
    }
   ],
   "source": [
    "# 검색 결과 캐싱\n",
    "\n",
    "from functools import lru_cache\n",
    "\n",
    "# 검색 결과를 캐싱하는 예시\n",
    "@lru_cache(maxsize=10)\n",
    "def cached_search(query):\n",
    "    return search_tool.run(query)\n",
    "\n",
    "# 캐싱된 검색 호출\n",
    "result = cached_search(\"AI 연구 동향\")\n",
    "print(result)"
   ]
  },
  {
   "cell_type": "markdown",
   "metadata": {},
   "source": [
    "#### 에러 복구 전략\n",
    "\n",
    "API 호출 실패 시 재시도하거나 대체 도구를 사용하는 방법을 통해 안정적인 동작을 보장할 수 있다."
   ]
  },
  {
   "cell_type": "code",
   "execution_count": 16,
   "metadata": {},
   "outputs": [
    {
     "name": "stdout",
     "output_type": "stream",
     "text": [
      "{\"searchParameters\":{\"q\":\"AI 도구의 발전\",\"type\":\"search\",\"engine\":\"google\"},\"organic\":[{\"title\":\"[All Around AI 1편] AI의 시작과 발전 과정, 미래 전망\",\"link\":\"https://news.skhynix.co.kr/post/all-around-ai-1\",\"snippet\":\"AI의 시작은 1950년대로 거슬러 올라간다. 1950년, 영국의 수학자 앨런 튜링(Alan Turing)은 기계는 생각할 수 있다고 주장하며, 이를 테스트하기 위한 ...\",\"date\":\"Mar 15, 2024\",\"position\":1},{\"title\":\"인공지능(AI)은 어떻게 발달해왔는가, 인공지능의 역사 - NVIDIA 블로그\",\"link\":\"https://blogs.nvidia.co.kr/blog/history_of_ai/\",\"snippet\":\"마치 인간처럼 생각하고 문제를 풀 수 있는 인공지능을 구현하려는 연구는 1970년대까지 활발히 진행되다가, 단순히 간단한 문제 풀이 뿐만 아니라 좀더 ...\",\"date\":\"Mar 13, 2016\",\"position\":2},{\"title\":\"인공지능 - 나무위키\",\"link\":\"https://namu.wiki/w/%EC%9D%B8%EA%B3%B5%EC%A7%80%EB%8A%A5\",\"snippet\":\"2020년대에 들어서는 컴퓨터의 계산 능력이 무서울 정도로 발전하고 있고, 그에 따라 쏟아지는 데이터의 양과 종류도 많아지고 있어 비정형 데이터[8]를 처리하는 능력 ...\",\"position\":3},{\"title\":\"인공지능은 어떻게 발달해왔는가, 인공지능의 역사 | 인사이트리포트\",\"link\":\"https://www.samsungsds.com/kr/insights/091517_cx_cvp3.html\",\"snippet\":\"딥러닝의 등장 이후 인공지능은 빠른 발전을 보이고 있습니다만 2018년 어떤 기술이 화두가 될지 전혀 예측할 수가 없을 정도로 급격하게 변화하고 ...\",\"date\":\"Sep 15, 2017\",\"position\":4},{\"title\":\"AI의 간략한 역사 - YouTube\",\"link\":\"https://www.youtube.com/watch?v=yJjgp0M-LeM\",\"snippet\":\"이 동영상에서 AI의 역사를 살펴보고 AI가 어떻게 현대 세계의 필수적인 부분이 되어 가정부터 직장까지 모든 측면에 영향을 미치는지 알아보세요.\",\"date\":\"Dec 5, 2024\",\"attributes\":{\"Missing\":\"도구 | Show results with:도구\"},\"position\":5},{\"title\":\"인공지능은 도구일 뿐? 당신의 존재 방식을 바꿀 겁니다 - 한겨레21\",\"link\":\"https://h21.hani.co.kr/arti/society/society_general/55403.html\",\"snippet\":\"인공지능은 도구일 뿐? 당신의 존재 방식을 바꿀 겁니다. 교육 방식부터 업무 능력까지 전방위적 영향. AI는 도구에 머무르지 않고 인간을 바꿀 것.\",\"date\":\"May 8, 2024\",\"position\":6},{\"title\":\"AI는 사회에 어떤 긍정적 영향을 미칠까? - 네이버 포스트 - NAVER\",\"link\":\"https://m.post.naver.com/viewer/postView.naver?volumeNo=37099266&memberNo=20717909\",\"snippet\":\"AI는 인간이 창의성을 높이기 위해 활용할 수 있는 도구들을 더 활성화하고 있습니다. 생성형 AI를 활용하면 텍스트나 작품, 음악을 빠르게 생성하여 창 ...\",\"date\":\"Dec 27, 2023\",\"position\":7},{\"title\":\"AI는 인간은 발전시키는 도구 - 브런치스토리\",\"link\":\"https://brunch.co.kr/@@7xlF/8\",\"snippet\":\"다양한 AI 툴들이 대중화되는 것들을 보면 이번엔 진짜 큰 변화가 일어나지 않을까 하는 생각을 합니다. 개발자 친구와 가끔 기술 발전에 대해 이야기하며 ...\",\"date\":\"Apr 5, 2024\",\"position\":8},{\"title\":\"인공지능(AI)이란 무엇인가요? - Google Cloud\",\"link\":\"https://cloud.google.com/learn/what-is-artificial-intelligence?hl=ko\",\"snippet\":\"통합 인공지능 플랫폼 내에서 선행 학습된 도구 및 커스텀 도구를 사용하여 머신러닝 모델을 더 빠르게 빌드, 배포, 확장합니다.\",\"position\":9},{\"title\":\"[금진호의 AI on 인문학] 도구의 발전과 인간 중심 AI - 네이트 뉴스\",\"link\":\"https://news.nate.com/view/20250507n20163\",\"snippet\":\"손을 이용해 도구를 만들면서 정교한 움직임을 제어하는 능력과 사고능력이 발달했다. 도구를 사용하면서 문제해결 능력과 창의적 사고가 생겨났고 이것이 ...\",\"date\":\"May 7, 2025\",\"position\":10}],\"relatedSearches\":[{\"query\":\"Microsoft Copilot\"},{\"query\":\"인공지능의 역사 요약\"},{\"query\":\"인공지능의 역사 3단계\"},{\"query\":\"인공지능의 미래 요약\"},{\"query\":\"인공지능의 발달과정\"},{\"query\":\"인공지능의 발전과정\"},{\"query\":\"ai의 역사\"},{\"query\":\"인공지능의 미래 전망\"},{\"query\":\"인공지능 발전 전망\"}],\"credits\":1}\n"
     ]
    }
   ],
   "source": [
    "# 도구 호출 에러 시 복구\n",
    "\n",
    "def robust_tool_call(tool, input_data, retries=3):\n",
    "    for attempt in range(retries):\n",
    "        try:\n",
    "            result = tool.run(input_data)\n",
    "            return result\n",
    "        except Exception as e:\n",
    "            print(f\"Attempt {attempt + 1} failed: {e}\")\n",
    "            if attempt == retries - 1:\n",
    "                raise\n",
    "            print(\"재시도...\")\n",
    "\n",
    "# 도구 호출 예시\n",
    "result = robust_tool_call(search_tool, \"AI 도구의 발전\")\n",
    "print(result)\n"
   ]
  },
  {
   "cell_type": "markdown",
   "metadata": {},
   "source": [
    "#### 멀티스텝 워크플로와 분기 로직\n",
    "\n",
    "ReAct 에이전트는 여러 도구를 순차적으로 사용하여 복잡한 문제를 해결할 수 있다.\n",
    "\n",
    "특히, 특정 조건을 만족할 때만 다음 단계로 넘어가는 분기(branching) 로직을 도입하면 복잡한 의사결정 트리를 구현할 수 있다.\n",
    "\n",
    "이를 통해 더 복잡한 시나리오에서 에이전트가 효과적으로 동작할 수 있도록 할 수 있다."
   ]
  },
  {
   "cell_type": "code",
   "execution_count": 17,
   "metadata": {},
   "outputs": [
    {
     "name": "stdout",
     "output_type": "stream",
     "text": [
      "Search Result: {\"searchParameters\":{\"q\":\"AAPL 주식 가격은 얼마입니까?\",\"type\":\"search\",\"engine\":\"google\"},\"answerBox\":{\"snippet\":\"AAPL의 현재 값은 211.43 USD 입니다 - 지난 24시간 사이 −0.37% 내렸습니다. 애플 주식회사의 주가 성능을 더 자세히 살펴보려면 차트를 확인하세요.\",\"snippetHighlighted\":[\"211.43 USD\"],\"title\":\"NASDAQ:AAPL 주가 - 애플 주식회사 - 트레이딩뷰\",\"link\":\"https://kr.tradingview.com/symbols/NASDAQ-AAPL/\"},\"knowledgeGraph\":{\"title\":\"Apple (애플)\",\"type\":\"Technology company\",\"imageUrl\":\"https://encrypted-tbn0.gstatic.com/images?q=tbn:ANd9GcT5ITHsQzdzkkFWKinRe1Y4FUbC_Vy3R_M&s=0\",\"description\":\"Apple Inc. is an American multinational corporation and technology company headquartered in Cupertino, California, in Silicon Valley. It is best known for its consumer electronics, software, and services.\",\"descriptionSource\":\"Wikipedia\",\"descriptionLink\":\"https://en.wikipedia.org/wiki/Apple_Inc.\",\"attributes\":{\"CEO\":\"Tim Cook (Aug 24, 2011–)\",\"Customer service\":\"1 (800) 275-2273\",\"Founded\":\"April 1, 1976, Los Altos, CA\",\"Headquarters\":\"Cupertino, CA\",\"Sales\":\"1 (800) 692-7753\",\"Subsidiaries\":\"Apple Store, Beats Electronics, Beddit, and more\",\"Founders\":\"Steve Jobs, Steve Wozniak, and Ronald Wayne\"}},\"organic\":[{\"title\":\"애플(Apple) 주가 - Investing.com - 인베스팅닷컴\",\"link\":\"https://kr.investing.com/equities/apple-computer-inc\",\"snippet\":\"Apple Inc의 오늘 주가는 211.19입니다. Apple Inc의 주식 티커는? Apple Inc의 티커는 \\\"AAPL.\\\" Apple Inc가 거래되는 거래소는? Apple Inc은/는 나스닥에서 거래되고 ...\",\"sitelinks\":[{\"title\":\"Apple (AAPL) 주식 포럼\",\"link\":\"https://kr.investing.com/equities/apple-computer-inc-commentary\"},{\"title\":\"Apple 주식 기술분석 (AAPL)\",\"link\":\"https://kr.investing.com/equities/apple-computer-inc-technical\"},{\"title\":\"Apple (AAPL) 주식 유저 랭킹\",\"link\":\"https://kr.investing.com/equities/apple-computer-inc-user-rankings\"}],\"position\":1},{\"title\":\"주식 Apple (AAPL) : 오늘의 가격, 시세 차트, 예측 - Finrange.com\",\"link\":\"https://finrange.com/ko/company/NASDAQ/AAPL\",\"snippet\":\"오늘 Apple(AAPL) 주식의 가격은 얼마입니까? 02.04.2025의 Apple주 현재 가격은 주당 223.19 불화.입니다.\",\"position\":2},{\"title\":\"Apple (NASDAQ:AAPL) 주식 시세 및 뉴스 요약 - Benzinga Korea 한국\",\"link\":\"https://kr.benzinga.com/quote/AAPL\",\"snippet\":\"현재 Apple (AAPL) 주가가 얼마인가요? ... Apple (NASDAQ: AAPL)의 주식 가격은 마지막으로 2025년 5월 14일 오후 7:59 GMT-4에 업데이트된 $211.9661입니다.\",\"position\":3},{\"title\":\"Apple Inc. (AAPL) Stock Price, News, Quote & History - Yahoo Finance\",\"link\":\"https://finance.yahoo.com/quote/AAPL/\",\"snippet\":\"Find the latest Apple Inc. (AAPL) stock quote, history, news and other vital information to help you with your stock trading and investing.\",\"attributes\":{\"Missing\":\"가격 입니까?\"},\"position\":4},{\"title\":\"APPLE INC (#AAPL) 주가, 실시간 차트 및 분석 | #AAPL 거래\",\"link\":\"https://www.litefinance.org/ko/trading/trading-instruments/cfd-nasdaq/aapl/\",\"snippet\":\"Apple Inc. (#AAPL) 주식의 오늘 가격은 $210.75입니다. 오늘 최고 주식 Apple Inc. (#AAPL) 가격은 $212.31이고 최저 가격은 $N/A입니다. 시가는 $N/A입니다. Apple Inc.\",\"attributes\":{\"Missing\":\"입니까? | Show results with:입니까?\"},\"position\":5},{\"title\":\"Apple Inc CDR 오늘의 주가 | AAPL 실시간 티커 - Investing.com\",\"link\":\"https://kr.investing.com/equities/apple-drc\",\"snippet\":\"Apple Inc CDR의 오늘 주가는 30.53입니다. Apple Inc CDR의 주식 티커는? Apple Inc CDR의 티커는 \\\"AAPL.\\\" Apple Inc CDR가 거래되는 거래소는?\",\"position\":6},{\"title\":\"Apple 주식 주식분석 | 주식가격 | 뉴스 | AAPL | US0378331005\",\"link\":\"https://eulerpool.com/ko/%EC%A3%BC%EC%8B%9D/Apple-%EC%A3%BC%EC%8B%9D-US0378331005\",\"snippet\":\"Apple 2025의 P/E 비율은 얼마입니까? Apple의 P/E 비율은 27.48입니다. Apple 2025의 KUV는 얼마입니까? Apple의 P/S 비율은 7.37입니다. Apple의 AlleAktien 품질 ...\",\"rating\":4.9,\"ratingCount\":755,\"position\":7},{\"title\":\"Apple AAPL NasdaqGS 오늘 주가 | 주식 시세 라이브 차트\",\"link\":\"https://coindataflow.com/ko/%EC%8A%A4%ED%86%A1/AAPL\",\"snippet\":\"Apple AAPL의 오늘 주당 거래 가격은 227.48 USD입니다. Apple 주식을 구매하려면 어떻게 합니까? NasdaqGS 거래소에서 AAPL 주식을 구매할 수 있습니다. 중개인을 선택 ...\",\"position\":8},{\"title\":\"AAPL 예측 — 2026 가격 목표 - 트레이딩뷰\",\"link\":\"https://kr.tradingview.com/symbols/NASDAQ-AAPL/forecast/\",\"snippet\":\"분석가들에 따르면 AAPL의 목표 주가는 평균적으로 230.13 USD로, 최고 추정치는 308.00 USD, 최저 추정치는 141.00 USD입니다. 이 예측이 1년 동안 실현되는지 확인하고, ...\",\"position\":9}],\"relatedSearches\":[{\"query\":\"애플 1주 가격\"},{\"query\":\"애플 주가 전망\"},{\"query\":\"애플 1주 배당금\"},{\"query\":\"애플 주가 폭락\"},{\"query\":\"애플 주식 디시\"},{\"query\":\"아마존 주가\"},{\"query\":\"애플뮤직 차트\"},{\"query\":\"Apple\"}],\"credits\":1}\n"
     ]
    }
   ],
   "source": [
    "def multi_step_workflow(input_data):\n",
    "    # 첫 번째 단계: 웹 검색\n",
    "    search_result = search_tool.run(input_data)\n",
    "\n",
    "    # 두 번째 단계: 특정 조건을 만족하면 주식 가격 확인\n",
    "    if \"stock\" in input_data:\n",
    "        stock_price = stock_tool.run(input_data.split()[-1])\n",
    "        return f\"Search Result: {search_result}, Stock Price: {stock_price}\"\n",
    "    else:\n",
    "        return f\"Search Result: {search_result}\"\n",
    "\n",
    "# 워크플로우 실행 예시\n",
    "result = multi_step_workflow(\"AAPL 주식 가격은 얼마입니까?\")\n",
    "print(result)"
   ]
  },
  {
   "cell_type": "markdown",
   "metadata": {},
   "source": [
    "### 에이전트를 활용한 금융 데이터 실적 프로젝트\n",
    "\n",
    "에이전트 기술을 활용하여 금융 데이터 분석을 실제로 수행하는 방법을 알아보자.\n",
    "\n",
    "ReAct 및 RAG 에이전트 개념을 금융 분야에 적용하여 주식 시장의 데이터를 실시간으로 수집하고, 이를 분석에 활용하게 구현할 수 있다.\n",
    "\n",
    "이번 섹션에서는 RAG 에이전트의 단계적 활용과 함께 코드로 설명\n",
    "\n",
    "한 가지 유의할 점으로는 ReAct 에이전트가 API를 호출해도 LLM이 결국 결과룰 문장으로 정리할 때 잘못된 추론을 삽입할 수 있으니, LLM이 잘못된 결론을 제시하지 않도록 결과를 검증해야 한다."
   ]
  },
  {
   "cell_type": "markdown",
   "metadata": {},
   "source": [
    "#### 1. ReAct 에이전트를 사용한 금융 데이터 수집 및 분석\n",
    "\n",
    "데코레이터 @tool() 사용 설명\n",
    "- 등록: @tool() 데코레이터를 사용하여 함수를 ReAct 에이전트의 도구 목록에 등록\n",
    "- 호출 가능: 등록된 함수는 에이전트 실행 시 호출할 수 있는 도구로 인식\n",
    "- 자동화: 데이터 수집, 처리 등 반복적인 작업을 자동화하는 데 유용하다."
   ]
  },
  {
   "cell_type": "code",
   "execution_count": null,
   "metadata": {},
   "outputs": [],
   "source": [
    "# 함수 tool 지정 예시\n",
    "\n",
    "@tool()\n",
    "def get_company_profile(stock: str) -> str:\n",
    "    \"\"\"\n",
    "    주식 정보를 입력 받아 기업 정보를 반환합니다.\n",
    "       변수: stock (str): 검색하고자 하는 주식 정보\n",
    "       결과: JSON 포맷의 회사 프로필 정보\n",
    "    \"\"\""
   ]
  },
  {
   "cell_type": "code",
   "execution_count": 19,
   "metadata": {},
   "outputs": [],
   "source": [
    "import requests\n",
    "import json\n",
    "from langchain.agents import create_tool_calling_agent, AgentExecutor\n",
    "from langchain_core.prompts import ChatPromptTemplate\n",
    "from langchain_openai import ChatOpenAI\n",
    "from pydantic.v1 import BaseModel, Field, validator\n",
    "from langchain_core.tools import tool\n",
    "from langchain_core.messages import HumanMessage, ToolMessage\n",
    "from datetime import datetime"
   ]
  },
  {
   "cell_type": "code",
   "execution_count": 20,
   "metadata": {},
   "outputs": [],
   "source": [
    "# add pydantic\n",
    "class SearchInput(BaseModel):\n",
    "    stock: str = Field(description=\"Stock ticker to search for\")\n",
    "\n",
    "    @validator('stock')\n",
    "    def validate_stock(cls, v):\n",
    "        if not v.isalpha() or len(v) > 4:\n",
    "            raise ValueError('Stock ticker should only contain up to 4 alphabetic characters')\n",
    "        return v"
   ]
  },
  {
   "cell_type": "code",
   "execution_count": 21,
   "metadata": {},
   "outputs": [],
   "source": [
    "# add args_schema=SearchInput inside of the tool decorator\n",
    "@tool(args_schema=SearchInput)\n",
    "def get_company_profile(stock:str) -> str:\n",
    "    # 회사명, 섹터명, 기본 이름, 주식의 직원 수와 같은 세부 프로필 가져오기\n",
    "    \"\"\"\n",
    "    Get the company profile and ratings for a given stock ticker.\n",
    "\n",
    "    Args:\n",
    "        stock (str): The stock ticker symbol to search for.\n",
    "\n",
    "    Returns:\n",
    "        str: The company profile data in JSON format.\n",
    "    \"\"\"\n",
    "    api_key = os.getenv(\"rapid_api_key\")\n",
    "    url = \"https://seeking-alpha.p.rapidapi.com/symbols/get-ratings\"\n",
    "\n",
    "\n",
    "    querystring = {\"symbol\":stock.lower()}\n",
    "\n",
    "    headers = {\n",
    "        \"x-rapidapi-key\": api_key,\n",
    "        \"x-rapidapi-host\": \"seeking-alpha.p.rapidapi.com\"\n",
    "    }\n",
    "\n",
    "    response = requests.get(url, headers=headers, params=querystring)\n",
    "\n",
    "    if response.status_code == 200:\n",
    "        data = response.json()\n",
    "        result = json.dumps(data)\n",
    "    else:\n",
    "        raise ValueError(f\"No data for {stock}\")\n",
    "\n",
    "    return result"
   ]
  },
  {
   "cell_type": "code",
   "execution_count": 22,
   "metadata": {},
   "outputs": [
    {
     "name": "stderr",
     "output_type": "stream",
     "text": [
      "/tmp/ipykernel_145970/832491152.py:1: LangChainDeprecationWarning: The method `BaseTool.__call__` was deprecated in langchain-core 0.1.47 and will be removed in 1.0. Use :meth:`~invoke` instead.\n",
      "  get_company_profile('AAPL')\n"
     ]
    },
    {
     "data": {
      "text/plain": [
       "'{\"data\": [{\"id\": \"146,2025-05-12\", \"type\": \"rating\", \"attributes\": {\"asDate\": \"2025-05-12\", \"tickerId\": 146, \"ratings\": {\"authorsCount\": 40.0, \"authorsRating\": 2.875, \"authorsRatingBuyCount\": 9.0, \"authorsRatingBuyCount30Day\": 9.0, \"authorsRatingBuyCount90Day\": 21.0, \"authorsRatingHoldCount\": 15.0, \"authorsRatingHoldCount30Day\": 15.0, \"authorsRatingHoldCount90Day\": 29.0, \"authorsRatingSellCount\": 10.0, \"authorsRatingSellCount30Day\": 10.0, \"authorsRatingSellCount90Day\": 21.0, \"authorsRatingStrongBuyCount\": 2.0, \"authorsRatingStrongBuyCount30Day\": 2.0, \"authorsRatingStrongBuyCount90Day\": 3.0, \"authorsRatingStrongSellCount\": 4.0, \"authorsRatingStrongSellCount30Day\": 4.0, \"authorsRatingStrongSellCount90Day\": 6.0, \"quantRating\": 3.341780376868096, \"sellSideRating\": 3.91304, \"divConsistencyCategoryGrade\": 5, \"divGrowthCategoryGrade\": 1, \"divSafetyCategoryGrade\": 2, \"dividendYieldGrade\": 12, \"dpsRevisionsGrade\": 10, \"epsRevisionsGrade\": 9, \"growthGrade\": 11, \"momentumGrade\": 7, \"profitabilityGrade\": 1, \"valueGrade\": 13, \"yieldOnCostGrade\": 12}}, \"meta\": {\"is_locked\": null}}, {\"id\": \"146,2025-02-12\", \"type\": \"rating\", \"attributes\": {\"asDate\": \"2025-02-12\", \"tickerId\": 146, \"ratings\": {\"sellSideRating\": 3.93478, \"quantRating\": 3.440332572546462, \"authorsCount\": 33.0, \"authorsRatingStrongBuyCount\": 1.0, \"authorsRatingBuyCount\": 5.0, \"authorsRatingHoldCount\": 13.0, \"authorsRatingSellCount\": 11.0, \"authorsRatingStrongSellCount\": 3.0, \"authorsRating\": 2.69697, \"authorsRatingStrongBuyCount90Day\": 2.0, \"authorsRatingBuyCount90Day\": 6.0, \"authorsRatingHoldCount90Day\": 22.0, \"authorsRatingSellCount90Day\": 17.0, \"authorsRatingStrongSellCount90Day\": 4.0, \"authorsRatingStrongBuyCount30Day\": 1.0, \"authorsRatingBuyCount30Day\": 5.0, \"authorsRatingHoldCount30Day\": 13.0, \"authorsRatingSellCount30Day\": 11.0, \"authorsRatingStrongSellCount30Day\": 3.0, \"divSafetyCategoryGrade\": 1, \"divGrowthCategoryGrade\": 1, \"divConsistencyCategoryGrade\": 5, \"dividendYieldGrade\": 12, \"growthGrade\": 11, \"profitabilityGrade\": 1, \"momentumGrade\": 7, \"valueGrade\": 12, \"epsRevisionsGrade\": 9, \"dpsRevisionsGrade\": 8, \"yieldOnCostGrade\": 11}}, \"meta\": {\"is_locked\": null}}, {\"id\": \"146,2024-11-12\", \"type\": \"rating\", \"attributes\": {\"asDate\": \"2024-11-12\", \"tickerId\": 146, \"ratings\": {\"authorsCount\": 28.0, \"authorsRating\": 2.67857, \"authorsRatingBuyCount\": 4.0, \"authorsRatingBuyCount30Day\": 4.0, \"authorsRatingBuyCount90Day\": 10.0, \"authorsRatingHoldCount\": 11.0, \"authorsRatingHoldCount30Day\": 11.0, \"authorsRatingHoldCount90Day\": 27.0, \"authorsRatingSellCount\": 9.0, \"authorsRatingSellCount30Day\": 9.0, \"authorsRatingSellCount90Day\": 15.0, \"authorsRatingStrongBuyCount\": 1.0, \"authorsRatingStrongBuyCount30Day\": 1.0, \"authorsRatingStrongBuyCount90Day\": 3.0, \"authorsRatingStrongSellCount\": 3.0, \"authorsRatingStrongSellCount30Day\": 3.0, \"authorsRatingStrongSellCount90Day\": 4.0, \"quantRating\": 3.429510961214165, \"sellSideRating\": 4.10638, \"divConsistencyCategoryGrade\": 5, \"divGrowthCategoryGrade\": 1, \"divSafetyCategoryGrade\": 3, \"dividendYieldGrade\": 11, \"dpsRevisionsGrade\": 6, \"epsRevisionsGrade\": 9, \"growthGrade\": 11, \"momentumGrade\": 6, \"profitabilityGrade\": 1, \"valueGrade\": 12, \"yieldOnCostGrade\": 11}}, \"meta\": {\"is_locked\": null}}], \"meta\": {\"hasTodayRatings\": true}}'"
      ]
     },
     "execution_count": 22,
     "metadata": {},
     "output_type": "execute_result"
    }
   ],
   "source": [
    "get_company_profile('AAPL') # Apple Inc."
   ]
  },
  {
   "cell_type": "code",
   "execution_count": 24,
   "metadata": {},
   "outputs": [
    {
     "data": {
      "text/plain": [
       "'{\"errors\": [{\"code\": \"404\", \"detail\": \"Record Not Found\", \"status\": \"404\", \"title\": \"Record not found\"}]}'"
      ]
     },
     "execution_count": 24,
     "metadata": {},
     "output_type": "execute_result"
    }
   ],
   "source": [
    "get_company_profile('ssea')"
   ]
  },
  {
   "cell_type": "code",
   "execution_count": 25,
   "metadata": {},
   "outputs": [],
   "source": [
    "# 특정 주식의 경쟁사 정보 호출\n",
    "\n",
    "@tool(args_schema=SearchInput)\n",
    "def get_competitors(stock:str) -> str:\n",
    "    \"\"\"Get peers or competitors of a stock\"\"\"\n",
    "\n",
    "    api_key = os.getenv(\"rapid_api_key\")\n",
    "    url = \"https://seeking-alpha.p.rapidapi.com/symbols/get-peers\"\n",
    "\n",
    "    querystring = {\"symbol\":stock.lower()}\n",
    "\n",
    "    headers = {\n",
    "        \"x-rapidapi-key\": api_key,\n",
    "        \"x-rapidapi-host\": \"seeking-alpha.p.rapidapi.com\"\n",
    "    }\n",
    "\n",
    "    response = requests.get(url, headers=headers, params=querystring)\n",
    "\n",
    "    if response.status_code == 200:\n",
    "        data = response.json()\n",
    "        result = json.dumps(data)\n",
    "    else:\n",
    "        raise ValueError(f\"No data for {stock}\")\n",
    "\n",
    "    return result"
   ]
  },
  {
   "cell_type": "code",
   "execution_count": 26,
   "metadata": {},
   "outputs": [
    {
     "data": {
      "text/plain": [
       "'{\"data\": [{\"id\": \"584719\", \"type\": \"ticker\", \"attributes\": {\"slug\": \"xiacy\", \"name\": \"XIACY\", \"companyName\": \"Xiaomi Corporation\", \"equityType\": \"stocks\", \"indexGroup\": null, \"currency\": \"USD\", \"tradingViewSlug\": \"OTC:XIACY\", \"exchange\": \"Pink Current Info\", \"exchangeDescription\": null, \"company\": \"Xiaomi Corporation\", \"isBdc\": false, \"visible\": true, \"searchable\": true, \"private\": false, \"pending\": false, \"isDefunct\": false, \"followersCount\": 4761, \"fundTypeId\": 8, \"articleRtaCount\": 1, \"newsRtaCount\": 3, \"divYieldType\": null, \"mergedOn\": null, \"primaryEpsConsensusMeanType\": \"normalized\", \"isReit\": false, \"tickerType\": \"primary\"}, \"relationships\": {\"sector\": {\"data\": {\"id\": \"45\", \"type\": \"sector\"}}, \"subIndustry\": {\"data\": {\"id\": \"45202030\", \"type\": \"subIndustry\"}}}, \"meta\": {\"companyLogoUrlLight\": \"https://static.seekingalpha.com/cdn/s3/company_logos/mark_vector_light/XIACY.svg\", \"companyLogoUrlDark\": \"https://static.seekingalpha.com/cdn/s3/company_logos/mark_vector_dark/XIACY.svg\"}}, {\"id\": \"569700\", \"type\": \"ticker\", \"attributes\": {\"slug\": \"dell\", \"name\": \"DELL\", \"companyName\": \"Dell Technologies Inc.\", \"equityType\": \"stocks\", \"indexGroup\": null, \"currency\": \"USD\", \"tradingViewSlug\": \"NYSE:DELL\", \"exchange\": \"NYSE\", \"exchangeDescription\": null, \"company\": \"Dell Technologies Inc.\", \"isBdc\": false, \"visible\": true, \"searchable\": true, \"private\": false, \"pending\": false, \"isDefunct\": false, \"followersCount\": 103820, \"fundTypeId\": 0, \"articleRtaCount\": 6, \"newsRtaCount\": 14, \"divYieldType\": \"forward\", \"mergedOn\": null, \"primaryEpsConsensusMeanType\": \"normalized\", \"isReit\": false, \"tickerType\": \"primary\"}, \"relationships\": {\"sector\": {\"data\": {\"id\": \"45\", \"type\": \"sector\"}}, \"subIndustry\": {\"data\": {\"id\": \"45202030\", \"type\": \"subIndustry\"}}}, \"meta\": {\"companyLogoUrlLight\": \"https://static.seekingalpha.com/cdn/s3/company_logos/mark_vector_light/DELL.svg\", \"companyLogoUrlDark\": \"https://static.seekingalpha.com/cdn/s3/company_logos/mark_vector_dark/DELL.svg\"}}, {\"id\": \"933\", \"type\": \"ticker\", \"attributes\": {\"slug\": \"hpq\", \"name\": \"HPQ\", \"companyName\": \"HP Inc.\", \"equityType\": \"stocks\", \"indexGroup\": null, \"currency\": \"USD\", \"tradingViewSlug\": \"NYSE:HPQ\", \"exchange\": \"NYSE\", \"exchangeDescription\": null, \"company\": \"HP Inc.\", \"isBdc\": false, \"visible\": true, \"searchable\": true, \"private\": false, \"pending\": false, \"isDefunct\": false, \"followersCount\": 130859, \"fundTypeId\": 0, \"articleRtaCount\": 1, \"newsRtaCount\": 6, \"divYieldType\": \"forward\", \"mergedOn\": null, \"primaryEpsConsensusMeanType\": \"normalized\", \"isReit\": false, \"tickerType\": \"primary\"}, \"relationships\": {\"sector\": {\"data\": {\"id\": \"45\", \"type\": \"sector\"}}, \"subIndustry\": {\"data\": {\"id\": \"45202030\", \"type\": \"subIndustry\"}}}, \"meta\": {\"companyLogoUrlLight\": \"https://static.seekingalpha.com/cdn/s3/company_logos/mark_vector_light/HPQ.svg\", \"companyLogoUrlDark\": \"https://static.seekingalpha.com/cdn/s3/company_logos/mark_vector_dark/HPQ.svg\"}}, {\"id\": \"24828\", \"type\": \"ticker\", \"attributes\": {\"slug\": \"fujiy\", \"name\": \"FUJIY\", \"companyName\": \"FUJIFILM Holdings Corporation\", \"equityType\": \"stocks\", \"indexGroup\": null, \"currency\": \"USD\", \"tradingViewSlug\": \"OTC:FUJIY\", \"exchange\": \"Pink Limited Info\", \"exchangeDescription\": null, \"company\": \"FUJIFILM Holdings Corporation\", \"isBdc\": false, \"visible\": true, \"searchable\": true, \"private\": false, \"pending\": false, \"isDefunct\": false, \"followersCount\": 1822, \"fundTypeId\": 8, \"articleRtaCount\": 1, \"newsRtaCount\": 3, \"divYieldType\": \"historic\", \"mergedOn\": null, \"primaryEpsConsensusMeanType\": \"gaap\", \"isReit\": false, \"tickerType\": \"primary\"}, \"relationships\": {\"sector\": {\"data\": {\"id\": \"45\", \"type\": \"sector\"}}, \"subIndustry\": {\"data\": {\"id\": \"45202030\", \"type\": \"subIndustry\"}}}, \"meta\": {\"companyLogoUrlLight\": \"https://static.seekingalpha.com/cdn/s3/company_logos/mark_vector_light/FUJIY.svg\", \"companyLogoUrlDark\": \"https://static.seekingalpha.com/cdn/s3/company_logos/mark_vector_dark/FUJIY.svg\"}}, {\"id\": \"7098\", \"type\": \"ticker\", \"attributes\": {\"slug\": \"smci\", \"name\": \"SMCI\", \"companyName\": \"Super Micro Computer, Inc.\", \"equityType\": \"stocks\", \"indexGroup\": null, \"currency\": \"USD\", \"tradingViewSlug\": \"NASDAQ:SMCI\", \"exchange\": \"NASDAQ\", \"exchangeDescription\": null, \"company\": \"Super Micro Computer, Inc.\", \"isBdc\": false, \"visible\": true, \"searchable\": true, \"private\": false, \"pending\": false, \"isDefunct\": false, \"followersCount\": 136746, \"fundTypeId\": 0, \"articleRtaCount\": 30, \"newsRtaCount\": 37, \"divYieldType\": null, \"mergedOn\": null, \"primaryEpsConsensusMeanType\": \"normalized\", \"isReit\": false, \"tickerType\": \"primary\"}, \"relationships\": {\"sector\": {\"data\": {\"id\": \"45\", \"type\": \"sector\"}}, \"subIndustry\": {\"data\": {\"id\": \"45202030\", \"type\": \"subIndustry\"}}}, \"meta\": {\"companyLogoUrlLight\": \"https://static.seekingalpha.com/cdn/s3/company_logos/mark_vector_light/SMCI.svg\", \"companyLogoUrlDark\": \"https://static.seekingalpha.com/cdn/s3/company_logos/mark_vector_dark/SMCI.svg\"}}], \"included\": [{\"id\": \"45\", \"type\": \"sector\", \"attributes\": {\"name\": \"Information Technology\", \"quant_tickers_count\": 540}, \"meta\": {\"screener_links\": {\"self\": \"/screeners/9679329f-Top-Technology-Stocks\", \"canonical\": \"https://seekingalpha.com/screeners/9679329f-Top-Technology-Stocks\"}}}, {\"id\": \"45202030\", \"type\": \"sub_industry\", \"attributes\": {\"name\": \"Technology Hardware, Storage and Peripherals\", \"quant_tickers_count\": 27}, \"meta\": {\"screener_links\": {\"self\": \"/screeners/9409aed04c-Top-Technology-Hardware--Storage-and-Peripherals-Stocks\", \"canonical\": \"https://seekingalpha.com/screeners/9409aed04c-Top-Technology-Hardware--Storage-and-Peripherals-Stocks\"}}}], \"meta\": {\"isFund\": false}}'"
      ]
     },
     "execution_count": 26,
     "metadata": {},
     "output_type": "execute_result"
    }
   ],
   "source": [
    "get_competitors('AAPL')"
   ]
  },
  {
   "cell_type": "code",
   "execution_count": 27,
   "metadata": {},
   "outputs": [],
   "source": [
    "# 에이전트 생성\n",
    "\n",
    "prompt = ChatPromptTemplate.from_messages([\n",
    "    (\"system\", \"you're a helpful assistant\"),\n",
    "    (\"human\", \"{input}\"),\n",
    "    (\"placeholder\", \"{agent_scratchpad}\"),\n",
    "])\n",
    "\n",
    "tools = [get_company_profile, get_competitors]\n",
    "llm = ChatOpenAI(model_name = \"gpt-4o\", temperature = 0)\n",
    "agent = create_tool_calling_agent(llm, tools, prompt)\n",
    "agent_executor = AgentExecutor(agent=agent, tools=tools, verbose = True)"
   ]
  },
  {
   "cell_type": "code",
   "execution_count": 28,
   "metadata": {},
   "outputs": [
    {
     "name": "stdout",
     "output_type": "stream",
     "text": [
      "Question: 투자를 하려고 하는데 AAPL 이 뭐야?\n",
      "\n",
      "\n",
      "\u001b[1m> Entering new AgentExecutor chain...\u001b[0m\n",
      "\u001b[32;1m\u001b[1;3mAAPL은 Apple Inc.의 주식 티커(symbol)입니다. Apple Inc.는 미국의 다국적 기술 회사로, 주로 iPhone, iPad, Mac 컴퓨터, Apple Watch, 그리고 다양한 소프트웨어 및 서비스로 잘 알려져 있습니다. AAPL은 나스닥(NASDAQ) 증권 거래소에 상장되어 있으며, 많은 투자자들이 관심을 갖고 있는 주요 기술 주식 중 하나입니다. Apple의 회사 프로필이나 경쟁사에 대한 정보가 필요하시면 말씀해 주세요!\u001b[0m\n",
      "\n",
      "\u001b[1m> Finished chain.\u001b[0m\n",
      "Answer: AAPL은 Apple Inc.의 주식 티커(symbol)입니다. Apple Inc.는 미국의 다국적 기술 회사로, 주로 iPhone, iPad, Mac 컴퓨터, Apple Watch, 그리고 다양한 소프트웨어 및 서비스로 잘 알려져 있습니다. AAPL은 나스닥(NASDAQ) 증권 거래소에 상장되어 있으며, 많은 투자자들이 관심을 갖고 있는 주요 기술 주식 중 하나입니다. Apple의 회사 프로필이나 경쟁사에 대한 정보가 필요하시면 말씀해 주세요!\n"
     ]
    }
   ],
   "source": [
    "query = \"투자를 하려고 하는데 AAPL 이 뭐야?\"\n",
    "print(\"Question:\", query)\n",
    "result = agent_executor.invoke({\"input\": query})\n",
    "print(\"Answer:\",result['output'])"
   ]
  },
  {
   "cell_type": "code",
   "execution_count": 29,
   "metadata": {},
   "outputs": [
    {
     "name": "stdout",
     "output_type": "stream",
     "text": [
      "Question: 투자를 하려고 하는데 AAPL 이 뭐고 그 경쟁사은 어디야?\n",
      "\n",
      "\n",
      "\u001b[1m> Entering new AgentExecutor chain...\u001b[0m\n",
      "\u001b[32;1m\u001b[1;3m\n",
      "Invoking: `get_company_profile` with `{'stock': 'AAPL'}`\n",
      "\n",
      "\n",
      "\u001b[0m\u001b[36;1m\u001b[1;3m{\"data\": [{\"id\": \"146,2025-05-12\", \"type\": \"rating\", \"attributes\": {\"asDate\": \"2025-05-12\", \"tickerId\": 146, \"ratings\": {\"authorsCount\": 40.0, \"authorsRating\": 2.875, \"authorsRatingBuyCount\": 9.0, \"authorsRatingBuyCount30Day\": 9.0, \"authorsRatingBuyCount90Day\": 21.0, \"authorsRatingHoldCount\": 15.0, \"authorsRatingHoldCount30Day\": 15.0, \"authorsRatingHoldCount90Day\": 29.0, \"authorsRatingSellCount\": 10.0, \"authorsRatingSellCount30Day\": 10.0, \"authorsRatingSellCount90Day\": 21.0, \"authorsRatingStrongBuyCount\": 2.0, \"authorsRatingStrongBuyCount30Day\": 2.0, \"authorsRatingStrongBuyCount90Day\": 3.0, \"authorsRatingStrongSellCount\": 4.0, \"authorsRatingStrongSellCount30Day\": 4.0, \"authorsRatingStrongSellCount90Day\": 6.0, \"quantRating\": 3.341780376868096, \"sellSideRating\": 3.91304, \"divConsistencyCategoryGrade\": 5, \"divGrowthCategoryGrade\": 1, \"divSafetyCategoryGrade\": 2, \"dividendYieldGrade\": 12, \"dpsRevisionsGrade\": 10, \"epsRevisionsGrade\": 9, \"growthGrade\": 11, \"momentumGrade\": 7, \"profitabilityGrade\": 1, \"valueGrade\": 13, \"yieldOnCostGrade\": 12}}, \"meta\": {\"is_locked\": null}}, {\"id\": \"146,2025-02-12\", \"type\": \"rating\", \"attributes\": {\"asDate\": \"2025-02-12\", \"tickerId\": 146, \"ratings\": {\"sellSideRating\": 3.93478, \"quantRating\": 3.440332572546462, \"authorsCount\": 33.0, \"authorsRatingStrongBuyCount\": 1.0, \"authorsRatingBuyCount\": 5.0, \"authorsRatingHoldCount\": 13.0, \"authorsRatingSellCount\": 11.0, \"authorsRatingStrongSellCount\": 3.0, \"authorsRating\": 2.69697, \"authorsRatingStrongBuyCount90Day\": 2.0, \"authorsRatingBuyCount90Day\": 6.0, \"authorsRatingHoldCount90Day\": 22.0, \"authorsRatingSellCount90Day\": 17.0, \"authorsRatingStrongSellCount90Day\": 4.0, \"authorsRatingStrongBuyCount30Day\": 1.0, \"authorsRatingBuyCount30Day\": 5.0, \"authorsRatingHoldCount30Day\": 13.0, \"authorsRatingSellCount30Day\": 11.0, \"authorsRatingStrongSellCount30Day\": 3.0, \"divSafetyCategoryGrade\": 1, \"divGrowthCategoryGrade\": 1, \"divConsistencyCategoryGrade\": 5, \"dividendYieldGrade\": 12, \"growthGrade\": 11, \"profitabilityGrade\": 1, \"momentumGrade\": 7, \"valueGrade\": 12, \"epsRevisionsGrade\": 9, \"dpsRevisionsGrade\": 8, \"yieldOnCostGrade\": 11}}, \"meta\": {\"is_locked\": null}}, {\"id\": \"146,2024-11-12\", \"type\": \"rating\", \"attributes\": {\"asDate\": \"2024-11-12\", \"tickerId\": 146, \"ratings\": {\"authorsCount\": 28.0, \"authorsRating\": 2.67857, \"authorsRatingBuyCount\": 4.0, \"authorsRatingBuyCount30Day\": 4.0, \"authorsRatingBuyCount90Day\": 10.0, \"authorsRatingHoldCount\": 11.0, \"authorsRatingHoldCount30Day\": 11.0, \"authorsRatingHoldCount90Day\": 27.0, \"authorsRatingSellCount\": 9.0, \"authorsRatingSellCount30Day\": 9.0, \"authorsRatingSellCount90Day\": 15.0, \"authorsRatingStrongBuyCount\": 1.0, \"authorsRatingStrongBuyCount30Day\": 1.0, \"authorsRatingStrongBuyCount90Day\": 3.0, \"authorsRatingStrongSellCount\": 3.0, \"authorsRatingStrongSellCount30Day\": 3.0, \"authorsRatingStrongSellCount90Day\": 4.0, \"quantRating\": 3.429510961214165, \"sellSideRating\": 4.10638, \"divConsistencyCategoryGrade\": 5, \"divGrowthCategoryGrade\": 1, \"divSafetyCategoryGrade\": 3, \"dividendYieldGrade\": 11, \"dpsRevisionsGrade\": 6, \"epsRevisionsGrade\": 9, \"growthGrade\": 11, \"momentumGrade\": 6, \"profitabilityGrade\": 1, \"valueGrade\": 12, \"yieldOnCostGrade\": 11}}, \"meta\": {\"is_locked\": null}}], \"meta\": {\"hasTodayRatings\": true}}\u001b[0m\u001b[32;1m\u001b[1;3m\n",
      "Invoking: `get_competitors` with `{'stock': 'AAPL'}`\n",
      "\n",
      "\n",
      "\u001b[0m\u001b[33;1m\u001b[1;3m{\"data\": [{\"id\": \"584719\", \"type\": \"ticker\", \"attributes\": {\"slug\": \"xiacy\", \"name\": \"XIACY\", \"companyName\": \"Xiaomi Corporation\", \"equityType\": \"stocks\", \"indexGroup\": null, \"currency\": \"USD\", \"tradingViewSlug\": \"OTC:XIACY\", \"exchange\": \"Pink Current Info\", \"exchangeDescription\": null, \"company\": \"Xiaomi Corporation\", \"isBdc\": false, \"visible\": true, \"searchable\": true, \"private\": false, \"pending\": false, \"isDefunct\": false, \"followersCount\": 4761, \"fundTypeId\": 8, \"articleRtaCount\": 1, \"newsRtaCount\": 3, \"divYieldType\": null, \"mergedOn\": null, \"primaryEpsConsensusMeanType\": \"normalized\", \"isReit\": false, \"tickerType\": \"primary\"}, \"relationships\": {\"sector\": {\"data\": {\"id\": \"45\", \"type\": \"sector\"}}, \"subIndustry\": {\"data\": {\"id\": \"45202030\", \"type\": \"subIndustry\"}}}, \"meta\": {\"companyLogoUrlLight\": \"https://static.seekingalpha.com/cdn/s3/company_logos/mark_vector_light/XIACY.svg\", \"companyLogoUrlDark\": \"https://static.seekingalpha.com/cdn/s3/company_logos/mark_vector_dark/XIACY.svg\"}}, {\"id\": \"569700\", \"type\": \"ticker\", \"attributes\": {\"slug\": \"dell\", \"name\": \"DELL\", \"companyName\": \"Dell Technologies Inc.\", \"equityType\": \"stocks\", \"indexGroup\": null, \"currency\": \"USD\", \"tradingViewSlug\": \"NYSE:DELL\", \"exchange\": \"NYSE\", \"exchangeDescription\": null, \"company\": \"Dell Technologies Inc.\", \"isBdc\": false, \"visible\": true, \"searchable\": true, \"private\": false, \"pending\": false, \"isDefunct\": false, \"followersCount\": 103820, \"fundTypeId\": 0, \"articleRtaCount\": 6, \"newsRtaCount\": 14, \"divYieldType\": \"forward\", \"mergedOn\": null, \"primaryEpsConsensusMeanType\": \"normalized\", \"isReit\": false, \"tickerType\": \"primary\"}, \"relationships\": {\"sector\": {\"data\": {\"id\": \"45\", \"type\": \"sector\"}}, \"subIndustry\": {\"data\": {\"id\": \"45202030\", \"type\": \"subIndustry\"}}}, \"meta\": {\"companyLogoUrlLight\": \"https://static.seekingalpha.com/cdn/s3/company_logos/mark_vector_light/DELL.svg\", \"companyLogoUrlDark\": \"https://static.seekingalpha.com/cdn/s3/company_logos/mark_vector_dark/DELL.svg\"}}, {\"id\": \"933\", \"type\": \"ticker\", \"attributes\": {\"slug\": \"hpq\", \"name\": \"HPQ\", \"companyName\": \"HP Inc.\", \"equityType\": \"stocks\", \"indexGroup\": null, \"currency\": \"USD\", \"tradingViewSlug\": \"NYSE:HPQ\", \"exchange\": \"NYSE\", \"exchangeDescription\": null, \"company\": \"HP Inc.\", \"isBdc\": false, \"visible\": true, \"searchable\": true, \"private\": false, \"pending\": false, \"isDefunct\": false, \"followersCount\": 130859, \"fundTypeId\": 0, \"articleRtaCount\": 1, \"newsRtaCount\": 6, \"divYieldType\": \"forward\", \"mergedOn\": null, \"primaryEpsConsensusMeanType\": \"normalized\", \"isReit\": false, \"tickerType\": \"primary\"}, \"relationships\": {\"sector\": {\"data\": {\"id\": \"45\", \"type\": \"sector\"}}, \"subIndustry\": {\"data\": {\"id\": \"45202030\", \"type\": \"subIndustry\"}}}, \"meta\": {\"companyLogoUrlLight\": \"https://static.seekingalpha.com/cdn/s3/company_logos/mark_vector_light/HPQ.svg\", \"companyLogoUrlDark\": \"https://static.seekingalpha.com/cdn/s3/company_logos/mark_vector_dark/HPQ.svg\"}}, {\"id\": \"24828\", \"type\": \"ticker\", \"attributes\": {\"slug\": \"fujiy\", \"name\": \"FUJIY\", \"companyName\": \"FUJIFILM Holdings Corporation\", \"equityType\": \"stocks\", \"indexGroup\": null, \"currency\": \"USD\", \"tradingViewSlug\": \"OTC:FUJIY\", \"exchange\": \"Pink Limited Info\", \"exchangeDescription\": null, \"company\": \"FUJIFILM Holdings Corporation\", \"isBdc\": false, \"visible\": true, \"searchable\": true, \"private\": false, \"pending\": false, \"isDefunct\": false, \"followersCount\": 1822, \"fundTypeId\": 8, \"articleRtaCount\": 1, \"newsRtaCount\": 3, \"divYieldType\": \"historic\", \"mergedOn\": null, \"primaryEpsConsensusMeanType\": \"gaap\", \"isReit\": false, \"tickerType\": \"primary\"}, \"relationships\": {\"sector\": {\"data\": {\"id\": \"45\", \"type\": \"sector\"}}, \"subIndustry\": {\"data\": {\"id\": \"45202030\", \"type\": \"subIndustry\"}}}, \"meta\": {\"companyLogoUrlLight\": \"https://static.seekingalpha.com/cdn/s3/company_logos/mark_vector_light/FUJIY.svg\", \"companyLogoUrlDark\": \"https://static.seekingalpha.com/cdn/s3/company_logos/mark_vector_dark/FUJIY.svg\"}}, {\"id\": \"7098\", \"type\": \"ticker\", \"attributes\": {\"slug\": \"smci\", \"name\": \"SMCI\", \"companyName\": \"Super Micro Computer, Inc.\", \"equityType\": \"stocks\", \"indexGroup\": null, \"currency\": \"USD\", \"tradingViewSlug\": \"NASDAQ:SMCI\", \"exchange\": \"NASDAQ\", \"exchangeDescription\": null, \"company\": \"Super Micro Computer, Inc.\", \"isBdc\": false, \"visible\": true, \"searchable\": true, \"private\": false, \"pending\": false, \"isDefunct\": false, \"followersCount\": 136746, \"fundTypeId\": 0, \"articleRtaCount\": 30, \"newsRtaCount\": 37, \"divYieldType\": null, \"mergedOn\": null, \"primaryEpsConsensusMeanType\": \"normalized\", \"isReit\": false, \"tickerType\": \"primary\"}, \"relationships\": {\"sector\": {\"data\": {\"id\": \"45\", \"type\": \"sector\"}}, \"subIndustry\": {\"data\": {\"id\": \"45202030\", \"type\": \"subIndustry\"}}}, \"meta\": {\"companyLogoUrlLight\": \"https://static.seekingalpha.com/cdn/s3/company_logos/mark_vector_light/SMCI.svg\", \"companyLogoUrlDark\": \"https://static.seekingalpha.com/cdn/s3/company_logos/mark_vector_dark/SMCI.svg\"}}], \"included\": [{\"id\": \"45\", \"type\": \"sector\", \"attributes\": {\"name\": \"Information Technology\", \"quant_tickers_count\": 540}, \"meta\": {\"screener_links\": {\"self\": \"/screeners/9679329f-Top-Technology-Stocks\", \"canonical\": \"https://seekingalpha.com/screeners/9679329f-Top-Technology-Stocks\"}}}, {\"id\": \"45202030\", \"type\": \"sub_industry\", \"attributes\": {\"name\": \"Technology Hardware, Storage and Peripherals\", \"quant_tickers_count\": 27}, \"meta\": {\"screener_links\": {\"self\": \"/screeners/9409aed04c-Top-Technology-Hardware--Storage-and-Peripherals-Stocks\", \"canonical\": \"https://seekingalpha.com/screeners/9409aed04c-Top-Technology-Hardware--Storage-and-Peripherals-Stocks\"}}}], \"meta\": {\"isFund\": false}}\u001b[0m\u001b[32;1m\u001b[1;3mAAPL은 Apple Inc.의 주식 티커입니다. Apple은 정보 기술 분야의 주요 기업으로, 주로 기술 하드웨어, 저장 장치 및 주변기기를 제조합니다.\n",
      "\n",
      "### Apple Inc.의 최근 평점\n",
      "- **2025년 5월 12일**: \n",
      "  - 저자 평점: 2.875 (40명의 저자)\n",
      "  - 강력 매수: 2명, 매수: 9명, 보유: 15명, 매도: 10명, 강력 매도: 4명\n",
      "  - 수익성 등급: 1, 성장 등급: 11, 가치 등급: 13\n",
      "\n",
      "### Apple Inc.의 경쟁사\n",
      "1. **Xiaomi Corporation (XIACY)**\n",
      "   - 거래소: Pink Current Info\n",
      "   - [로고](https://static.seekingalpha.com/cdn/s3/company_logos/mark_vector_light/XIACY.svg)\n",
      "\n",
      "2. **Dell Technologies Inc. (DELL)**\n",
      "   - 거래소: NYSE\n",
      "   - [로고](https://static.seekingalpha.com/cdn/s3/company_logos/mark_vector_light/DELL.svg)\n",
      "\n",
      "3. **HP Inc. (HPQ)**\n",
      "   - 거래소: NYSE\n",
      "   - [로고](https://static.seekingalpha.com/cdn/s3/company_logos/mark_vector_light/HPQ.svg)\n",
      "\n",
      "4. **FUJIFILM Holdings Corporation (FUJIY)**\n",
      "   - 거래소: Pink Limited Info\n",
      "   - [로고](https://static.seekingalpha.com/cdn/s3/company_logos/mark_vector_light/FUJIY.svg)\n",
      "\n",
      "5. **Super Micro Computer, Inc. (SMCI)**\n",
      "   - 거래소: NASDAQ\n",
      "   - [로고](https://static.seekingalpha.com/cdn/s3/company_logos/mark_vector_light/SMCI.svg)\n",
      "\n",
      "이 정보가 투자 결정을 내리는 데 도움이 되길 바랍니다! 추가로 궁금한 점이 있으면 말씀해 주세요.\u001b[0m\n",
      "\n",
      "\u001b[1m> Finished chain.\u001b[0m\n",
      "Answer: AAPL은 Apple Inc.의 주식 티커입니다. Apple은 정보 기술 분야의 주요 기업으로, 주로 기술 하드웨어, 저장 장치 및 주변기기를 제조합니다.\n",
      "\n",
      "### Apple Inc.의 최근 평점\n",
      "- **2025년 5월 12일**: \n",
      "  - 저자 평점: 2.875 (40명의 저자)\n",
      "  - 강력 매수: 2명, 매수: 9명, 보유: 15명, 매도: 10명, 강력 매도: 4명\n",
      "  - 수익성 등급: 1, 성장 등급: 11, 가치 등급: 13\n",
      "\n",
      "### Apple Inc.의 경쟁사\n",
      "1. **Xiaomi Corporation (XIACY)**\n",
      "   - 거래소: Pink Current Info\n",
      "   - [로고](https://static.seekingalpha.com/cdn/s3/company_logos/mark_vector_light/XIACY.svg)\n",
      "\n",
      "2. **Dell Technologies Inc. (DELL)**\n",
      "   - 거래소: NYSE\n",
      "   - [로고](https://static.seekingalpha.com/cdn/s3/company_logos/mark_vector_light/DELL.svg)\n",
      "\n",
      "3. **HP Inc. (HPQ)**\n",
      "   - 거래소: NYSE\n",
      "   - [로고](https://static.seekingalpha.com/cdn/s3/company_logos/mark_vector_light/HPQ.svg)\n",
      "\n",
      "4. **FUJIFILM Holdings Corporation (FUJIY)**\n",
      "   - 거래소: Pink Limited Info\n",
      "   - [로고](https://static.seekingalpha.com/cdn/s3/company_logos/mark_vector_light/FUJIY.svg)\n",
      "\n",
      "5. **Super Micro Computer, Inc. (SMCI)**\n",
      "   - 거래소: NASDAQ\n",
      "   - [로고](https://static.seekingalpha.com/cdn/s3/company_logos/mark_vector_light/SMCI.svg)\n",
      "\n",
      "이 정보가 투자 결정을 내리는 데 도움이 되길 바랍니다! 추가로 궁금한 점이 있으면 말씀해 주세요.\n"
     ]
    }
   ],
   "source": [
    "query = \"투자를 하려고 하는데 AAPL 이 뭐고 그 경쟁사은 어디야?\"\n",
    "print(\"Question:\", query)\n",
    "result = agent_executor.invoke({\"input\": query})\n",
    "print(\"Answer:\",result['output'])"
   ]
  },
  {
   "cell_type": "markdown",
   "metadata": {},
   "source": [
    "#### 2. 검색 API를 통한 실시간 금융 시장 분석"
   ]
  },
  {
   "cell_type": "code",
   "execution_count": 30,
   "metadata": {},
   "outputs": [],
   "source": [
    "from pydantic.v1 import BaseModel, Field, validator\n",
    "from datetime import datetime\n",
    "from langchain_core.tools import StructuredTool\n",
    "from langchain_core.tools import ToolException"
   ]
  },
  {
   "cell_type": "code",
   "execution_count": 31,
   "metadata": {},
   "outputs": [],
   "source": [
    "# change ValueError to ToolException\n",
    "class SearchInput(BaseModel):\n",
    "    stock: str = Field(description=\"Stock ticker to search for\")\n",
    "\n",
    "    @validator('stock')\n",
    "    def validate_stock(cls, v):\n",
    "        if not v.isalpha() or len(v) > 4:\n",
    "            raise ToolException('Stock ticker should only contain up to 4 alphabetic characters')\n",
    "        return v"
   ]
  },
  {
   "cell_type": "code",
   "execution_count": 32,
   "metadata": {},
   "outputs": [],
   "source": [
    "# 기업 정보 검색 도구\n",
    "\n",
    "def get_company_profile(stock:str) -> str:\n",
    "    \"\"\"Get detail profile such as company name, sector name, primary name, number of employees of a stock\"\"\"\n",
    "\n",
    "    api_key = os.getenv(\"rapid_api_key\")\n",
    "    url = \"https://seeking-alpha.p.rapidapi.com/symbols/get-profile\"\n",
    "\n",
    "    querystring = {\"symbols\":stock.lower()}\n",
    "\n",
    "    headers = {\n",
    "        \"x-rapidapi-key\": api_key,\n",
    "        \"x-rapidapi-host\": \"seeking-alpha.p.rapidapi.com\"\n",
    "    }\n",
    "\n",
    "    response = requests.get(url, headers=headers, params=querystring)\n",
    "\n",
    "    if response.status_code == 200:\n",
    "        data = response.json()\n",
    "        result = json.dumps(data)\n",
    "    else:\n",
    "        raise ToolException(f\"No data for {stock}\")\n",
    "\n",
    "    return result"
   ]
  },
  {
   "cell_type": "code",
   "execution_count": 33,
   "metadata": {},
   "outputs": [
    {
     "data": {
      "text/plain": [
       "'{\"data\": [{\"id\": \"AAPL\", \"tickerId\": 146, \"attributes\": {\"longDesc\": \"Apple Inc. designs, manufactures, and markets smartphones, personal computers, tablets, wearables, and accessories worldwide. The company offers iPhone, a line of smartphones; Mac, a line of personal computers; iPad, a line of multi-purpose tablets; and wearables, home, and accessories comprising AirPods, Apple TV, Apple Watch, Beats products, and HomePod. It also provides AppleCare support and cloud services; and operates various platforms, including the App Store that allow customers to discover and download applications and digital content, such as books, music, video, games, and podcasts, as well as advertising services include third-party licensing arrangements and its own advertising platforms. In addition, the company offers various subscription-based services, such as Apple Arcade, a game subscription service; Apple Fitness+, a personalized fitness service; Apple Music, which offers users a curated listening experience with on-demand radio stations; Apple News+, a subscription news and magazine service; Apple TV+, which offers exclusive original content; Apple Card, a co-branded credit card; and Apple Pay, a cashless payment service, as well as licenses its intellectual property. The company serves consumers, and small and mid-sized businesses; and the education, enterprise, and government markets. It distributes third-party applications for its products through the App Store. The company also sells its products through its retail and online stores, and direct sales force; and third-party cellular network carriers, wholesalers, retailers, and resellers. Apple Inc. was founded in 1976 and is headquartered in Cupertino, California.\", \"sectorname\": \"Information Technology\", \"sectorgics\": 45, \"primaryname\": \"Technology Hardware, Storage and Peripherals\", \"primarygics\": 45202030, \"numberOfEmployees\": 164000.0, \"yearfounded\": 1976, \"streetaddress\": \"One Apple Park Way\", \"streetaddress2\": null, \"streetaddress3\": null, \"streetaddress4\": null, \"city\": \"Cupertino\", \"state\": \"CA\", \"zipcode\": \"95014\", \"country\": \"United States\", \"officephonevalue\": \"(408) 996-1010\", \"webpage\": \"www.apple.com\", \"companyName\": \"Apple Inc.\", \"marketCap\": 3171323934580.0, \"totalEnterprise\": 3136587934580.0, \"totAnalystsRecommendations\": 46.0, \"fy1UpRevisions\": 6.0, \"fy1DownRevisions\": 29.0, \"divYield\": 0.49, \"eps\": 6.428908, \"lastDaily\": {\"rtTime\": \"2025-05-15T20:00:00.000+00:00\", \"rtSource\": \"RealTimeQuote\", \"last\": 211.45, \"open\": 210.95, \"close\": 211.45, \"low\": 209.54, \"high\": 212.96, \"volume\": 45029473, \"volumeAt\": \"2025-05-15T20:00:00.000+00:00\", \"at\": \"2025-05-16T01:30:02.051-04:00\"}, \"estimateEps\": 7.1942, \"debtEq\": 146.9938, \"totDebtCap\": 59.5131, \"ltDebtEquity\": 117.6208, \"ltDebtCap\": 47.6209, \"totLiabTotAssets\": 79.8341, \"impliedMarketCap\": null, \"shortIntPctFloat\": null, \"divTimeFrame\": \"forward\", \"divRate\": 1.04, \"peRatioFwd\": 29.3917322287398, \"lastClosePriceEarningsRatio\": 33.1793464545385, \"estimateFfo\": null, \"ffoPerShareDiluted\": null, \"dilutedEpsExclExtraItems\": null, \"high52\": null, \"low52\": null}}]}'"
      ]
     },
     "execution_count": 33,
     "metadata": {},
     "output_type": "execute_result"
    }
   ],
   "source": [
    "get_company_profile('AAPL')"
   ]
  },
  {
   "cell_type": "code",
   "execution_count": 34,
   "metadata": {},
   "outputs": [],
   "source": [
    "# 경쟁사 조회 도구\n",
    "def get_competitors(stock:str) -> str:\n",
    "    \"\"\"Get peers or competitors of a stock\"\"\"\n",
    "\n",
    "    api_key = os.getenv(\"rapid_api_key\")\n",
    "    url = \"https://seeking-alpha.p.rapidapi.com/symbols/get-peers\"\n",
    "\n",
    "    querystring = {\"symbol\":stock.lower()}\n",
    "\n",
    "    headers = {\n",
    "        \"x-rapidapi-key\": api_key,\n",
    "        \"x-rapidapi-host\": \"seeking-alpha.p.rapidapi.com\"\n",
    "    }\n",
    "\n",
    "    response = requests.get(url, headers=headers, params=querystring)\n",
    "\n",
    "    if response.status_code == 200:\n",
    "        data = response.json()\n",
    "        result = json.dumps(data)\n",
    "    else:\n",
    "        raise ToolException(f\"No data for {stock}\")\n",
    "\n",
    "    return result"
   ]
  },
  {
   "cell_type": "code",
   "execution_count": 35,
   "metadata": {},
   "outputs": [],
   "source": [
    "# 에이전트 생성\n",
    "\n",
    "get_company_profile_tool = StructuredTool.from_function(\n",
    "    func=get_company_profile,\n",
    "    args_schema= SearchInput,\n",
    "    handle_tool_error=True, # add this\n",
    ")\n",
    "\n",
    "get_competitors_tool = StructuredTool.from_function(\n",
    "    func=get_competitors,\n",
    "    args_schema= SearchInput,\n",
    "    handle_tool_error=True, # add this\n",
    ")\n",
    "\n",
    "prompt = ChatPromptTemplate.from_messages([\n",
    "    (\"system\", \"you're a helpful assistant\"),\n",
    "    (\"human\", \"{input}\"),\n",
    "    (\"placeholder\", \"{agent_scratchpad}\"),\n",
    "])\n",
    "\n",
    "tools = [get_company_profile_tool, get_competitors_tool]\n",
    "\n",
    "agent = create_tool_calling_agent(llm, tools, prompt)\n",
    "agent_executor = AgentExecutor(agent=agent, tools=tools, verbose = True)"
   ]
  },
  {
   "cell_type": "code",
   "execution_count": 36,
   "metadata": {},
   "outputs": [
    {
     "name": "stdout",
     "output_type": "stream",
     "text": [
      "Question: 투자를 하려고 하는데 AAPL 이 뭐야?\n",
      "\n",
      "\n",
      "\u001b[1m> Entering new AgentExecutor chain...\u001b[0m\n",
      "\u001b[32;1m\u001b[1;3m\n",
      "Invoking: `get_company_profile` with `{'stock': 'AAPL'}`\n",
      "\n",
      "\n",
      "\u001b[0m\u001b[36;1m\u001b[1;3m{\"data\": [{\"id\": \"AAPL\", \"tickerId\": 146, \"attributes\": {\"longDesc\": \"Apple Inc. designs, manufactures, and markets smartphones, personal computers, tablets, wearables, and accessories worldwide. The company offers iPhone, a line of smartphones; Mac, a line of personal computers; iPad, a line of multi-purpose tablets; and wearables, home, and accessories comprising AirPods, Apple TV, Apple Watch, Beats products, and HomePod. It also provides AppleCare support and cloud services; and operates various platforms, including the App Store that allow customers to discover and download applications and digital content, such as books, music, video, games, and podcasts, as well as advertising services include third-party licensing arrangements and its own advertising platforms. In addition, the company offers various subscription-based services, such as Apple Arcade, a game subscription service; Apple Fitness+, a personalized fitness service; Apple Music, which offers users a curated listening experience with on-demand radio stations; Apple News+, a subscription news and magazine service; Apple TV+, which offers exclusive original content; Apple Card, a co-branded credit card; and Apple Pay, a cashless payment service, as well as licenses its intellectual property. The company serves consumers, and small and mid-sized businesses; and the education, enterprise, and government markets. It distributes third-party applications for its products through the App Store. The company also sells its products through its retail and online stores, and direct sales force; and third-party cellular network carriers, wholesalers, retailers, and resellers. Apple Inc. was founded in 1976 and is headquartered in Cupertino, California.\", \"sectorname\": \"Information Technology\", \"sectorgics\": 45, \"primaryname\": \"Technology Hardware, Storage and Peripherals\", \"primarygics\": 45202030, \"numberOfEmployees\": 164000.0, \"yearfounded\": 1976, \"streetaddress\": \"One Apple Park Way\", \"streetaddress2\": null, \"streetaddress3\": null, \"streetaddress4\": null, \"city\": \"Cupertino\", \"state\": \"CA\", \"zipcode\": \"95014\", \"country\": \"United States\", \"officephonevalue\": \"(408) 996-1010\", \"webpage\": \"www.apple.com\", \"companyName\": \"Apple Inc.\", \"marketCap\": 3171323934580.0, \"totalEnterprise\": 3136587934580.0, \"totAnalystsRecommendations\": 46.0, \"fy1UpRevisions\": 6.0, \"fy1DownRevisions\": 29.0, \"divYield\": 0.49, \"eps\": 6.428908, \"lastDaily\": {\"rtTime\": \"2025-05-15T20:00:00.000+00:00\", \"rtSource\": \"RealTimeQuote\", \"last\": 211.45, \"open\": 210.95, \"close\": 211.45, \"low\": 209.54, \"high\": 212.96, \"volume\": 45029473, \"volumeAt\": \"2025-05-15T20:00:00.000+00:00\", \"at\": \"2025-05-16T01:30:02.051-04:00\"}, \"estimateEps\": 7.1942, \"debtEq\": 146.9938, \"totDebtCap\": 59.5131, \"ltDebtEquity\": 117.6208, \"ltDebtCap\": 47.6209, \"totLiabTotAssets\": 79.8341, \"impliedMarketCap\": null, \"shortIntPctFloat\": null, \"divTimeFrame\": \"forward\", \"divRate\": 1.04, \"peRatioFwd\": 29.3917322287398, \"lastClosePriceEarningsRatio\": 33.1793464545385, \"estimateFfo\": null, \"ffoPerShareDiluted\": null, \"dilutedEpsExclExtraItems\": null, \"high52\": null, \"low52\": null}}]}\u001b[0m\u001b[32;1m\u001b[1;3m\n",
      "Invoking: `get_competitors` with `{'stock': 'AAPL'}`\n",
      "\n",
      "\n",
      "\u001b[0m\u001b[33;1m\u001b[1;3m{\"data\": [{\"id\": \"584719\", \"type\": \"ticker\", \"attributes\": {\"slug\": \"xiacy\", \"name\": \"XIACY\", \"companyName\": \"Xiaomi Corporation\", \"equityType\": \"stocks\", \"indexGroup\": null, \"currency\": \"USD\", \"tradingViewSlug\": \"OTC:XIACY\", \"exchange\": \"Pink Current Info\", \"exchangeDescription\": null, \"company\": \"Xiaomi Corporation\", \"isBdc\": false, \"visible\": true, \"searchable\": true, \"private\": false, \"pending\": false, \"isDefunct\": false, \"followersCount\": 4761, \"fundTypeId\": 8, \"articleRtaCount\": 1, \"newsRtaCount\": 3, \"divYieldType\": null, \"mergedOn\": null, \"primaryEpsConsensusMeanType\": \"normalized\", \"isReit\": false, \"tickerType\": \"primary\"}, \"relationships\": {\"sector\": {\"data\": {\"id\": \"45\", \"type\": \"sector\"}}, \"subIndustry\": {\"data\": {\"id\": \"45202030\", \"type\": \"subIndustry\"}}}, \"meta\": {\"companyLogoUrlLight\": \"https://static.seekingalpha.com/cdn/s3/company_logos/mark_vector_light/XIACY.svg\", \"companyLogoUrlDark\": \"https://static.seekingalpha.com/cdn/s3/company_logos/mark_vector_dark/XIACY.svg\"}}, {\"id\": \"569700\", \"type\": \"ticker\", \"attributes\": {\"slug\": \"dell\", \"name\": \"DELL\", \"companyName\": \"Dell Technologies Inc.\", \"equityType\": \"stocks\", \"indexGroup\": null, \"currency\": \"USD\", \"tradingViewSlug\": \"NYSE:DELL\", \"exchange\": \"NYSE\", \"exchangeDescription\": null, \"company\": \"Dell Technologies Inc.\", \"isBdc\": false, \"visible\": true, \"searchable\": true, \"private\": false, \"pending\": false, \"isDefunct\": false, \"followersCount\": 103820, \"fundTypeId\": 0, \"articleRtaCount\": 6, \"newsRtaCount\": 14, \"divYieldType\": \"forward\", \"mergedOn\": null, \"primaryEpsConsensusMeanType\": \"normalized\", \"isReit\": false, \"tickerType\": \"primary\"}, \"relationships\": {\"sector\": {\"data\": {\"id\": \"45\", \"type\": \"sector\"}}, \"subIndustry\": {\"data\": {\"id\": \"45202030\", \"type\": \"subIndustry\"}}}, \"meta\": {\"companyLogoUrlLight\": \"https://static.seekingalpha.com/cdn/s3/company_logos/mark_vector_light/DELL.svg\", \"companyLogoUrlDark\": \"https://static.seekingalpha.com/cdn/s3/company_logos/mark_vector_dark/DELL.svg\"}}, {\"id\": \"933\", \"type\": \"ticker\", \"attributes\": {\"slug\": \"hpq\", \"name\": \"HPQ\", \"companyName\": \"HP Inc.\", \"equityType\": \"stocks\", \"indexGroup\": null, \"currency\": \"USD\", \"tradingViewSlug\": \"NYSE:HPQ\", \"exchange\": \"NYSE\", \"exchangeDescription\": null, \"company\": \"HP Inc.\", \"isBdc\": false, \"visible\": true, \"searchable\": true, \"private\": false, \"pending\": false, \"isDefunct\": false, \"followersCount\": 130859, \"fundTypeId\": 0, \"articleRtaCount\": 1, \"newsRtaCount\": 6, \"divYieldType\": \"forward\", \"mergedOn\": null, \"primaryEpsConsensusMeanType\": \"normalized\", \"isReit\": false, \"tickerType\": \"primary\"}, \"relationships\": {\"sector\": {\"data\": {\"id\": \"45\", \"type\": \"sector\"}}, \"subIndustry\": {\"data\": {\"id\": \"45202030\", \"type\": \"subIndustry\"}}}, \"meta\": {\"companyLogoUrlLight\": \"https://static.seekingalpha.com/cdn/s3/company_logos/mark_vector_light/HPQ.svg\", \"companyLogoUrlDark\": \"https://static.seekingalpha.com/cdn/s3/company_logos/mark_vector_dark/HPQ.svg\"}}, {\"id\": \"24828\", \"type\": \"ticker\", \"attributes\": {\"slug\": \"fujiy\", \"name\": \"FUJIY\", \"companyName\": \"FUJIFILM Holdings Corporation\", \"equityType\": \"stocks\", \"indexGroup\": null, \"currency\": \"USD\", \"tradingViewSlug\": \"OTC:FUJIY\", \"exchange\": \"Pink Limited Info\", \"exchangeDescription\": null, \"company\": \"FUJIFILM Holdings Corporation\", \"isBdc\": false, \"visible\": true, \"searchable\": true, \"private\": false, \"pending\": false, \"isDefunct\": false, \"followersCount\": 1822, \"fundTypeId\": 8, \"articleRtaCount\": 1, \"newsRtaCount\": 3, \"divYieldType\": \"historic\", \"mergedOn\": null, \"primaryEpsConsensusMeanType\": \"gaap\", \"isReit\": false, \"tickerType\": \"primary\"}, \"relationships\": {\"sector\": {\"data\": {\"id\": \"45\", \"type\": \"sector\"}}, \"subIndustry\": {\"data\": {\"id\": \"45202030\", \"type\": \"subIndustry\"}}}, \"meta\": {\"companyLogoUrlLight\": \"https://static.seekingalpha.com/cdn/s3/company_logos/mark_vector_light/FUJIY.svg\", \"companyLogoUrlDark\": \"https://static.seekingalpha.com/cdn/s3/company_logos/mark_vector_dark/FUJIY.svg\"}}, {\"id\": \"7098\", \"type\": \"ticker\", \"attributes\": {\"slug\": \"smci\", \"name\": \"SMCI\", \"companyName\": \"Super Micro Computer, Inc.\", \"equityType\": \"stocks\", \"indexGroup\": null, \"currency\": \"USD\", \"tradingViewSlug\": \"NASDAQ:SMCI\", \"exchange\": \"NASDAQ\", \"exchangeDescription\": null, \"company\": \"Super Micro Computer, Inc.\", \"isBdc\": false, \"visible\": true, \"searchable\": true, \"private\": false, \"pending\": false, \"isDefunct\": false, \"followersCount\": 136746, \"fundTypeId\": 0, \"articleRtaCount\": 30, \"newsRtaCount\": 37, \"divYieldType\": null, \"mergedOn\": null, \"primaryEpsConsensusMeanType\": \"normalized\", \"isReit\": false, \"tickerType\": \"primary\"}, \"relationships\": {\"sector\": {\"data\": {\"id\": \"45\", \"type\": \"sector\"}}, \"subIndustry\": {\"data\": {\"id\": \"45202030\", \"type\": \"subIndustry\"}}}, \"meta\": {\"companyLogoUrlLight\": \"https://static.seekingalpha.com/cdn/s3/company_logos/mark_vector_light/SMCI.svg\", \"companyLogoUrlDark\": \"https://static.seekingalpha.com/cdn/s3/company_logos/mark_vector_dark/SMCI.svg\"}}], \"included\": [{\"id\": \"45\", \"type\": \"sector\", \"attributes\": {\"name\": \"Information Technology\", \"quant_tickers_count\": 540}, \"meta\": {\"screener_links\": {\"self\": \"/screeners/9679329f-Top-Technology-Stocks\", \"canonical\": \"https://seekingalpha.com/screeners/9679329f-Top-Technology-Stocks\"}}}, {\"id\": \"45202030\", \"type\": \"sub_industry\", \"attributes\": {\"name\": \"Technology Hardware, Storage and Peripherals\", \"quant_tickers_count\": 27}, \"meta\": {\"screener_links\": {\"self\": \"/screeners/9409aed04c-Top-Technology-Hardware--Storage-and-Peripherals-Stocks\", \"canonical\": \"https://seekingalpha.com/screeners/9409aed04c-Top-Technology-Hardware--Storage-and-Peripherals-Stocks\"}}}], \"meta\": {\"isFund\": false}}\u001b[0m\u001b[32;1m\u001b[1;3mAAPL은 Apple Inc.의 주식 티커입니다. Apple Inc.는 전 세계적으로 스마트폰, 개인용 컴퓨터, 태블릿, 웨어러블 및 액세서리를 설계, 제조 및 판매하는 회사입니다. 주요 제품으로는 iPhone, Mac, iPad, AirPods, Apple TV, Apple Watch 등이 있으며, AppleCare 지원 및 클라우드 서비스도 제공합니다. 또한, App Store를 통해 다양한 애플리케이션과 디지털 콘텐츠를 제공하고 있습니다. Apple은 1976년에 설립되었으며, 본사는 캘리포니아주 쿠퍼티노에 위치하고 있습니다. 현재 약 164,000명의 직원을 두고 있습니다.\n",
      "\n",
      "Apple의 주요 경쟁사로는 다음과 같은 기업들이 있습니다:\n",
      "- **Xiaomi Corporation (XIACY)**\n",
      "- **Dell Technologies Inc. (DELL)**\n",
      "- **HP Inc. (HPQ)**\n",
      "- **FUJIFILM Holdings Corporation (FUJIY)**\n",
      "- **Super Micro Computer, Inc. (SMCI)**\n",
      "\n",
      "이 기업들은 모두 정보 기술 분야에서 활동하며, Apple과 유사한 제품 및 서비스를 제공합니다.\u001b[0m\n",
      "\n",
      "\u001b[1m> Finished chain.\u001b[0m\n",
      "Answer: AAPL은 Apple Inc.의 주식 티커입니다. Apple Inc.는 전 세계적으로 스마트폰, 개인용 컴퓨터, 태블릿, 웨어러블 및 액세서리를 설계, 제조 및 판매하는 회사입니다. 주요 제품으로는 iPhone, Mac, iPad, AirPods, Apple TV, Apple Watch 등이 있으며, AppleCare 지원 및 클라우드 서비스도 제공합니다. 또한, App Store를 통해 다양한 애플리케이션과 디지털 콘텐츠를 제공하고 있습니다. Apple은 1976년에 설립되었으며, 본사는 캘리포니아주 쿠퍼티노에 위치하고 있습니다. 현재 약 164,000명의 직원을 두고 있습니다.\n",
      "\n",
      "Apple의 주요 경쟁사로는 다음과 같은 기업들이 있습니다:\n",
      "- **Xiaomi Corporation (XIACY)**\n",
      "- **Dell Technologies Inc. (DELL)**\n",
      "- **HP Inc. (HPQ)**\n",
      "- **FUJIFILM Holdings Corporation (FUJIY)**\n",
      "- **Super Micro Computer, Inc. (SMCI)**\n",
      "\n",
      "이 기업들은 모두 정보 기술 분야에서 활동하며, Apple과 유사한 제품 및 서비스를 제공합니다.\n"
     ]
    }
   ],
   "source": [
    "query = \"투자를 하려고 하는데 AAPL 이 뭐야?\"\n",
    "print(\"Question:\", query)\n",
    "result = agent_executor.invoke({\"input\": query})\n",
    "print(\"Answer:\",result['output'])"
   ]
  },
  {
   "cell_type": "code",
   "execution_count": 37,
   "metadata": {},
   "outputs": [
    {
     "name": "stdout",
     "output_type": "stream",
     "text": [
      "{'people': [{'id': 51516124, 'type': 'user', 'score': 932.25256, 'url': '/user/51516124', 'name': 'Tim <b>Apple</b>', 'slug': 'tim-apple'}, {'id': 30855475, 'type': 'user', 'score': 561.6426, 'url': '/user/30855475', 'name': '<b>Apple</b> Eye', 'slug': 'apple-eye'}, {'id': 51054234, 'type': 'user', 'score': 508.1606, 'url': '/user/51054234', 'name': 'pine-<b>apple</b>', 'slug': 'pine-apple'}, {'id': 107710, 'type': 'author', 'score': 183.82385, 'url': '/author/appleseed-fund', 'name': '<b>Appleseed</b> Fund', 'slug': 'appleseed-fund'}, {'id': 102870, 'type': 'author', 'score': 108.808876, 'url': '/author/victor-dergunov', 'name': 'Victor Dergunov', 'slug': 'victor-dergunov'}], 'symbols': [{'id': 146, 'type': 'symbol', 'score': 32103.209, 'url': '/symbol/AAPL', 'name': 'AAPL', 'content': '<b>Apple</b> Inc.', 'slug': 'aapl'}, {'id': 513836, 'type': 'symbol', 'score': 21140.443, 'url': '/symbol/APLE', 'name': 'APLE', 'content': '<b>Apple</b> Hospitality REIT, Inc.', 'slug': 'aple'}, {'id': 764528, 'type': 'symbol', 'score': 14847.761, 'url': '/symbol/AAPL:CA', 'name': 'AAPL:CA', 'content': '<b>Apple</b> Inc.', 'slug': 'aapl:ca'}, {'id': 20465, 'type': 'symbol', 'score': 13814.436, 'url': '/symbol/APRU', 'name': 'APRU', 'content': '<b>Apple</b> Rush Company, Inc.', 'slug': 'apru'}, {'id': 24895, 'type': 'symbol', 'score': 12397.9375, 'url': '/symbol/GAPJ', 'name': 'GAPJ', 'content': 'Golden <b>Apple</b> Oil & Gas Inc.', 'slug': 'gapj'}], 'pages': [{'id': 332, 'type': 'page', 'score': 2760.8638, 'url': 'comparison/9e-FAANG-Stocks', 'name': 'FAANG Stocks Comparison'}]}\n"
     ]
    }
   ],
   "source": [
    "# 실시간 주식 정보 조회 API 테스트\n",
    "\n",
    "import requests\n",
    "\n",
    "url = \"https://seeking-alpha.p.rapidapi.com/v2/auto-complete\"\n",
    "\n",
    "querystring = {\"query\":\"apple\",\"type\":\"people,symbols,pages\",\"size\":\"5\"}\n",
    "\n",
    "headers = {\n",
    "\t\"x-rapidapi-key\": \"58c32f5dd8mshc7da181b67a6bcep110a60jsnbea62f8b288b\",\n",
    "\t\"x-rapidapi-host\": \"seeking-alpha.p.rapidapi.com\"\n",
    "}\n",
    "\n",
    "response = requests.get(url, headers=headers, params=querystring)\n",
    "\n",
    "print(response.json())"
   ]
  },
  {
   "cell_type": "code",
   "execution_count": 38,
   "metadata": {},
   "outputs": [],
   "source": [
    "# 주식 정보 조회 도구 \n",
    "def get_stock_symbol(query: str) -> str:\n",
    "    url = \"https://seeking-alpha.p.rapidapi.com/v2/auto-complete\"\n",
    "    querystring = {\"query\":query,\"type\":\"people,symbols,pages\",\"size\":\"5\"}\n",
    "    # 기업명 기반으로 주식 정보를 가져오기 위한 함수\n",
    "    headers = {\n",
    "        \"x-rapidapi-key\": os.getenv(\"rapid_api_key\"),\n",
    "        \"x-rapidapi-host\": \"seeking-alpha.p.rapidapi.com\"\n",
    "    }\n",
    "\n",
    "    response = requests.get(url, headers=headers, params=querystring)\n",
    "\n",
    "    if response.status_code == 200:\n",
    "        data = response.json()\n",
    "        print(data)\n",
    "        # 첫 번째 결과의 심볼 반환\n",
    "        if \"symbols\" in data and len(data[\"symbols\"]) > 0:\n",
    "            symbol = data['symbols'][0]['name']\n",
    "            s_id = data['symbols'][0]['id']\n",
    "            return symbol, s_id\n",
    "        else:\n",
    "            return None\n",
    "    else:\n",
    "        print(response)\n",
    "        raise Exception(f\"Failed to fetch stock symbol: {response.status_code}\")"
   ]
  },
  {
   "cell_type": "code",
   "execution_count": 39,
   "metadata": {},
   "outputs": [
    {
     "name": "stdout",
     "output_type": "stream",
     "text": [
      "{'people': [{'id': 51516124, 'type': 'user', 'score': 942.1623, 'url': '/user/51516124', 'name': 'Tim <b>Apple</b>', 'slug': 'tim-apple'}, {'id': 30855475, 'type': 'user', 'score': 567.6128, 'url': '/user/30855475', 'name': '<b>Apple</b> Eye', 'slug': 'apple-eye'}, {'id': 51054234, 'type': 'user', 'score': 513.5437, 'url': '/user/51054234', 'name': 'pine-<b>apple</b>', 'slug': 'pine-apple'}, {'id': 107710, 'type': 'author', 'score': 183.37286, 'url': '/author/appleseed-fund', 'name': '<b>Appleseed</b> Fund', 'slug': 'appleseed-fund'}, {'id': 102870, 'type': 'author', 'score': 108.37248, 'url': '/author/victor-dergunov', 'name': 'Victor Dergunov', 'slug': 'victor-dergunov'}], 'symbols': [{'id': 146, 'type': 'symbol', 'score': 32103.209, 'url': '/symbol/AAPL', 'name': 'AAPL', 'content': '<b>Apple</b> Inc.', 'slug': 'aapl'}, {'id': 513836, 'type': 'symbol', 'score': 21140.443, 'url': '/symbol/APLE', 'name': 'APLE', 'content': '<b>Apple</b> Hospitality REIT, Inc.', 'slug': 'aple'}, {'id': 764528, 'type': 'symbol', 'score': 14847.761, 'url': '/symbol/AAPL:CA', 'name': 'AAPL:CA', 'content': '<b>Apple</b> Inc.', 'slug': 'aapl:ca'}, {'id': 20465, 'type': 'symbol', 'score': 13814.436, 'url': '/symbol/APRU', 'name': 'APRU', 'content': '<b>Apple</b> Rush Company, Inc.', 'slug': 'apru'}, {'id': 24895, 'type': 'symbol', 'score': 12397.9375, 'url': '/symbol/GAPJ', 'name': 'GAPJ', 'content': 'Golden <b>Apple</b> Oil & Gas Inc.', 'slug': 'gapj'}], 'pages': [{'id': 332, 'type': 'page', 'score': 2760.8638, 'url': 'comparison/9e-FAANG-Stocks', 'name': 'FAANG Stocks Comparison'}]}\n"
     ]
    },
    {
     "data": {
      "text/plain": [
       "('AAPL', 146)"
      ]
     },
     "execution_count": 39,
     "metadata": {},
     "output_type": "execute_result"
    }
   ],
   "source": [
    "get_stock_symbol(\"Apple\")"
   ]
  },
  {
   "cell_type": "code",
   "execution_count": 40,
   "metadata": {},
   "outputs": [],
   "source": [
    "# 실시간 주식 정보 조회\n",
    "def get_realtime_stock_price(symbol: str) -> dict:\n",
    "    url = \"https://seeking-alpha.p.rapidapi.com/market/get-realtime-quotes\"\n",
    "    querystring = {\"sa_ids\": symbol}\n",
    "    '''회사의 최신 주가 확인하기'''\n",
    "    headers = {\n",
    "        \"x-rapidapi-key\": os.getenv(\"rapid_api_key\"),\n",
    "        \"x-rapidapi-host\": \"seeking-alpha.p.rapidapi.com\"\n",
    "    }\n",
    "\n",
    "    response = requests.get(url, headers=headers, params=querystring)\n",
    "\n",
    "    if response.status_code == 200:\n",
    "        data = response.json()\n",
    "        return data.get(\"real_time_quotes\", {})\n",
    "    else:\n",
    "        raise Exception(f\"실시간 데이터 가져오기에 실패했습니다: {response.status_code}\")"
   ]
  },
  {
   "cell_type": "code",
   "execution_count": 41,
   "metadata": {},
   "outputs": [
    {
     "data": {
      "text/plain": [
       "[{'ticker_id': 146,\n",
       "  'sa_id': 146,\n",
       "  'sa_slug': 'aapl',\n",
       "  'symbol': 'AAPL',\n",
       "  'high': 212.57,\n",
       "  'low': 209.77,\n",
       "  'open': 212.36,\n",
       "  'close': 211.26,\n",
       "  'prev_close': 211.45,\n",
       "  'last': 211.26,\n",
       "  'volume': 54737850,\n",
       "  'last_time': '2025-05-16T16:00:00.000-04:00',\n",
       "  'ext_time': '2025-05-16T19:59:55.000-04:00',\n",
       "  'ext_price': 207.93,\n",
       "  'ext_market': 'post',\n",
       "  'info': 'Market Close',\n",
       "  'src': 'UpdateLastQuote',\n",
       "  'updated_at': '2025-05-16T21:20:37.274-04:00'}]"
      ]
     },
     "execution_count": 41,
     "metadata": {},
     "output_type": "execute_result"
    }
   ],
   "source": [
    "get_realtime_stock_price('146')"
   ]
  },
  {
   "cell_type": "code",
   "execution_count": 42,
   "metadata": {},
   "outputs": [],
   "source": [
    "# 실시간 주식 정보를 조회하는 fetch 함수\n",
    "def fetch_stock_price(query: str) -> str:\n",
    "    try:\n",
    "        # 1: 주식 심볼 추출\n",
    "        symbol,s_id = get_stock_symbol(query)\n",
    "        print(symbol,s_id)\n",
    "        if not symbol:\n",
    "            return f\"'{query}'에 대한 심볼을 찾을 수 없습니다.\"\n",
    "\n",
    "        # 2: 실시간 주식 가격 추출\n",
    "        stock_data = get_realtime_stock_price(s_id)\n",
    "        if not stock_data:\n",
    "            return f\"실시간 데이터를 사용할 수 없습니다: '{symbol}'.\"\n",
    "\n",
    "        # 관련 값 추출\n",
    "        price = stock_data[0].get(\"last\", \"N/A\")\n",
    "        return f\"{symbol}의 현재 가격은 ${price}입니다.\"\n",
    "    except Exception as e:\n",
    "        return str(e)"
   ]
  },
  {
   "cell_type": "code",
   "execution_count": 43,
   "metadata": {},
   "outputs": [
    {
     "name": "stdout",
     "output_type": "stream",
     "text": [
      "{'people': [{'id': 386, 'type': 'author_research', 'score': 5691.061, 'url': '/mp/386-yield-hunting-alt-inc-opps', 'name': 'Yield Hunting: Alt <b>Inc</b> Opps - Alpha Gen Capital', 'slug': None}, {'id': 1363, 'type': 'author_research', 'score': 2807.6462, 'url': '/mp/1363-conservative-income-portfolio', 'name': 'Conservative <b>Income</b> Portfolio - Trapping Value', 'slug': None}, {'id': 1189, 'type': 'author_research', 'score': 2765.1072, 'url': '/mp/1189-high-income-diy-portfolios', 'name': 'High <b>Income</b> DIY Portfolios - Financially Free Investor', 'slug': None}, {'id': 1336, 'type': 'author_research', 'score': 2655.477, 'url': '/mp/1336-portfolio-income-solutions', 'name': 'Portfolio <b>Income</b> Solutions - Dane Bowler', 'slug': None}, {'id': 1356, 'type': 'author_research', 'score': 2578.475, 'url': '/mp/1356-inside-the-income-factory', 'name': 'Inside the <b>Income</b> Factory - Steven Bavaria', 'slug': None}], 'symbols': [{'id': 146, 'type': 'symbol', 'score': 220776.1, 'url': '/symbol/AAPL', 'name': 'AAPL', 'content': '<b>Apple Inc.</b>', 'slug': 'aapl'}, {'id': 513836, 'type': 'symbol', 'score': 127764.91, 'url': '/symbol/APLE', 'name': 'APLE', 'content': '<b>Apple</b> Hospitality REIT, <b>Inc.</b>', 'slug': 'aple'}, {'id': 764528, 'type': 'symbol', 'score': 102109.125, 'url': '/symbol/AAPL:CA', 'name': 'AAPL:CA', 'content': '<b>Apple Inc.</b>', 'slug': 'aapl:ca'}, {'id': 20465, 'type': 'symbol', 'score': 82219.5, 'url': '/symbol/APRU', 'name': 'APRU', 'content': '<b>Apple</b> Rush Company, <b>Inc.</b>', 'slug': 'apru'}, {'id': 24895, 'type': 'symbol', 'score': 75383.37, 'url': '/symbol/GAPJ', 'name': 'GAPJ', 'content': 'Golden <b>Apple</b> Oil & Gas <b>Inc.</b>', 'slug': 'gapj'}], 'pages': [{'id': 41, 'type': 'page', 'score': 17086.1, 'url': 'investing-strategy/fixed-income', 'name': 'Fixed <b>Income</b> Analysis'}, {'id': 332, 'type': 'page', 'score': 2760.8638, 'url': 'comparison/9e-FAANG-Stocks', 'name': 'FAANG Stocks Comparison'}]}\n",
      "AAPL 146\n"
     ]
    },
    {
     "data": {
      "text/plain": [
       "'AAPL의 현재 가격은 $211.26입니다.'"
      ]
     },
     "execution_count": 43,
     "metadata": {},
     "output_type": "execute_result"
    }
   ],
   "source": [
    "fetch_stock_price(\"Apple Inc.\")"
   ]
  },
  {
   "cell_type": "markdown",
   "metadata": {},
   "source": [
    "실시간 주가 모니터링 시스템 구현\n",
    "\n",
    "특정 주식의 실시간 가격 변동을 모니터링하고, 이를 바탕으로 매수/매도 결정을 내릴 수 있도록 검색 API를 통해 특정 주식의 실시간 가격 데이터를 가져와서 설정된 가격 임계값에 도달했을 때 알림을 발생시킬 수 있다."
   ]
  },
  {
   "cell_type": "code",
   "execution_count": 44,
   "metadata": {},
   "outputs": [],
   "source": [
    "# 주식 가격 모니터링\n",
    "def monitor_stock_price(stock: str, threshold: float):\n",
    "    price_info = fetch_stock_price(stock)\n",
    "    current_price = float(price_info.split('$')[-1].split('.')[0])\n",
    "\n",
    "    if current_price >= threshold:\n",
    "        print(f\"{stock} 주가가 ${threshold} 이상입니다. 현재 주가: ${current_price}. 매도 고려하세요.\")\n",
    "    else:\n",
    "        print(f\"{stock} 주가가 ${threshold} 이하입니다. 현재 주가: ${current_price}. 매수 고려하세요.\")"
   ]
  },
  {
   "cell_type": "code",
   "execution_count": 45,
   "metadata": {},
   "outputs": [
    {
     "name": "stdout",
     "output_type": "stream",
     "text": [
      "{'people': [{'id': 43904656, 'type': 'user', 'score': 2189.4097, 'url': '/user/43904656', 'name': 'All*<b>AAPL</b>', 'slug': 'all-aapl'}, {'id': 83926, 'type': 'author', 'score': 69.70445, 'url': '/author/mark-kusnir', 'name': 'Mark Kusnir', 'slug': 'mark-kusnir'}, {'id': 104905, 'type': 'author', 'score': 66.9439, 'url': '/author/niki-schranz', 'name': 'Niki Schranz', 'slug': 'niki-schranz'}, {'id': 51312, 'type': 'author', 'score': 23.754364, 'url': '/author/jim-wallingford', 'name': 'Jim Wallingford', 'slug': 'jim-wallingford'}, {'id': 98186, 'type': 'author', 'score': 20.279146, 'url': '/author/dividend-nut', 'name': 'Dividend Nut', 'slug': 'dividend-nut'}], 'symbols': [{'id': 146, 'type': 'symbol', 'score': 827402.94, 'url': '/symbol/AAPL', 'name': '<b>AAPL</b>', 'content': 'Apple Inc.', 'slug': 'aapl'}, {'id': 764528, 'type': 'symbol', 'score': 18794.201, 'url': '/symbol/AAPL:CA', 'name': '<b>AAPL:CA</b>', 'content': 'Apple Inc.', 'slug': 'aapl:ca'}, {'id': 719409, 'type': 'symbol', 'score': 16926.807, 'url': '/symbol/APLY', 'name': 'APLY', 'content': 'YieldMax <b>AAPL</b> Option Income Strategy ETF', 'slug': 'aply'}, {'id': 631483, 'type': 'symbol', 'score': 14094.695, 'url': '/symbol/AAPU', 'name': 'AAPU', 'content': 'Direxion Daily <b>AAPL</b> Bull 2X Shares ETF', 'slug': 'aapu'}, {'id': 631242, 'type': 'symbol', 'score': 13188.736, 'url': '/symbol/AAPB', 'name': 'AAPB', 'content': 'GraniteShares 2x Long <b>AAPL</b> Daily ETF', 'slug': 'aapb'}], 'pages': [{'id': 223, 'type': 'page', 'score': 4304.2393, 'url': 'symbol/AAPL/income-statement', 'name': 'AAPL Income Statement'}, {'id': 259, 'type': 'page', 'score': 4304.2393, 'url': 'symbol/AAPL/ratings/quant-ratings', 'name': 'AAPL Quant Rating'}, {'id': 224, 'type': 'page', 'score': 4005.4075, 'url': 'symbol/AAPL/earnings', 'name': 'AAPL Earnings'}, {'id': 341, 'type': 'page', 'score': 3708.7405, 'url': 'symbol/AAPL/dividends/history', 'name': 'AAPL Dividend History'}, {'id': 222, 'type': 'page', 'score': 2009.6002, 'url': 'symbol/AAPL/balance-sheet', 'name': 'AAPL Balance Sheet'}]}\n",
      "<b>AAPL</b> 146\n",
      "AAPL 주가가 $200.0 이상입니다. 현재 주가: $211.0. 매도 고려하세요.\n"
     ]
    }
   ],
   "source": [
    "# Example Usage\n",
    "monitor_stock_price(\"AAPL\", 200.00)"
   ]
  },
  {
   "cell_type": "markdown",
   "metadata": {},
   "source": [
    "#### 3. ReAct 에이전트를 통한 통합 분석\n",
    "\n",
    "통합 분석 프로세스는 실시간 데이터를 수집하고 분석하여 투자 전략을 도출하는 전체 절차를 말한다.\n",
    "\n",
    "최신 뉴스와 주가 변동성을 분석하고, 이를 바탕으로 투자 전략을 수립하는 방법을 구현해보자."
   ]
  },
  {
   "cell_type": "code",
   "execution_count": 46,
   "metadata": {},
   "outputs": [
    {
     "data": {
      "text/plain": [
       "True"
      ]
     },
     "execution_count": 46,
     "metadata": {},
     "output_type": "execute_result"
    }
   ],
   "source": [
    "from dotenv import load_dotenv\n",
    "load_dotenv()"
   ]
  },
  {
   "cell_type": "code",
   "execution_count": 73,
   "metadata": {},
   "outputs": [],
   "source": [
    "from typing import List, Dict, Any\n",
    "from langchain_core.tools import tool\n",
    "from langchain_openai import ChatOpenAI\n",
    "from langchain_core.prompts import ChatPromptTemplate, MessagesPlaceholder\n",
    "from langchain.agents import create_openai_functions_agent\n",
    "from langchain.agents import AgentExecutor\n",
    "import requests\n",
    "import json\n",
    "from datetime import datetime, timedelta"
   ]
  },
  {
   "cell_type": "code",
   "execution_count": 51,
   "metadata": {},
   "outputs": [],
   "source": [
    "import json\n",
    "from typing import Dict, Any\n",
    "from datetime import timedelta"
   ]
  },
  {
   "cell_type": "code",
   "execution_count": 54,
   "metadata": {},
   "outputs": [],
   "source": [
    "# 뉴스 기사 감성 분석\n",
    "@tool\n",
    "def get_news_sentiment(topic: str) -> Dict[str, Any]:\n",
    "    \"\"\"특정 주제에 대한 뉴스 기사의 감성을 분석합니다.\"\"\"\n",
    "\n",
    "    # NewsAPI 설정\n",
    "    NEWS_API_KEY = os.getenv('NEWS_API_KEY')\n",
    "    news_api_url = \"https://newsapi.org/v2/everything\"\n",
    "\n",
    "    # 날짜 범위 설정\n",
    "    end_date = datetime.now()\n",
    "    start_date = end_date - timedelta(days=7)\n",
    "\n",
    "    querystring = {\n",
    "        \"q\": topic,\n",
    "        \"from\": start_date.strftime(\"%Y-%m-%d\"),\n",
    "        \"to\": end_date.strftime(\"%Y-%m-%d\"),\n",
    "        \"language\": \"ko\",\n",
    "        \"sortBy\": \"relevancy\",\n",
    "        \"apiKey\": NEWS_API_KEY\n",
    "    }\n",
    "\n",
    "    try:\n",
    "        response = requests.get(news_api_url, params=querystring)\n",
    "        articles = response.json().get('articles', [])\n",
    "\n",
    "        if not articles:\n",
    "            return {\n",
    "                \"topic\": topic,\n",
    "                \"average_sentiment\": 0,\n",
    "                \"analyzed_articles\": 0,\n",
    "                \"sentiment_summary\": \"데이터 없음\"\n",
    "            }\n",
    "\n",
    "        # 감성 분석을 위한 OpenAI 설정\n",
    "        llm = ChatOpenAI(\n",
    "            model=\"gpt-3.5-turbo\",\n",
    "            temperature=0,\n",
    "        )\n",
    "\n",
    "        # 각 기사에 대한 감성 분석\n",
    "        sentiment_scores = []\n",
    "        print(articles[:10])\n",
    "        for article in articles[:10]:  # 최근 10개 기사만 분석\n",
    "            if article['description'] != '[Removed]':\n",
    "                prompt = ChatPromptTemplate.from_messages([\n",
    "                    (\"system\", \"뉴스 기사의 감성을 분석하여 아래와 같은 JSON 형태로 응답하세요. \"\n",
    "                \"결과는 'score'는 -1(매우 부정적)에서 1(매우 긍정적) 사이의 값이고, \"\n",
    "                \"'explanation'은 해당 감성 점수에 대한 설명을 포함합니다.\"),\n",
    "                    (\"user\", f\"제목: {article['title']}\\n내용: {article['description']}\")\n",
    "                ])\n",
    "\n",
    "                chain = prompt | llm\n",
    "                result = chain.invoke({})\n",
    "                try:\n",
    "                    response_json = json.loads(result.content)\n",
    "                    score = float(response_json['score'])\n",
    "                    if score != 0:\n",
    "                        print(response_json)\n",
    "                    sentiment_scores.append(score)\n",
    "                except (json.JSONDecodeError, KeyError, ValueError) as e:\n",
    "                    print(f\"파싱 에러 결과: {e}\")\n",
    "                    continue\n",
    "\n",
    "        # 종합 감성 점수 계산\n",
    "        if sentiment_scores:\n",
    "            avg_sentiment = sum(sentiment_scores) / len(sentiment_scores)\n",
    "            return {\n",
    "                \"topic\": topic,\n",
    "                \"average_sentiment\": round(avg_sentiment, 2),\n",
    "                \"analyzed_articles\": len(sentiment_scores),\n",
    "                \"sentiment_summary\": \"긍정적\" if avg_sentiment > 0.3 else \"부정적\" if avg_sentiment < -0.3 else \"중립적\"\n",
    "            }\n",
    "        else:\n",
    "            return {\n",
    "                \"topic\": topic,\n",
    "                \"average_sentiment\": 0,\n",
    "                \"analyzed_articles\": 0,\n",
    "                \"sentiment_summary\": \"분석 불가\"\n",
    "            }\n",
    "\n",
    "    except Exception as e:\n",
    "        print('❌',e)\n",
    "        return {\n",
    "            \"topic\": topic,\n",
    "            \"average_sentiment\": 0,\n",
    "            \"analyzed_articles\": 0,\n",
    "            \"sentiment_summary\": f\"에러 발생: {str(e)}\"\n",
    "        }"
   ]
  },
  {
   "cell_type": "code",
   "execution_count": 55,
   "metadata": {},
   "outputs": [
    {
     "name": "stdout",
     "output_type": "stream",
     "text": [
      "[{'source': {'id': None, 'name': 'Khan.co.kr'}, 'author': '이두리 기자 redo@kyunghyang.com', 'title': '12회 연속 ‘히트’…한화 드라마 ‘대박’', 'description': '와이스, 8이닝 무실점 ‘철벽’\\n키움 대파…연승 기록 추가\\n“5명 선발 투수들 서로 지원”\\n전신 빙그레 14연승에 ‘성큼’\\n\\n한화 라이언 와이스가 11일 고척 스카이돔에서 열린 키움전에서 깔끔하게 이닝을 마친 뒤 미소 지으며 마운드를 내려오고 있다. 연합뉴스\\n\\n한화가 지는 법을 잊었다. 벌써 12연승이다. 구단 최다 연승 기록인 14연승까지 2···', 'url': 'https://www.khan.co.kr/article/202505112020015', 'urlToImage': 'https://img.khan.co.kr/news/2025/05/11/l_2025051201000278400025171.jpg', 'publishedAt': '2025-05-11T11:20:01Z', 'content': '12 \\r\\n11 . \\r\\n. 12. 14 2 .\\r\\n 11 8-0 . 33 11 .\\r\\n 12 1992 523 . 2 14 . .\\r\\n . 1~2 4 3 4 .\\r\\n 3 . 5-0 9 , 3 .\\r\\n 6 . 8 93 1 2, 9 .\\r\\n 8 , , , 93 1 .\\r\\n . 5 .\\r\\n 6 1 . 16 55 3.73 8 6 .\\r\\n .\\r\\n . 1 .\\r\\n . 11 . 2 2 .… [+21 chars]'}, {'source': {'id': None, 'name': 'Khan.co.kr'}, 'author': '이성희 기자 mong2@kyunghyang.com', 'title': '‘새우가 고래 삼켰다’ 한화, 아워홈 인수···단체급식 판도 바뀌나', 'description': '‘한화 삼남’ 김동선 부사장 주도\\n업계선 ‘범LG가 물량’ 어디로 갈까 관심\\n구지은 부회장 향후 반발 등 과제도\\n\\n\\n\\n한화그룹이 국내 급식업체 2위로 연 매출 2조원대 규모인 아워홈을 인수했다. 급식업계 안팎에서는 그간 아워홈이 맡아왔던 범LG가 급식 물량이 어디로 갈지에 관심을 보이고 있다. 한화는 급식과 레저·식음 분야에서 시너지를 내 글로벌 식품기업으···', 'url': 'https://www.khan.co.kr/article/202505151723011', 'urlToImage': 'https://img.khan.co.kr/news/2025/05/15/news-p.v1.20250515.4a11b8b61a8845f5a1951217e6c4a0f0_P1.jpg', 'publishedAt': '2025-05-15T08:23:01Z', 'content': '2 2 . LG . · .\\r\\n 58.62% 15 . 50.62% 8% 2 2 . 8695.\\r\\n . 10 7 .\\r\\n . · 2020 VIG 5 . 30 .\\r\\n .\\r\\n . 22440, 887 . 2 . 7509, 138.\\r\\n . 2, . LG .\\r\\n . LG . CJ LG .\\r\\n · . , .\\r\\n . 9 4, 3 , , , .\\r\\n . (AI), , .\\r\\n .… [+49 chars]'}, {'source': {'id': None, 'name': 'Zdnet.co.kr'}, 'author': '신영빈 기자', 'title': '디월트, 한화 이글스와 대전서 공동 행사', 'description': \"[지디넷코리아]디월트는 대전 한화생명 볼파크에서 '2025 디월트 데이'를 개최한다고 16일 밝혔다.2025 디월트 데이는 한화이글스와 SSG랜더스의 경기가 열리는 17~18일 양일간 진행된다. 행사는 17일 오후 3시, 18일 오후 12시부터 경기장 내 중앙홀과 구장 내 에스컬레이터 부근 공간에서 열린다.디월트는 야구장을 찾는 팬들에게 즐거움을 선사하기 위해 다양한 프로그램을 준비했다. 디월트 제품 체험 존에서는 디월트 트럭에 전시된 다양한 디월트 공구들을 …\", 'url': 'https://zdnet.co.kr/view/?no=20250516004425', 'urlToImage': 'https://image.zdnet.co.kr/2025/05/16/049b72950365a60b4f8df65662563207.jpg', 'publishedAt': '2025-05-15T22:50:01Z', 'content': '\\'2025 \\'\\xa0 16 .\\r\\n2025 SSG 17~18 . 17 3, 18 12 .\\r\\n . .\\r\\n, (=)\\r\\n\\xa0 .\\xa0 7 , 600 UV .\\xa0 X SNS 3M .\\r\\n .\\xa0 20% . 8V MAX DCF008 .\\r\\n \" \" \" \" .'}, {'source': {'id': None, 'name': 'Khan.co.kr'}, 'author': '이성희 기자 mong2@kyunghyang.com', 'title': '한화, ‘매출 2조’ 아워홈 인수…‘글로벌 식품기업’ 도약 노린다', 'description': '‘3남’ 김동선 부사장 주도, 8695억원 투입해 지분 58.62% 확보\\n단체급식 시장 판도 변화 주목…‘범LG가’ 물량 향배도 관심\\n아워홈 구지은 부회장·노조 반발 변수에 대규모 차입 우려도\\n\\n\\n\\n한화그룹이 국내 급식업체 2위로 연매출이 2조원대인 아워홈을 인수했다. 업계 안팎에서는 그간 아워홈이 맡아왔던 범LG가 급식 물량이 어디로 갈지에 관···', 'url': 'https://www.khan.co.kr/article/202505152053015', 'urlToImage': 'https://img.khan.co.kr/news/2025/05/15/l_2025051601000438100042611.jpg', 'publishedAt': '2025-05-15T11:53:01Z', 'content': '2 2 . LG .\\r\\n 58.62% 15 . 50.62% 8% 2 2 . 8695.\\r\\n .\\r\\n . · 2020 VIG 5 .\\r\\n . 22440, 887 . 2 . 7509, 138.\\r\\n . 2, .\\r\\n . LG . CJ LG .\\r\\n · .\\r\\n , .\\r\\n . .\\r\\n (AI) , .\\r\\n . ( 20.67%) .\\r\\n . .\\r\\n . 2500 (FI) .\\r\\n 3 … [+8 chars]'}, {'source': {'id': None, 'name': 'Zdnet.co.kr'}, 'author': '류은주 기자', 'title': '\"한화 주식 헐값 매각\"…영풍·MBK, 최윤범 회장 등 손배소', 'description': '[지디넷코리아]고려아연과 경영권 분쟁중인 영풍과 MBK파트너스가 이번엔 최윤범 회장과 박기덕 대표이사를 상대로 소송을 제기했다. 고려아연 최대주주 MBK파트너스 자회사 한국기업홀딩스는 12일 한화 주식 헐값처분으로 입은 1천억원대 손해를 배상하라며 최 회장과 박기덕 대표를 상대로 주주대표소송(손해배상)을 제기했다고 밝혔다.최 회장과 박 대표가 지난해 11월 이사회 결의도 없이 고려아연이 보유 중이던 한화 주식(발행주식총수의 7.25%)를 저가로 처분함으로써 고…', 'url': 'https://zdnet.co.kr/view/?no=20250512135412', 'urlToImage': 'https://image.zdnet.co.kr/2024/11/13/a70ec924e28903c186abfc42c3c4a335.jpg', 'publishedAt': '2025-05-12T04:59:46Z', 'content': 'MBK \\xa0 .\\xa0\\xa0\\r\\n MBK \\xa012 1 () .\\r\\n 11 ( 7.25%) .\\xa0 MBK .\\xa0\\r\\n (=)\\r\\n. , .\\xa0\\r\\n \\xa0 , .\\r\\n·MBK \" 196 , 1 \" \" 80% \" .\\xa0\\r\\n \" 27950 \\xa0 12.92% \\xa0 .'}, {'source': {'id': None, 'name': 'Zdnet.co.kr'}, 'author': '안희정 기자', 'title': '‘월간 CGV 씬-스틸러상’ 첫 수상자...한화 이글스 응원단장', 'description': '[지디넷코리아]CGV는 KBO(한국야구위원회)와 함께 올해 새롭게 신설한 CGV 공식 스폰서상 ‘월간 CGV 씬-스틸러상’의 첫 수상자로 한화 이글스의 홍창화 응원단장을 선정하고 시상을 진행했다고 16일 밝혔다.‘월간 CGV 씬-스틸러상’은 KBO 리그 진행 중 영화 같은 명장면을 만들어낸 1인을 선정해 월간 시상을 진행하는 이벤트로 선수단을 포함해 응원단, 구단 스태프, 진행요원 등 야구장에서 함께하는 모든 인원이 대상자다. CGV는 CGV 씬-스틸러상 수상…', 'url': 'https://zdnet.co.kr/view/?no=20250516090845', 'urlToImage': 'https://image.zdnet.co.kr/2025/05/16/e113acc5d9806eba285279ba7068b140.jpg', 'publishedAt': '2025-05-16T00:10:07Z', 'content': 'CGV KBO() CGV CGV - 16 .\\r\\n CGV - KBO 1 , , . CGV CGV - 100 &amp; 2 .\\r\\n CGV - CJ CGV () ()\\r\\n\\'3~4 CGV -\\' , , , SSG . CGV - 2 5 CGV \\'[KBO] 3~4 CGV - \\' 100% , . CGV - \" - \" \" \" .\\r\\nCJ CGV 3·4 - KBO 5 1 10… [+42 chars]'}, {'source': {'id': None, 'name': 'Ohmynews.com'}, 'author': '양형석', 'title': \"'6연속 선발승' 와이스, 비정규직에서 한화 에이스로\", 'description': '한화가 고척돔에서 열린 키움과의 3연전을 쓸어 담으며 12연승을 내달렸다.\\n\\n김경문 감독이 이끄는 한화 이글스는 11일 서울 고척 스카이돔에서 열린 2025 신한 SOL 뱅크 KBO리그 키움 히어로즈와의 원정 경기에서 홈런 1방을 포함해 장단 11안타를 터트리며 8-0으로 승리했다. 지난 4월 26일 kt 위즈와의 경기를 시작으로 12경기를 모두 승리로 장식한 한화는 지난 1992년 5월 23일 쌍방울 레이더스전 이후 무려 32년11개월18일 만에 12연승을 …', 'url': 'https://star.ohmynews.com/NWS_Web/OhmyStar/at_pg.aspx?CNTN_CD=A0003127620', 'urlToImage': 'https://ojsfile.ohmynews.com/CRI_T_IMG/2025/0511/A0003127620_T.jpg', 'publishedAt': '2025-05-12T00:26:02Z', 'content': \"3 12 .11 2025 SOL KBO 1 11 8-0 . 4 26 kt 12 1992 5 23 321118 12 (2713).\\r\\n3 21,3 6 . , . . 6 3 ' ' .\\r\\n'' \\r\\nKBO '' . '' KBO ' ' . 6 .\\r\\nKBO SSG 150km 5 22 5.09 . 7 236.03 KBO .\\r\\nKIA 2 . . 9 324.53 KIA '… [+255 chars]\"}, {'source': {'id': None, 'name': 'Zdnet.co.kr'}, 'author': '백봉삼 기자', 'title': \"SBVA, 일본 2.5D IP 엔터 기업 '우타이테' 투자\", 'description': '[지디넷코리아]에스비브이에이(대표 이준표, SBVA)는 일본의 IP 콘텐츠 엔터테인먼트 스타트업 우타이테가 진행한 5천500만 달러(한화 약 779억원) 규모의 시리즈B 투자에 참여, 일본 기업에 첫 투자했다고 13일 밝혔다.이번 투자는 중국 인터넷·게임 기업인 텐센트가 주도한 가운데 SBVA, 일본정책투자은행 등 다수의 투자사가 참여했다. 우타이테의 누적 투자금은 9천 달러로 한화 약 1천275억원에 달한다.우타이테는 서브컬처 기반 엔터테인먼트 스타트업으로,…', 'url': 'https://zdnet.co.kr/view/?no=20250513133601', 'urlToImage': 'https://image.zdnet.co.kr/2025/05/13/efe012bd673aef4d8190330d2ee7442c.png', 'publishedAt': '2025-05-13T04:36:01Z', 'content': '( , SBVA) IP 5500 ( 779) B , 13 .\\r\\n · SBVA, . 9 1275 .\\r\\n , (2D) (3D) (2.5D IP) · .\\r\\nSBVA x \\r\\n\\' \\' 2D , .\\r\\n 2.5D IP . 8 2D 8 , , 2.5D .\\r\\n , , . , .\\r\\n SBVA \" M&amp;A 2D IP \" \" SBVA \" .\\r\\n \" 2.5D IP \" \" ,… [+8 chars]'}, {'source': {'id': None, 'name': 'Zdnet.co.kr'}, 'author': '조이환 기자', 'title': \"오픈AI, UAE에 데이터센터 설립 검토…中 견제 위해 '美 블록' 쌓나\", 'description': '[지디넷코리아]오픈AI가 아랍에미리트(UAE)에 인공지능(AI) 데이터센터를 구축하는 방안을 검토 중이다.15일 블룸버그 등 주요 외신에 따르면 오픈AI는 아부다비 기반의 AI 기업 G42와 협력해 아랍에미리트 내 데이터센터 설립을 추진하고 있다. 관련 계약은 이르면 이번 주 내에 발표될 가능성이 있는 것으로 전해졌다.G42는 오픈AI와 지난 2023년 공식 파트너십을 체결한 바 있다. 이 기업은 마이크로소프트(MS)로부터 약 15억 달러(한화 약 2조1천억원…', 'url': 'https://zdnet.co.kr/view/?no=20250515090840', 'urlToImage': 'https://image.zdnet.co.kr/2025/02/04/0ddcf468c68c412e78f1370708ae8f43.png', 'publishedAt': '2025-05-15T00:47:21Z', 'content': 'AI (UAE) (AI) .\\r\\n15 AI AI G42 . .\\r\\nG42 AI 2023 . (MS) 15 ( 21)\\xa0 AI .\\r\\n AI (=)\\r\\nMGX . MGX AI AI \\'\\' .\\r\\nAI \\'AI (OpenAI for Countries)\\' . AI ·· , .\\r\\nAI \\'AI \\' \" AI AI \" .'}, {'source': {'id': None, 'name': 'Zdnet.co.kr'}, 'author': '김민아 기자', 'title': '에이피알 메디큐브, 美 뷰티 체인 ‘울타 뷰티’ 진출', 'description': '[지디넷코리아]에이피알은 자사 뷰티 브랜드 ‘메디큐브’가 미국의 대형 뷰티 전문 편집숍 ‘울타 뷰티(ULTA Beauty)’에 진출한다고 12일 밝혔다.지난달 말 체결된 이번 공급 계약은 메디큐브 화장품과 메디큐브 에이지알(AGE-R)의 뷰티 디바이스 ‘부스터 프로’와 ‘부스터 프로 미니’가 포함된 것으로 총 22종의 제품이 입점될 예정이다.초도 발주 물량은 이미 선적 작업 진행 중이며 오는 8월 중 온라인몰과 현지 오프라인 매장에 공식 입점된다.울타 뷰티는 …', 'url': 'https://zdnet.co.kr/view/?no=20250512102427', 'urlToImage': 'https://image.zdnet.co.kr/2025/05/12/203bfdc7ae1bd9df717004de7fbc460c.png', 'publishedAt': '2025-05-12T01:45:58Z', 'content': '(ULTA Beauty) 12 .\\r\\n (AGE-R) 22 .\\r\\n 8 .\\r\\n . (=)\\r\\n1400 113 ( 162500) . 600 3 .\\r\\n .\\r\\n , . .\\r\\n<ul><li>, 5 2025.04.23</li><li>, LA 2025.04.17</li><li>, · 2025.02.27</li><li>, 2025.01.20</li></ul>\\r\\n . , P… [+8 chars]'}]\n",
      "{'score': 0.8, 'explanation': '이 기사는 주로 긍정적인 내용으로 이루어져 있습니다. 한화 야구팀의 12연승과 라이언 와이스의 우수한 플레이 등이 언급되어 있습니다. 따라서 긍정적인 감성을 가지고 있습니다.'}\n",
      "{'score': 0.2, 'explanation': '약간 긍정적인 감성을 나타냄. 기업의 성장과 인수에 대한 긍정적인 관점을 반영.'}\n",
      "{'score': 0.5, 'explanation': '이 기사는 중립적인 감성을 담고 있습니다. 디월트와 한화 이글스의 공동 행사에 대한 내용을 다루고 있으며 긍정적이거나 부정적인 감정이 특히 강하게 드러나지는 않습니다.'}\n",
      "{'score': 0.7, 'explanation': '기사 내용에서는 한화그룹이 아워홈을 인수하여 글로벌 식품기업으로 도약하고자 한다는 긍정적인 내용이 주를 이루고 있습니다. 또한 김동선 부사장이 주도하여 대규모 투자를 통해 지분을 확보했으며, 단체급식 시장의 판도 변화와 물량 향배에 대한 관심도 언급되어 긍정적인 요소가 많이 포함되어 있습니다.'}\n",
      "{'score': -0.8, 'explanation': '기사 내용은 한화 주식 헐값 매각으로 인한 손해 배상 소송에 대한 내용으로 매우 부정적인 내용을 다루고 있습니다.'}\n",
      "{'score': 0.7, 'explanation': \"이 기사는 한화 이글스 응원단장이 '월간 CGV 씬-스틸러상'을 수상한 내용을 다루고 있습니다. 이는 긍정적인 소식이며, 한화 이글스와 CGV의 협업을 강조하고 있습니다. 따라서 0.7의 긍정적인 감성 점수를 부여했습니다.\"}\n",
      "{'score': 0.8, 'explanation': \"이 기사는 한화 이글스의 12연승을 기록한 성과를 다루고 있습니다. 이는 긍정적인 소식으로 해석될 수 있으며, '와이스' 선수의 성공적인 활약과 한화 팀의 우승을 의미하는 '에이스'로 언급된 부분들이 긍정적인 감성을 더해줍니다.\"}\n",
      "{'score': 0.6, 'explanation': '이 기사는 중립적인 감성을 담고 있습니다. 기업 간의 투자 소식을 다루고 있으며 긍정적인 내용도 있지만 부정적인 내용도 포함하고 있습니다.'}\n",
      "{'score': 0.6, 'explanation': '이 기사는 중립적인 내용을 다루고 있습니다. 오픈AI가 UAE에 데이터센터를 설립하는 계획을 검토 중이며, 협력사와 관련한 내용을 다루고 있습니다. 긍정적인 측면도 있지만 부정적인 측면도 있어 중립적인 감성을 가지고 있습니다.'}\n",
      "{'score': 0.7, 'explanation': \"이 기사는 긍정적인 내용을 다루고 있습니다. 에이피알의 뷰티 브랜드 '메디큐브'가 미국의 대형 뷰티 전문 편집숍 '울타 뷰티'에 진출한다는 소식을 전하고 있으며, 공급 계약이 체결되어 다양한 제품이 입점될 예정이라고 언급하고 있습니다. 또한, 초도 발주 물량이 이미 선적 작업 중이며 곧 온라인몰과 오프라인 매장에 공식 입점된다는 내용을 포함하고 있습니다.\"}\n"
     ]
    },
    {
     "data": {
      "text/plain": [
       "{'topic': '한화',\n",
       " 'average_sentiment': 0.48,\n",
       " 'analyzed_articles': 10,\n",
       " 'sentiment_summary': '긍정적'}"
      ]
     },
     "execution_count": 55,
     "metadata": {},
     "output_type": "execute_result"
    }
   ],
   "source": [
    "get_news_sentiment('한화')"
   ]
  },
  {
   "cell_type": "code",
   "execution_count": 67,
   "metadata": {},
   "outputs": [],
   "source": [
    "# 주요 경제 지표 관련 뉴스기사 감성 분석 도구\n",
    "@tool\n",
    "def analyze_economic_indicators(indicators: Dict[str, Any] = None) -> Dict[str, Any]:\n",
    "    \"\"\"주요 경제 지표 관련 뉴스를 분석합니다.\"\"\"\n",
    "    default_indicators = [\"금리\", \"통화정책\", \"인플레이션\", \"GDP\"]\n",
    "    if indicators is None:\n",
    "        indicators ={\"list\": default_indicators}\n",
    "    economic_indicators = indicators.get('list', default_indicators)\n",
    "\n",
    "    results = {}\n",
    "    for indicator in economic_indicators:\n",
    "        results[indicator] = get_news_sentiment(indicator)\n",
    "    return results"
   ]
  },
  {
   "cell_type": "code",
   "execution_count": 70,
   "metadata": {},
   "outputs": [
    {
     "name": "stdout",
     "output_type": "stream",
     "text": [
      "[{'source': {'id': None, 'name': 'Khan.co.kr'}, 'author': '최미랑 기자 rang@kyunghyang.com', 'title': '건설경기 ‘최악’…금융위기 때보다 더 심각', 'description': '건산연 ‘진단 보고서’…“더 빠르게 침체, 더 느리게 회복” 전망\\n\\n\\n\\n수주·착공 감소에 수익성도 하락 \\n저성장 국면 진입, 반등 여건 악화\\n\\n“금리 인하·재정 지출 확대 제약 \\n정부, 신속한 ‘부양책’ 마련 필요” \\n공공 발주 정상화·도심 개발 제안\\n\\n국내 건설경기가 2008년 글로벌 금융위기 때보다 더 침체된 수준이며 경기 여건상 회···', 'url': 'https://www.khan.co.kr/article/202505152050005', 'urlToImage': 'https://img.khan.co.kr/news/2025/05/15/l_2025051601000413500042541.jpg', 'publishedAt': '2025-05-15T11:50:00Z', 'content': ', \\r\\n· , \\r\\n · , · \\r\\n 2008 .\\r\\n() 15 2008 2008 . , , , .\\r\\n 2023 2008 . .\\r\\n () 2023 2071000, (2484000) 16.6% . 2008(-6.1%) .\\r\\n , 2023 () 1719000 18.9% . 2008 15.5% .\\r\\n () 3.9% , 1785000 2007(1842000) . 2… [+192 chars]'}, {'source': {'id': None, 'name': 'Zdnet.co.kr'}, 'author': '손희연 기자', 'title': '[미장브리핑] 사우디와 6천억달러 규모 투자…엔비디아·AMD 상승', 'description': '[지디넷코리아]◇ 13일(현지시간) 미국 증시▲다우존스산업평균(다우)지수 전 거래일 대비 0.64% 하락한 42140.43.▲스탠다드앤푸어스(S&P)500 지수 전 거래일 대비 0.72% 상승한 5886.55.▲나스닥 지수 전 거래일 대비 1.61% 상승한 19010.08.▲S&P500 지수 2025년 0.08% 상승. ▲도널드 트럼프 미국 대통령이 리야드에서 열린 미국-사우디아라비아 투자 포럼 연설에서 사우디아라비아가 미국과의 거래에 6천억 달러를 투자한다고…', 'url': 'https://zdnet.co.kr/view/?no=20250514081532', 'urlToImage': 'https://image.zdnet.co.kr/2024/12/17/8ea72ab6c50281ed9c27f6761637a9c2.jpg', 'publishedAt': '2025-05-13T23:15:32Z', 'content': '13() \\r\\n() 0.64% 42140.43.\\r\\n(S&amp;P)500 0.72% 5886.55.\\r\\n 1.61% 19010.08.\\r\\n(=)\\r\\nS&amp;P500 2025 0.08% .\\xa0\\r\\n - 6 . 1420 . 200 . ···AMD· \\xa0 800 .\\xa0(Nvidia) 5.6%, 4%, AMD 4% .\\xa0\\r\\n \\xa0 ··· 1 .\\r\\n \" , , \" CNBC .\\r… [+55 chars]'}, {'source': {'id': None, 'name': 'Zdnet.co.kr'}, 'author': '손희연 기자', 'title': '[미장브리핑] 美 4월 PPI 예측치 하향…\"불확실성·경기침체 가능성\" 거론', 'description': '[지디넷코리아]◇ 15일(현지시간) 미국 증시▲다우존스산업평균(다우)지수 전 거래일 대비 0.65% 상승한 42322.75.▲스탠다드앤푸어스(S&P)500 지수 전 거래일 대비 0.41% 상승한 5916.93.▲나스닥 지수 전 거래일 대비 0.18% 하락한 19112.32.▲미국 4월 생산자물가지수(PPI)는 전월 대비 0.5% 하락. 다우존스 전망치 0.3% 상승보다 크게 하향. 4월 소매판매는 0.1% 증가해 시장 예측치와 일치. 지표 발표 이후 채권 금리…', 'url': 'https://zdnet.co.kr/view/?no=20250516080654', 'urlToImage': 'https://image.zdnet.co.kr/2022/03/08/b02b87288c12ca26138f6801b1cd5c27.jpg', 'publishedAt': '2025-05-15T23:06:54Z', 'content': '15() \\r\\n() 0.65% 42322.75.\\r\\n(S&amp;P)500 0.41% 5916.93.\\r\\n 0.18% 19112.32.\\r\\n(=)\\r\\n4\\xa0(PPI) 0.5% .\\xa0 0.3% . 4 0.1% . . 10 0.08%p 4.44%, 2 0.09%p 3.96%.\\r\\nS&amp;P 500 2023 11\\xa0 . 6% . 16 .\\r\\n \\xa0 \" \" \"\\xa0 \" .\\r\\nJP … [+53 chars]'}, {'source': {'id': None, 'name': 'Khan.co.kr'}, 'author': '김지혜 기자 kimg@kyunghyang.com', 'title': '전기 아끼면 최고 7.2% 금리 받는 ‘에너지절약 적금’ 출시', 'description': '에너지절약 두드림적금 이벤트 설명. 국토교통부 제공.\\n\\n국토교통부는 건물 부문의 탄소중립 실현을 위해 건물 에너지 사용량을 줄이면 최고 연 7.2%의 금리를 제공하는 적금 상품을 출시한다고 밝혔다.\\n\\n11일 국토부에 따르면 SC제일은행에서 출시되는 ‘에너지절약 두드림 적금’은 오는 6~11월 전기 에너지 사용량을 지난해 같은 기간 대비 줄인 가입자에게 절감···', 'url': 'https://www.khan.co.kr/article/202505111651001', 'urlToImage': 'https://img.khan.co.kr/news/2025/05/11/news-p.v1.20250511.ac96d398aebb44df8e28f1df1f18593c_P1.png', 'publishedAt': '2025-05-11T07:51:00Z', 'content': '. .\\r\\n7.2% .\\r\\n11 SC 6~11 3.5% .\\r\\n (0% ~5% ) 1.5%, 5% 3.5% .\\r\\n 100 1 . 2.6%, · 1.1% . 7.2% .\\r\\n 12∼23 SC () . .\\r\\n .'}, {'source': {'id': None, 'name': 'Khan.co.kr'}, 'author': '김지혜 기자 kimg@kyunghyang.com', 'title': '‘절전’하면 최고 7.2% 이자 주는 적금 나온다', 'description': 'SC제일은행, 금리 우대 상품 출시\\n\\n국토교통부는 건물 부문의 탄소중립 실현을 위해 건물 에너지 사용량을 줄이면 최고 연 7.2%의 금리를 제공하는 적금 상품을 출시한다고 밝혔다.\\n\\n11일 국토부에 따르면 SC제일은행에서 출시되는 ‘에너지절약 두드림 적금’은 오는 6~11월 전기 에너지 사용량을 지난해 같은 기간 대비 줄인 가입자에게 절감량에 따라 ···', 'url': 'https://www.khan.co.kr/article/202505112027025', 'urlToImage': 'https://img.khan.co.kr/spko/company/Khan_CI_180212.jpg', 'publishedAt': '2025-05-11T11:27:02Z', 'content': 'SC, \\r\\n 7.2% .\\r\\n11 SC 6~11 3.5% .\\r\\n (0% ~5% ) 1.5%, 5% 3.5% . 100 1 . 2.6%, · 1.1% . 7.2% . 12~23 SC () . .\\r\\n .'}, {'source': {'id': None, 'name': 'Khan.co.kr'}, 'author': '김경민 기자 kimkim@kyunghyang.com', 'title': '롯데손보, 결국 ‘백기’…보험업계 ‘콜옵션’ 딜레마 확산 우려', 'description': '금리 하락에 보험사 건전성 악화, 미행사 이어질 가능성도\\n\\n쉬운 자본 확충 후순위채 의존 ‘부메랑’…재발행도 어려워질 듯\\n‘킥스 비율’ 위태 악순환…질 높은 자금 조달 방식으로 개선 필요\\n\\n롯데손해보험이 금융당국의 제동에도 후순위채권의 콜옵션(조기상환권) 강행 의지를 고수하다 결국 ‘백기’를 들었다. 롯데손보 외에도 시장금리 하락 등의 영향으로 보···', 'url': 'https://www.khan.co.kr/article/202505132058025', 'urlToImage': 'https://img.khan.co.kr/spko/company/Khan_CI_180212.jpg', 'publishedAt': '2025-05-13T11:58:02Z', 'content': ', \\r\\n () . .\\r\\n .\\r\\n 13 .\\r\\n 5 () (·K-ICS) . 150% .\\r\\n 3 150% 150% .\\r\\n . .\\r\\n . .\\r\\n 3 8000 5 . .\\r\\n (157%), (157.3%), KDB(158.24%) 150% .\\r\\n1 .\\r\\n 6 9 . NICE A+ A .\\r\\n .\\r\\n , .\\r\\n . .\\r\\n .'}]\n",
      "{'score': -0.8, 'explanation': '주어진 기사는 건설경기가 매우 어려운 상황에 처해 있다는 내용을 다루고 있습니다. 따라서 감성 점수는 -0.8로 매우 부정적인 내용을 담고 있습니다.'}\n",
      "{'score': 0.7, 'explanation': '이 기사는 경제 분야에 대한 내용으로, 사우디아라비아가 미국과의 거래에 6천억 달러를 투자한다는 내용을 다루고 있습니다. 이는 경제 활동을 촉진할 수 있는 긍정적인 소식이므로 긍정적인 감성을 가지고 있습니다.'}\n",
      "{'score': -0.7, 'explanation': '이 기사는 미국의 4월 PPI가 예측치보다 낮게 나왔고, 불확실성과 경기침체 가능성이 거론되었다는 내용을 다루고 있습니다. 따라서 부정적인 감성을 가지고 있습니다.'}\n",
      "{'score': 0.8, 'explanation': \"이 기사는 긍정적인 내용을 다루고 있습니다. '에너지절약 두드림 적금' 상품이 출시되어 최고 연 7.2%의 금리를 제공한다는 내용은 긍정적인 소식입니다.\"}\n",
      "{'score': 0.8, 'explanation': '이 기사는 긍정적인 내용을 다루고 있습니다. 적금 상품 출시로 인해 에너지를 절약하는 노력을 장려하고, 높은 금리를 제공하여 시민들에게 혜택을 주는 내용입니다.'}\n",
      "{'score': -0.8, 'explanation': '주어진 기사는 보험업계의 어려움과 위기 상황을 다루고 있습니다. 금리 하락으로 인한 보험사의 건전성 악화와 후순위채 의존 문제, 콜옵션 딜레마 등이 언급되어 있어 부정적인 내용이 강조됩니다.'}\n",
      "[{'source': {'id': None, 'name': 'Zdnet.co.kr'}, 'author': '손희연 기자', 'title': '[미장브리핑] 미·중 무역갈등 잠시 봉합…트럼프 \"中 시장 개방 동의\"', 'description': '[지디넷코리아]◇ 12일(현지시간) 미국 증시▲다우존스산업평균(다우)지수 전 거래일 대비 2.81% 상승한 42410.10.▲스탠다드앤푸어스(S&P)500 지수 전 거래일 대비 3.26% 상승한 5844.19.▲나스닥 지수 전 거래일 대비 4.35% 상승한 18708.34.▲도널드 트럼프 미국 대통령은 미국과 중국이 상대국 상품에 대한 대부분의 관세를 일시적으로 인하하겠다고 발표. 트럼프 대통령은 중국의 모든 비관세 장벽도 없앨 것이며, 가장 중요한 것은 중국…', 'url': 'https://zdnet.co.kr/view/?no=20250513083948', 'urlToImage': 'https://image.zdnet.co.kr/2024/11/20/d2bf8a51575ffd0354eedf3e5e17ac3e.jpg', 'publishedAt': '2025-05-12T23:39:48Z', 'content': '12() \\r\\n() 2.81% 42410.10.\\r\\n(S&amp;P)500 3.26% 5844.19.\\r\\n 4.35% 18708.34.\\r\\n(=)\\r\\n. , \\xa0 .\\r\\n 145% 30%,\\xa0 125% 10% . 90 145% .\\r\\n \\xa0 . 90% .\\r\\n 45% 35% .\\xa0\\xa0\"(GDP) , · \" \" 12 45% 35% .\\xa0 , .\\r\\n \" ,\\xa0 , \\xa0 , 10 \\xa04% … [+6 chars]'}, {'source': {'id': None, 'name': 'Zdnet.co.kr'}, 'author': '손희연 기자', 'title': '[미장브리핑] 美 4월 CPI 발표·중국과 무역 합의 사항 주목', 'description': '[지디넷코리아]▲미·중 고위급 무역 회동에서 상당한 진전을 이뤘다고 평가한 이후 12일 공동성명을 통해 중요 합의 사항을 발표할 예정. 스콧 베센트 미국 재무장관은 무역협상이 \\'생산적\\'이었다고 말해. 제이미슨 그리어 미국 무역대표부(USTR) 대표도 어떤 형태로든 합의에 도달했다고 밝히기도. 허리펑 중국 부총리는 이번 회의가 \"상당한 진전을 이루고 중요한 합의에 도달했다\"고 언급하면서 \"양측은 무역 및 경제 문제에 대한 협의 메커니즘을 구축하기로 합의했다\"고 …', 'url': 'https://zdnet.co.kr/view/?no=20250512082819', 'urlToImage': 'https://image.zdnet.co.kr/2024/12/17/8ea72ab6c50281ed9c27f6761637a9c2.jpg', 'publishedAt': '2025-05-11T23:28:19Z', 'content': '· 12 .\\xa0 \\'\\' .\\xa0 (USTR) \\xa0 .\\xa0 \" \" \" \" .\\r\\n13() 4 (CPI) . 3 2.4% 2 . 3 0.1% .\\r\\n15 4 . 2 0.2% 3 1.4% .\\r\\n(=)\\r\\n16 5 . 3 57.0, 4 52.2 2022 7 . 1 4 6.5% 1981 .\\r\\n () 15~16 . 5 , ·· .'}]\n",
      "{'score': 0.8, 'explanation': '이 기사는 미국과 중국의 무역 갈등이 잠시 봉합되고 있는 내용을 다루고 있습니다. 주요 지수들이 상승하고 있는 점, 트럼프 대통령의 발언 등이 긍정적인 요소로 작용하고 있습니다. 따라서 긍정적인 감성을 가지고 있습니다.'}\n",
      "{'score': 0.8, 'explanation': '이 기사는 미국과 중국 간의 무역 협상이 긍정적으로 진전되고 있다는 내용을 다루고 있습니다. 따라서 긍정적인 감성을 가지고 있습니다.'}\n",
      "[{'source': {'id': None, 'name': 'Zdnet.co.kr'}, 'author': '손희연 기자', 'title': '[미장브리핑] 사우디와 6천억달러 규모 투자…엔비디아·AMD 상승', 'description': '[지디넷코리아]◇ 13일(현지시간) 미국 증시▲다우존스산업평균(다우)지수 전 거래일 대비 0.64% 하락한 42140.43.▲스탠다드앤푸어스(S&P)500 지수 전 거래일 대비 0.72% 상승한 5886.55.▲나스닥 지수 전 거래일 대비 1.61% 상승한 19010.08.▲S&P500 지수 2025년 0.08% 상승. ▲도널드 트럼프 미국 대통령이 리야드에서 열린 미국-사우디아라비아 투자 포럼 연설에서 사우디아라비아가 미국과의 거래에 6천억 달러를 투자한다고…', 'url': 'https://zdnet.co.kr/view/?no=20250514081532', 'urlToImage': 'https://image.zdnet.co.kr/2024/12/17/8ea72ab6c50281ed9c27f6761637a9c2.jpg', 'publishedAt': '2025-05-13T23:15:32Z', 'content': '13() \\r\\n() 0.64% 42140.43.\\r\\n(S&amp;P)500 0.72% 5886.55.\\r\\n 1.61% 19010.08.\\r\\n(=)\\r\\nS&amp;P500 2025 0.08% .\\xa0\\r\\n - 6 . 1420 . 200 . ···AMD· \\xa0 800 .\\xa0(Nvidia) 5.6%, 4%, AMD 4% .\\xa0\\r\\n \\xa0 ··· 1 .\\r\\n \" , , \" CNBC .\\r… [+55 chars]'}, {'source': {'id': None, 'name': 'Zdnet.co.kr'}, 'author': '손희연 기자', 'title': '[미장브리핑] 美 4월 PPI 예측치 하향…\"불확실성·경기침체 가능성\" 거론', 'description': '[지디넷코리아]◇ 15일(현지시간) 미국 증시▲다우존스산업평균(다우)지수 전 거래일 대비 0.65% 상승한 42322.75.▲스탠다드앤푸어스(S&P)500 지수 전 거래일 대비 0.41% 상승한 5916.93.▲나스닥 지수 전 거래일 대비 0.18% 하락한 19112.32.▲미국 4월 생산자물가지수(PPI)는 전월 대비 0.5% 하락. 다우존스 전망치 0.3% 상승보다 크게 하향. 4월 소매판매는 0.1% 증가해 시장 예측치와 일치. 지표 발표 이후 채권 금리…', 'url': 'https://zdnet.co.kr/view/?no=20250516080654', 'urlToImage': 'https://image.zdnet.co.kr/2022/03/08/b02b87288c12ca26138f6801b1cd5c27.jpg', 'publishedAt': '2025-05-15T23:06:54Z', 'content': '15() \\r\\n() 0.65% 42322.75.\\r\\n(S&amp;P)500 0.41% 5916.93.\\r\\n 0.18% 19112.32.\\r\\n(=)\\r\\n4\\xa0(PPI) 0.5% .\\xa0 0.3% . 4 0.1% . . 10 0.08%p 4.44%, 2 0.09%p 3.96%.\\r\\nS&amp;P 500 2023 11\\xa0 . 6% . 16 .\\r\\n \\xa0 \" \" \"\\xa0 \" .\\r\\nJP … [+53 chars]'}, {'source': {'id': None, 'name': 'Zdnet.co.kr'}, 'author': '류은주 기자', 'title': 'K-배터리 ‘자금 총력전’ 돌입…중국 추격 맞선 생존 투자', 'description': '[지디넷코리아]최근 국내 배터리 업계가 유상증자와 회사채 발행 등 대규모 자금 조달에 적극 나서고 있다. 유상증자는 주주가치 희석 우려로 소액주주들 반발을 사고 있지만, 업계 안팎에서는 중국 배터리와의 치열한 글로벌 경쟁 속에 불가피한 ‘생존 투자’라는 분석이 나온다.14일 한국거래소에 따르면 포스코퓨처엠 주가는 11만5천300원으로 전일 대비 4% 하락한 채 장을 마감했다. 전날 1조1천억원 규모 유상증자 발표 여파로 주가가 떨어졌다.앞서 3월, 삼성SDI도…', 'url': 'https://zdnet.co.kr/view/?no=20250514162529', 'urlToImage': 'https://image.zdnet.co.kr/2025/05/14/90cd025ddab9d37cbdc52108fe03126c.png', 'publishedAt': '2025-05-14T07:33:13Z', 'content': \".\\xa0 , \\xa0.\\r\\n14 115300 4% .\\xa0\\xa011\\xa0\\xa0\\xa0 .\\r\\n(=GPT)\\r\\n3, SDI . SDI GM , , , . . .\\r\\n \\xa0 .\\xa0 (59.7%) 5256 .\\r\\n . 2884 1810 6307 . .\\xa0\\r\\n ... BYD\\r\\n\\xa0 \\xa0 ' ' .\\xa0\\r\\n (BYD) .(=BYD)\\r\\nCATL\\xa0K- 3 \\xa0 . CATL \\xa0(IPO) .\\xa0CATL IPO 5 .\\xa0\\xa0\\r\\n… [+134 chars]\"}, {'source': {'id': None, 'name': 'Ohmynews.com'}, 'author': '김종철', 'title': '감세를 통한 경제 성장, 가능합니까', 'description': \"이제 20여일 남았습니다. 윤석열 내란 사태와 탄핵으로 치러지는 대통령 선거입니다. 갑작스런 선거로 차기 정부는 인수위원회도 꾸릴 시간이 없습니다. 그럼에도 국민들의 기대감은 큽니다. 좀 더 나은 세상에 대한 희망입니다. '좀 더 나은 세상'의 바탕에는 '경제 살리기'에 대한 기대가 깔려 있습니다.\\n\\n실제 경제 상황이 암울합니다. 지난 2년 동안 윤 정부는 '재정 건전성'을 외치면서도 부자를 위한 감세를 대대적으로 추진했습니다. 사상 최악의 대규모 세수 결손은…\", 'url': 'https://www.ohmynews.com/NWS_Web/View/at_pg.aspx?CNTN_CD=A0003129541', 'urlToImage': 'https://ojsfile.ohmynews.com/BIG_IMG_FILE/2025/0514/IE003459378_BIG.jpg', 'publishedAt': '2025-05-14T08:22:40Z', 'content': '20 . . . . . \\' \\' \\' \\' .. 2 \\' \\' . (IMF) . 2 90 . , .\\r\\n, . , , . , 1 (GDP) 4 (-0.2%) . . 0% .\\r\\n\\' \\' . \\'\\' , 1 ( ) . \\' \\' . (AI) . . .\\' \\'. . . . . . 2 \" \" . . , 5 30 .\\r\\n, \\'\\' \\' \\' . , . . \\' \\' .\\r\\n, . . 20 , . … [+245 chars]'}]\n",
      "{'score': 0.8, 'explanation': '이 기사는 경제 분야에 대한 내용으로, 사우디아라비아가 미국과의 거래에 6천억 달러를 투자한다는 내용을 다루고 있습니다. 이는 경제 활동을 촉진할 수 있는 긍정적인 소식이므로 긍정적인 감성을 가지고 있습니다.'}\n",
      "{'score': -0.7, 'explanation': '이 기사는 미국의 4월 PPI가 예측치보다 낮게 나왔고, 불확실성과 경기침체 가능성이 거론되었다는 내용을 다루고 있습니다. 따라서 부정적인 감성을 가지고 있습니다.'}\n",
      "{'score': -0.7, 'explanation': '주제는 K-배터리의 자금 총력전과 중국과의 경쟁에 대한 내용으로 중립적이지만, 기업의 유상증자와 주가 하락 등 부정적인 요소가 포함되어 있습니다.'}\n",
      "{'score': -0.7, 'explanation': '주어진 기사는 경제 상황이 암울하고 부자를 위한 감세 정책이 실제로는 세수 결손을 야기했다는 내용을 다루고 있습니다. 따라서 부정적인 감정이 반영된 -0.7의 점수를 부여합니다.'}\n",
      "[{'source': {'id': None, 'name': 'Khan.co.kr'}, 'author': '김지환 기자 baldkim@kyunghyang.com', 'title': '주택연금 활성화가 GDP도 끌어올린다', 'description': '주택연금 활용도가 높아지면 실질 국내총생산(GDP)이 최대 0.7% 증가하고 노인빈곤율이 5%포인트 떨어질 수 있다는 분석이 나왔다.\\n\\n황인도 한국은행 경제연구원 금융통화연구실장은 15일 한은·한국개발연구원(KDI) 공동 심포지엄에서 “초고령사회 진입으로 심화되는 노인빈곤, 내수침체 우려를 완화하는 데 주택연금과 민간 역모기지가 중요한 역할을 할 수 있···', 'url': 'https://www.khan.co.kr/article/202505151330001', 'urlToImage': 'https://img.khan.co.kr/news/2025/05/15/news-p.v1.20250515.c2c07a4e07e34504998e63ae96528988_P1.png', 'publishedAt': '2025-05-15T04:30:00Z', 'content': '(GDP) 0.7% 5% .\\r\\n 15 ·(KDI) , .\\r\\n , ( ) . 10 (55 12 ) 1.89% .\\r\\n 8~10 55~79 3820 , . 35.3% , 41.4% . , , .\\r\\n . GDP 0.5~0.7% , 3~5% .\\r\\n · 37000 10 GDP 0.1% 0.5% . GDP 0.03% .\\r\\n , .'}, {'source': {'id': None, 'name': 'Ppss.kr'}, 'author': '허용회', 'title': '한국 대학생의 자기효능감은 어떻게 변해왔을까?', 'description': '심리학에서 다루는 개념 중에는 자기효능감(Self-efficacy)이라는 것이 있다. 워낙 유명한 개념이라 많이들 들어보셨을 것으로 생각된다. 자기효능감은 전설의 레전드 심리학자인 반두라(Bandura)에 의해 제안된 것으로, 자신이 목표로 한 어떤 일을 잘 해낼 수 있다는 믿음을 의미한다.    자기효능감은 주관적인 것이다. 아무리 뛰어난 능력을 보유하고 있더라도 자기효능감은 낮을 수 있다. 그렇게 되면 능력을 다 발휘하지 못하고 아쉬운 성과를 낼 가능성이 …', 'url': 'https://ppss.kr/archives/266958', 'urlToImage': 'https://ppss.kr/wp-content/uploads/2024/08/3-17.jpg', 'publishedAt': '2025-05-11T23:44:23Z', 'content': '(Self-efficacy) . . (Bandura) , .\\r\\n . . .\\r\\n . . (?), .\\r\\nImage by storyset on Freepik\\r\\n(?)\\r\\n , . ‘ ’ . .\\r\\n , , , , , , , , , , , , , . ( . )\\r\\n. , .\\r\\n , , . 19 . , .\\r\\n , . 1999 2022, .\\r\\n(cross-temporal… [+193 chars]'}, {'source': {'id': None, 'name': 'Zdnet.co.kr'}, 'author': '손희연 기자', 'title': '\"주택연금, 노인빈곤율 3~5%p 하락 효과\"', 'description': \"[지디넷코리아]주택연금 가입이 높아질 경우 우리나라의 노인빈곤율을 줄일 수 있다는 연구가 나왔다.15일 한국은행과 한국개발연구원(KDI)이 공동으로 연 심포지엄 '초고령사회의 빈곤과 노동'에서 황인도 한은 금융통화연구실장은 '주택연금과 민간 역모기지 활성화를 통한 소비 확대 및 노인 빈곤 완화방안' 발표에서 주택연금 가입률이 높아질 수록 국내총생산(GDP)을 높이고, 노인빈곤율을 떨어뜨린다고 밝혔다.주택연금은 고령자가 자신이 소유한 주택을 담보로 제공하고, 해…\", 'url': 'https://zdnet.co.kr/view/?no=20250515142617', 'urlToImage': 'https://image.zdnet.co.kr/2025/05/15/9a68870fba077eddd9cda83c8b3ef5a2.jpg', 'publishedAt': '2025-05-15T05:26:17Z', 'content': '.\\r\\n15 (KDI) \\' \\'\\xa0 \\' \\' (GDP) , .\\r\\n , \\xa0 .\\xa0\\r\\n(=)\\r\\n\" 3 1 \" \" \\xa0GDP\\xa00.5~0.7% , 3~5%p \" .\\r\\n 37 GDP 0.1% , 0.5~0.7%p .\\r\\n \\xa0 (2024 10 ) 1.89% . .\\xa0\\r\\n, 55~79 3820 . 41.4%.\\r\\n·KDI .\\r\\n\"\\xa0 GDP \" \" , \" .\\r\\n \" \\xa055 35~41%… [+104 chars]'}, {'source': {'id': None, 'name': 'Khan.co.kr'}, 'author': 'KyungHyangSinmun', 'title': '[사설] 미·중 관세 대폭 인하, 한국도 협상 전략 재점검해야', 'description': '미국과 중국이 서로에게 부과한 관세를 90일간 낮추기로 했다. 미국은 중국산 제품에 매긴 145% 관세를 30%로 내린다. 중국은 미국산에 부과한 125% 관세를 10%로 낮춘다. 미국이 펜타닐 문제로 인한 대중 관세(20%)는 유지하기로 했지만, 미국의 관세 인하 폭은 당초 예상을 훌쩍 뛰어넘는 수준이다. 최악으로 치닫던 미·중 간 경제전쟁이 다소 진정 ···', 'url': 'https://www.khan.co.kr/article/202505121919001', 'urlToImage': 'https://img.khan.co.kr/news/2025/05/12/news-p.v1.20250512.aaedd5a50dbf4cfb9d5df75761463f05_P1.png', 'publishedAt': '2025-05-12T10:19:00Z', 'content': '90 . 145% 30% . 125% 10% . (20%) , . · , 2600 .\\r\\n · (25%) . . 8 · . , 90 .\\r\\n . 1 (GDP) 0.3% . . . . . . 78 . .\\r\\n . . . 64 .\\r\\n() 12() . AP'}, {'source': {'id': None, 'name': 'Khan.co.kr'}, 'author': 'KyungHyangSinmun', 'title': '[사설] 성장과 감세만 보이는 대선, 양극화는 어찌할 건가', 'description': '대통령 선거에 출마한 유력 후보들이 경제성장을 최우선 과제로 제시했다. 이재명 더불어민주당 후보는 인공지능 등 신산업 중심으로 새로운 성장 기반을 만들겠다고 했고, 김문수 국민의힘 후보는 민간과 기업의 자율성을 높여 성장을 유도하겠다고 했다.\\n\\n경제성장률 제고가 한국 사회 현안이라는 데는 이의가 없다. 경제가 성장해야 일자리도 생기고 민생도 회복된다. 12···', 'url': 'https://www.khan.co.kr/article/202505131815011', 'urlToImage': 'https://img.khan.co.kr/news/2025/05/13/news-p.v1.20250513.80c5cf13cf374c4ea2536ad843178915_P1.jpeg', 'publishedAt': '2025-05-13T09:15:01Z', 'content': '. , .\\r\\n . . 12·3 1 (GDP) -0.2% . . . · 2040 0.1% .\\r\\n . . · . . . 2 90 , .\\r\\n . . 5 30 . . 2 . . . , .\\r\\n . 2024 4 20% 1213000 3.0% (3.8%) . . . .\\r\\n13 .'}, {'source': {'id': None, 'name': 'Khan.co.kr'}, 'author': '김윤나영 기자 nayoung@kyunghyang.com', 'title': '미, 환율 ‘지렛대’로 통상 분야 압박 전략', 'description': '한·미, 관세 후속 실무협의\\n\\n실무협의 ‘공식 의제’ 공세 가능성…환율 관찰 대상국 지정 예상도\\n대미 수출 증가는 환율 조작과 무관…정책 개입 수단도 마땅찮아\\n\\n한·미 양국이 ‘트럼프 관세’ 문제를 다루기 위한 ‘2+2 통상 협의’의 후속 조치로 환율 협의를 시작했다. 미국이 무역수지 적자 개선을 위해 원화 가치 절상(환율 하락)이 이뤄질 수 있는···', 'url': 'https://www.khan.co.kr/article/202505112027045', 'urlToImage': 'https://img.khan.co.kr/spko/company/Khan_CI_180212.jpg', 'publishedAt': '2025-05-11T11:27:04Z', 'content': '·, \\r\\n· 2+2 . ( ) . , . .\\r\\n 11 . · · 24() 2+2 ·, , .\\r\\n . (USTR) 2018 3 · (FTA) () . · FTA , .\\r\\n . .\\r\\n 11 2 . 150 (GDP) 3% .\\r\\n . 12·3 .\\r\\n .\\r\\n 30 2~3 ( ) .\\r\\n . 5 . 0% .\\r\\n .\\r\\n ( ) .'}, {'source': {'id': None, 'name': 'Khan.co.kr'}, 'author': '최미랑 기자 rang@kyunghyang.com', 'title': '건설경기 ‘최악’…금융위기 때보다 더 심각', 'description': '건산연 ‘진단 보고서’…“더 빠르게 침체, 더 느리게 회복” 전망\\n\\n\\n\\n수주·착공 감소에 수익성도 하락 \\n저성장 국면 진입, 반등 여건 악화\\n\\n“금리 인하·재정 지출 확대 제약 \\n정부, 신속한 ‘부양책’ 마련 필요” \\n공공 발주 정상화·도심 개발 제안\\n\\n국내 건설경기가 2008년 글로벌 금융위기 때보다 더 침체된 수준이며 경기 여건상 회···', 'url': 'https://www.khan.co.kr/article/202505152050005', 'urlToImage': 'https://img.khan.co.kr/news/2025/05/15/l_2025051601000413500042541.jpg', 'publishedAt': '2025-05-15T11:50:00Z', 'content': ', \\r\\n· , \\r\\n · , · \\r\\n 2008 .\\r\\n() 15 2008 2008 . , , , .\\r\\n 2023 2008 . .\\r\\n () 2023 2071000, (2484000) 16.6% . 2008(-6.1%) .\\r\\n , 2023 () 1719000 18.9% . 2008 15.5% .\\r\\n () 3.9% , 1785000 2007(1842000) . 2… [+192 chars]'}, {'source': {'id': None, 'name': 'Khan.co.kr'}, 'author': '박상영 기자 sypark@kyunghyang.com', 'title': 'KDI 올해 성장률 전망치 석 달 만에 1.6→0.8%로 낮춰', 'description': '한국개발연구원(KDI) 경제전망실 김지연 전망총괄(왼쪽)이 14일 정부세종청사에서 2025년 상반기 KDI 경제전망 발표를 하고 있다. 오른쪽은 정규철 경제전망실장. 연합뉴스.\\n\\n국책연구기관인 한국개발연구원(KDI)이 주요 경제 전망기관 중 처음으로 올해 한국경제가 0%대 성장에 그칠 것으로 예상했다. 내수 부진이 이어지는 상황에서 도널드 트럼프 미국 행정···', 'url': 'https://www.khan.co.kr/article/202505141412011', 'urlToImage': 'https://img.khan.co.kr/news/2025/05/14/news-p.v1.20250514.0cc56b0fdf5e445cbf4aff312666fea0_P1.jpg', 'publishedAt': '2025-05-14T05:12:01Z', 'content': '(KDI) () 14 2025 KDI . . .\\r\\n(KDI) 0% . . KDI , .\\r\\nKDI 14 2025 (GDP) 0.8% . 2 1.6% . 1.0% (IMF) . , 0% KDI .\\r\\nKDI . 0.5% . KDI 2 .\\r\\nKDI . , 0.4% . 2 (1.5%) 1.9% .\\r\\n 0.3% . , . KDI –1.2% –4.2% . 2 - KD… [+59 chars]'}, {'source': {'id': None, 'name': 'Khan.co.kr'}, 'author': '권재현 선임기자 jaynews@kyunghyang.com', 'title': '현금 이용 비중 가파른 하락세…“10번 결제할 때 1~2번꼴”', 'description': '현금 이용 비중이 빠르게 줄어들고 있다. 연합뉴스 자료사진\\n\\n신용카드에 더해 간편결제 등 비현금 지급수단 이용이 꾸준히 늘어나면서 지폐와 동전 등의 현금 사용이 빠르게 줄고 있다.\\n\\n15일 한국은행의 ‘2024년 지급수단·모바일금융서비스 이용행태 조사’에 따르면 전국 만 19세 이상 성인 3500여명을 대상으로 설문한 결과 지난해 지급수단 중 현금 이용 비···', 'url': 'https://www.khan.co.kr/article/202505150636001', 'urlToImage': 'https://img.khan.co.kr/news/2025/05/15/news-p.v1.20250515.65a46ddebd944ba0bd4ec573f2c30798_P1.jpg', 'publishedAt': '2025-05-14T21:36:00Z', 'content': '. \\r\\n.\\r\\n15 2024 · 19 3500 ( ) 15.9% .\\r\\n(46.2%), (16.4%) . (12.9%) . (3.7%) (2.7%) .\\r\\n 2013 41.3% 2015(36.0%) 2017(36.1%) 30% . 2019(26.4%) 2021(21.6%) 20% , 10% .\\r\\n 10 10 4 , 1∼2 .\\r\\n 20 , 30∼50 .\\r\\n60 … [+206 chars]'}, {'source': {'id': None, 'name': 'Khan.co.kr'}, 'author': '김윤나영 기자 nayoung@kyunghyang.com', 'title': '0%대로 수렴하는 한국 경제성장률···주요국 대비 ‘심각’', 'description': '지난 6일 서울의 한 대형마트에서 장을 보는 시민들. 연합뉴스\\n\\n올해 한국 경제성장률 전망치가 점점 낮아져 0%대로 수렴하고 있다. 해외 주요 투자은행(IB)들이 한국 경제에 대한 기대를 빠르게 거두고 있다. 12·3 불법계엄이 촉발한 정치 불확실성 장기화와 ‘트럼프 관세’ 리스크 이중고로 연 1%대 성장조차 어려워질 수 있는 우려가 현실화한 것이다.\\n\\n1···', 'url': 'https://www.khan.co.kr/article/202505111447001', 'urlToImage': 'https://img.khan.co.kr/news/2025/05/11/rcv.YNA.20250406.PYH2025040604380001300_P1.jpg', 'publishedAt': '2025-05-11T05:47:00Z', 'content': '6 . \\r\\n0% . (IB) . 12·3 1% .\\r\\n11 , (IB) 8 4 0.8% . 3 1.4% 0.6% . .\\r\\n 8 1% . 1.4→0.9%, (BOA) 1.5→0.8%, 1.2→0.6%, 1.5→0.7%, JP 0.9→0.5%, HSBC 1.4→0.7%, 1.5→1.0%, UBS 1.9→1.0% .\\r\\n . 12·3 , . . , .\\r\\n 1 . … [+188 chars]'}]\n",
      "{'score': 0.8, 'explanation': '이 기사는 긍정적인 내용을 다루고 있습니다. 주택연금 활용도가 높아지면 GDP가 증가하고 노인빈곤율이 감소할 수 있다는 내용을 다루고 있습니다. 따라서 긍정적인 감성을 가지고 있습니다.'}\n",
      "{'score': 0.7, 'explanation': '이 기사는 자기효능감에 대한 설명과 중요성을 다루고 있습니다. 긍정적인 면을 강조하고 있으며, 자기효능감이 개인의 성과에 미치는 긍정적인 영향을 강조하고 있습니다.'}\n",
      "{'score': 0.8, 'explanation': '주택연금 가입이 높아지면 노인빈곤율이 감소하고 국내총생산이 증가한다는 긍정적인 내용을 다루고 있습니다.'}\n",
      "{'score': -0.5, 'explanation': '주어진 기사는 미·중 관세 대폭 인하에 대한 내용을 다루고 있습니다. 하지만 기사 내용은 미국과 중국 간의 관세 인하로 인한 긍정적인 측면보다는 부정적인 측면을 강조하고 있습니다. 따라서 감성 점수는 -0.5로 설정됩니다.'}\n",
      "{'score': 0.5, 'explanation': '중립적인 감성을 나타냅니다. 기사 내용은 대통령 선거에 출마한 유력 후보들이 경제성장을 중요시하고, 경제성장률 제고의 중요성을 강조하는 내용을 담고 있습니다.'}\n",
      "{'score': -0.7, 'explanation': \"이 기사는 미국과 한국 간의 환율 협의에 대한 부정적인 내용을 다루고 있습니다. 환율을 '지렛대'로 사용하여 통상 분야에서 압박 전략을 펼친다는 내용과 관련하여 부정적인 감정이 느껴집니다.\"}\n",
      "{'score': -0.8, 'explanation': '이 기사는 건설경기가 매우 나쁜 상황에 있다는 내용을 다루고 있습니다. 따라서 감성 점수는 -0.8로 매우 부정적인 내용을 담고 있습니다.'}\n",
      "{'score': -0.8, 'explanation': '주요 경제 전망기관이 처음으로 올해 성장률을 낮추고, 내수 부진과 미국의 영향 등으로 경제가 어려울 것으로 전망되어 매우 부정적인 감성을 나타냅니다.'}\n",
      "{'score': 0.8, 'explanation': '이 기사는 현금 이용 비중이 빠르게 줄어들고 있다는 긍정적인 내용을 다루고 있습니다. 이는 소비자들이 간편결제나 신용카드를 선호하며 현금 사용이 줄어들고 있다는 것을 시사합니다.'}\n",
      "{'score': -0.8, 'explanation': '주요 투자은행들이 한국 경제에 대한 기대를 빠르게 거두고 있고, 0%대로 수렴하는 한국 경제성장률에 대한 우려가 현실화되고 있다는 내용이 포함되어 있어 부정적인 감성을 나타냅니다.'}\n"
     ]
    },
    {
     "data": {
      "text/plain": [
       "{'금리': {'topic': '금리',\n",
       "  'average_sentiment': 0.0,\n",
       "  'analyzed_articles': 6,\n",
       "  'sentiment_summary': '중립적'},\n",
       " '통화정책': {'topic': '통화정책',\n",
       "  'average_sentiment': 0.8,\n",
       "  'analyzed_articles': 2,\n",
       "  'sentiment_summary': '긍정적'},\n",
       " '인플레이션': {'topic': '인플레이션',\n",
       "  'average_sentiment': -0.32,\n",
       "  'analyzed_articles': 4,\n",
       "  'sentiment_summary': '부정적'},\n",
       " 'GDP': {'topic': 'GDP',\n",
       "  'average_sentiment': -0.0,\n",
       "  'analyzed_articles': 10,\n",
       "  'sentiment_summary': '중립적'}}"
      ]
     },
     "execution_count": 70,
     "metadata": {},
     "output_type": "execute_result"
    }
   ],
   "source": [
    "analyze_economic_indicators({})"
   ]
  },
  {
   "cell_type": "code",
   "execution_count": 63,
   "metadata": {},
   "outputs": [],
   "source": [
    "# 산업군 관련 뉴스기사 감성 분석 도구\n",
    "@tool\n",
    "def analyze_industry_news(industry: str) -> Dict[str, Any]:\n",
    "    \"\"\"특정 산업군에 대한 뉴스를 분석합니다.\"\"\"\n",
    "    return get_news_sentiment(f\"{industry}\")"
   ]
  },
  {
   "cell_type": "code",
   "execution_count": 64,
   "metadata": {},
   "outputs": [
    {
     "name": "stdout",
     "output_type": "stream",
     "text": [
      "[{'source': {'id': None, 'name': 'Khan.co.kr'}, 'author': '이두리 기자 redo@kyunghyang.com', 'title': '12회 연속 ‘히트’…한화 드라마 ‘대박’', 'description': '와이스, 8이닝 무실점 ‘철벽’\\n키움 대파…연승 기록 추가\\n“5명 선발 투수들 서로 지원”\\n전신 빙그레 14연승에 ‘성큼’\\n\\n한화 라이언 와이스가 11일 고척 스카이돔에서 열린 키움전에서 깔끔하게 이닝을 마친 뒤 미소 지으며 마운드를 내려오고 있다. 연합뉴스\\n\\n한화가 지는 법을 잊었다. 벌써 12연승이다. 구단 최다 연승 기록인 14연승까지 2···', 'url': 'https://www.khan.co.kr/article/202505112020015', 'urlToImage': 'https://img.khan.co.kr/news/2025/05/11/l_2025051201000278400025171.jpg', 'publishedAt': '2025-05-11T11:20:01Z', 'content': '12 \\r\\n11 . \\r\\n. 12. 14 2 .\\r\\n 11 8-0 . 33 11 .\\r\\n 12 1992 523 . 2 14 . .\\r\\n . 1~2 4 3 4 .\\r\\n 3 . 5-0 9 , 3 .\\r\\n 6 . 8 93 1 2, 9 .\\r\\n 8 , , , 93 1 .\\r\\n . 5 .\\r\\n 6 1 . 16 55 3.73 8 6 .\\r\\n .\\r\\n . 1 .\\r\\n . 11 . 2 2 .… [+21 chars]'}, {'source': {'id': None, 'name': 'Khan.co.kr'}, 'author': '이성희 기자 mong2@kyunghyang.com', 'title': '‘새우가 고래 삼켰다’ 한화, 아워홈 인수···단체급식 판도 바뀌나', 'description': '‘한화 삼남’ 김동선 부사장 주도\\n업계선 ‘범LG가 물량’ 어디로 갈까 관심\\n구지은 부회장 향후 반발 등 과제도\\n\\n\\n\\n한화그룹이 국내 급식업체 2위로 연 매출 2조원대 규모인 아워홈을 인수했다. 급식업계 안팎에서는 그간 아워홈이 맡아왔던 범LG가 급식 물량이 어디로 갈지에 관심을 보이고 있다. 한화는 급식과 레저·식음 분야에서 시너지를 내 글로벌 식품기업으···', 'url': 'https://www.khan.co.kr/article/202505151723011', 'urlToImage': 'https://img.khan.co.kr/news/2025/05/15/news-p.v1.20250515.4a11b8b61a8845f5a1951217e6c4a0f0_P1.jpg', 'publishedAt': '2025-05-15T08:23:01Z', 'content': '2 2 . LG . · .\\r\\n 58.62% 15 . 50.62% 8% 2 2 . 8695.\\r\\n . 10 7 .\\r\\n . · 2020 VIG 5 . 30 .\\r\\n .\\r\\n . 22440, 887 . 2 . 7509, 138.\\r\\n . 2, . LG .\\r\\n . LG . CJ LG .\\r\\n · . , .\\r\\n . 9 4, 3 , , , .\\r\\n . (AI), , .\\r\\n .… [+49 chars]'}, {'source': {'id': None, 'name': 'Zdnet.co.kr'}, 'author': '신영빈 기자', 'title': '디월트, 한화 이글스와 대전서 공동 행사', 'description': \"[지디넷코리아]디월트는 대전 한화생명 볼파크에서 '2025 디월트 데이'를 개최한다고 16일 밝혔다.2025 디월트 데이는 한화이글스와 SSG랜더스의 경기가 열리는 17~18일 양일간 진행된다. 행사는 17일 오후 3시, 18일 오후 12시부터 경기장 내 중앙홀과 구장 내 에스컬레이터 부근 공간에서 열린다.디월트는 야구장을 찾는 팬들에게 즐거움을 선사하기 위해 다양한 프로그램을 준비했다. 디월트 제품 체험 존에서는 디월트 트럭에 전시된 다양한 디월트 공구들을 …\", 'url': 'https://zdnet.co.kr/view/?no=20250516004425', 'urlToImage': 'https://image.zdnet.co.kr/2025/05/16/049b72950365a60b4f8df65662563207.jpg', 'publishedAt': '2025-05-15T22:50:01Z', 'content': '\\'2025 \\'\\xa0 16 .\\r\\n2025 SSG 17~18 . 17 3, 18 12 .\\r\\n . .\\r\\n, (=)\\r\\n\\xa0 .\\xa0 7 , 600 UV .\\xa0 X SNS 3M .\\r\\n .\\xa0 20% . 8V MAX DCF008 .\\r\\n \" \" \" \" .'}, {'source': {'id': None, 'name': 'Khan.co.kr'}, 'author': '이성희 기자 mong2@kyunghyang.com', 'title': '한화, ‘매출 2조’ 아워홈 인수…‘글로벌 식품기업’ 도약 노린다', 'description': '‘3남’ 김동선 부사장 주도, 8695억원 투입해 지분 58.62% 확보\\n단체급식 시장 판도 변화 주목…‘범LG가’ 물량 향배도 관심\\n아워홈 구지은 부회장·노조 반발 변수에 대규모 차입 우려도\\n\\n\\n\\n한화그룹이 국내 급식업체 2위로 연매출이 2조원대인 아워홈을 인수했다. 업계 안팎에서는 그간 아워홈이 맡아왔던 범LG가 급식 물량이 어디로 갈지에 관···', 'url': 'https://www.khan.co.kr/article/202505152053015', 'urlToImage': 'https://img.khan.co.kr/news/2025/05/15/l_2025051601000438100042611.jpg', 'publishedAt': '2025-05-15T11:53:01Z', 'content': '2 2 . LG .\\r\\n 58.62% 15 . 50.62% 8% 2 2 . 8695.\\r\\n .\\r\\n . · 2020 VIG 5 .\\r\\n . 22440, 887 . 2 . 7509, 138.\\r\\n . 2, .\\r\\n . LG . CJ LG .\\r\\n · .\\r\\n , .\\r\\n . .\\r\\n (AI) , .\\r\\n . ( 20.67%) .\\r\\n . .\\r\\n . 2500 (FI) .\\r\\n 3 … [+8 chars]'}, {'source': {'id': None, 'name': 'Zdnet.co.kr'}, 'author': '류은주 기자', 'title': '\"한화 주식 헐값 매각\"…영풍·MBK, 최윤범 회장 등 손배소', 'description': '[지디넷코리아]고려아연과 경영권 분쟁중인 영풍과 MBK파트너스가 이번엔 최윤범 회장과 박기덕 대표이사를 상대로 소송을 제기했다. 고려아연 최대주주 MBK파트너스 자회사 한국기업홀딩스는 12일 한화 주식 헐값처분으로 입은 1천억원대 손해를 배상하라며 최 회장과 박기덕 대표를 상대로 주주대표소송(손해배상)을 제기했다고 밝혔다.최 회장과 박 대표가 지난해 11월 이사회 결의도 없이 고려아연이 보유 중이던 한화 주식(발행주식총수의 7.25%)를 저가로 처분함으로써 고…', 'url': 'https://zdnet.co.kr/view/?no=20250512135412', 'urlToImage': 'https://image.zdnet.co.kr/2024/11/13/a70ec924e28903c186abfc42c3c4a335.jpg', 'publishedAt': '2025-05-12T04:59:46Z', 'content': 'MBK \\xa0 .\\xa0\\xa0\\r\\n MBK \\xa012 1 () .\\r\\n 11 ( 7.25%) .\\xa0 MBK .\\xa0\\r\\n (=)\\r\\n. , .\\xa0\\r\\n \\xa0 , .\\r\\n·MBK \" 196 , 1 \" \" 80% \" .\\xa0\\r\\n \" 27950 \\xa0 12.92% \\xa0 .'}, {'source': {'id': None, 'name': 'Zdnet.co.kr'}, 'author': '안희정 기자', 'title': '‘월간 CGV 씬-스틸러상’ 첫 수상자...한화 이글스 응원단장', 'description': '[지디넷코리아]CGV는 KBO(한국야구위원회)와 함께 올해 새롭게 신설한 CGV 공식 스폰서상 ‘월간 CGV 씬-스틸러상’의 첫 수상자로 한화 이글스의 홍창화 응원단장을 선정하고 시상을 진행했다고 16일 밝혔다.‘월간 CGV 씬-스틸러상’은 KBO 리그 진행 중 영화 같은 명장면을 만들어낸 1인을 선정해 월간 시상을 진행하는 이벤트로 선수단을 포함해 응원단, 구단 스태프, 진행요원 등 야구장에서 함께하는 모든 인원이 대상자다. CGV는 CGV 씬-스틸러상 수상…', 'url': 'https://zdnet.co.kr/view/?no=20250516090845', 'urlToImage': 'https://image.zdnet.co.kr/2025/05/16/e113acc5d9806eba285279ba7068b140.jpg', 'publishedAt': '2025-05-16T00:10:07Z', 'content': 'CGV KBO() CGV CGV - 16 .\\r\\n CGV - KBO 1 , , . CGV CGV - 100 &amp; 2 .\\r\\n CGV - CJ CGV () ()\\r\\n\\'3~4 CGV -\\' , , , SSG . CGV - 2 5 CGV \\'[KBO] 3~4 CGV - \\' 100% , . CGV - \" - \" \" \" .\\r\\nCJ CGV 3·4 - KBO 5 1 10… [+42 chars]'}, {'source': {'id': None, 'name': 'Ohmynews.com'}, 'author': '양형석', 'title': \"'6연속 선발승' 와이스, 비정규직에서 한화 에이스로\", 'description': '한화가 고척돔에서 열린 키움과의 3연전을 쓸어 담으며 12연승을 내달렸다.\\n\\n김경문 감독이 이끄는 한화 이글스는 11일 서울 고척 스카이돔에서 열린 2025 신한 SOL 뱅크 KBO리그 키움 히어로즈와의 원정 경기에서 홈런 1방을 포함해 장단 11안타를 터트리며 8-0으로 승리했다. 지난 4월 26일 kt 위즈와의 경기를 시작으로 12경기를 모두 승리로 장식한 한화는 지난 1992년 5월 23일 쌍방울 레이더스전 이후 무려 32년11개월18일 만에 12연승을 …', 'url': 'https://star.ohmynews.com/NWS_Web/OhmyStar/at_pg.aspx?CNTN_CD=A0003127620', 'urlToImage': 'https://ojsfile.ohmynews.com/CRI_T_IMG/2025/0511/A0003127620_T.jpg', 'publishedAt': '2025-05-12T00:26:02Z', 'content': \"3 12 .11 2025 SOL KBO 1 11 8-0 . 4 26 kt 12 1992 5 23 321118 12 (2713).\\r\\n3 21,3 6 . , . . 6 3 ' ' .\\r\\n'' \\r\\nKBO '' . '' KBO ' ' . 6 .\\r\\nKBO SSG 150km 5 22 5.09 . 7 236.03 KBO .\\r\\nKIA 2 . . 9 324.53 KIA '… [+255 chars]\"}, {'source': {'id': None, 'name': 'Zdnet.co.kr'}, 'author': '백봉삼 기자', 'title': \"SBVA, 일본 2.5D IP 엔터 기업 '우타이테' 투자\", 'description': '[지디넷코리아]에스비브이에이(대표 이준표, SBVA)는 일본의 IP 콘텐츠 엔터테인먼트 스타트업 우타이테가 진행한 5천500만 달러(한화 약 779억원) 규모의 시리즈B 투자에 참여, 일본 기업에 첫 투자했다고 13일 밝혔다.이번 투자는 중국 인터넷·게임 기업인 텐센트가 주도한 가운데 SBVA, 일본정책투자은행 등 다수의 투자사가 참여했다. 우타이테의 누적 투자금은 9천 달러로 한화 약 1천275억원에 달한다.우타이테는 서브컬처 기반 엔터테인먼트 스타트업으로,…', 'url': 'https://zdnet.co.kr/view/?no=20250513133601', 'urlToImage': 'https://image.zdnet.co.kr/2025/05/13/efe012bd673aef4d8190330d2ee7442c.png', 'publishedAt': '2025-05-13T04:36:01Z', 'content': '( , SBVA) IP 5500 ( 779) B , 13 .\\r\\n · SBVA, . 9 1275 .\\r\\n , (2D) (3D) (2.5D IP) · .\\r\\nSBVA x \\r\\n\\' \\' 2D , .\\r\\n 2.5D IP . 8 2D 8 , , 2.5D .\\r\\n , , . , .\\r\\n SBVA \" M&amp;A 2D IP \" \" SBVA \" .\\r\\n \" 2.5D IP \" \" ,… [+8 chars]'}, {'source': {'id': None, 'name': 'Zdnet.co.kr'}, 'author': '조이환 기자', 'title': \"오픈AI, UAE에 데이터센터 설립 검토…中 견제 위해 '美 블록' 쌓나\", 'description': '[지디넷코리아]오픈AI가 아랍에미리트(UAE)에 인공지능(AI) 데이터센터를 구축하는 방안을 검토 중이다.15일 블룸버그 등 주요 외신에 따르면 오픈AI는 아부다비 기반의 AI 기업 G42와 협력해 아랍에미리트 내 데이터센터 설립을 추진하고 있다. 관련 계약은 이르면 이번 주 내에 발표될 가능성이 있는 것으로 전해졌다.G42는 오픈AI와 지난 2023년 공식 파트너십을 체결한 바 있다. 이 기업은 마이크로소프트(MS)로부터 약 15억 달러(한화 약 2조1천억원…', 'url': 'https://zdnet.co.kr/view/?no=20250515090840', 'urlToImage': 'https://image.zdnet.co.kr/2025/02/04/0ddcf468c68c412e78f1370708ae8f43.png', 'publishedAt': '2025-05-15T00:47:21Z', 'content': 'AI (UAE) (AI) .\\r\\n15 AI AI G42 . .\\r\\nG42 AI 2023 . (MS) 15 ( 21)\\xa0 AI .\\r\\n AI (=)\\r\\nMGX . MGX AI AI \\'\\' .\\r\\nAI \\'AI (OpenAI for Countries)\\' . AI ·· , .\\r\\nAI \\'AI \\' \" AI AI \" .'}, {'source': {'id': None, 'name': 'Zdnet.co.kr'}, 'author': '김민아 기자', 'title': '에이피알 메디큐브, 美 뷰티 체인 ‘울타 뷰티’ 진출', 'description': '[지디넷코리아]에이피알은 자사 뷰티 브랜드 ‘메디큐브’가 미국의 대형 뷰티 전문 편집숍 ‘울타 뷰티(ULTA Beauty)’에 진출한다고 12일 밝혔다.지난달 말 체결된 이번 공급 계약은 메디큐브 화장품과 메디큐브 에이지알(AGE-R)의 뷰티 디바이스 ‘부스터 프로’와 ‘부스터 프로 미니’가 포함된 것으로 총 22종의 제품이 입점될 예정이다.초도 발주 물량은 이미 선적 작업 진행 중이며 오는 8월 중 온라인몰과 현지 오프라인 매장에 공식 입점된다.울타 뷰티는 …', 'url': 'https://zdnet.co.kr/view/?no=20250512102427', 'urlToImage': 'https://image.zdnet.co.kr/2025/05/12/203bfdc7ae1bd9df717004de7fbc460c.png', 'publishedAt': '2025-05-12T01:45:58Z', 'content': '(ULTA Beauty) 12 .\\r\\n (AGE-R) 22 .\\r\\n 8 .\\r\\n . (=)\\r\\n1400 113 ( 162500) . 600 3 .\\r\\n .\\r\\n , . .\\r\\n<ul><li>, 5 2025.04.23</li><li>, LA 2025.04.17</li><li>, · 2025.02.27</li><li>, 2025.01.20</li></ul>\\r\\n . , P… [+8 chars]'}]\n",
      "{'score': 0.8, 'explanation': \"이 기사는 한화 야구팀의 연속 승리에 대한 긍정적인 내용을 다루고 있습니다. '12회 연속 히트', '대박', '와이스 8이닝 무실점' 등의 표현들이 긍정적인 분위기를 전달합니다. 따라서 감성 점수는 0.8로 매우 긍정적인 내용을 담고 있습니다.\"}\n",
      "{'score': 0.2, 'explanation': '약간 긍정적인 감성을 나타냅니다. 기사에서는 한화그룹이 아워홈을 인수하여 급식업체 2위로 성장하고 시너지를 내겠다는 내용이 포함되어 있습니다.'}\n",
      "{'score': 0.5, 'explanation': '이 기사는 중립적인 내용을 다루고 있습니다. 디월트와 한화 이글스의 공동 행사에 대한 소식을 다루고 있으며 긍정적이거나 부정적인 내용이 드러나지 않습니다.'}\n",
      "{'score': 0.7, 'explanation': '기사 내용에서는 한화그룹이 아워홈을 인수하여 급식업체 시장에서의 경쟁력을 높이고 글로벌 식품기업으로 도약하려는 의지가 강조되고 있습니다. 이에 대한 긍정적인 감성을 반영하여 0.7의 점수를 부여했습니다.'}\n",
      "{'score': -0.8, 'explanation': '기사 내용은 한화 주식 헐값 매각으로 인한 손해 배상 소송에 대한 내용을 다루고 있습니다. 이는 부정적인 소식이며, 주요 관련 기업들 간의 분쟁과 소송으로 인해 긍정적인 영향을 받지 않을 것으로 예상됩니다.'}\n",
      "{'score': 0.7, 'explanation': \"이 기사는 한화 이글스 응원단장이 '월간 CGV 씬-스틸러상'을 수상한 내용을 다루고 있습니다. 이는 긍정적인 소식이며, 한화 이글스와 CGV의 협업을 강조하고 있습니다. 따라서 0.7의 긍정적인 감성 점수를 부여했습니다.\"}\n",
      "{'score': 0.8, 'explanation': \"이 기사는 한화 이글스의 성적 향상과 선수 와이스의 활약에 대해 긍정적으로 다루고 있습니다. '6연속 선발승'과 '비정규직에서 한화 에이스로'라는 제목에서도 긍정적인 분위기를 느낄 수 있습니다. 또한, 한화의 12연승을 강조하며 선수들의 활약을 언급하는 내용은 긍정적인 감성을 전달합니다.\"}\n",
      "{'score': 0.6, 'explanation': '이 기사는 중립적인 감성을 담고 있습니다. 기업 간의 투자 소식을 다루고 있어 긍정적인 내용이지만, 특정한 감정이 강하게 드러나지는 않습니다.'}\n",
      "{'score': 0.5, 'explanation': '이 기사는 중립적인 내용을 다루고 있습니다. 오픈AI가 UAE에 데이터센터를 설립하는 계획을 검토 중이며, 협력사와 관련된 내용을 다루고 있습니다. 긍정적인 측면과 부정적인 측면이 모두 포함되어 있어 중립적인 감성을 가지고 있습니다.'}\n",
      "{'score': 0.8, 'explanation': \"이 기사는 긍정적인 내용을 다루고 있습니다. 에이피알의 뷰티 브랜드 '메디큐브'가 미국의 대형 뷰티 전문 편집숍 '울타 뷰티'에 진출한다는 소식을 전하고 있으며, 총 22종의 제품이 입점될 예정이라는 내용을 다루고 있습니다. 이는 기업의 글로벌 시장 진출과 제품 다양화에 대한 긍정적인 발전을 시사합니다.\"}\n"
     ]
    },
    {
     "data": {
      "text/plain": [
       "{'topic': '한화',\n",
       " 'average_sentiment': 0.48,\n",
       " 'analyzed_articles': 10,\n",
       " 'sentiment_summary': '긍정적'}"
      ]
     },
     "execution_count": 64,
     "metadata": {},
     "output_type": "execute_result"
    }
   ],
   "source": [
    "analyze_industry_news(\"한화\")"
   ]
  },
  {
   "cell_type": "code",
   "execution_count": 59,
   "metadata": {},
   "outputs": [],
   "source": [
    "# 투자 결정 도구\n",
    "@tool\n",
    "def make_investment_decision(inputs: Dict[str, Any]) -> Dict[str, Any]:\n",
    "    \"\"\"\n",
    "    종합적인 분석을 바탕으로 투자 결정을 제안합니다.\n",
    "    \"\"\"\n",
    "\n",
    "    # 입력 값 추출\n",
    "    company = inputs.get(\"company\", \"Unknown\")\n",
    "    company_sentiment = inputs.get(\"company_sentiment\", {\"average_sentiment\": 0})\n",
    "    industry_sentiment = inputs.get(\"industry_sentiment\", {\"average_sentiment\": 0})\n",
    "    economic_indicators = inputs.get(\"economic_indicators\", {})\n",
    "\n",
    "    # 가중치 설정\n",
    "    weights = {\n",
    "        \"company\": 0.4,\n",
    "        \"industry\": 0.3,\n",
    "        \"economic\": 0.3\n",
    "    }\n",
    "\n",
    "    # 회사 점수 계산\n",
    "    company_score = company_sentiment.get(\"average_sentiment\", 0) * weights[\"company\"]\n",
    "\n",
    "    # 산업 점수 계산\n",
    "    industry_score = industry_sentiment.get(\"average_sentiment\", 0) * weights[\"industry\"]\n",
    "\n",
    "    # 경제 지표 점수 계산\n",
    "    economic_scores = [\n",
    "        indicator.get(\"average_sentiment\", 0)\n",
    "        for indicator in economic_indicators.values()\n",
    "    ]\n",
    "    economic_score = (sum(economic_scores) / len(economic_scores)) * weights[\"economic\"] if economic_scores else 0\n",
    "\n",
    "    # 총점 계산\n",
    "    total_score = company_score + industry_score + economic_score\n",
    "\n",
    "    # 투자 결정\n",
    "    decision = {\n",
    "        \"company\": company,\n",
    "        \"timestamp\": datetime.now().isoformat(),\n",
    "        \"total_score\": round(total_score, 2),\n",
    "        \"recommendation\": \"매수\" if total_score > 0.3 else \"매도\" if total_score < -0.3 else \"관망\",\n",
    "        \"confidence\": abs(total_score),\n",
    "        \"factors\": {\n",
    "            \"company_sentiment\": company_sentiment,\n",
    "            \"industry_sentiment\": industry_sentiment,\n",
    "            \"economic_indicators\": economic_indicators\n",
    "        }\n",
    "    }\n",
    "\n",
    "    return decision"
   ]
  },
  {
   "cell_type": "code",
   "execution_count": 71,
   "metadata": {},
   "outputs": [],
   "source": [
    "class InvestmentAnalyzer:\n",
    "    def __init__(self):\n",
    "        self.llm = ChatOpenAI(\n",
    "            model=\"gpt-4\",\n",
    "            temperature=0\n",
    "        )\n",
    "\n",
    "        self.tools = [\n",
    "            get_news_sentiment,\n",
    "            analyze_industry_news,\n",
    "            analyze_economic_indicators,\n",
    "            make_investment_decision\n",
    "        ]\n",
    "\n",
    "        prompt = ChatPromptTemplate.from_messages([\n",
    "            (\"system\", \"\"\"주식 시장 분석 및 투자 결정을 돕는 AI 에이전트입니다.\n",
    "            뉴스 데이터를 수집하고 감성 분석을 통해 투자 결정을 제안합니다.\"\"\"),\n",
    "            (\"user\", \"{input}\"),\n",
    "            MessagesPlaceholder(variable_name=\"agent_scratchpad\")\n",
    "        ])\n",
    "\n",
    "        self.agent = create_openai_functions_agent(self.llm, self.tools, prompt)\n",
    "        self.executor = AgentExecutor(agent=self.agent, tools=self.tools, verbose=True)\n",
    "\n",
    "    def analyze(self, company: str, industry: str) -> Dict[str, Any]:\n",
    "        \"\"\"투자 분석을 수행하고 결과를 반환합니다.\"\"\"\n",
    "        try:\n",
    "            # 1. 회사 감성 분석\n",
    "            company_result = get_news_sentiment(company)\n",
    "\n",
    "            # 2. 산업군 감성 분석\n",
    "            industry_result = analyze_industry_news(industry)\n",
    "\n",
    "            # 3. 경제 지표 분석\n",
    "            economic_result = analyze_economic_indicators({\"list\": [\"금리\"]})\n",
    "\n",
    "            # 4. 투자 결정\n",
    "            decision = make_investment_decision({\"inputs\":{\n",
    "                    \"company\": company,\n",
    "                    \"company_sentiment\": company_result,\n",
    "                    \"industry_sentiment\": industry_result,\n",
    "                    \"economic_indicators\": economic_result\n",
    "                }\n",
    "            })\n",
    "            # decision = self.executor.invoke({\n",
    "            #     \"tool\": \"make_investment_decision\",\n",
    "            #     \"input\": {\n",
    "            #         \"company\": company,\n",
    "            #         \"company_sentiment\": company_result,\n",
    "            #         \"industry_sentiment\": industry_result,\n",
    "            #         \"economic_indicators\": economic_result\n",
    "            #     }\n",
    "            # })\n",
    "\n",
    "            return decision\n",
    "\n",
    "        except Exception as e:\n",
    "            print(f\"분석 중 오류 발생: {str(e)}\")\n",
    "            return {\n",
    "                \"error\": str(e),\n",
    "                \"status\": \"failed\"\n",
    "            }"
   ]
  },
  {
   "cell_type": "code",
   "execution_count": 74,
   "metadata": {},
   "outputs": [
    {
     "name": "stdout",
     "output_type": "stream",
     "text": [
      "[{'source': {'id': None, 'name': 'Khan.co.kr'}, 'author': '이두리 기자 redo@kyunghyang.com', 'title': '12회 연속 ‘히트’…한화 드라마 ‘대박’', 'description': '와이스, 8이닝 무실점 ‘철벽’\\n키움 대파…연승 기록 추가\\n“5명 선발 투수들 서로 지원”\\n전신 빙그레 14연승에 ‘성큼’\\n\\n한화 라이언 와이스가 11일 고척 스카이돔에서 열린 키움전에서 깔끔하게 이닝을 마친 뒤 미소 지으며 마운드를 내려오고 있다. 연합뉴스\\n\\n한화가 지는 법을 잊었다. 벌써 12연승이다. 구단 최다 연승 기록인 14연승까지 2···', 'url': 'https://www.khan.co.kr/article/202505112020015', 'urlToImage': 'https://img.khan.co.kr/news/2025/05/11/l_2025051201000278400025171.jpg', 'publishedAt': '2025-05-11T11:20:01Z', 'content': '12 \\r\\n11 . \\r\\n. 12. 14 2 .\\r\\n 11 8-0 . 33 11 .\\r\\n 12 1992 523 . 2 14 . .\\r\\n . 1~2 4 3 4 .\\r\\n 3 . 5-0 9 , 3 .\\r\\n 6 . 8 93 1 2, 9 .\\r\\n 8 , , , 93 1 .\\r\\n . 5 .\\r\\n 6 1 . 16 55 3.73 8 6 .\\r\\n .\\r\\n . 1 .\\r\\n . 11 . 2 2 .… [+21 chars]'}, {'source': {'id': None, 'name': 'Khan.co.kr'}, 'author': '이성희 기자 mong2@kyunghyang.com', 'title': '‘새우가 고래 삼켰다’ 한화, 아워홈 인수···단체급식 판도 바뀌나', 'description': '‘한화 삼남’ 김동선 부사장 주도\\n업계선 ‘범LG가 물량’ 어디로 갈까 관심\\n구지은 부회장 향후 반발 등 과제도\\n\\n\\n\\n한화그룹이 국내 급식업체 2위로 연 매출 2조원대 규모인 아워홈을 인수했다. 급식업계 안팎에서는 그간 아워홈이 맡아왔던 범LG가 급식 물량이 어디로 갈지에 관심을 보이고 있다. 한화는 급식과 레저·식음 분야에서 시너지를 내 글로벌 식품기업으···', 'url': 'https://www.khan.co.kr/article/202505151723011', 'urlToImage': 'https://img.khan.co.kr/news/2025/05/15/news-p.v1.20250515.4a11b8b61a8845f5a1951217e6c4a0f0_P1.jpg', 'publishedAt': '2025-05-15T08:23:01Z', 'content': '2 2 . LG . · .\\r\\n 58.62% 15 . 50.62% 8% 2 2 . 8695.\\r\\n . 10 7 .\\r\\n . · 2020 VIG 5 . 30 .\\r\\n .\\r\\n . 22440, 887 . 2 . 7509, 138.\\r\\n . 2, . LG .\\r\\n . LG . CJ LG .\\r\\n · . , .\\r\\n . 9 4, 3 , , , .\\r\\n . (AI), , .\\r\\n .… [+49 chars]'}, {'source': {'id': None, 'name': 'Zdnet.co.kr'}, 'author': '신영빈 기자', 'title': '디월트, 한화 이글스와 대전서 공동 행사', 'description': \"[지디넷코리아]디월트는 대전 한화생명 볼파크에서 '2025 디월트 데이'를 개최한다고 16일 밝혔다.2025 디월트 데이는 한화이글스와 SSG랜더스의 경기가 열리는 17~18일 양일간 진행된다. 행사는 17일 오후 3시, 18일 오후 12시부터 경기장 내 중앙홀과 구장 내 에스컬레이터 부근 공간에서 열린다.디월트는 야구장을 찾는 팬들에게 즐거움을 선사하기 위해 다양한 프로그램을 준비했다. 디월트 제품 체험 존에서는 디월트 트럭에 전시된 다양한 디월트 공구들을 …\", 'url': 'https://zdnet.co.kr/view/?no=20250516004425', 'urlToImage': 'https://image.zdnet.co.kr/2025/05/16/049b72950365a60b4f8df65662563207.jpg', 'publishedAt': '2025-05-15T22:50:01Z', 'content': '\\'2025 \\'\\xa0 16 .\\r\\n2025 SSG 17~18 . 17 3, 18 12 .\\r\\n . .\\r\\n, (=)\\r\\n\\xa0 .\\xa0 7 , 600 UV .\\xa0 X SNS 3M .\\r\\n .\\xa0 20% . 8V MAX DCF008 .\\r\\n \" \" \" \" .'}, {'source': {'id': None, 'name': 'Khan.co.kr'}, 'author': '이성희 기자 mong2@kyunghyang.com', 'title': '한화, ‘매출 2조’ 아워홈 인수…‘글로벌 식품기업’ 도약 노린다', 'description': '‘3남’ 김동선 부사장 주도, 8695억원 투입해 지분 58.62% 확보\\n단체급식 시장 판도 변화 주목…‘범LG가’ 물량 향배도 관심\\n아워홈 구지은 부회장·노조 반발 변수에 대규모 차입 우려도\\n\\n\\n\\n한화그룹이 국내 급식업체 2위로 연매출이 2조원대인 아워홈을 인수했다. 업계 안팎에서는 그간 아워홈이 맡아왔던 범LG가 급식 물량이 어디로 갈지에 관···', 'url': 'https://www.khan.co.kr/article/202505152053015', 'urlToImage': 'https://img.khan.co.kr/news/2025/05/15/l_2025051601000438100042611.jpg', 'publishedAt': '2025-05-15T11:53:01Z', 'content': '2 2 . LG .\\r\\n 58.62% 15 . 50.62% 8% 2 2 . 8695.\\r\\n .\\r\\n . · 2020 VIG 5 .\\r\\n . 22440, 887 . 2 . 7509, 138.\\r\\n . 2, .\\r\\n . LG . CJ LG .\\r\\n · .\\r\\n , .\\r\\n . .\\r\\n (AI) , .\\r\\n . ( 20.67%) .\\r\\n . .\\r\\n . 2500 (FI) .\\r\\n 3 … [+8 chars]'}, {'source': {'id': None, 'name': 'Zdnet.co.kr'}, 'author': '류은주 기자', 'title': '\"한화 주식 헐값 매각\"…영풍·MBK, 최윤범 회장 등 손배소', 'description': '[지디넷코리아]고려아연과 경영권 분쟁중인 영풍과 MBK파트너스가 이번엔 최윤범 회장과 박기덕 대표이사를 상대로 소송을 제기했다. 고려아연 최대주주 MBK파트너스 자회사 한국기업홀딩스는 12일 한화 주식 헐값처분으로 입은 1천억원대 손해를 배상하라며 최 회장과 박기덕 대표를 상대로 주주대표소송(손해배상)을 제기했다고 밝혔다.최 회장과 박 대표가 지난해 11월 이사회 결의도 없이 고려아연이 보유 중이던 한화 주식(발행주식총수의 7.25%)를 저가로 처분함으로써 고…', 'url': 'https://zdnet.co.kr/view/?no=20250512135412', 'urlToImage': 'https://image.zdnet.co.kr/2024/11/13/a70ec924e28903c186abfc42c3c4a335.jpg', 'publishedAt': '2025-05-12T04:59:46Z', 'content': 'MBK \\xa0 .\\xa0\\xa0\\r\\n MBK \\xa012 1 () .\\r\\n 11 ( 7.25%) .\\xa0 MBK .\\xa0\\r\\n (=)\\r\\n. , .\\xa0\\r\\n \\xa0 , .\\r\\n·MBK \" 196 , 1 \" \" 80% \" .\\xa0\\r\\n \" 27950 \\xa0 12.92% \\xa0 .'}, {'source': {'id': None, 'name': 'Zdnet.co.kr'}, 'author': '안희정 기자', 'title': '‘월간 CGV 씬-스틸러상’ 첫 수상자...한화 이글스 응원단장', 'description': '[지디넷코리아]CGV는 KBO(한국야구위원회)와 함께 올해 새롭게 신설한 CGV 공식 스폰서상 ‘월간 CGV 씬-스틸러상’의 첫 수상자로 한화 이글스의 홍창화 응원단장을 선정하고 시상을 진행했다고 16일 밝혔다.‘월간 CGV 씬-스틸러상’은 KBO 리그 진행 중 영화 같은 명장면을 만들어낸 1인을 선정해 월간 시상을 진행하는 이벤트로 선수단을 포함해 응원단, 구단 스태프, 진행요원 등 야구장에서 함께하는 모든 인원이 대상자다. CGV는 CGV 씬-스틸러상 수상…', 'url': 'https://zdnet.co.kr/view/?no=20250516090845', 'urlToImage': 'https://image.zdnet.co.kr/2025/05/16/e113acc5d9806eba285279ba7068b140.jpg', 'publishedAt': '2025-05-16T00:10:07Z', 'content': 'CGV KBO() CGV CGV - 16 .\\r\\n CGV - KBO 1 , , . CGV CGV - 100 &amp; 2 .\\r\\n CGV - CJ CGV () ()\\r\\n\\'3~4 CGV -\\' , , , SSG . CGV - 2 5 CGV \\'[KBO] 3~4 CGV - \\' 100% , . CGV - \" - \" \" \" .\\r\\nCJ CGV 3·4 - KBO 5 1 10… [+42 chars]'}, {'source': {'id': None, 'name': 'Ohmynews.com'}, 'author': '양형석', 'title': \"'6연속 선발승' 와이스, 비정규직에서 한화 에이스로\", 'description': '한화가 고척돔에서 열린 키움과의 3연전을 쓸어 담으며 12연승을 내달렸다.\\n\\n김경문 감독이 이끄는 한화 이글스는 11일 서울 고척 스카이돔에서 열린 2025 신한 SOL 뱅크 KBO리그 키움 히어로즈와의 원정 경기에서 홈런 1방을 포함해 장단 11안타를 터트리며 8-0으로 승리했다. 지난 4월 26일 kt 위즈와의 경기를 시작으로 12경기를 모두 승리로 장식한 한화는 지난 1992년 5월 23일 쌍방울 레이더스전 이후 무려 32년11개월18일 만에 12연승을 …', 'url': 'https://star.ohmynews.com/NWS_Web/OhmyStar/at_pg.aspx?CNTN_CD=A0003127620', 'urlToImage': 'https://ojsfile.ohmynews.com/CRI_T_IMG/2025/0511/A0003127620_T.jpg', 'publishedAt': '2025-05-12T00:26:02Z', 'content': \"3 12 .11 2025 SOL KBO 1 11 8-0 . 4 26 kt 12 1992 5 23 321118 12 (2713).\\r\\n3 21,3 6 . , . . 6 3 ' ' .\\r\\n'' \\r\\nKBO '' . '' KBO ' ' . 6 .\\r\\nKBO SSG 150km 5 22 5.09 . 7 236.03 KBO .\\r\\nKIA 2 . . 9 324.53 KIA '… [+255 chars]\"}, {'source': {'id': None, 'name': 'Zdnet.co.kr'}, 'author': '백봉삼 기자', 'title': \"SBVA, 일본 2.5D IP 엔터 기업 '우타이테' 투자\", 'description': '[지디넷코리아]에스비브이에이(대표 이준표, SBVA)는 일본의 IP 콘텐츠 엔터테인먼트 스타트업 우타이테가 진행한 5천500만 달러(한화 약 779억원) 규모의 시리즈B 투자에 참여, 일본 기업에 첫 투자했다고 13일 밝혔다.이번 투자는 중국 인터넷·게임 기업인 텐센트가 주도한 가운데 SBVA, 일본정책투자은행 등 다수의 투자사가 참여했다. 우타이테의 누적 투자금은 9천 달러로 한화 약 1천275억원에 달한다.우타이테는 서브컬처 기반 엔터테인먼트 스타트업으로,…', 'url': 'https://zdnet.co.kr/view/?no=20250513133601', 'urlToImage': 'https://image.zdnet.co.kr/2025/05/13/efe012bd673aef4d8190330d2ee7442c.png', 'publishedAt': '2025-05-13T04:36:01Z', 'content': '( , SBVA) IP 5500 ( 779) B , 13 .\\r\\n · SBVA, . 9 1275 .\\r\\n , (2D) (3D) (2.5D IP) · .\\r\\nSBVA x \\r\\n\\' \\' 2D , .\\r\\n 2.5D IP . 8 2D 8 , , 2.5D .\\r\\n , , . , .\\r\\n SBVA \" M&amp;A 2D IP \" \" SBVA \" .\\r\\n \" 2.5D IP \" \" ,… [+8 chars]'}, {'source': {'id': None, 'name': 'Zdnet.co.kr'}, 'author': '조이환 기자', 'title': \"오픈AI, UAE에 데이터센터 설립 검토…中 견제 위해 '美 블록' 쌓나\", 'description': '[지디넷코리아]오픈AI가 아랍에미리트(UAE)에 인공지능(AI) 데이터센터를 구축하는 방안을 검토 중이다.15일 블룸버그 등 주요 외신에 따르면 오픈AI는 아부다비 기반의 AI 기업 G42와 협력해 아랍에미리트 내 데이터센터 설립을 추진하고 있다. 관련 계약은 이르면 이번 주 내에 발표될 가능성이 있는 것으로 전해졌다.G42는 오픈AI와 지난 2023년 공식 파트너십을 체결한 바 있다. 이 기업은 마이크로소프트(MS)로부터 약 15억 달러(한화 약 2조1천억원…', 'url': 'https://zdnet.co.kr/view/?no=20250515090840', 'urlToImage': 'https://image.zdnet.co.kr/2025/02/04/0ddcf468c68c412e78f1370708ae8f43.png', 'publishedAt': '2025-05-15T00:47:21Z', 'content': 'AI (UAE) (AI) .\\r\\n15 AI AI G42 . .\\r\\nG42 AI 2023 . (MS) 15 ( 21)\\xa0 AI .\\r\\n AI (=)\\r\\nMGX . MGX AI AI \\'\\' .\\r\\nAI \\'AI (OpenAI for Countries)\\' . AI ·· , .\\r\\nAI \\'AI \\' \" AI AI \" .'}, {'source': {'id': None, 'name': 'Zdnet.co.kr'}, 'author': '김민아 기자', 'title': '에이피알 메디큐브, 美 뷰티 체인 ‘울타 뷰티’ 진출', 'description': '[지디넷코리아]에이피알은 자사 뷰티 브랜드 ‘메디큐브’가 미국의 대형 뷰티 전문 편집숍 ‘울타 뷰티(ULTA Beauty)’에 진출한다고 12일 밝혔다.지난달 말 체결된 이번 공급 계약은 메디큐브 화장품과 메디큐브 에이지알(AGE-R)의 뷰티 디바이스 ‘부스터 프로’와 ‘부스터 프로 미니’가 포함된 것으로 총 22종의 제품이 입점될 예정이다.초도 발주 물량은 이미 선적 작업 진행 중이며 오는 8월 중 온라인몰과 현지 오프라인 매장에 공식 입점된다.울타 뷰티는 …', 'url': 'https://zdnet.co.kr/view/?no=20250512102427', 'urlToImage': 'https://image.zdnet.co.kr/2025/05/12/203bfdc7ae1bd9df717004de7fbc460c.png', 'publishedAt': '2025-05-12T01:45:58Z', 'content': '(ULTA Beauty) 12 .\\r\\n (AGE-R) 22 .\\r\\n 8 .\\r\\n . (=)\\r\\n1400 113 ( 162500) . 600 3 .\\r\\n .\\r\\n , . .\\r\\n<ul><li>, 5 2025.04.23</li><li>, LA 2025.04.17</li><li>, · 2025.02.27</li><li>, 2025.01.20</li></ul>\\r\\n . , P… [+8 chars]'}]\n",
      "{'score': 0.8, 'explanation': \"이 기사는 한화 야구팀의 연속 승리에 대한 긍정적인 내용을 다루고 있습니다. '12회 연속 히트', '대박'이라는 긍정적인 표현, 그리고 선발 투수들의 지원 등이 언급되어 있어 긍정적인 감성을 가지고 있습니다.\"}\n",
      "{'score': 0.2, 'explanation': '약간 긍정적인 감성을 나타냄. 기업의 성장과 인수에 대한 긍정적인 관점이 있음.'}\n",
      "{'score': 0.5, 'explanation': '이 기사는 중립적인 감성을 담고 있습니다. 디월트가 한화 이글스와의 공동 행사를 개최한다는 소식을 전하고 있으며, 행사에 대한 자세한 내용을 설명하고 있습니다.'}\n",
      "{'score': 0.7, 'explanation': '기사의 내용은 한화그룹이 아워홈을 인수하여 급식업체 시장에서의 경쟁력을 높이고 글로벌 식품기업으로 도약하려는 의지를 보여줍니다. 이는 긍정적인 소식으로 해석될 수 있습니다.'}\n",
      "{'score': -0.8, 'explanation': '이 기사는 부정적인 내용을 다루고 있습니다. 한화 주식의 헐값 매각으로 인한 손해 배상 소송과 관련된 내용을 다루고 있으며, 경영권 분쟁과 관련된 논란이 있습니다. 따라서 감성 점수는 -0.8로 설정됩니다.'}\n",
      "{'score': 0.7, 'explanation': \"이 기사는 한화 이글스 응원단장이 '월간 CGV 씬-스틸러상'을 수상한 내용을 다루고 있습니다. 이는 긍정적인 소식이며, 한화 이글스와 CGV의 협업을 강조하고 있습니다. 따라서 0.7의 긍정적인 감성 점수를 부여했습니다.\"}\n",
      "{'score': 0.8, 'explanation': '이 기사는 주로 긍정적인 내용을 다루고 있습니다. 한화 이글스의 12연승을 강조하며 선수들의 활약을 언급하고 있습니다. 따라서 긍정적인 감성을 가지고 있습니다.'}\n",
      "{'score': 0.6, 'explanation': \"이 기사는 일본의 IP 콘텐츠 엔터테인먼트 기업 '우타이테'에 대한 SBVA의 투자 소식을 다루고 있습니다. 긍정적인 투자 소식이므로 감성 점수는 0.6으로 판단됩니다.\"}\n",
      "{'score': 0.5, 'explanation': '이 기사는 중립적인 내용을 다루고 있습니다. 오픈AI가 UAE에 데이터센터를 설립하는 계획을 검토 중이며, 협력사와 관련한 내용을 다루고 있습니다.'}\n",
      "{'score': 0.7, 'explanation': \"이 기사는 긍정적인 내용을 다루고 있습니다. 에이피알의 뷰티 브랜드 '메디큐브'가 미국의 대형 뷰티 전문 편집숍 '울타 뷰티'에 진출한다는 소식을 전하고 있으며, 공급 계약이 체결되어 다양한 제품이 입점될 예정이라고 언급하고 있습니다. 이로 인해 긍정적인 감성을 느낄 수 있습니다.\"}\n",
      "[{'source': {'id': None, 'name': 'Zdnet.co.kr'}, 'author': '신영빈 기자', 'title': '\"방산 새 미래는 AI 드론\"…10주년 니어스랩, 글로벌 공략 박차', 'description': '[지디넷코리아]\"지난 10년간 드론으로 세상에 새로운 시각을 더한다는 니어스랩의 가치를 기술로 증명했습니다. 앞으로 10년은 AI와 드론 기술을 통해 글로벌 방위·보안·안전 산업에 새로운 기준을 제시하는 시기가 될 것입니다.\"15일 최재혁 니어스랩 대표는 올해 창업 10주년을 맞아 방산·보안 분야에서 성과를 내겠는 포부를 전했다.니어스랩은 AI 자율비행 기술을 바탕으로 2015년 5월 설립됐다. 2017년 풍력발전기 안전점검 분야에 진입하며 본격적인 사업을 시…', 'url': 'https://zdnet.co.kr/view/?no=20250515140937', 'urlToImage': 'https://image.zdnet.co.kr/2025/05/15/3031c03c91009f590ac0ac784df8401d.png', 'publishedAt': '2025-05-15T06:36:54Z', 'content': '\" 10 . 10 AI ·· .\"\\r\\n15 10 \\xa0· .\\r\\n AI 2015 5 . 2017 \\xa0 .\\r\\n \\' \\' GE, .\\r\\n () CTO() (=)\\r\\n, , , 30 , \\' \\' .\\xa0 2022 CES · .\\r\\nAI , 2023 .\\r\\n AI , . \\xa0CES 2025 ,\\xa0 2025 .\\r\\n\\xa0K- .\\xa0 .\\r\\n (=)\\r\\n(SRR) (MOA) . (CSO) .\\r\\n 2 D… [+56 chars]'}, {'source': {'id': None, 'name': 'Khan.co.kr'}, 'author': '박하얀 기자 white@kyunghyang.com', 'title': '이재명 ‘10대 공약’···‘기본사회’ 지고 ‘K-시리즈’ 떴다', 'description': '지난 대선 10대 공약과 비교해보니···\\nK-콘텐츠, K-방산, K-민주주의 등 부각\\n‘개헌’ 빠지고 ‘여성’ 관련 공약은 2건뿐\\n\\n이재명 더불어민주당 대선 후보가 공식 선거운동 시작일인 12일 경기 화성시 동탄 센트럴파크에서 ‘K-반도체’ 동탄 집중유세를 하며 ‘세계 1위 반도체 강국 도약!’이라 적고 서명한 웨이퍼를 들어보이고 있다. 박민규 선임기자\\n\\n···', 'url': 'https://www.khan.co.kr/article/202505121725001', 'urlToImage': 'https://img.khan.co.kr/news/2025/05/12/news-p.v1.20250512.9254a9c6e9c34b00a618d7a74cb5b49b_P1.jpeg', 'publishedAt': '2025-05-12T08:25:00Z', 'content': '12 K- 1 ! . \\r\\nK- . 10 . K-, K-, K- . 10 , .\\r\\n 12 10 K- . K- K- K- K- K . .\\r\\n 10 . 3 . 8 . . 25 .\\r\\n 10 10 . 9 4 . . . 24 () 6 , (2028) .\\r\\n( ) 12 21 10 . \\r\\n. 10 , · 2 . 10 · .\\r\\n · . ( ) ( ) .'}, {'source': {'id': None, 'name': 'Zdnet.co.kr'}, 'author': '백봉삼 기자', 'title': '태성에스엔이-알에프텍, 드론 방호체계 공동 개발 힘 모은다', 'description': \"[지디넷코리아]CAE(Computer-Aided Engineering) 전문기업 태성에스엔이와 무선통신 부품 전문기업 알에프텍은 드론 방호체계 공동 개발을 위한 전략적 업무협약(MOU)을 체결했다고 14일 밝혔다.양사는 13일 서울 강동구에 위치한 알에프텍 신사옥에서 '웨어러블 안티드론' 솔루션 공동 개발을 위한 협약식을 가졌다. 이번 협약은 급변하는 방위산업 기술 환경과 드론 위협에 대한 선제적 대응을 위해 실전 적용이 가능한 차세대 통합 솔루션을 공동으로 …\", 'url': 'https://zdnet.co.kr/view/?no=20250514113154', 'urlToImage': 'https://image.zdnet.co.kr/2025/05/14/33413d944d1983e8345303644c40c8ae.jpg', 'publishedAt': '2025-05-14T02:31:54Z', 'content': 'CAE(Computer-Aided Engineering) (MOU) 14 .\\r\\n 13 \\' \\' . .\\r\\n 30 , , . , , .\\r\\n-, \\r\\n. · .\\r\\n Ansys . .\\r\\n . , .\\r\\n , , . , .\\r\\n . .\\r\\n \" \" \"Ansys CAE \" .'}, {'source': {'id': None, 'name': 'Zdnet.co.kr'}, 'author': '백봉삼 기자', 'title': \"마인즈그라운드, 'DX KOREA 2026' 공식 주관사 됐다\", 'description': '[지디넷코리아]마이스(회의·인센티브·컨퍼런스·전시) 전문기업 마인즈그라운드가 국내 방위산업전인 DX KOREA 2026 공식 주관사로 선정됐다고 12일 밝혔다.이날 협약식은 마인즈그라운드 민환기 대표와 DX KOREA 2026 추진위원회 김영후 위원장 등 양 기관 주요 관계자가 참석했다. 여기에서 마인즈그라운드와 DX KOREA 2026 추진위원회는 상호 협력을 위한 포괄적 업무협약(MOU)을 체결했다.이번 협약을 통해 양 기관은 2026년 9월16일부터 19…', 'url': 'https://zdnet.co.kr/view/?no=20250512181246', 'urlToImage': 'https://image.zdnet.co.kr/2025/05/12/665b112f182f5c0b667914d6eb64e9eb.jpg', 'publishedAt': '2025-05-12T09:12:46Z', 'content': '(···)\\xa0 DX KOREA 2026 12 .\\r\\n DX KOREA 2026 . DX KOREA 2026 (MOU) .\\r\\n 2026 916 19 4 2 7 (DX KOREA 2026) . AI, , , , . (····) , .\\r\\n ( ) DX KOREA 2026 (DX KOREA) 2026 12 .\\r\\nDX KOREA \\xa0 , DX KOREA 2026 K- … [+111 chars]'}, {'source': {'id': None, 'name': 'Zdnet.co.kr'}, 'author': '류은주 기자', 'title': '정기선 \"美 조선 재건에 HD현대 역할 있다면 기꺼이 참여할 것”', 'description': '[지디넷코리아]HD현대 정기선 수석부회장이 16일 미국무역대표부(USTR) 제이미슨 그리어 대표와 만나 한·미간 조선산업 협력방안에 대해 논의했다.국내 조선업계에서 USTR 대표와 공식 회담을 가진 것은 이번이 처음으로, USTR 대표단은 아시아태평양경제협력체(APEC) 통상장관 회의 참석을 위해 방한했다.이날 회담에서 정기선 수석부회장은 HD현대중공업과 미국 방산 조선사 헌팅턴 잉걸스 간 협력 사례를 소개하며 ▲공동 기술개발 ▲선박 건조 협력 ▲기술 인력 양…', 'url': 'https://zdnet.co.kr/view/?no=20250516101054', 'urlToImage': 'https://image.zdnet.co.kr/2025/05/16/1bc6730701cca174a7941699486aafd8.jpg', 'publishedAt': '2025-05-16T01:10:54Z', 'content': ''}, {'source': {'id': None, 'name': 'Zdnet.co.kr'}, 'author': '장경윤 기자', 'title': \"코보, 美 방산기업 노스롭그루먼서 '우수 공급업체' 선정\", 'description': '[지디넷코리아]커넥티비티 및 전력 솔루션 선도 기업 코보(Qorvo)는 글로벌 방산기업 노스롭그루먼(Northrop Grumman)으로부터 ‘우수 공급업체’로 선정됐다고 14일 밝혔다.노스롭그루먼은 매년 자사의 핵심 사업에 기여한 주요 협력사에게 상을 수여하고 있다. 코보는 혁신적이고 비용 효율적인 방위 레이더 및 통신 솔루션으로 기술력과 성과를 인정받아 ‘공급업체 퍼포먼스 우수상’을 수상했다. 코보는 급변하는 글로벌 안보 환경 속에서도 고객이 경쟁력을 유지할…', 'url': 'https://zdnet.co.kr/view/?no=20250514164238', 'urlToImage': 'https://image.zdnet.co.kr/2025/05/14/4bda92149aad18c1c7f7a6da4f5213bd.jpg', 'publishedAt': '2025-05-14T08:17:45Z', 'content': '(Qorvo) (Northrop Grumman) 14 .\\r\\n . .\\xa0\\r\\n(=)\\r\\n.\\r\\n \\xa0 , , , .\\r\\n \\xa0 (RF) .\\r\\n .'}, {'source': {'id': None, 'name': 'Zdnet.co.kr'}, 'author': '김재성 기자', 'title': 'KG모빌리티, 인도네시아 KD 공급 물량 확대 체결', 'description': '[지디넷코리아]KG모빌리티(KGM)가 인도네시아 핀다드(핀다드)사와 렉스턴 KD 공급 물량 및 사업 확대를 위한 HOA(주요 조건 합의서)를 체결했다고 13일 밝혔다.지난 8일(현지시간) 인도네시아 반둥에 위치한 핀다드 본사에서 진행된 HOA 체결식에는 KGM 곽재선 회장과 황기영 대표이사, KGMC 김종현 대표이사를 비롯해 핀다드 시깃 산토사 대표와 투썬이엔지 김재무 대표 등 관계자들이 참석했다.KGM은 이번 핀다드와의 HOA를 통해 국민차 프로젝트와 전기 …', 'url': 'https://zdnet.co.kr/view/?no=20250513110516', 'urlToImage': 'https://image.zdnet.co.kr/2025/05/13/d3c078246ab7579380f9218db995a766.jpg', 'publishedAt': '2025-05-13T02:05:16Z', 'content': \"KG(KGM) () KD HOA( ) 13 .\\r\\n 8() HOA KGM , KGMC .\\r\\nKGM HOA , .\\r\\nKGM (PT Pindad) KD HOA . (HOA , KGM , KGM , (Mr. Sigit P. Santosa) )\\r\\n' &amp; ' 20 .\\r\\n , , 70% .\\r\\nKGM KD 160 , 3 .\\r\\n KGM 3 FAME MOU .\\r\\n … [+10 chars]\"}, {'source': {'id': None, 'name': 'Zdnet.co.kr'}, 'author': '류은주 기자', 'title': '한화오션, 지역 조선사들과 MRO 동맹…\"인도·태평양 허브 목표\"', 'description': '[지디넷코리아]한화오션이 인도·태평양 MRO(유지·보수·정비) 허브 구축을 위한 본격적인 행보에 나섰다. 지속적으로 증가하는 국내외 함정 정비 수요에 발 맞춰 지역 업체들과 손잡았다.한화오션은 14일 한화오션 거제사업장에서 ‘함정 MRO 클러스터 협의체’ 착수 회의를 개최했다고 밝혔다. 이날 회의에서 한화오션은 성동조선, SK오션플랜트 등 부산·경남 지역 조선소 및 정비, 설비 전문업체 15개사와 함정 정비산업 기반 구축 및 지역 동반성장을 위한 양해각서(MO…', 'url': 'https://zdnet.co.kr/view/?no=20250514162722', 'urlToImage': 'https://image.zdnet.co.kr/2025/05/14/686f4cf49cef2e0b44e945d83df6dbb1.jpg', 'publishedAt': '2025-05-14T08:02:21Z', 'content': '· MRO(··) . .\\r\\n 14 MRO . , SK · , 15 (MOU) .\\r\\n MRO . . .\\r\\n 14 15 (, ) MRO . (=)\\r\\nMRO MRO MRO MRO (SCM) .\\r\\nMOU 15 ·· , . , ·· 1 .\\r\\n 7 MRO . MRO .\\r\\n MRO MRO · MRO , MRO .\\r\\n<ul><li>2025.05.01</li><li>\" … [+124 chars]'}, {'source': {'id': None, 'name': 'Zdnet.co.kr'}, 'author': '남혁우 기자', 'title': '[현장] IT서비스 학술대회, AI 혁신 방향 제시…KIST·포스코DX·삼성SDS 한자리에', 'description': \"[지디넷코리아]인공지능(AI)이 산업과 사회 전반에 본격 확산하는 가운데, 디지털 서비스 혁신 방향과 실질적인 대응 전략을 논의하기 위한 장이 마련됐다.한국IT서비스학회는 정보통신기획평가원(IITP)과 공동으로 14일 서울 강남구 한국과학기술회관에서 '2025 춘계학술대회'를 개최했다.'세상 밖으로 나온 AI: IT 서비스의 기회와 과제'를 주제로 열린 이번 학술대회는 총 7개 트랙, 28개 세션으로 구성됐으며, 산업 현장과 공공 부문에서의 AI 적용 사례와 …\", 'url': 'https://zdnet.co.kr/view/?no=20250514123614', 'urlToImage': 'https://image.zdnet.co.kr/2025/05/14/592655131f82e450a411a47c078d6ef8.jpg', 'publishedAt': '2025-05-14T03:59:16Z', 'content': \"(AI) , .\\r\\nIT (IITP) 14 '2025 ' .\\r\\n' AI: IT ' 7 , 28 , AI 120 . AI , , .\\r\\nIT '2025 '(=IT)\\r\\n(KIST) 'AI ' , .\\r\\n . , , .\\r\\n KIST 'KFX' AI , .\\r\\n , , , .\\r\\n2025 (=IT)\\r\\n'(Physical) AI ' , , , . DX, , , AI .\\r\\n… [+351 chars]\"}, {'source': {'id': None, 'name': 'Ohmynews.com'}, 'author': '박정길', 'title': \"트럼프, 카타르서 1680조 원 '초대형 경제패키지' 성사\", 'description': '5월 14일(현지시각) 도하 루사일 궁전. 도널드 트럼프 미국 대통령과 셰이크 타밈 빈 하마드 알사니 카타르 국왕이 \\'역대급\\' 경제·안보 패키지 합의서에 나란히 서명했다. 백악관은 이번 합의가 \"최소 1조 2천억 달러(약 1680조 원) 규모의 경제 교류\"를 창출할 것이라고 공식 발표했다.\\n\\n이번 \\'메가딜\\'의 핵심은 미국산 첨단 제조업과 방산, 에너지, 첨단기술이 총망라된 대규모 계약이다. 카타르항공은 보잉 787 드림라이너와 777X 등 미국산 항공기 210…', 'url': 'https://www.ohmynews.com/NWS_Web/View/at_pg.aspx?CNTN_CD=A0003131061', 'urlToImage': 'https://ojsfile.ohmynews.com/CT_T_IMG/2025/0515/IE003460128_LT.jpg', 'publishedAt': '2025-05-15T00:57:40Z', 'content': '5 14(), , · . (Fact Sheet) . \\r\\n5 14() . \\'\\' · . \" 1 2 ( 1680 ) \" .\\'\\' , , . 787 777X 210, GE 960 . , 100 .\\r\\n· 85 7 , 970 30 . 10 · .\\r\\n. 10 (FS-LIDS), 20 MQ-9B . , · 380 .\" , , , , , , 5 \" . 2024 38 , 5… [+133 chars]'}]\n",
      "{'score': 0.8, 'explanation': '기사의 내용은 긍정적인 내용으로 이루어져 있습니다. 니어스랩이 AI와 드론 기술을 통해 방위·보안·안전 산업에 새로운 기준을 제시하고자 하는 의지와 포부가 강조되고 있습니다. 또한, 기술적 성과와 글로벌 공략에 대한 언급도 긍정적인 요소로 작용하고 있습니다.'}\n",
      "{'score': 0.5, 'explanation': '이 기사는 이재명 후보의 대선 공약과 활동에 대한 중립적인 내용을 다루고 있습니다. 긍정적인 면과 부정적인 면이 모두 언급되어 있어 중립적인 감성을 가지고 있습니다.'}\n",
      "{'score': 0.8, 'explanation': '이 기사는 긍정적인 내용을 다루고 있습니다. 태성에스엔이와 알에프텍이 드론 방호체계 공동 개발을 위한 전략적 업무협약을 체결했고, 웨어러블 안티드론 솔루션 공동 개발을 위한 협약식을 가졌다는 내용이 포함되어 있습니다. 이는 기술 혁신과 협력에 대한 긍정적인 메시지를 전달하고 있습니다.'}\n",
      "{'score': 0.7, 'explanation': \"이 기사는 마인즈그라운드가 'DX KOREA 2026'의 공식 주관사로 선정되었다는 내용을 다루고 있습니다. 해당 소식은 긍정적인 소식으로 해석될 수 있습니다.\"}\n",
      "{'score': 0.8, 'explanation': '이 기사는 긍정적인 내용을 다루고 있습니다. 정기선 수석부회장이 미국무역대표부(USTR) 제이미슨 그리어 대표와 한·미간 조선산업 협력방안에 대해 논의하고 HD현대 역할에 대해 긍정적인 입장을 표명한 내용입니다.'}\n",
      "{'score': 0.8, 'explanation': \"코보가 노스롭그루먼으로부터 '우수 공급업체'로 선정되어 긍정적인 소식을 전하고 있습니다. 이는 코보의 기술력과 성과가 인정받아 상을 수상했다는 것으로 긍정적인 평가를 받고 있는 것을 나타냅니다.\"}\n",
      "{'score': 0.7, 'explanation': '이 기사는 KG모빌리티가 인도네시아 KD 공급 물량 확대를 위한 합의를 체결했다는 내용을 다루고 있습니다. 긍정적인 내용을 다루고 있으며, 협력 관계가 강화되고 사업 확대가 이루어질 것으로 기대됩니다.'}\n",
      "{'score': 0.8, 'explanation': '이 기사는 한화오션의 MRO 허브 구축에 대한 긍정적인 소식을 다루고 있습니다. 한화오션이 국내외 함정 정비 수요에 발맞춰 지역 업체들과 손잡고 협력하는 내용이 포함되어 있어 감성 점수 0.8을 부여했습니다.'}\n",
      "{'score': 0.8, 'explanation': '매우 긍정적인 감성을 가지고 있습니다. 기사 내용은 IT서비스 학술대회가 AI 혁신 방향을 제시하고 실질적인 대응 전략을 논의하는 내용으로 구성되어 있습니다.'}\n",
      "{'score': 0.8, 'explanation': '이 기사는 트럼프 대통령과 카타르 국왕이 경제 협력에 관한 합의를 이루었음을 다루고 있습니다. 합의서에 대한 내용은 긍정적으로 평가될 수 있으며, 경제 교류 창출에 대한 언급도 긍정적인 요소로 작용합니다.'}\n",
      "[{'source': {'id': None, 'name': 'Khan.co.kr'}, 'author': '최미랑 기자 rang@kyunghyang.com', 'title': '건설경기 ‘최악’…금융위기 때보다 더 심각', 'description': '건산연 ‘진단 보고서’…“더 빠르게 침체, 더 느리게 회복” 전망\\n\\n\\n\\n수주·착공 감소에 수익성도 하락 \\n저성장 국면 진입, 반등 여건 악화\\n\\n“금리 인하·재정 지출 확대 제약 \\n정부, 신속한 ‘부양책’ 마련 필요” \\n공공 발주 정상화·도심 개발 제안\\n\\n국내 건설경기가 2008년 글로벌 금융위기 때보다 더 침체된 수준이며 경기 여건상 회···', 'url': 'https://www.khan.co.kr/article/202505152050005', 'urlToImage': 'https://img.khan.co.kr/news/2025/05/15/l_2025051601000413500042541.jpg', 'publishedAt': '2025-05-15T11:50:00Z', 'content': ', \\r\\n· , \\r\\n · , · \\r\\n 2008 .\\r\\n() 15 2008 2008 . , , , .\\r\\n 2023 2008 . .\\r\\n () 2023 2071000, (2484000) 16.6% . 2008(-6.1%) .\\r\\n , 2023 () 1719000 18.9% . 2008 15.5% .\\r\\n () 3.9% , 1785000 2007(1842000) . 2… [+192 chars]'}, {'source': {'id': None, 'name': 'Zdnet.co.kr'}, 'author': '손희연 기자', 'title': '[미장브리핑] 사우디와 6천억달러 규모 투자…엔비디아·AMD 상승', 'description': '[지디넷코리아]◇ 13일(현지시간) 미국 증시▲다우존스산업평균(다우)지수 전 거래일 대비 0.64% 하락한 42140.43.▲스탠다드앤푸어스(S&P)500 지수 전 거래일 대비 0.72% 상승한 5886.55.▲나스닥 지수 전 거래일 대비 1.61% 상승한 19010.08.▲S&P500 지수 2025년 0.08% 상승. ▲도널드 트럼프 미국 대통령이 리야드에서 열린 미국-사우디아라비아 투자 포럼 연설에서 사우디아라비아가 미국과의 거래에 6천억 달러를 투자한다고…', 'url': 'https://zdnet.co.kr/view/?no=20250514081532', 'urlToImage': 'https://image.zdnet.co.kr/2024/12/17/8ea72ab6c50281ed9c27f6761637a9c2.jpg', 'publishedAt': '2025-05-13T23:15:32Z', 'content': '13() \\r\\n() 0.64% 42140.43.\\r\\n(S&amp;P)500 0.72% 5886.55.\\r\\n 1.61% 19010.08.\\r\\n(=)\\r\\nS&amp;P500 2025 0.08% .\\xa0\\r\\n - 6 . 1420 . 200 . ···AMD· \\xa0 800 .\\xa0(Nvidia) 5.6%, 4%, AMD 4% .\\xa0\\r\\n \\xa0 ··· 1 .\\r\\n \" , , \" CNBC .\\r… [+55 chars]'}, {'source': {'id': None, 'name': 'Zdnet.co.kr'}, 'author': '손희연 기자', 'title': '[미장브리핑] 美 4월 PPI 예측치 하향…\"불확실성·경기침체 가능성\" 거론', 'description': '[지디넷코리아]◇ 15일(현지시간) 미국 증시▲다우존스산업평균(다우)지수 전 거래일 대비 0.65% 상승한 42322.75.▲스탠다드앤푸어스(S&P)500 지수 전 거래일 대비 0.41% 상승한 5916.93.▲나스닥 지수 전 거래일 대비 0.18% 하락한 19112.32.▲미국 4월 생산자물가지수(PPI)는 전월 대비 0.5% 하락. 다우존스 전망치 0.3% 상승보다 크게 하향. 4월 소매판매는 0.1% 증가해 시장 예측치와 일치. 지표 발표 이후 채권 금리…', 'url': 'https://zdnet.co.kr/view/?no=20250516080654', 'urlToImage': 'https://image.zdnet.co.kr/2022/03/08/b02b87288c12ca26138f6801b1cd5c27.jpg', 'publishedAt': '2025-05-15T23:06:54Z', 'content': '15() \\r\\n() 0.65% 42322.75.\\r\\n(S&amp;P)500 0.41% 5916.93.\\r\\n 0.18% 19112.32.\\r\\n(=)\\r\\n4\\xa0(PPI) 0.5% .\\xa0 0.3% . 4 0.1% . . 10 0.08%p 4.44%, 2 0.09%p 3.96%.\\r\\nS&amp;P 500 2023 11\\xa0 . 6% . 16 .\\r\\n \\xa0 \" \" \"\\xa0 \" .\\r\\nJP … [+53 chars]'}, {'source': {'id': None, 'name': 'Khan.co.kr'}, 'author': '김지혜 기자 kimg@kyunghyang.com', 'title': '전기 아끼면 최고 7.2% 금리 받는 ‘에너지절약 적금’ 출시', 'description': '에너지절약 두드림적금 이벤트 설명. 국토교통부 제공.\\n\\n국토교통부는 건물 부문의 탄소중립 실현을 위해 건물 에너지 사용량을 줄이면 최고 연 7.2%의 금리를 제공하는 적금 상품을 출시한다고 밝혔다.\\n\\n11일 국토부에 따르면 SC제일은행에서 출시되는 ‘에너지절약 두드림 적금’은 오는 6~11월 전기 에너지 사용량을 지난해 같은 기간 대비 줄인 가입자에게 절감···', 'url': 'https://www.khan.co.kr/article/202505111651001', 'urlToImage': 'https://img.khan.co.kr/news/2025/05/11/news-p.v1.20250511.ac96d398aebb44df8e28f1df1f18593c_P1.png', 'publishedAt': '2025-05-11T07:51:00Z', 'content': '. .\\r\\n7.2% .\\r\\n11 SC 6~11 3.5% .\\r\\n (0% ~5% ) 1.5%, 5% 3.5% .\\r\\n 100 1 . 2.6%, · 1.1% . 7.2% .\\r\\n 12∼23 SC () . .\\r\\n .'}, {'source': {'id': None, 'name': 'Khan.co.kr'}, 'author': '김지혜 기자 kimg@kyunghyang.com', 'title': '‘절전’하면 최고 7.2% 이자 주는 적금 나온다', 'description': 'SC제일은행, 금리 우대 상품 출시\\n\\n국토교통부는 건물 부문의 탄소중립 실현을 위해 건물 에너지 사용량을 줄이면 최고 연 7.2%의 금리를 제공하는 적금 상품을 출시한다고 밝혔다.\\n\\n11일 국토부에 따르면 SC제일은행에서 출시되는 ‘에너지절약 두드림 적금’은 오는 6~11월 전기 에너지 사용량을 지난해 같은 기간 대비 줄인 가입자에게 절감량에 따라 ···', 'url': 'https://www.khan.co.kr/article/202505112027025', 'urlToImage': 'https://img.khan.co.kr/spko/company/Khan_CI_180212.jpg', 'publishedAt': '2025-05-11T11:27:02Z', 'content': 'SC, \\r\\n 7.2% .\\r\\n11 SC 6~11 3.5% .\\r\\n (0% ~5% ) 1.5%, 5% 3.5% . 100 1 . 2.6%, · 1.1% . 7.2% . 12~23 SC () . .\\r\\n .'}, {'source': {'id': None, 'name': 'Khan.co.kr'}, 'author': '김경민 기자 kimkim@kyunghyang.com', 'title': '롯데손보, 결국 ‘백기’…보험업계 ‘콜옵션’ 딜레마 확산 우려', 'description': '금리 하락에 보험사 건전성 악화, 미행사 이어질 가능성도\\n\\n쉬운 자본 확충 후순위채 의존 ‘부메랑’…재발행도 어려워질 듯\\n‘킥스 비율’ 위태 악순환…질 높은 자금 조달 방식으로 개선 필요\\n\\n롯데손해보험이 금융당국의 제동에도 후순위채권의 콜옵션(조기상환권) 강행 의지를 고수하다 결국 ‘백기’를 들었다. 롯데손보 외에도 시장금리 하락 등의 영향으로 보···', 'url': 'https://www.khan.co.kr/article/202505132058025', 'urlToImage': 'https://img.khan.co.kr/spko/company/Khan_CI_180212.jpg', 'publishedAt': '2025-05-13T11:58:02Z', 'content': ', \\r\\n () . .\\r\\n .\\r\\n 13 .\\r\\n 5 () (·K-ICS) . 150% .\\r\\n 3 150% 150% .\\r\\n . .\\r\\n . .\\r\\n 3 8000 5 . .\\r\\n (157%), (157.3%), KDB(158.24%) 150% .\\r\\n1 .\\r\\n 6 9 . NICE A+ A .\\r\\n .\\r\\n , .\\r\\n . .\\r\\n .'}]\n",
      "{'score': -0.8, 'explanation': '주어진 기사는 건설경기에 대한 부정적인 내용을 다루고 있습니다. 금융위기 때보다 더 심각한 상황이라고 언급하고 있으며, 수주·착공 감소와 수익성 하락 등의 문제가 제기되고 있습니다. 또한, 저성장 국면 진입과 반등 여건의 악화로 더 어려워질 것으로 예상하고 있습니다. 따라서 감성 점수는 -0.8로 설정되었습니다.'}\n",
      "{'score': 0.8, 'explanation': '이 기사는 경제 분야에 대한 내용으로, 사우디아라비아가 미국과의 거래에 6천억 달러를 투자한다는 소식을 전하고 있습니다. 이는 경제 활동을 촉진할 수 있는 긍정적인 소식이므로 긍정적인 감성을 가지고 있습니다.'}\n",
      "{'score': -0.7, 'explanation': '주요 지표인 미국 4월 생산자물가지수(PPI)가 예상치보다 크게 하락하면서 불확실성과 경기침체 가능성이 거론되고 있습니다. 이는 시장에 부정적인 영향을 미칠 수 있으며, 이러한 상황으로 인해 감성 점수는 -0.7로 나왔습니다.'}\n",
      "{'score': 0.8, 'explanation': \"이 기사는 긍정적인 내용을 다루고 있습니다. '에너지절약 두드림 적금' 상품이 출시되어 최고 연 7.2%의 금리를 제공한다는 소식은 좋은 소식입니다. 이는 에너지를 절약하고 환경에 이로운 영향을 미치는 행동을 장려하는 긍정적인 제도로 해석될 수 있습니다.\"}\n",
      "{'score': 0.8, 'explanation': '이 기사는 긍정적인 내용을 다루고 있습니다. 적금 상품 출시로 인해 에너지를 절약하는 노력을 장려하고, 높은 금리를 제공함으로써 긍정적인 영향을 줄 것으로 예상됩니다.'}\n",
      "{'score': -0.8, 'explanation': '주어진 기사는 부정적인 내용을 다루고 있습니다. 보험업계의 건전성이 악화되고, 콜옵션 딜레마로 인한 우려가 확산되고 있다는 내용입니다. 따라서 -0.8의 감성 점수를 부여합니다.'}\n",
      "[{'source': {'id': None, 'name': 'Zdnet.co.kr'}, 'author': '손희연 기자', 'title': '[미장브리핑] 미·중 무역갈등 잠시 봉합…트럼프 \"中 시장 개방 동의\"', 'description': '[지디넷코리아]◇ 12일(현지시간) 미국 증시▲다우존스산업평균(다우)지수 전 거래일 대비 2.81% 상승한 42410.10.▲스탠다드앤푸어스(S&P)500 지수 전 거래일 대비 3.26% 상승한 5844.19.▲나스닥 지수 전 거래일 대비 4.35% 상승한 18708.34.▲도널드 트럼프 미국 대통령은 미국과 중국이 상대국 상품에 대한 대부분의 관세를 일시적으로 인하하겠다고 발표. 트럼프 대통령은 중국의 모든 비관세 장벽도 없앨 것이며, 가장 중요한 것은 중국…', 'url': 'https://zdnet.co.kr/view/?no=20250513083948', 'urlToImage': 'https://image.zdnet.co.kr/2024/11/20/d2bf8a51575ffd0354eedf3e5e17ac3e.jpg', 'publishedAt': '2025-05-12T23:39:48Z', 'content': '12() \\r\\n() 2.81% 42410.10.\\r\\n(S&amp;P)500 3.26% 5844.19.\\r\\n 4.35% 18708.34.\\r\\n(=)\\r\\n. , \\xa0 .\\r\\n 145% 30%,\\xa0 125% 10% . 90 145% .\\r\\n \\xa0 . 90% .\\r\\n 45% 35% .\\xa0\\xa0\"(GDP) , · \" \" 12 45% 35% .\\xa0 , .\\r\\n \" ,\\xa0 , \\xa0 , 10 \\xa04% … [+6 chars]'}, {'source': {'id': None, 'name': 'Zdnet.co.kr'}, 'author': '손희연 기자', 'title': '[미장브리핑] 美 4월 CPI 발표·중국과 무역 합의 사항 주목', 'description': '[지디넷코리아]▲미·중 고위급 무역 회동에서 상당한 진전을 이뤘다고 평가한 이후 12일 공동성명을 통해 중요 합의 사항을 발표할 예정. 스콧 베센트 미국 재무장관은 무역협상이 \\'생산적\\'이었다고 말해. 제이미슨 그리어 미국 무역대표부(USTR) 대표도 어떤 형태로든 합의에 도달했다고 밝히기도. 허리펑 중국 부총리는 이번 회의가 \"상당한 진전을 이루고 중요한 합의에 도달했다\"고 언급하면서 \"양측은 무역 및 경제 문제에 대한 협의 메커니즘을 구축하기로 합의했다\"고 …', 'url': 'https://zdnet.co.kr/view/?no=20250512082819', 'urlToImage': 'https://image.zdnet.co.kr/2024/12/17/8ea72ab6c50281ed9c27f6761637a9c2.jpg', 'publishedAt': '2025-05-11T23:28:19Z', 'content': '· 12 .\\xa0 \\'\\' .\\xa0 (USTR) \\xa0 .\\xa0 \" \" \" \" .\\r\\n13() 4 (CPI) . 3 2.4% 2 . 3 0.1% .\\r\\n15 4 . 2 0.2% 3 1.4% .\\r\\n(=)\\r\\n16 5 . 3 57.0, 4 52.2 2022 7 . 1 4 6.5% 1981 .\\r\\n () 15~16 . 5 , ·· .'}]\n",
      "{'score': 0.8, 'explanation': '이 기사는 미국과 중국의 무역 갈등이 잠시 봉합되었음을 보도하고 있습니다. 주요 미국 증시 지수가 상승한 것으로 나타나며, 트럼프 대통령이 중국의 시장 개방에 동의했다는 내용이 포함되어 있습니다. 이로 인해 긍정적인 뉴스로 해석될 수 있습니다.'}\n",
      "{'score': 0.8, 'explanation': '이 기사는 미국과 중국 간의 무역 협상이 긍정적으로 진전되고 있다는 내용을 다루고 있습니다. 따라서 긍정적인 감성을 가지고 있습니다.'}\n",
      "[{'source': {'id': None, 'name': 'Zdnet.co.kr'}, 'author': '손희연 기자', 'title': '[미장브리핑] 사우디와 6천억달러 규모 투자…엔비디아·AMD 상승', 'description': '[지디넷코리아]◇ 13일(현지시간) 미국 증시▲다우존스산업평균(다우)지수 전 거래일 대비 0.64% 하락한 42140.43.▲스탠다드앤푸어스(S&P)500 지수 전 거래일 대비 0.72% 상승한 5886.55.▲나스닥 지수 전 거래일 대비 1.61% 상승한 19010.08.▲S&P500 지수 2025년 0.08% 상승. ▲도널드 트럼프 미국 대통령이 리야드에서 열린 미국-사우디아라비아 투자 포럼 연설에서 사우디아라비아가 미국과의 거래에 6천억 달러를 투자한다고…', 'url': 'https://zdnet.co.kr/view/?no=20250514081532', 'urlToImage': 'https://image.zdnet.co.kr/2024/12/17/8ea72ab6c50281ed9c27f6761637a9c2.jpg', 'publishedAt': '2025-05-13T23:15:32Z', 'content': '13() \\r\\n() 0.64% 42140.43.\\r\\n(S&amp;P)500 0.72% 5886.55.\\r\\n 1.61% 19010.08.\\r\\n(=)\\r\\nS&amp;P500 2025 0.08% .\\xa0\\r\\n - 6 . 1420 . 200 . ···AMD· \\xa0 800 .\\xa0(Nvidia) 5.6%, 4%, AMD 4% .\\xa0\\r\\n \\xa0 ··· 1 .\\r\\n \" , , \" CNBC .\\r… [+55 chars]'}, {'source': {'id': None, 'name': 'Zdnet.co.kr'}, 'author': '손희연 기자', 'title': '[미장브리핑] 美 4월 PPI 예측치 하향…\"불확실성·경기침체 가능성\" 거론', 'description': '[지디넷코리아]◇ 15일(현지시간) 미국 증시▲다우존스산업평균(다우)지수 전 거래일 대비 0.65% 상승한 42322.75.▲스탠다드앤푸어스(S&P)500 지수 전 거래일 대비 0.41% 상승한 5916.93.▲나스닥 지수 전 거래일 대비 0.18% 하락한 19112.32.▲미국 4월 생산자물가지수(PPI)는 전월 대비 0.5% 하락. 다우존스 전망치 0.3% 상승보다 크게 하향. 4월 소매판매는 0.1% 증가해 시장 예측치와 일치. 지표 발표 이후 채권 금리…', 'url': 'https://zdnet.co.kr/view/?no=20250516080654', 'urlToImage': 'https://image.zdnet.co.kr/2022/03/08/b02b87288c12ca26138f6801b1cd5c27.jpg', 'publishedAt': '2025-05-15T23:06:54Z', 'content': '15() \\r\\n() 0.65% 42322.75.\\r\\n(S&amp;P)500 0.41% 5916.93.\\r\\n 0.18% 19112.32.\\r\\n(=)\\r\\n4\\xa0(PPI) 0.5% .\\xa0 0.3% . 4 0.1% . . 10 0.08%p 4.44%, 2 0.09%p 3.96%.\\r\\nS&amp;P 500 2023 11\\xa0 . 6% . 16 .\\r\\n \\xa0 \" \" \"\\xa0 \" .\\r\\nJP … [+53 chars]'}, {'source': {'id': None, 'name': 'Zdnet.co.kr'}, 'author': '류은주 기자', 'title': 'K-배터리 ‘자금 총력전’ 돌입…중국 추격 맞선 생존 투자', 'description': '[지디넷코리아]최근 국내 배터리 업계가 유상증자와 회사채 발행 등 대규모 자금 조달에 적극 나서고 있다. 유상증자는 주주가치 희석 우려로 소액주주들 반발을 사고 있지만, 업계 안팎에서는 중국 배터리와의 치열한 글로벌 경쟁 속에 불가피한 ‘생존 투자’라는 분석이 나온다.14일 한국거래소에 따르면 포스코퓨처엠 주가는 11만5천300원으로 전일 대비 4% 하락한 채 장을 마감했다. 전날 1조1천억원 규모 유상증자 발표 여파로 주가가 떨어졌다.앞서 3월, 삼성SDI도…', 'url': 'https://zdnet.co.kr/view/?no=20250514162529', 'urlToImage': 'https://image.zdnet.co.kr/2025/05/14/90cd025ddab9d37cbdc52108fe03126c.png', 'publishedAt': '2025-05-14T07:33:13Z', 'content': \".\\xa0 , \\xa0.\\r\\n14 115300 4% .\\xa0\\xa011\\xa0\\xa0\\xa0 .\\r\\n(=GPT)\\r\\n3, SDI . SDI GM , , , . . .\\r\\n \\xa0 .\\xa0 (59.7%) 5256 .\\r\\n . 2884 1810 6307 . .\\xa0\\r\\n ... BYD\\r\\n\\xa0 \\xa0 ' ' .\\xa0\\r\\n (BYD) .(=BYD)\\r\\nCATL\\xa0K- 3 \\xa0 . CATL \\xa0(IPO) .\\xa0CATL IPO 5 .\\xa0\\xa0\\r\\n… [+134 chars]\"}, {'source': {'id': None, 'name': 'Ohmynews.com'}, 'author': '김종철', 'title': '감세를 통한 경제 성장, 가능합니까', 'description': \"이제 20여일 남았습니다. 윤석열 내란 사태와 탄핵으로 치러지는 대통령 선거입니다. 갑작스런 선거로 차기 정부는 인수위원회도 꾸릴 시간이 없습니다. 그럼에도 국민들의 기대감은 큽니다. 좀 더 나은 세상에 대한 희망입니다. '좀 더 나은 세상'의 바탕에는 '경제 살리기'에 대한 기대가 깔려 있습니다.\\n\\n실제 경제 상황이 암울합니다. 지난 2년 동안 윤 정부는 '재정 건전성'을 외치면서도 부자를 위한 감세를 대대적으로 추진했습니다. 사상 최악의 대규모 세수 결손은…\", 'url': 'https://www.ohmynews.com/NWS_Web/View/at_pg.aspx?CNTN_CD=A0003129541', 'urlToImage': 'https://ojsfile.ohmynews.com/BIG_IMG_FILE/2025/0514/IE003459378_BIG.jpg', 'publishedAt': '2025-05-14T08:22:40Z', 'content': '20 . . . . . \\' \\' \\' \\' .. 2 \\' \\' . (IMF) . 2 90 . , .\\r\\n, . , , . , 1 (GDP) 4 (-0.2%) . . 0% .\\r\\n\\' \\' . \\'\\' , 1 ( ) . \\' \\' . (AI) . . .\\' \\'. . . . . . 2 \" \" . . , 5 30 .\\r\\n, \\'\\' \\' \\' . , . . \\' \\' .\\r\\n, . . 20 , . … [+245 chars]'}]\n",
      "{'score': 0.8, 'explanation': '이 기사는 경제 분야에 대한 내용으로, 사우디아라비아가 미국과의 거래에 6천억 달러를 투자한다는 소식을 전하고 있습니다. 이는 경제 활동을 촉진할 수 있는 긍정적인 소식이므로 긍정적인 감성을 가지고 있습니다.'}\n",
      "{'score': -0.7, 'explanation': '주식시장은 상승세를 보였지만 미국 4월 PPI 지표가 예상치보다 크게 하락하면서 불확실성과 경기침체 가능성이 거론되고 있습니다. 이는 부정적인 요인으로 해석될 수 있습니다.'}\n",
      "{'score': -0.7, 'explanation': '주제와 내용에서는 국내 배터리 업계의 자금 조달에 대한 긍정적인 측면이 강조되지만, 주주가치 희석 우려와 주가 하락 등으로 인해 부정적인 요소가 있습니다. 따라서 약간의 부정적 감성을 포함하고 있습니다.'}\n",
      "{'score': -0.7, 'explanation': '주제와 내용이 부정적이며, 경제 상황이 암울하고 대규모 세수 결손이 발생한 것으로 나타납니다.'}\n",
      "[{'source': {'id': None, 'name': 'Khan.co.kr'}, 'author': '김지환 기자 baldkim@kyunghyang.com', 'title': '주택연금 활성화가 GDP도 끌어올린다', 'description': '주택연금 활용도가 높아지면 실질 국내총생산(GDP)이 최대 0.7% 증가하고 노인빈곤율이 5%포인트 떨어질 수 있다는 분석이 나왔다.\\n\\n황인도 한국은행 경제연구원 금융통화연구실장은 15일 한은·한국개발연구원(KDI) 공동 심포지엄에서 “초고령사회 진입으로 심화되는 노인빈곤, 내수침체 우려를 완화하는 데 주택연금과 민간 역모기지가 중요한 역할을 할 수 있···', 'url': 'https://www.khan.co.kr/article/202505151330001', 'urlToImage': 'https://img.khan.co.kr/news/2025/05/15/news-p.v1.20250515.c2c07a4e07e34504998e63ae96528988_P1.png', 'publishedAt': '2025-05-15T04:30:00Z', 'content': '(GDP) 0.7% 5% .\\r\\n 15 ·(KDI) , .\\r\\n , ( ) . 10 (55 12 ) 1.89% .\\r\\n 8~10 55~79 3820 , . 35.3% , 41.4% . , , .\\r\\n . GDP 0.5~0.7% , 3~5% .\\r\\n · 37000 10 GDP 0.1% 0.5% . GDP 0.03% .\\r\\n , .'}, {'source': {'id': None, 'name': 'Ppss.kr'}, 'author': '허용회', 'title': '한국 대학생의 자기효능감은 어떻게 변해왔을까?', 'description': '심리학에서 다루는 개념 중에는 자기효능감(Self-efficacy)이라는 것이 있다. 워낙 유명한 개념이라 많이들 들어보셨을 것으로 생각된다. 자기효능감은 전설의 레전드 심리학자인 반두라(Bandura)에 의해 제안된 것으로, 자신이 목표로 한 어떤 일을 잘 해낼 수 있다는 믿음을 의미한다.    자기효능감은 주관적인 것이다. 아무리 뛰어난 능력을 보유하고 있더라도 자기효능감은 낮을 수 있다. 그렇게 되면 능력을 다 발휘하지 못하고 아쉬운 성과를 낼 가능성이 …', 'url': 'https://ppss.kr/archives/266958', 'urlToImage': 'https://ppss.kr/wp-content/uploads/2024/08/3-17.jpg', 'publishedAt': '2025-05-11T23:44:23Z', 'content': '(Self-efficacy) . . (Bandura) , .\\r\\n . . .\\r\\n . . (?), .\\r\\nImage by storyset on Freepik\\r\\n(?)\\r\\n , . ‘ ’ . .\\r\\n , , , , , , , , , , , , , . ( . )\\r\\n. , .\\r\\n , , . 19 . , .\\r\\n , . 1999 2022, .\\r\\n(cross-temporal… [+193 chars]'}, {'source': {'id': None, 'name': 'Zdnet.co.kr'}, 'author': '손희연 기자', 'title': '\"주택연금, 노인빈곤율 3~5%p 하락 효과\"', 'description': \"[지디넷코리아]주택연금 가입이 높아질 경우 우리나라의 노인빈곤율을 줄일 수 있다는 연구가 나왔다.15일 한국은행과 한국개발연구원(KDI)이 공동으로 연 심포지엄 '초고령사회의 빈곤과 노동'에서 황인도 한은 금융통화연구실장은 '주택연금과 민간 역모기지 활성화를 통한 소비 확대 및 노인 빈곤 완화방안' 발표에서 주택연금 가입률이 높아질 수록 국내총생산(GDP)을 높이고, 노인빈곤율을 떨어뜨린다고 밝혔다.주택연금은 고령자가 자신이 소유한 주택을 담보로 제공하고, 해…\", 'url': 'https://zdnet.co.kr/view/?no=20250515142617', 'urlToImage': 'https://image.zdnet.co.kr/2025/05/15/9a68870fba077eddd9cda83c8b3ef5a2.jpg', 'publishedAt': '2025-05-15T05:26:17Z', 'content': '.\\r\\n15 (KDI) \\' \\'\\xa0 \\' \\' (GDP) , .\\r\\n , \\xa0 .\\xa0\\r\\n(=)\\r\\n\" 3 1 \" \" \\xa0GDP\\xa00.5~0.7% , 3~5%p \" .\\r\\n 37 GDP 0.1% , 0.5~0.7%p .\\r\\n \\xa0 (2024 10 ) 1.89% . .\\xa0\\r\\n, 55~79 3820 . 41.4%.\\r\\n·KDI .\\r\\n\"\\xa0 GDP \" \" , \" .\\r\\n \" \\xa055 35~41%… [+104 chars]'}, {'source': {'id': None, 'name': 'Khan.co.kr'}, 'author': 'KyungHyangSinmun', 'title': '[사설] 미·중 관세 대폭 인하, 한국도 협상 전략 재점검해야', 'description': '미국과 중국이 서로에게 부과한 관세를 90일간 낮추기로 했다. 미국은 중국산 제품에 매긴 145% 관세를 30%로 내린다. 중국은 미국산에 부과한 125% 관세를 10%로 낮춘다. 미국이 펜타닐 문제로 인한 대중 관세(20%)는 유지하기로 했지만, 미국의 관세 인하 폭은 당초 예상을 훌쩍 뛰어넘는 수준이다. 최악으로 치닫던 미·중 간 경제전쟁이 다소 진정 ···', 'url': 'https://www.khan.co.kr/article/202505121919001', 'urlToImage': 'https://img.khan.co.kr/news/2025/05/12/news-p.v1.20250512.aaedd5a50dbf4cfb9d5df75761463f05_P1.png', 'publishedAt': '2025-05-12T10:19:00Z', 'content': '90 . 145% 30% . 125% 10% . (20%) , . · , 2600 .\\r\\n · (25%) . . 8 · . , 90 .\\r\\n . 1 (GDP) 0.3% . . . . . . 78 . .\\r\\n . . . 64 .\\r\\n() 12() . AP'}, {'source': {'id': None, 'name': 'Khan.co.kr'}, 'author': 'KyungHyangSinmun', 'title': '[사설] 성장과 감세만 보이는 대선, 양극화는 어찌할 건가', 'description': '대통령 선거에 출마한 유력 후보들이 경제성장을 최우선 과제로 제시했다. 이재명 더불어민주당 후보는 인공지능 등 신산업 중심으로 새로운 성장 기반을 만들겠다고 했고, 김문수 국민의힘 후보는 민간과 기업의 자율성을 높여 성장을 유도하겠다고 했다.\\n\\n경제성장률 제고가 한국 사회 현안이라는 데는 이의가 없다. 경제가 성장해야 일자리도 생기고 민생도 회복된다. 12···', 'url': 'https://www.khan.co.kr/article/202505131815011', 'urlToImage': 'https://img.khan.co.kr/news/2025/05/13/news-p.v1.20250513.80c5cf13cf374c4ea2536ad843178915_P1.jpeg', 'publishedAt': '2025-05-13T09:15:01Z', 'content': '. , .\\r\\n . . 12·3 1 (GDP) -0.2% . . . · 2040 0.1% .\\r\\n . . · . . . 2 90 , .\\r\\n . . 5 30 . . 2 . . . , .\\r\\n . 2024 4 20% 1213000 3.0% (3.8%) . . . .\\r\\n13 .'}, {'source': {'id': None, 'name': 'Khan.co.kr'}, 'author': '김윤나영 기자 nayoung@kyunghyang.com', 'title': '미, 환율 ‘지렛대’로 통상 분야 압박 전략', 'description': '한·미, 관세 후속 실무협의\\n\\n실무협의 ‘공식 의제’ 공세 가능성…환율 관찰 대상국 지정 예상도\\n대미 수출 증가는 환율 조작과 무관…정책 개입 수단도 마땅찮아\\n\\n한·미 양국이 ‘트럼프 관세’ 문제를 다루기 위한 ‘2+2 통상 협의’의 후속 조치로 환율 협의를 시작했다. 미국이 무역수지 적자 개선을 위해 원화 가치 절상(환율 하락)이 이뤄질 수 있는···', 'url': 'https://www.khan.co.kr/article/202505112027045', 'urlToImage': 'https://img.khan.co.kr/spko/company/Khan_CI_180212.jpg', 'publishedAt': '2025-05-11T11:27:04Z', 'content': '·, \\r\\n· 2+2 . ( ) . , . .\\r\\n 11 . · · 24() 2+2 ·, , .\\r\\n . (USTR) 2018 3 · (FTA) () . · FTA , .\\r\\n . .\\r\\n 11 2 . 150 (GDP) 3% .\\r\\n . 12·3 .\\r\\n .\\r\\n 30 2~3 ( ) .\\r\\n . 5 . 0% .\\r\\n .\\r\\n ( ) .'}, {'source': {'id': None, 'name': 'Khan.co.kr'}, 'author': '최미랑 기자 rang@kyunghyang.com', 'title': '건설경기 ‘최악’…금융위기 때보다 더 심각', 'description': '건산연 ‘진단 보고서’…“더 빠르게 침체, 더 느리게 회복” 전망\\n\\n\\n\\n수주·착공 감소에 수익성도 하락 \\n저성장 국면 진입, 반등 여건 악화\\n\\n“금리 인하·재정 지출 확대 제약 \\n정부, 신속한 ‘부양책’ 마련 필요” \\n공공 발주 정상화·도심 개발 제안\\n\\n국내 건설경기가 2008년 글로벌 금융위기 때보다 더 침체된 수준이며 경기 여건상 회···', 'url': 'https://www.khan.co.kr/article/202505152050005', 'urlToImage': 'https://img.khan.co.kr/news/2025/05/15/l_2025051601000413500042541.jpg', 'publishedAt': '2025-05-15T11:50:00Z', 'content': ', \\r\\n· , \\r\\n · , · \\r\\n 2008 .\\r\\n() 15 2008 2008 . , , , .\\r\\n 2023 2008 . .\\r\\n () 2023 2071000, (2484000) 16.6% . 2008(-6.1%) .\\r\\n , 2023 () 1719000 18.9% . 2008 15.5% .\\r\\n () 3.9% , 1785000 2007(1842000) . 2… [+192 chars]'}, {'source': {'id': None, 'name': 'Khan.co.kr'}, 'author': '박상영 기자 sypark@kyunghyang.com', 'title': 'KDI 올해 성장률 전망치 석 달 만에 1.6→0.8%로 낮춰', 'description': '한국개발연구원(KDI) 경제전망실 김지연 전망총괄(왼쪽)이 14일 정부세종청사에서 2025년 상반기 KDI 경제전망 발표를 하고 있다. 오른쪽은 정규철 경제전망실장. 연합뉴스.\\n\\n국책연구기관인 한국개발연구원(KDI)이 주요 경제 전망기관 중 처음으로 올해 한국경제가 0%대 성장에 그칠 것으로 예상했다. 내수 부진이 이어지는 상황에서 도널드 트럼프 미국 행정···', 'url': 'https://www.khan.co.kr/article/202505141412011', 'urlToImage': 'https://img.khan.co.kr/news/2025/05/14/news-p.v1.20250514.0cc56b0fdf5e445cbf4aff312666fea0_P1.jpg', 'publishedAt': '2025-05-14T05:12:01Z', 'content': '(KDI) () 14 2025 KDI . . .\\r\\n(KDI) 0% . . KDI , .\\r\\nKDI 14 2025 (GDP) 0.8% . 2 1.6% . 1.0% (IMF) . , 0% KDI .\\r\\nKDI . 0.5% . KDI 2 .\\r\\nKDI . , 0.4% . 2 (1.5%) 1.9% .\\r\\n 0.3% . , . KDI –1.2% –4.2% . 2 - KD… [+59 chars]'}, {'source': {'id': None, 'name': 'Khan.co.kr'}, 'author': '권재현 선임기자 jaynews@kyunghyang.com', 'title': '현금 이용 비중 가파른 하락세…“10번 결제할 때 1~2번꼴”', 'description': '현금 이용 비중이 빠르게 줄어들고 있다. 연합뉴스 자료사진\\n\\n신용카드에 더해 간편결제 등 비현금 지급수단 이용이 꾸준히 늘어나면서 지폐와 동전 등의 현금 사용이 빠르게 줄고 있다.\\n\\n15일 한국은행의 ‘2024년 지급수단·모바일금융서비스 이용행태 조사’에 따르면 전국 만 19세 이상 성인 3500여명을 대상으로 설문한 결과 지난해 지급수단 중 현금 이용 비···', 'url': 'https://www.khan.co.kr/article/202505150636001', 'urlToImage': 'https://img.khan.co.kr/news/2025/05/15/news-p.v1.20250515.65a46ddebd944ba0bd4ec573f2c30798_P1.jpg', 'publishedAt': '2025-05-14T21:36:00Z', 'content': '. \\r\\n.\\r\\n15 2024 · 19 3500 ( ) 15.9% .\\r\\n(46.2%), (16.4%) . (12.9%) . (3.7%) (2.7%) .\\r\\n 2013 41.3% 2015(36.0%) 2017(36.1%) 30% . 2019(26.4%) 2021(21.6%) 20% , 10% .\\r\\n 10 10 4 , 1∼2 .\\r\\n 20 , 30∼50 .\\r\\n60 … [+206 chars]'}, {'source': {'id': None, 'name': 'Khan.co.kr'}, 'author': '김윤나영 기자 nayoung@kyunghyang.com', 'title': '0%대로 수렴하는 한국 경제성장률···주요국 대비 ‘심각’', 'description': '지난 6일 서울의 한 대형마트에서 장을 보는 시민들. 연합뉴스\\n\\n올해 한국 경제성장률 전망치가 점점 낮아져 0%대로 수렴하고 있다. 해외 주요 투자은행(IB)들이 한국 경제에 대한 기대를 빠르게 거두고 있다. 12·3 불법계엄이 촉발한 정치 불확실성 장기화와 ‘트럼프 관세’ 리스크 이중고로 연 1%대 성장조차 어려워질 수 있는 우려가 현실화한 것이다.\\n\\n1···', 'url': 'https://www.khan.co.kr/article/202505111447001', 'urlToImage': 'https://img.khan.co.kr/news/2025/05/11/rcv.YNA.20250406.PYH2025040604380001300_P1.jpg', 'publishedAt': '2025-05-11T05:47:00Z', 'content': '6 . \\r\\n0% . (IB) . 12·3 1% .\\r\\n11 , (IB) 8 4 0.8% . 3 1.4% 0.6% . .\\r\\n 8 1% . 1.4→0.9%, (BOA) 1.5→0.8%, 1.2→0.6%, 1.5→0.7%, JP 0.9→0.5%, HSBC 1.4→0.7%, 1.5→1.0%, UBS 1.9→1.0% .\\r\\n . 12·3 , . . , .\\r\\n 1 . … [+188 chars]'}]\n",
      "{'score': 0.8, 'explanation': '이 기사는 긍정적인 내용을 다루고 있습니다. 주택연금 활용도가 높아지면 GDP가 증가하고 노인빈곤율이 감소할 수 있다는 내용을 다루고 있습니다. 따라서 긍정적인 감성을 가지고 있습니다.'}\n",
      "{'score': 0.7, 'explanation': '이 기사는 자기효능감에 대한 긍정적인 측면을 다루고 있습니다. 자기효능감은 개인이 목표를 달성할 능력에 대한 믿음을 의미하며, 이는 성취감과 학습 동기에 긍정적인 영향을 줄 수 있습니다. 따라서 이 기사는 자기효능감이 중요하다는 긍정적인 시각을 제시하고 있습니다.'}\n",
      "{'score': 0.8, 'explanation': '주택연금 가입이 높아질수록 노인빈곤율을 줄일 수 있다는 긍정적인 연구 결과에 대한 내용입니다. 이는 사회적 문제 해결에 긍정적인 영향을 미칠 것으로 기대됩니다.'}\n",
      "{'score': 0.2, 'explanation': '약간 긍정적인 감성을 가지고 있습니다. 기사에서는 미국과 중국의 관세 인하로 인한 긍정적인 변화에 대해 언급하고 있지만, 아직 협상 전략을 재점검해야 한다는 경고도 함께 전달하고 있습니다.'}\n",
      "{'score': 0.5, 'explanation': '중립적인 감성을 나타냅니다. 기사는 대통령 선거에 출마한 후보들의 경제성장에 대한 발언을 다루고 있지만 긍정적인지 부정적인지 명확하게 드러내지 않고 있습니다.'}\n",
      "{'score': -0.7, 'explanation': '이 기사는 미국과 한국 간의 환율 협의에 대한 내용을 다루고 있습니다. 기사 내용은 중립적이며 긍정적이나 부정적인 감정이 크게 드러나지는 않았습니다. 따라서 감성 점수는 -0.7로 설정되었습니다.'}\n",
      "{'score': -0.8, 'explanation': '주어진 기사는 건설경기에 대한 부정적인 내용을 다루고 있습니다. 금융위기 때보다 더 심각한 상황으로 평가되고 있으며, 수주·착공 감소와 수익성 하락 등의 부정적인 요인이 지속되고 있다고 언급되었습니다. 또한, 저성장 국면 진입과 반등 여건의 악화로 더 어려운 상황을 예상하고 있습니다. 따라서 해당 기사는 매우 부정적인 감성을 담고 있습니다.'}\n",
      "{'score': -0.8, 'explanation': '주요 경제 전망기관이 처음으로 한국경제 성장률을 0%대로 낮추는 소식은 부정적인 소식이며, 이는 경제가 어려운 상황에 처했음을 시사합니다.'}\n",
      "{'score': 0.8, 'explanation': '이 기사는 현금 이용 비중이 줄어들고 있는 긍정적인 트렌드를 다루고 있습니다. 현금 이용이 줄어들면서 간편결제 등 비현금 지급수단의 이용이 늘어나고 있다는 내용으로 긍정적인 측면을 강조하고 있습니다.'}\n",
      "{'score': -0.8, 'explanation': '주요 투자은행들이 한국 경제에 대한 기대를 빠르게 거두고 있고, 0%대로 수렴하는 한국 경제성장률에 대한 우려가 현실화되고 있다는 내용으로 인해 부정적인 감성이 느껴집니다.'}\n",
      "\n",
      "최종 투자 분석 결과:\n",
      "{\n",
      "  \"company\": \"한화\",\n",
      "  \"timestamp\": \"2025-05-17T02:58:55.444357\",\n",
      "  \"total_score\": 0.46,\n",
      "  \"recommendation\": \"매수\",\n",
      "  \"confidence\": 0.45575,\n",
      "  \"factors\": {\n",
      "    \"company_sentiment\": {\n",
      "      \"topic\": \"한화\",\n",
      "      \"average_sentiment\": 0.47,\n",
      "      \"analyzed_articles\": 10,\n",
      "      \"sentiment_summary\": \"긍정적\"\n",
      "    },\n",
      "    \"industry_sentiment\": {\n",
      "      \"topic\": \"방산\",\n",
      "      \"average_sentiment\": 0.75,\n",
      "      \"analyzed_articles\": 10,\n",
      "      \"sentiment_summary\": \"긍정적\"\n",
      "    },\n",
      "    \"economic_indicators\": {\n",
      "      \"금리\": {\n",
      "        \"topic\": \"금리\",\n",
      "        \"average_sentiment\": 0.02,\n",
      "        \"analyzed_articles\": 6,\n",
      "        \"sentiment_summary\": \"중립적\"\n",
      "      },\n",
      "      \"통화정책\": {\n",
      "        \"topic\": \"통화정책\",\n",
      "        \"average_sentiment\": 0.8,\n",
      "        \"analyzed_articles\": 2,\n",
      "        \"sentiment_summary\": \"긍정적\"\n",
      "      },\n",
      "      \"인플레이션\": {\n",
      "        \"topic\": \"인플레이션\",\n",
      "        \"average_sentiment\": -0.32,\n",
      "        \"analyzed_articles\": 4,\n",
      "        \"sentiment_summary\": \"부정적\"\n",
      "      },\n",
      "      \"GDP\": {\n",
      "        \"topic\": \"GDP\",\n",
      "        \"average_sentiment\": 0.07,\n",
      "        \"analyzed_articles\": 10,\n",
      "        \"sentiment_summary\": \"중립적\"\n",
      "      }\n",
      "    }\n",
      "  }\n",
      "}\n"
     ]
    }
   ],
   "source": [
    "analyzer = InvestmentAnalyzer()\n",
    "\n",
    "# 분석 예시\n",
    "result = analyzer.analyze(\n",
    "    company=\"한화\",\n",
    "    industry=\"방산\"\n",
    ")\n",
    "\n",
    "print(\"\\n최종 투자 분석 결과:\")\n",
    "print(json.dumps(result, indent=2, ensure_ascii=False))"
   ]
  },
  {
   "cell_type": "markdown",
   "metadata": {},
   "source": [
    "단순 금리에 대한 뉴스만 불러올 경우, 아래 코드 활용 가능"
   ]
  },
  {
   "cell_type": "code",
   "execution_count": 75,
   "metadata": {},
   "outputs": [
    {
     "name": "stdout",
     "output_type": "stream",
     "text": [
      "\n",
      "\n",
      "\u001b[1m> Entering new AgentExecutor chain...\u001b[0m\n",
      "\u001b[32;1m\u001b[1;3m\n",
      "Invoking: `get_news_sentiment` with `{'topic': '금리'}`\n",
      "\n",
      "\n",
      "\u001b[0m[{'source': {'id': None, 'name': 'Khan.co.kr'}, 'author': 'KyungHyangSinmun', 'title': '[사설] 관세·내수 비상에도 금리 동결, 한은 ‘역성장’ 경고했다', 'description': '경기 부양엔 기준금리 인하가 즉효약이지만 한국은행은 17일 기준금리를 연 2.75%로 동결했다. 극심한 경기 침체에도 금리 인하 카드를 쓸 수 없을 정도로 경제가 총체적 난국이라는 의미다. 이창용 한은 총재는 “전망의 기본 시나리오조차 설정하기 어렵다”고 말했다.\\n\\n금리를 낮추면 당장 원·달러 환율 상승이 두렵다. 그러잖아도 ‘트럼프’와 ‘윤석열’ 변수로 ···', 'url': 'https://www.khan.co.kr/article/202504171815001', 'urlToImage': 'https://img.khan.co.kr/news/2025/04/17/news-p.v1.20250417.ed17a295602d484a8895f91447c928a9_P1.jpeg', 'publishedAt': '2025-04-17T09:15:00Z', 'content': '17 2.75% . . .\\r\\n · . . 1.75% . 1998 2009 .\\r\\n . 1 , 2 . 4 . . (WTO) · (GDP) 7% . .\\r\\n . , 40 . , . 15~20 · 12 . , .\\r\\n , . () . 11 . .\\r\\n17 .'}, {'source': {'id': None, 'name': 'Khan.co.kr'}, 'author': '워싱턴 | 김유진 특파원 yjkim@kyunghyang.com', 'title': '트럼프, 연준 의장에 “실패자”라며 금리 인하 압박', 'description': '도널드 트럼프 미국 대통령이 21일(현지시간) 제롬 파월 연방준비제도(Fed·연준) 의장을 지목해 금리 인하를 다시 압박했다.\\n\\n트럼프 대통령은 이날 자신의 소셜미디어 트루스소셜에서 “많은 이들이 금리의 선제적인 인하를 요구하고 있다”면서 에너지와 식료품 가격이 모두 “실질적으로 낮아졌”으며 인플레이션은 사실상 없다고 주장했다.\\n\\n이어 파월 의장을 겨냥해 ···', 'url': 'https://www.khan.co.kr/article/202504220726001', 'urlToImage': 'https://img.khan.co.kr/news/2025/04/22/news-p.v1.20250422.4a37f4cc1dbf4a63b67f826ef6f20813_P1.png', 'publishedAt': '2025-04-21T22:26:00Z', 'content': ', \\r\\n 2025.04.22 07:26\\r\\n21() (Fed·) .\\r\\n .\\r\\n (Mr. Too Late), . 7 () .\\r\\n .\\r\\n 5 .'}, {'source': {'id': None, 'name': 'Zdnet.co.kr'}, 'author': '손희연 기자', 'title': '美 5월 FOMC 금리 동결 관측 지배적', 'description': '[지디넷코리아]오는 6~7일(현지시간) 미국 연방준비제도(연준)의 공개시장위원회(FOMC)가 개최되는 가운데, 시장은 이번에도 금리가 동결될 것으로 점쳤다.시장에서는 추가 금리 인하 시기가 언제쯤일지 제롬 파월 연준의장의 입을 주목하고 있다.또 미국 행정부의 관세정책에 따른 경제 및 인플레이션 영향 등도 관심사다.연준은 지난해 9·11·12월 정책금리를 1.00%p 인하하고 연 4.25~4.50%로 운용하고 있다. 가장 최근 열린 3월 FOMC에서는 두 차례 …', 'url': 'https://zdnet.co.kr/view/?no=20250504095656', 'urlToImage': 'https://image.zdnet.co.kr/2024/12/19/7abb5f8c99060394ecc83ac9833ac152.png', 'publishedAt': '2025-05-05T00:56:01Z', 'content': '6~7() () (FOMC) , .\\r\\n .\\r\\n .\\r\\n18() 12 (FOMC) .(=Fed )\\r\\n9·11·12 1.00%p 4.25~4.50% . 3 FOMC .\\r\\n 3 FOMC . 4 16 \" \" \" \" .\\r\\n . .\\r\\n , .'}, {'source': {'id': None, 'name': 'Khan.co.kr'}, 'author': '김지환 기자 baldkim@kyunghyang.com', 'title': '미 연준은 금리 동결했지만 한은 시곗바늘은 인하를 가리킨다', 'description': '이창용 한국은행 총재. 사진공동취재단\\n\\n미국 연방준비제도(연준)가 관세발 인플레이션 우려 때문에 기준금리를 동결했지만 이달 한국은행의 시곗바늘은 기준금리 인하를 가리키고 있다. 한국 경제가 관세 영향이 본격화되지도 않은 올해 1분기 역성장을 한 데다 연간 성장률이 1%에도 미치지 못할 것이란 관측이 나오고 있기 때문이다. 한은이 연말까지 기준금리를 세 차례···', 'url': 'https://www.khan.co.kr/article/202505090600051', 'urlToImage': 'https://img.khan.co.kr/news/2025/05/09/news-p.v1.20250508.3baf09e7f602488385777bd4d5cd9846_P1.jpeg', 'publishedAt': '2025-05-08T21:00:05Z', 'content': '. \\r\\n() . 1 1% . 2% .\\r\\n 7() 4.25~4.50% . 1 3 3 .\\r\\n . ( ) . .\\r\\n (2.75%) (4.25∼4.50%) 1.75% .\\r\\n 29 . . 17 , 2023 () .\\r\\n . 6 2025 0.8% . 0.7% .\\r\\n 1400 · 1370~1390 . (ADB) 5 .\\r\\n 1 . 2 3 . , · , · .\\r\\n 8 1.… [+27 chars]'}, {'source': {'id': None, 'name': 'Khan.co.kr'}, 'author': '김윤나영 기자 nayoung@kyunghyang.com', 'title': '늘어만 가는 저소득 자영업자 빚···금리 높은 대부업 대출 증가', 'description': '지난 2월 16일 서울의 한 식당가에 대출 광고가 붙어 있다. 연합뉴스\\n\\n지난해 말 자영업자들이 평균 소득의 3배가 넘는 빚을 진 것으로 나타났다. 특히 고소득 자영업자의 대출금은 줄어드는 추세였으나 저소득 자영업자의 대출액은 늘었다. 저소득 자영업자들이 내수 부진의 직격탄을 맞아 빚에 의존해 근근이 버티고 있는 것으로 풀이된다.\\n\\n국회 기획재정위원회 소속···', 'url': 'https://www.khan.co.kr/article/202504271414001', 'urlToImage': 'https://img.khan.co.kr/news/2025/04/27/rcv.YNA.20250216.PYH2025021605370001300_P1.jpg', 'publishedAt': '2025-04-27T05:14:00Z', 'content': '2 16 . \\r\\n3 . . .\\r\\n 27 , 4 (LTI) 344.5% . 3.4 . LTI(220%) .\\r\\n LTI 2022 4 350.0% 7 3 344.4% . 4 2 . .\\r\\n 4 3115000 10642000. 1 16000 11 .\\r\\n , ( 30%)·(30~70%) ( 30%) . 3 737 4 7368000, 1943000 1922000 . … [+70 chars]'}, {'source': {'id': None, 'name': 'Khan.co.kr'}, 'author': '김지환 기자 baldkim@kyunghyang.com', 'title': '가계대출 금리 하락세 지속…예대금리차는 7개월 연속 벌어져', 'description': '시장금리가 하락세를 이어가면서 지난달에도 은행권 대출·예금금리가 모두 떨어졌다. 저축성 예금금리와 대출금리 차이인 예대금리차는 7개월 연속 벌어졌다.\\n\\n한국은행이 30일 발표한 ‘금융기관 가중평균금리’ 통계를 보면 예금은행의 3월 가계대출 금리(신규취급액 기준)는 연 4.51%로 전월보다 0.01%포인트 낮아졌다. 지난해 12월(4.72%) 이후 4개월···', 'url': 'https://www.khan.co.kr/article/202504301309001', 'urlToImage': 'https://img.khan.co.kr/news/2025/04/30/news-p.v1.20250430.faa75f9c877d469381445f3008f2a59b_P1.png', 'publishedAt': '2025-04-30T04:09:00Z', 'content': '· . 7 .\\r\\n 30 3 ( ) 4.51% 0.01% . 12(4.72%) 4 .\\r\\n 4.23% 4.17% 0.06%, 5.50% 5.48% 0.02% . (COFIX) 0.01% .\\r\\n (4.32%) 0.11% 4 . , 4.46% 4.36% 0.10% .\\r\\n ( ) 2.97% 2.84% 0.13% . 10(3.37%) 6 . (2.83%) ·CD (… [+70 chars]'}, {'source': {'id': None, 'name': 'Zdnet.co.kr'}, 'author': '손희연 기자', 'title': '[미장브리핑] 트럼프 美 대통령 \"연준 금리 인하해라\"', 'description': '[지디넷코리아]◇ 17일(현지시간) 미국 증시▲다우존스산업평균(다우)지수 전 거래일 대비 1.33% 하락한 39142.23.▲스탠다드앤푸어스(S&P)500 지수 전 거래일 대비 0.13% 상승한 5282.70.▲나스닥 지수 전 거래일 대비 0.13% 하락한 16286.45.▲엔비디아(Nvidia) 3% 하락, 전 거래일 약 7% 하락에 이어 추가 하락. ▲넷플릭스는 2025년 1분기 매출 13% 증가. 넷플릭스는 1분기 매출 105억4천만달러로 시장 예상치 1…', 'url': 'https://zdnet.co.kr/view/?no=20250418081403', 'urlToImage': 'https://image.zdnet.co.kr/2024/11/20/d2bf8a51575ffd0354eedf3e5e17ac3e.jpg', 'publishedAt': '2025-04-17T23:14:03Z', 'content': \"17() \\r\\n() 1.33% 39142.23.\\r\\n(S&amp;P)500 0.13% 5282.70.\\r\\n 0.13% 16286.45.\\r\\n(=)\\r\\n(Nvidia) 3% , 7% .\\xa0\\r\\n 2025 1 13% . 1 1054 1052 .\\r\\n.\\xa0 2% , S&amp;P 500 1.5% .\\r\\n () ' ' . '(ECB) 7 , ''' ' () , .\\xa0 ECB , .… [+9 chars]\"}, {'source': {'id': None, 'name': 'Zdnet.co.kr'}, 'author': '손희연 기자', 'title': '[미장브리핑] 美연준 금리 동결·트럼프 \"중국 관세율 인하없어\"', 'description': '[지디넷코리아]◇ 7일(현지시간) 미국 증시▲다우존스산업평균(다우)지수 전 거래일 대비 0.70% 상승한 41113.97.▲스탠다드앤푸어스(S&P)500 지수 전 거래일 대비 0.43% 상승한 5631.28.▲나스닥 지수 전 거래일 대비 0.27% 상승한 17738.16.▲미국 연방준비제도(연준)가 5월 6~7일 연 공개시장위원회(FOMC)에서 시장 예측대로 기준금리를 4.25~4.50%로 동결 결정. FOMC는 실업률과 인플레이션 위험이 높아졌다고 평가. 제…', 'url': 'https://zdnet.co.kr/view/?no=20250508071951', 'urlToImage': 'https://image.zdnet.co.kr/2024/12/07/0854ac4ea5f83184b4635e229370778d.jpg', 'publishedAt': '2025-05-07T22:34:13Z', 'content': '7() \\r\\n() 0.70% 41113.97.\\r\\n(S&amp;P)500 0.43% 5631.28.\\r\\n 0.27% 17738.16.\\r\\n(=)\\r\\n() 5 6~7 (FOMC) 4.25~4.50% . FOMC . \" 1 \" \" , , \" .\\r\\n . \" , \" \" \" .\\r\\n 1 247, 1.45 1.76 . 11% .\\xa0\\r\\n (AI) (Nvidia) 3% .\\r\\n (U… [+21 chars]'}, {'source': {'id': None, 'name': 'Khan.co.kr'}, 'author': '심윤지 기자 sharpsim@kyunghyang.com', 'title': '정기예금 금리 3%도 안되지만 어디가 더 유리할까…비교부터 가입까지 플랫폼서 ‘한번에’ 하세요', 'description': '사진 출처 언스플래쉬\\n\\n지금까지 시범 운영한 온라인 예금 중개 서비스가 정식 도입된다. 다음달부터는 ‘클릭 한번’으로 예·적금 뿐 아니라 파킹통장 금리도 플랫폼에서 한눈에 비교하고 계좌 개설까지 할 수 있게 된다.\\n\\n금융위원회는 2022년 11월 혁신금융서비스로 지정된 온라인 예금중개 서비스를 정식 도입하겠다고 16일 밝혔다. 올해 상반기 중 금융소···', 'url': 'https://www.khan.co.kr/article/202504170600031', 'urlToImage': 'https://img.khan.co.kr/news/2025/04/17/news-p.v1.20250416.bc0e01d3d2034982806cf66fce488b45_P1.png', 'publishedAt': '2025-04-16T21:00:03Z', 'content': '3% \\r\\n. · .\\r\\n 2022 11 16 . .\\r\\n 2023 6 65000 .\\r\\n , , 4 . 9 9 · .\\r\\n , , , . . ․ .\\r\\n · () . . (CMA) .\\r\\n . 3 . ․ .\\r\\n · . .\\r\\n . · . .\\r\\n .'}, {'source': {'id': None, 'name': 'Zdnet.co.kr'}, 'author': '손희연 기자', 'title': '美 연준 금리 동결…\"트럼프 관세 지속시 물가상승·경기둔화\"', 'description': '[지디넷코리아]5월 6~7일(현지시간) 열린 미국 연방준비제도 공개시장위원회(FOMC)에서 정책금리인 연방기금금리 범위를 4.25~4.50%로 동결하기로 결정했다.이 자리서 제롬 파월 연준 의장은 도널드 트럼프 미국 대통령의 관세가 지속될 경우 물가와 고용 안정이라는 연준의 목표 달성이 지연될 수 있다고 진단하면서도, 선제적으로 금리를 인하할 필요는 없다고 말했다.그는 \"관세 범위와 규모를 고려할 때 인플레이션과 실업률 상승 위험이 확실히 커질 것으로 보인다\"…', 'url': 'https://zdnet.co.kr/view/?no=20250508064849', 'urlToImage': 'https://image.zdnet.co.kr/2025/05/08/f2b5285e816f7f883215f53509d6a906.png', 'publishedAt': '2025-05-07T22:17:58Z', 'content': '5 6~7() (FOMC) 4.25~4.50% .\\r\\n , .\\r\\n \" \" \" , 1 \" .\\xa0\\r\\n7() (FOMC) .(= )\\r\\n\" ( ) , 1 \" \" , , \" .\\r\\n FOMC . FOMC \\' \\' .\\r\\n . \" \" \" \" .\\r\\n \" \" \" , \" .\\r\\n \" \" \" ·· \" .\\r\\n, JP CNBC . \" \\' \\' \" \" \\' , , \\' \" .'}, {'source': {'id': None, 'name': 'Khan.co.kr'}, 'author': '김희진 기자 hjin@kyunghyang.com', 'title': '트럼프, 관세정책 직격한 파월에 “금리인하 너무 늦어, 해임돼야”', 'description': '제롬 파월 미국 연방준비제도(Fed·연준) 의장이 16일(현지시간) 시카고 이코노믹클럽에서 연설하고 있다. AFP연합뉴스\\n\\n도널드 트럼프 미국 대통령이 관세정책의 악영향을 경고한 제롬 파월 연방준비제도(Fed·연준) 의장을 향해 금리 인하를 압박하며 해임돼야 한다고 비난했다.\\n\\n17일(현지시간) 트럼프 대통령은 SNS 트루스소셜에 “유럽중앙은행(ECB)은 ···', 'url': 'https://www.khan.co.kr/article/202504172107001', 'urlToImage': 'https://img.khan.co.kr/news/2025/04/17/rcv.YNA.20250417.PAF20250417055001009_P1.jpg', 'publishedAt': '2025-04-17T12:07:00Z', 'content': '· \\r\\n (Fed·) 16() . , ...\\r\\nhttps://www.khan.co.kr/article/202504170701001'}, {'source': {'id': None, 'name': 'Khan.co.kr'}, 'author': '최미랑 기자 rang@kyunghyang.com', 'title': '건설경기 ‘최악’…금융위기 때보다 더 심각', 'description': '건산연 ‘진단 보고서’…“더 빠르게 침체, 더 느리게 회복” 전망\\n\\n\\n\\n수주·착공 감소에 수익성도 하락 \\n저성장 국면 진입, 반등 여건 악화\\n\\n“금리 인하·재정 지출 확대 제약 \\n정부, 신속한 ‘부양책’ 마련 필요” \\n공공 발주 정상화·도심 개발 제안\\n\\n국내 건설경기가 2008년 글로벌 금융위기 때보다 더 침체된 수준이며 경기 여건상 회···', 'url': 'https://www.khan.co.kr/article/202505152050005', 'urlToImage': 'https://img.khan.co.kr/news/2025/05/15/l_2025051601000413500042541.jpg', 'publishedAt': '2025-05-15T11:50:00Z', 'content': ', \\r\\n· , \\r\\n · , · \\r\\n 2008 .\\r\\n() 15 2008 2008 . , , , .\\r\\n 2023 2008 . .\\r\\n () 2023 2071000, (2484000) 16.6% . 2008(-6.1%) .\\r\\n , 2023 () 1719000 18.9% . 2008 15.5% .\\r\\n () 3.9% , 1785000 2007(1842000) . 2… [+192 chars]'}, {'source': {'id': None, 'name': 'Khan.co.kr'}, 'author': '정유미 기자 youme@kyunghyang.com', 'title': '원·달러 환율, 트럼프 ‘파월 압박’ 낙폭 소폭 줄여…1421.50원 마감', 'description': '원·달러 환율이 야간시간대에 하락 폭을 조금 줄이며 1421원대에 마무리됐다.\\n\\n트럼프 미국 대통령이 파월 연방준비제도(연준·Fed) 의장을 상대로 금리 인하 압박을 이어갔지만 추가적인 ‘달러 약세-원화 강세’는 나타나지 않았다.\\n\\n22일(한국시간) 새벽 2시 달러-원 환율은 전장 서울환시 종가 대비 1.80원 내린 1421.50원에 거래를 마쳤다.\\n\\n이번···', 'url': 'https://www.khan.co.kr/article/202504220848001', 'urlToImage': 'https://img.khan.co.kr/news/2025/04/22/news-p.v1.20250422.cae40d92c5bf47ffab422396faa34250_P1.png', 'publishedAt': '2025-04-21T23:48:00Z', 'content': '· 1421 .\\r\\n (·Fed) - .\\r\\n22() 2 - 1.80 1421.50 .\\r\\n (9~3 ) 1419.10 2.40 .\\r\\n1420 · . .\\r\\n .\\r\\n (major loser) (Mr. Too Lateㆍ ) .\\r\\n 6 (DXY) 3 98 · .\\r\\n 2 36 - 140.890, - 1.14970 . -(CNH) 7.2920 .\\r\\n- 100 1007.… [+55 chars]'}, {'source': {'id': None, 'name': 'Zdnet.co.kr'}, 'author': '손희연 기자', 'title': '이창용 \"미국 관세정책 불확실성 증대…상황 주시 필요\"', 'description': '[지디넷코리아]이창용 한국은행 총재가 시시각각 변하는 미국의 관세정책과 미국과 중국 간 무역갈등 등 대외 여건 불확실성이 높아진 가운데, 전개 상황을 지켜보기 위해 금융통화위원회(금통위)에서 기준금리를 동결하며 통화정책의 속도를 조절했다고 말했다.17일 서울 중구 한은에서 열린 금융통화위원회(금통위)에서는 기준금리를 종전과 같은 수준인 연 2.75%로 동결했다. 이번 금통위에서는 신성환 위원이 0.25%p를 인하하자는 소수 의견을 제시했다. 이 총재는 \"5명의…', 'url': 'https://zdnet.co.kr/view/?no=20250417120029', 'urlToImage': 'https://image.zdnet.co.kr/2025/04/17/d1bdec3982a24730851a11c8be030dd4.jpg', 'publishedAt': '2025-04-17T04:02:57Z', 'content': ', \\xa0 () .\\r\\n17 () 2.75% . 0.25%p .\\xa0\\r\\n \"5 , \" \" \" .\\r\\n 3 6 2.75% .\\xa0\\r\\n17 .(=)\\r\\n. \\'\\' \\' \\' .\\r\\n \\xa0\"2 \" \" \" .\\r\\n 2 1.5% 0.4%p , \\' \\' . \"2 \" \"\\xa0 5 ( ) \" .\\r\\n \\' \\' 1 0.2% . 1 . \"1 1 \" \"1 \\xa0 \\xa0 \" .\\r\\n17 . (=)\\r\\n\\xa0 · \\r\\n. 9 1… [+91 chars]'}, {'source': {'id': None, 'name': 'Tistory.com'}, 'author': 'T.B', 'title': '금리 인하 지연시킨 트럼프 쌍판대기 아이폰에 붙이자', 'description': 'The US and China have achieved what President Trump called a “total reset” on trade. On today’s Big Take podcast, what the tariff rollback means for global markets and the world’s two largest economies. https://t.co/F4Sqiw2Aq0— Bloomberg (@business) May 12, 2…', 'url': 'https://ryueyes11.tistory.com/511626', 'urlToImage': 'https://img1.daumcdn.net/thumb/R800x0/?scode=mtistory2&fname=https%3A%2F%2Fblog.kakaocdn.net%2Fdn%2FkN5pB%2FbtsNWt6U1Yz%2FtK7OvKN6nLUMx0n6Eq7TU0%2Fimg.jpg', 'publishedAt': '2025-05-13T07:06:36Z', 'content': 'The US and China have achieved what President Trump called a “total reset” on trade. On today’s Big Take podcast, what the tariff rollback means for global markets and the world’s two largest economi… [+1410 chars]'}, {'source': {'id': None, 'name': 'Zdnet.co.kr'}, 'author': '손희연 기자', 'title': \"'집토끼'는 봉인가…신규 고객 확보에만 열올리는 KB국민은행\", 'description': \"[지디넷코리아]금리 인하기에 접어들면서 KB국민은행이 수익성 방어를 위해 저원가성 예금 확보와 신규 고객을 늘릴 수 있는 제휴 통장 라인업을 확대하고 있다.문제는 KB국민은행이 자체적으로 제공하는 금리보다 높다는 점이다. 예금 전환도 가능하지만 '집토끼'가 상대적으로 차별받는 것으로 여겨진다.22일 KB국민은행은 지난 해부터 논의했던 삼성금융네트웍스 '모니모'와 연계한 '모니모 KB 매일 이자 통장'을 출시했다고 밝혔다.KB국민은행 모바일 뱅킹 애플리케이션(앱…\", 'url': 'https://zdnet.co.kr/view/?no=20250422103550', 'urlToImage': 'https://image.zdnet.co.kr/2024/05/08/58a0884af033b4cd463ac597c615605c.jpg', 'publishedAt': '2025-04-22T03:31:11Z', 'content': \"KB .\\r\\n KB . '' .\\r\\n22 KB '' ' KB ' .\\r\\nKB \\r\\nKB () ,\\xa0 200 4.00% .\\r\\n KB 'KB ' .\\xa0KB 1 300 2.0% .\\xa0\\r\\nKB . KB 'KB' 5 \\xa0 0.1% . . .\\r\\n 1 KB 'KB STAR*T' . KB STAR*T 100 1% 0.1% . .\\r\\n , .\\r\\n\\xa0\\xa0\\xa0\\xa0\\xa0\\xa0 . ·· KB · . 50 '… [+16 chars]\"}, {'source': {'id': None, 'name': 'Zdnet.co.kr'}, 'author': '손희연 기자', 'title': '[미장브리핑] 미 \"스위스서 중국과 만날 것\"', 'description': '[지디넷코리아]◇ 6일(현지시간) 미국 증시▲다우존스산업평균(다우)지수 전 거래일 대비 0.95% 하락한 40829.00.▲스탠다드앤푸어스(S&P)500 지수 전 거래일 대비 0.77% 하락한 5606.91.▲나스닥 지수 전 거래일 대비 0.87% 하락한 17689.66.▲미국 정부 대변인은 스콧 베센트 재무장관과 제이미슨 그리어 최고무역담당관이 이번 주 스위스에서 중국 측 관계자들과 회동할 것이라고 밝혀. ▲미국 연방준비제도(연준)의 공개시장위원회(FOMC)…', 'url': 'https://zdnet.co.kr/view/?no=20250507080635', 'urlToImage': 'https://zdnet.co.kr/images/default_img.jpg', 'publishedAt': '2025-05-06T23:06:35Z', 'content': '6() \\r\\n() 0.95% 40829.00.\\r\\n(S&amp;P)500 0.77% 5606.91.\\r\\n 0.87% 17689.66.\\r\\n .\\xa0\\r\\n () (FOMC) . CME 97% . . .'}, {'source': {'id': None, 'name': 'Zdnet.co.kr'}, 'author': '손희연 기자', 'title': \"銀, 장기분할·금리감면 '소상공인119플러스' 18일 시행\", 'description': \"[지디넷코리아]은행권이 18일부터 전국 영업점을 통해 연체 상태나 우려가 있는 소상공인을 지원하기 위한 '소상공인 119 플러스(Plus)' 신청을 받는다.은행연합회는 현재 개인사업자로 한정됐던 '개인사업자 대출 119' 프로그램을 법인·소상공인까지 확대해 지원한다고 밝혔다. 연체 우려 소상공인 등이 보유한 대출을 최대 10년까지 장기 분할 상환할 수 있도록 하고 금리를 감면해주는 것이 주 골자다.도박 기계 및 사행성 불건전 오락기구 제조업, 유흥주점을 제외한…\", 'url': 'https://zdnet.co.kr/view/?no=20250417104805', 'urlToImage': 'https://image.zdnet.co.kr/2025/04/17/d41c28759d63a442158fd16177e3e8dc.png', 'publishedAt': '2025-04-17T02:01:36Z', 'content': ''}, {'source': {'id': None, 'name': 'Zdnet.co.kr'}, 'author': '류은주 기자', 'title': 'HD현대건설기계, 신흥시장 선방에도 1Q 영업익 하락…전년비 22.3%↓', 'description': '[지디넷코리아]HD현대건설기계가 신흥시장에서 견조한 성장을 이어갔지만, 미국 관세와 고금리 여파로 선진시장 회복이 지연되면서 1분기 실적이 뒷걸음질 쳤다. HD현대건설기계는 8일 공시를 통해 2025년 1분기 매출 9천68억원, 영업이익 417억 원을 기록했다고 밝혔다. 매출은 전년 동기 대비 7.4% 감소했고, 영업이익은 22.3% 줄었다.지역별로는 인도와 브라질, 중국 시장에서 실적 개선이 이어졌다. 인도와 브라질은 정부 주도의 공공 인프라 투자 기조를 바…', 'url': 'https://zdnet.co.kr/view/?no=20250428152238', 'urlToImage': 'https://image.zdnet.co.kr/2024/03/04/8e4bd10f30d08a39dee38b913e1549da.jpg', 'publishedAt': '2025-04-28T06:22:38Z', 'content': 'HD , 1 .\\xa0\\r\\nHD 8 2025 1 968, 417 .\\xa0\\xa0 7.4% , 22.3% .\\r\\n HD GRC (=HD)\\r\\n, . 11%, 8% . 33% .\\r\\n , HD .\\r\\n , (AM) .\\r\\nHD , , , .'}, {'source': {'id': None, 'name': 'Tistory.com'}, 'author': 'T.B', 'title': '테슬라 주가, 트럼프에 하방 압력 커졌다', 'description': \"What Does Trump Even Get if he fires Jerome Powell? https://t.co/Qj5Zx1gr0I— Bloomberg (@business) April 21, 2025 Can Trump fire Powell? Here's how the president can and can't sway the Fed https://t.co/Y8Jn1oPV7H— Bloomberg (@business) April 21, 2025 '트럼프'의 '…\", 'url': 'https://ryueyes11.tistory.com/511577', 'urlToImage': 'https://img1.daumcdn.net/thumb/R800x0/?scode=mtistory2&fname=https%3A%2F%2Fblog.kakaocdn.net%2Fdn%2FbtLQef%2FbtsNuEg2X81%2Foy13RxS4OwgBNIEzOE6TnK%2Fimg.jpg', 'publishedAt': '2025-04-21T22:24:40Z', 'content': \"What Does Trump Even Get if he fires Jerome Powell? https://t.co/Qj5Zx1gr0I\\r\\n— Bloomberg (@business) April 21, 2025\\r\\nCan Trump fire Powell? Here's how the president can and can't sway the Fed https:/… [+331 chars]\"}, {'source': {'id': None, 'name': 'Zdnet.co.kr'}, 'author': '손희연 기자', 'title': '[미장브리핑] 사우디와 6천억달러 규모 투자…엔비디아·AMD 상승', 'description': '[지디넷코리아]◇ 13일(현지시간) 미국 증시▲다우존스산업평균(다우)지수 전 거래일 대비 0.64% 하락한 42140.43.▲스탠다드앤푸어스(S&P)500 지수 전 거래일 대비 0.72% 상승한 5886.55.▲나스닥 지수 전 거래일 대비 1.61% 상승한 19010.08.▲S&P500 지수 2025년 0.08% 상승. ▲도널드 트럼프 미국 대통령이 리야드에서 열린 미국-사우디아라비아 투자 포럼 연설에서 사우디아라비아가 미국과의 거래에 6천억 달러를 투자한다고…', 'url': 'https://zdnet.co.kr/view/?no=20250514081532', 'urlToImage': 'https://image.zdnet.co.kr/2024/12/17/8ea72ab6c50281ed9c27f6761637a9c2.jpg', 'publishedAt': '2025-05-13T23:15:32Z', 'content': '13() \\r\\n() 0.64% 42140.43.\\r\\n(S&amp;P)500 0.72% 5886.55.\\r\\n 1.61% 19010.08.\\r\\n(=)\\r\\nS&amp;P500 2025 0.08% .\\xa0\\r\\n - 6 . 1420 . 200 . ···AMD· \\xa0 800 .\\xa0(Nvidia) 5.6%, 4%, AMD 4% .\\xa0\\r\\n \\xa0 ··· 1 .\\r\\n \" , , \" CNBC .\\r… [+55 chars]'}, {'source': {'id': None, 'name': 'Zdnet.co.kr'}, 'author': '손희연 기자', 'title': '[미장브리핑] 美 4월 PPI 예측치 하향…\"불확실성·경기침체 가능성\" 거론', 'description': '[지디넷코리아]◇ 15일(현지시간) 미국 증시▲다우존스산업평균(다우)지수 전 거래일 대비 0.65% 상승한 42322.75.▲스탠다드앤푸어스(S&P)500 지수 전 거래일 대비 0.41% 상승한 5916.93.▲나스닥 지수 전 거래일 대비 0.18% 하락한 19112.32.▲미국 4월 생산자물가지수(PPI)는 전월 대비 0.5% 하락. 다우존스 전망치 0.3% 상승보다 크게 하향. 4월 소매판매는 0.1% 증가해 시장 예측치와 일치. 지표 발표 이후 채권 금리…', 'url': 'https://zdnet.co.kr/view/?no=20250516080654', 'urlToImage': 'https://image.zdnet.co.kr/2022/03/08/b02b87288c12ca26138f6801b1cd5c27.jpg', 'publishedAt': '2025-05-15T23:06:54Z', 'content': '15() \\r\\n() 0.65% 42322.75.\\r\\n(S&amp;P)500 0.41% 5916.93.\\r\\n 0.18% 19112.32.\\r\\n(=)\\r\\n4\\xa0(PPI) 0.5% .\\xa0 0.3% . 4 0.1% . . 10 0.08%p 4.44%, 2 0.09%p 3.96%.\\r\\nS&amp;P 500 2023 11\\xa0 . 6% . 16 .\\r\\n \\xa0 \" \" \"\\xa0 \" .\\r\\nJP … [+53 chars]'}, {'source': {'id': None, 'name': 'Khan.co.kr'}, 'author': '김지환 기자 baldkim@kyunghyang.com', 'title': '이례적으로 1분기 역성장 가능성 내비친 한은, 5월엔 금리 내릴까', 'description': '이창용 한국은행 총재. 한은 제공\\n\\n한국은행이 공식 발표 이전에 1분기 역성장 가능성을 이례적으로 내비친 건 그만큼 경제 상황이 좋지 않다고 판단했기 때문으로 풀이된다. 이창용 한국은행 총재는 “갑자기 어두운 터널로 들어온 느낌”이라고 했다. 정치적 불확실성과 관세전쟁이 빚은 ‘시계 제로’ 상황에서 당장 기댈 ‘언덕’은 추가경정예산(추경) 편성과 다음달 금···', 'url': 'https://www.khan.co.kr/article/202504171846001', 'urlToImage': 'https://img.khan.co.kr/news/2025/04/17/news-p.v1.20250417.de2b321436c74309b29cabb869f5b417_P1.jpg', 'publishedAt': '2025-04-17T09:46:00Z', 'content': '. \\r\\n1 . . () .\\r\\n 1 , (1.5%) . 4 10 40 IB() 1.4%, 25% 1.1% .\\r\\n 12·3 . .\\r\\n (750) . .\\r\\n . (WTO) 16() 0.2% . 10 (3.0%) .\\r\\n . · (1.75%) . 6 5 , , .\\r\\n . 1 . · . 6 3 2.75% .\\r\\n 1 1.1% 1 5 .\\r\\n 6 .\\r\\n ( ) 5 .'}, {'source': {'id': None, 'name': 'Khan.co.kr'}, 'author': '김지혜 기자 kimg@kyunghyang.com', 'title': '전기 아끼면 최고 7.2% 금리 받는 ‘에너지절약 적금’ 출시', 'description': '에너지절약 두드림적금 이벤트 설명. 국토교통부 제공.\\n\\n국토교통부는 건물 부문의 탄소중립 실현을 위해 건물 에너지 사용량을 줄이면 최고 연 7.2%의 금리를 제공하는 적금 상품을 출시한다고 밝혔다.\\n\\n11일 국토부에 따르면 SC제일은행에서 출시되는 ‘에너지절약 두드림 적금’은 오는 6~11월 전기 에너지 사용량을 지난해 같은 기간 대비 줄인 가입자에게 절감···', 'url': 'https://www.khan.co.kr/article/202505111651001', 'urlToImage': 'https://img.khan.co.kr/news/2025/05/11/news-p.v1.20250511.ac96d398aebb44df8e28f1df1f18593c_P1.png', 'publishedAt': '2025-05-11T07:51:00Z', 'content': '. .\\r\\n7.2% .\\r\\n11 SC 6~11 3.5% .\\r\\n (0% ~5% ) 1.5%, 5% 3.5% .\\r\\n 100 1 . 2.6%, · 1.1% . 7.2% .\\r\\n 12∼23 SC () . .\\r\\n .'}, {'source': {'id': None, 'name': 'Zdnet.co.kr'}, 'author': '손희연 기자', 'title': '\"인플레가 구매력에 미치는 영향 잘 몰라\"…성인 금융이해력 점수 하락', 'description': '[지디넷코리아]2024년 우리나라 만 18~79세 성인들의 금융이해력 점수가 2022년 조사때보다 소폭 떨어진 것으로 나타났다.30일 한국은행·금융감독원 등은 전국 만 18~79세 성인들의 전국 2천400가구를 대상으로 면접을 통해 금융이해력을 조사한 결과 2024년 점수는 65.7점으로 2022년 조사 당시 66.5점보다 0.8점 하락했다고 밝혔다.금융이해력 조사는 ▲소비자가 금융상품이나 서비스를 비교하고 적절한 정보에 입각한 금융의사 결정을 내리는 데 도움…', 'url': 'https://zdnet.co.kr/view/?no=20250430115211', 'urlToImage': 'https://image.zdnet.co.kr/2025/04/30/b578090218845bdbf07c106b7dfb08d0.png', 'publishedAt': '2025-04-30T03:05:36Z', 'content': '2024 18~79 2022 .\\r\\n30 · 18~79 2400 \\xa0 2024 65.7 2022 66.5 0.8 .\\r\\n 7 \\xa0 8\\xa0 , , 3 .\\r\\n2024 73.6, 2022(75.5) 1.9 64.7 2022\\xa0(65.8) 1.1 .\\xa0\\xa0 53.7, 2022(52.4) 1.3 .\\r\\n\\xa0 . 56.6 2022 78.3 .\\xa0\\r\\n 44.9 .\\r\\n \\xa0 , .\\r\\n \\xa03… [+56 chars]'}, {'source': {'id': None, 'name': 'Zdnet.co.kr'}, 'author': '손희연 기자', 'title': '카카오뱅크, 중·저신용대출 비중 역대 최고치…\"AI로 글로벌 누린다\"', 'description': '[지디넷코리아]카카오뱅크가 2025년 1분기 당기순이익이 1천374억원으로 전년 동기(1천112억원) 대비 23.6% 증가했다고 7일 밝혔다.카카오뱅크는 이번 1분기 실적서 이자이익은 다소 줄었으나 비이자이익이 확대됐다는 점을 강조했다.이자이익은 5천27억원으로 전년 5천58억원 대비 0.6% 감소했다. 올해 1분기말 카카오뱅크의 여신 잔액은 44조3천억원이며, 주택담보대출 잔액은 전 분기 대비 4천억원 증가했다.중·저신용자 대상 대출은 1분기 6천억원 규모를…', 'url': 'https://zdnet.co.kr/view/?no=20250507082201', 'urlToImage': 'https://image.zdnet.co.kr/2024/11/27/4cce2f203c27ac64889c36a43ad8fa73.jpg', 'publishedAt': '2025-05-07T01:02:58Z', 'content': '2025 1 1374 (1112) 23.6% 7 .\\r\\n 1 .\\r\\n 527 558 0.6% .\\xa0 1 443, 4 .\\r\\n .\\r\\n· 1 6 .\\xa0 1 · 32.8% .\\r\\n 1 \\xa0 2818 2120 32.9% . \" 35.9% \" \" , 1 · 8.8% 776 \" .\\r\\n 1 2 60 , \\xa011540 1 2 .\\r\\n1 (NIM) 2.09%, 0.06%p .\\r\\n1 60… [+143 chars]'}, {'source': {'id': None, 'name': 'Khan.co.kr'}, 'author': '워싱턴 | 김유진 특파원 yjkim@kyunghyang.com', 'title': '연준, 트럼프 인하 압박에도 금리 4.25~4.50%로 유지', 'description': '게티이미지AFP연합뉴스\\n\\n미국 중앙은행인 연방준비제도(Fed·연준)가 7일(현지시간) 기준금리를 동결했다. 도널드 트럼프 대통령의 인하 압박에도 지난 1월 이후 3차례 연속 금리 동결이다. 트럼프 대통령의 관세로 인한 경제 불확실성이 커지면서 당분간 관세가 미칠 영향을 주시하겠다는 의도로 풀이된다.\\n\\n이날 연준은 6~7일 치러진 연방공개시장위원회(FOMC)···', 'url': 'https://www.khan.co.kr/article/202505080519001', 'urlToImage': 'https://img.khan.co.kr/news/2025/05/08/news-p.v1.20250508.fdb02f3620c7485fade1d635e69b539e_P1.png', 'publishedAt': '2025-05-07T20:19:00Z', 'content': 'AFP\\r\\n(Fed·) 7() . 1 3 . .\\r\\n 6~7 (FOMC) 4.25~4.50% . .\\r\\n · 1.75% .\\r\\n 1 FOMC . . .\\r\\n .'}, {'source': {'id': None, 'name': 'Zdnet.co.kr'}, 'author': '손희연 기자', 'title': '[미장브리핑] 메타·MS 실적호조에 증시↑…나스닥 美 관세발표 전으로 회복', 'description': '[지디넷코리아]◇ 1일(현지시간) 미국 증시▲다우존스산업평균(다우)지수 전 거래일 대비 0.21% 상승한 40752.96.▲스탠다드앤푸어스(S&P)500 지수 전 거래일 대비 0.63% 상승한 5604.14.▲나스닥 지수 전 거래일 대비 1.52% 상승한 17710.74.▲메타와 마이크로소프트(MS)의 실적 발표가 예상치를 상회하면서 증시가 상승 마감. 이는 특히 나스닥 지수는 도널드 트럼프 미국 대통령이 관세 정책을 발표한 시점인 4월 2일 수준으로 회복.메…', 'url': 'https://zdnet.co.kr/view/?no=20250502073343', 'urlToImage': 'https://image.zdnet.co.kr/2022/03/17/a6443294f6eddef660637c1cf405e7c5.jpg', 'publishedAt': '2025-05-01T22:33:43Z', 'content': '1() \\r\\n() 0.21% 40752.96.\\r\\n(S&amp;P)500 0.63% 5604.14.\\r\\n 1.52% 17710.74.\\r\\n(=)\\r\\n(MS) . 4 2 .\\r\\n 1 4231 16% . \" \" . (AI) .\\r\\nMS 1 701 13% . AI , (Azure) 33% . MS \" \" \" AI \" .\\r\\n 4.2%, MS 7.6% .\\xa0\\r\\n (Argent … [+132 chars]'}, {'source': {'id': None, 'name': 'Zdnet.co.kr'}, 'author': '주문정 기자', 'title': '올해 자금 사정 개선된 중견기업 10곳 중 한 곳에 그쳐', 'description': '[지디넷코리아]최근 두 차례의 기준금리 인하에도 중견기업의 자금 애로는 크게 개선되지 못한 것으로 확인됐다. 지난해보다 자금 사정이 나아진 중견기업은 10곳 중 1곳에 그쳤다.한국중견기업연합회가 28일 발표한 ‘2025년 중견기업 금융 애로 조사’ 결과에 따르면 전년 대비 자금 사정이 나아진 중견기업은 10.9%에 불과한 것으로 나타났다. 60.4%의 중견기업은 대동소이하다고 응답했지만, 28.7%는 오히려 올해 자금 사정이 악화했다고 답했다.자금 사정 악화 …', 'url': 'https://zdnet.co.kr/view/?no=20250428173346', 'urlToImage': 'https://image.zdnet.co.kr/2025/04/28/21ec136d75abe5d2a0068d23274f8480.jpg', 'publishedAt': '2025-04-28T08:33:46Z', 'content': '. 10 1 .\\r\\n 28 2025 10.9% . 60.4% , 28.7% .\\r\\n (53.0%), (14.0%), (10.2%) .\\r\\n .\\r\\n33.0% .\\r\\n 4 32% 53% .\\r\\n 16.7% (43.2%), · (34.4%), (29.6%) .\\r\\n 2025 2 17 2 28 748 .\\r\\n (53.6%), (11.6%), (9.8%) .\\r\\n (28.7%)… [+100 chars]'}, {'source': {'id': None, 'name': 'Khan.co.kr'}, 'author': '워싱턴 | 김유진 특파원 yjkim@kyunghyang.com', 'title': '“금리 인하하라” 미국 경제 또 때린 ‘트럼프의 입’', 'description': '인플레 우려하는 파월에\\n“결정 늦는 실패자” 공격도\\n경기침체 책임론 회피 의도\\n불확실성 커지며 증시 급락\\n\\n호루라기 부는 트럼프·멜라니아…달걀 굴리기 경주 시작 도널드 트럼프 미국 대통령 부부가 21일(현지시간) 워싱턴 백악관 사우스론에서 열린 ‘이스터 에그롤’(부활절 달걀 굴리기) 행사에 참석해 호루라기를 불고 있다. 로이터연합뉴스\\n\\n도널드 ···', 'url': 'https://www.khan.co.kr/article/202504222136005', 'urlToImage': 'https://img.khan.co.kr/news/2025/04/22/l_2025042301000669000068471.jpg', 'publishedAt': '2025-04-22T12:36:00Z', 'content': '· 21() ( ) . \\r\\n21() (Fed·) . , .\\r\\n () .\\r\\n (Mr. Too Late), . 7 () .\\r\\n . 18 .\\r\\n . 16 . .\\r\\n 5 . AP .\\r\\n . (S&amp;P) 500 2.36%, 2.55% 10 1.84% . 6 1.1 98.28 .\\r\\n , , . .'}, {'source': {'id': None, 'name': 'Khan.co.kr'}, 'author': '선명수 기자 sms@kyunghyang.com', 'title': '트럼프, ‘금리 동결’ 연준 의장 또 저격…“아무것도 모르는 바보”', 'description': '도널드 트럼프 미국 대통령이 8일(현지시간) 미 백악관에서 발언하고 있다. 신화연합뉴스\\n\\n도널드 트럼프 미국 대통령이 자신의 재집권 이후 3회 연속 기준금리를 동결한 미 연방준비제도(Fed·연준·미국 중앙은행)의 제롬 파월 의장을 향해 “아무것도 모르는 바보”라며 또 비판을 쏟아냈다.\\n\\n트럼프 대통령은 8일(현지시간) 자신의 소셜미디어인 트루스소셜에 올린 ···', 'url': 'https://www.khan.co.kr/article/202505090711001', 'urlToImage': 'https://img.khan.co.kr/news/2025/05/09/news-p.v1.20250509.84bb2778a8c4452b9dfe3cc98006e784_P1.jpg', 'publishedAt': '2025-05-08T22:11:00Z', 'content': '8() . \\r\\n3 (Fed·· ) .\\r\\n 8() .\\r\\n , , . () .\\r\\n . .\\r\\n (too late· ) . . .\\r\\n () .\\r\\n (FOMC) (4.25~4.50%) . 1 2 3 FOMC .\\r\\n . , .'}, {'source': {'id': None, 'name': 'Khan.co.kr'}, 'author': '김경민 기자 kimkim@kyunghyang.com', 'title': '한국 국채 35조, 외인이 ‘풀매수’', 'description': '관세 혼란에 안전자산 선택\\n금리 인하 가능성도 ‘영향’\\n\\n지난달 도널드 트럼프 미국 행정부의 상호관세 발표 이후 외국인 투자자들이 한국 국채 선물을 약 35조원어치 사들인 것으로 나타났다. 트럼프발 혼란이 지속되면서 안전자산인 채권에 자금이 쏠린 데다 미 국채에 대한 불신이 커졌고, 국내 경기 하강에 따라 한국은행의 기준금리 인하 가능성이 높아진 영향···', 'url': 'https://www.khan.co.kr/article/202505062037005', 'urlToImage': 'https://img.khan.co.kr/spko/company/Khan_CI_180212.jpg', 'publishedAt': '2025-05-06T11:37:00Z', 'content': '35 . , .\\r\\n6 3 23200(214313) . 4 . 10 123400(102523) 3 10 353600 .\\r\\n . 2.584% 3 2.267% ( ).\\r\\n . .\\r\\n 1 . .'}, {'source': {'id': None, 'name': 'Khan.co.kr'}, 'author': '김지혜 기자 kimg@kyunghyang.com', 'title': '‘절전’하면 최고 7.2% 이자 주는 적금 나온다', 'description': 'SC제일은행, 금리 우대 상품 출시\\n\\n국토교통부는 건물 부문의 탄소중립 실현을 위해 건물 에너지 사용량을 줄이면 최고 연 7.2%의 금리를 제공하는 적금 상품을 출시한다고 밝혔다.\\n\\n11일 국토부에 따르면 SC제일은행에서 출시되는 ‘에너지절약 두드림 적금’은 오는 6~11월 전기 에너지 사용량을 지난해 같은 기간 대비 줄인 가입자에게 절감량에 따라 ···', 'url': 'https://www.khan.co.kr/article/202505112027025', 'urlToImage': 'https://img.khan.co.kr/spko/company/Khan_CI_180212.jpg', 'publishedAt': '2025-05-11T11:27:02Z', 'content': 'SC, \\r\\n 7.2% .\\r\\n11 SC 6~11 3.5% .\\r\\n (0% ~5% ) 1.5%, 5% 3.5% . 100 1 . 2.6%, · 1.1% . 7.2% . 12~23 SC () . .\\r\\n .'}, {'source': {'id': None, 'name': 'Khan.co.kr'}, 'author': '김경민 기자 kimkim@kyunghyang.com', 'title': '롯데손보, 결국 ‘백기’…보험업계 ‘콜옵션’ 딜레마 확산 우려', 'description': '금리 하락에 보험사 건전성 악화, 미행사 이어질 가능성도\\n\\n쉬운 자본 확충 후순위채 의존 ‘부메랑’…재발행도 어려워질 듯\\n‘킥스 비율’ 위태 악순환…질 높은 자금 조달 방식으로 개선 필요\\n\\n롯데손해보험이 금융당국의 제동에도 후순위채권의 콜옵션(조기상환권) 강행 의지를 고수하다 결국 ‘백기’를 들었다. 롯데손보 외에도 시장금리 하락 등의 영향으로 보···', 'url': 'https://www.khan.co.kr/article/202505132058025', 'urlToImage': 'https://img.khan.co.kr/spko/company/Khan_CI_180212.jpg', 'publishedAt': '2025-05-13T11:58:02Z', 'content': ', \\r\\n () . .\\r\\n .\\r\\n 13 .\\r\\n 5 () (·K-ICS) . 150% .\\r\\n 3 150% 150% .\\r\\n . .\\r\\n . .\\r\\n 3 8000 5 . .\\r\\n (157%), (157.3%), KDB(158.24%) 150% .\\r\\n1 .\\r\\n 6 9 . NICE A+ A .\\r\\n .\\r\\n , .\\r\\n . .\\r\\n .'}, {'source': {'id': None, 'name': 'Zdnet.co.kr'}, 'author': 'AI 에디터', 'title': '[Q&AI] 이더리움 하루새 22% 급등... 왜', 'description': '[지디넷코리아]질문: 최근 이더리움이 급등했던데 왜 그런 거야?그록 답변: 이더리움(ETH) 가격이 최근 급등한 이유는 여러 요인이 복합적으로 작용한 결과로 보입니다. 아래는 주요 원인과 관련된 최신 정보를 정리한 내용입니다.비트코인 상승세와 시장 전반의 강세: 비트코인(BTC)이 최근 10만 달러에 근접하며 강한 상승세를 보였고, 이는 암호화폐 시장 전반에 긍정적인 영향을 미쳤습니다. 이더리움은 비트코인 다음으로 큰 시가총액을 가진 암호화폐로, 비트코인의 상…', 'url': 'https://zdnet.co.kr/view/?no=20250509223550', 'urlToImage': 'https://image.zdnet.co.kr/2025/05/09/ai6a1c1354321edff2106a8dbcfd80a4ac.jpg', 'publishedAt': '2025-05-09T13:35:50Z', 'content': \": ?\\r\\n : (ETH) . .\\r\\n: (BTC) 10 , . , . .\\r\\n: 2025 5 , '(Pectra)' . , 2(L2) , . , .\\r\\n ETF : ETF . 2025 2, CBOE 21Shares ETF . ETF . , ETF .\\r\\n: . , 2030~2160 2540 . , (RSI) (67) . .\\r\\nDeFi NFT : DeFi( ) N… [+167 chars]\"}, {'source': {'id': None, 'name': 'Khan.co.kr'}, 'author': '이영경 기자 samemind@kyunghyang.com', 'title': '트럼프, 금리 안 내리는 파월 의장 해고 ‘협박’···연준과의 갈등 격화', 'description': '트럼프 “내가 사임 요구하면 빨리 물러날 것”\\nWSJ “수개월 전부터 파월 의장 해고 논의”\\n파월 “연준 독립성 법으로 보장”\\n공화당 의원 “경기하방 불러올 핵무기급 선택지”\\n\\n제롬 파월 미 연방준비제도(Fed) 의장(앞쪽)과 도널드 트럼프 미국 대통령. 게티이미지\\n\\n도널드 트럼프 미국 대통령이 관세 인하로 인한 경제 타격을 완화하기 위해 금리를 인하하지 ···', 'url': 'https://www.khan.co.kr/article/202504181548001', 'urlToImage': 'https://img.khan.co.kr/news/2025/04/18/news-p.v1.20250418.cd945ff5175642a092a30e8d61b15902_P1.jpg', 'publishedAt': '2025-04-18T06:48:00Z', 'content': ', ··· \\r\\n(Fed) () . \\r\\n(Fed·) . .\\r\\n 17() () . , .\\r\\n . , ( ) , . .\\r\\n 16 , .\\r\\n 1 . 12 .\\r\\n ··· \\r\\n(WSJ) .\\r\\nWSJ . WSJ .\\r\\nWSJ . . , 6 .\\r\\n( Fed) . AP\\r\\n··· \\r\\n2026 5 . 16 .\\r\\n . . . .\\r\\n 1935 . .\\r\\n . (FTC) (NLRB)… [+173 chars]'}, {'source': {'id': None, 'name': 'Zdnet.co.kr'}, 'author': '류은주 기자', 'title': 'K-건설기계, 북미·유럽서 고전...선진 시장 수요 회복이 관건', 'description': '[지디넷코리아]국내 건설기계 업계가 북미와 유럽 등 선진 시장에서 고전을 면치 못하며 1분기 줄줄이 부진한 실적을 기록했다.6일 업계에 따르면 건설기계 제조3사(두산밥캣·HD현대인프라코어·HD현대건설기계) 모두 올해 1분기 저조한 실적을 기록했다.부진한 실적의 원인으로는 유럽과 미국 등 선진 시장에서 관세와 고물가 우려로 수요 위축이 지속된 영향으로 풀이된다.HD현대건설기계는 인도, 브라질 등 신흥 시장에서 외형은 성장했지만, 수요가 회복되지 않아 연결 매출이…', 'url': 'https://zdnet.co.kr/view/?no=20250502172606', 'urlToImage': 'https://image.zdnet.co.kr/2025/04/08/5707fc750ba9d583ce1437c11d9646b3.jpg', 'publishedAt': '2025-05-06T00:49:23Z', 'content': '1 .\\r\\n6 3(·HD·HD) 1 .\\r\\n \\xa0 \\xa0 .\\r\\nHD , , 5 . HD \\xa01 968, 417 . 7.4%, 22.3% .\\r\\n (=)\\r\\n() . HD 1946 , 1605 .\\r\\nHD \\xa0 , , .\\r\\nHD 7 .\\xa0 1\\xa0 7531 11% , 236 .\\r\\n \\xa0 . HD , , , .\\xa0HD 1 137% (132%) .\\r\\n \\xa0, \\r\\n. 1 \\xa012.4% 298… [+201 chars]'}, {'source': {'id': None, 'name': 'Khan.co.kr'}, 'author': '이영경 기자 samemind@kyunghyang.com', 'title': '미 연은 총재, 트럼프 ‘파월 흔들기’에 “연준 신뢰성 약화할 것”', 'description': '굴스비 시카코 연준 총재 인터뷰\\n“경제학자들, 통화정책 독립성 만장일치 의견”\\n\\n\\n제롬 파월 미 연방준비제도(Fed) 의장(앞쪽)과 도널드 트럼프 미국 대통령. 게티이미지\\n\\n\\n도널드 트럼프 미국 대통령이 미 중앙은행인 연방준비제도(Fed·연준)의 제롬 파월 의장에게 금리 인하를 촉구하며 퇴진을 압박한 것에 대해 연준 고위 인사가 공개적으로 비판했다.\\n\\n오스···', 'url': 'https://www.khan.co.kr/article/202504210819001', 'urlToImage': 'https://img.khan.co.kr/news/2025/04/21/news-p.v1.20250421.8f986fc938c04c55849173c6e40cf883_P1.png', 'publishedAt': '2025-04-20T23:19:00Z', 'content': ', \\r\\n 2025.04.21 08:19\\r\\n(Fed) () . \\r\\n(Fed·) .\\r\\n () 20() CBS .\\r\\n .\\r\\n .\\r\\n 17 .\\r\\n 17 .\\r\\n .\\r\\n . 5.\\r\\n , .\\r\\n<ul><li>\\r\\n<ol><li>\\r\\n</li><li>\\r\\n</li><li>\\r\\n</li><li>\\r\\n</li><li>\\r\\n</li><li>\\r\\n</li><li>\\r\\n</li><li>\\r\\n<… [+49 chars]'}, {'source': {'id': None, 'name': 'Zdnet.co.kr'}, 'author': '류은주 기자', 'title': '한화솔루션, 美 시장 덕에 숨통…화학 부진은 숙제', 'description': '[지디넷코리아]한화솔루션이 미국 주택용 에너지 시장 호조로 올 1분기 실적 개선에 성공했다. 하지만, 주력 제품인 태양광 모듈 판매는 여전히 부진하고, 화학(케미칼) 사업 역시 아직 적자를 벗어나지 못한 상황이다. 한화솔루션은 신재생에너지와 화학 사업 모두 2분기 수익성 개선을 점쳤다.한화솔루션은 24일 올해 1분기 실적발표 컨퍼런스콜에서 \"구체적인 모듈 가격을 공개할 수는 없지만 미국 내 모듈 가격은 저점에서 조금씩 상승하는 것으로 추세를 전환했다\"며 \"최근…', 'url': 'https://zdnet.co.kr/view/?no=20250424144710', 'urlToImage': 'https://image.zdnet.co.kr/2024/11/22/716df5c1400b47d7dc21523fd3a3cc9c.jpg', 'publishedAt': '2025-04-24T06:48:24Z', 'content': '1 . , \\xa0 , ()\\xa0 . 2 .\\r\\n 24 1 \" \\xa0 \" \" , \" .\\r\\n\" \" . , .\\r\\n\" 8% \\xa0 \"\\r\\n. 1 22% .\\xa0\\r\\n (=)\\r\\n\" \" \" \" .\\r\\n \" 2035 8% \" \" (TPO) , \" .\\xa0\\r\\n _ (=)\\r\\n.\\r\\n \" \" \" \" .\\r\\n \" \" .\\xa0\\r\\n \\xa0\\'\\' \\'\\'.. AMPC \\r\\nEPC , . 2 .\\r\\n (IRA) (AMPC) . … [+127 chars]'}, {'source': {'id': None, 'name': 'Zdnet.co.kr'}, 'author': '김윤희 기자', 'title': '에코프로비엠 \"美 영향 제한적, 유럽 수요 전망 밝아\"', 'description': '[지디넷코리아]국내 양극재 기업 에코프로비엠이 유럽 전기차 시장 회복세, 현지 정책 효과 등에 따라 수요 성장이 나타날 것으로 전망했다. 미국 시장의 경우 트럼프 행정부의 고관세 기조로 전기차 시장도 당분간 혼란을 겪을 것으로 예상되나, 사업 비중이 작고 양극재는 품목별 관세 대상에서 빠져 영향이 제한적일 것으로 관측했다.에코프로비엠은 29일 올해 1분기 실적발표 컨퍼런스콜에서 이같은 전망을 공유했다. 1분기 잠정실적으로는 연결기준 매출 6천298억원, 영업이…', 'url': 'https://zdnet.co.kr/view/?no=20250429111015', 'urlToImage': 'https://image.zdnet.co.kr/2024/06/17/b20e2a869d45e78f8e516b4c4cba3533.jpg', 'publishedAt': '2025-04-29T02:58:53Z', 'content': ', . , .\\r\\n 29 1 . 1 6298, 23 35.1%, 66% .\\xa0\\r\\n 2 . () .\\r\\n . 1 .\\r\\n3 54 (CAPA) 1 1 15% , , .\\r\\n 2027 EU- (TCA) 65% . .\\r\\n EU 3 , OEM .\\r\\n , EU .\\r\\n . , , . , .\\r\\n 25% 79 2 , .\\r\\n (=)\\r\\n, .\\r\\n SK, .\\xa0\\r\\n , , 2029 .\\r… [+69 chars]'}, {'source': {'id': None, 'name': 'Ohmynews.com'}, 'author': '유창재', 'title': \"일하는 청년 위한 '청년내일저축계좌' 신규 4만명 모집\", 'description': '일하는 저소득층 청년들의 꾸준한 저축을 지원해 안정적인 자산기반을 형성할 수 있도록 돕는 정부의 대표적인 청년 자산형성 지원사업인 \\'청년내일저축계좌\\' 2025년 신규 가입자를 모집한다. 기간은 오는 2일부터 21일까지다.\\n\\n보건복지부(장관 조규홍, 아래 복지부)는 1일 이같이 알리면서 \"2022년부터 시작된 청년내일저축계좌는 누적 12만 명이 가입했고, 올해 추가로 약 4만 명을 신규 모집할 예정\"이라고 밝혔다.\\n\\n복지부에 따르면, 일하는 청년(기준 중위소득 …', 'url': 'https://www.ohmynews.com/NWS_Web/View/at_pg.aspx?CNTN_CD=A0003124662', 'urlToImage': 'https://ojsfile.ohmynews.com/CT_T_IMG/2025/0501/IE003452088_LT.jpg', 'publishedAt': '2025-05-01T03:16:55Z', 'content': '\\'\\' 2025 . 2 21.( , ) 1 \"2022 12 , 4 \" .\\r\\n, ( 50%~100%) (10 ~50 ) , 10 3 720 ( 360 ) ( 5% ) .\\r\\n( 50% ) 30 . 3 1440 ( 360 ) ( 5% ) .\" , \" \" \" .\\r\\n, . · 230 250 .\\r\\n, 3 . (www.bokjiro.go.kr) ( 2025 ).\\r\\n, … [+157 chars]'}, {'source': {'id': None, 'name': 'Ohmynews.com'}, 'author': '김종철', 'title': '이창용 총재님, 갑자기 어두운 터널로 확 들어온 게 아닙니다', 'description': '\"미국의 관세정책이 변하기 때문에 갑자기 어두운 터널로 확 들어온 그런 느낌이라 이렇게 어두워진 상황에서는 \\'조금 스피드를 조정하면서 밝아질 때까지 기다리는 게 좋지 않겠나\\'는 생각이었습니다.\"\\n\\n이창용 한국은행 총재의 말입니다. 이 총재는 오늘(17일) 금융통화위원회(금통위)를 마치고, 기자들에게 금리 동결의 배경을 이렇게 설명했는데요. 금통위는 이날 기준금리를 연 2.75%로 유지했습니다. 사실 시장에선 금통위가 금리를 동결할 것이라는 전망이 많았습니다. …', 'url': 'https://www.ohmynews.com/NWS_Web/View/at_pg.aspx?CNTN_CD=A0003120027', 'urlToImage': 'https://ojsfile.ohmynews.com/BIG_IMG_FILE/2025/0416/IE003444106_BIG.jpg', 'publishedAt': '2025-04-17T09:39:05Z', 'content': '\" \\' \\' .\". (17) () , . 2.75% . . . .\\r\\n, . \" \" , .\\r\\n. \" \" . , .. 12 . \" 12 (GDP) 0.1% \" .\\r\\n. , \\'\\' . , . , \\' \\' \" 1 GDP \" . 1 GDP 0.2% . 0.5% 0.3% . . .\\r\\n2 . , . . \\' \\' , , .\\r\\n. (0.25%) . . . . , . .\\r\\n&lt… [+236 chars]'}, {'source': {'id': None, 'name': 'Ohmynews.com'}, 'author': '강명구', 'title': '트럼프에 반기 든 하버드...그들이 겁먹지 않은 진짜 이유', 'description': '우리에게 익숙한 우화가 있다. 양치기 소년이 거짓으로 \"늑대가 왔다\"고 외치자 처음엔 모두가 달려왔다. 그러나 같은 외침이 반복되자 사람들은 점점 반응하지 않았다. 결국 진짜 늑대가 나타났을 땐, 아무도 오지 않았다.\\n\\n도널드 트럼프 대통령이 바로 이 양치기 소년 같은 처지가 되어 가고 있다. 그는 상대에게 받아들일 수 없는 조건을 던지고, 거부하면 보복하며, 그 전 과정을 공개적으로 연출한다. 이른바 \\'치킨 게임\\'이다. 이 게임은 겁을 먹고 먼저 물러서는 쪽…', 'url': 'https://www.ohmynews.com/NWS_Web/Series/series_premium_pg.aspx?CNTN_CD=A0003120364', 'urlToImage': 'https://ojsfile.ohmynews.com/CRI_T_IMG/2025/0418/A0003120364_T.jpg', 'publishedAt': '2025-04-20T22:01:11Z', 'content': '. \" \" . . , .. , , . \\' \\'. . , .\\r\\n1 . 2 . \\'\\' , \\' \\' . . \\' \\' ., (Fed, ) . 245% . , .\\r\\n, \\r\\n2 . \\' \\'. 2023 - , .\\r\\n11, 9 . ··(DEI) , · , , , , . , .\\r\\n. &lt;&gt; , 1 \" 90 \" . 9 . .\\r\\n, 22 6 ( 3 ) . \" \" , . .\\r… [+297 chars]'}]\n",
      "\u001b[36;1m\u001b[1;3mSentiment score for 금리: -43\u001b[0m\u001b[32;1m\u001b[1;3m오늘의 뉴스를 분석한 결과, 금리에 대한 감정 점수는 -43으로 나타났습니다. 이는 대체로 부정적인 반응을 나타내는 점수입니다. 이 정보를 토대로 투자 결정을 내리시는데 참고하시기 바랍니다.\u001b[0m\n",
      "\n",
      "\u001b[1m> Finished chain.\u001b[0m\n",
      "오늘의 뉴스를 분석한 결과, 금리에 대한 감정 점수는 -43으로 나타났습니다. 이는 대체로 부정적인 반응을 나타내는 점수입니다. 이 정보를 토대로 투자 결정을 내리시는데 참고하시기 바랍니다.\n"
     ]
    }
   ],
   "source": [
    "from langchain_core.tools import tool\n",
    "from langchain_openai import ChatOpenAI\n",
    "from langchain_core.prompts import ChatPromptTemplate\n",
    "from langchain.agents import AgentExecutor, initialize_agent, Tool\n",
    "import requests\n",
    "import json\n",
    "\n",
    "@tool()\n",
    "def get_news_sentiment(topic:str) -> str:\n",
    "    \"\"\"주제와 관련된 뉴스 기사의 감성어를 가져와 분석\"\"\"\n",
    "    news_api_url = \"https://newsapi.org/v2/everything\"\n",
    "    querystring = {\"q\": topic, \"apiKey\": os.getenv('NEWS_API_KEY')}\n",
    "\n",
    "    response = requests.get(news_api_url, params=querystring)\n",
    "    articles = response.json().get('articles', [])\n",
    "    print(articles)\n",
    "\n",
    "    # 간단한 감정 분석 예시\n",
    "    sentiment_score = sum(1 if \"positive\" in article['description'].lower() else -1 for article in articles)\n",
    "    return f\"Sentiment score for {topic}: {sentiment_score}\"\n",
    "\n",
    "tools = [get_news_sentiment]\n",
    "\n",
    "llm = ChatOpenAI(\n",
    "    model=\"gpt-4\",\n",
    "    temperature=0\n",
    ")\n",
    "\n",
    "prompt = ChatPromptTemplate.from_messages([\n",
    "    (\"system\", \"\"\"주식 시장 분석 및 투자 결정을 돕는 AI 에이전트입니다.\n",
    "    뉴스 데이터를 수집하고 감성 분석을 통해 투자 결정을 제안합니다.\"\"\"),\n",
    "    (\"user\", \"{input}\"),\n",
    "    MessagesPlaceholder(variable_name=\"agent_scratchpad\")\n",
    "])\n",
    "\n",
    "agent = create_openai_functions_agent(llm, tools, prompt)\n",
    "\n",
    "\n",
    "agent_executor = AgentExecutor(\n",
    "    agent=agent,\n",
    "    tools=tools,\n",
    "    verbose=True,\n",
    "    handle_parsing_errors=True\n",
    ")\n",
    "\n",
    "# 주가 예측 시나리오\n",
    "response = agent_executor.invoke({\"input\": \"오늘 금리에 대해 감정 분석을 알려줘\"})\n",
    "result = response['output']\n",
    "print(result)"
   ]
  }
 ],
 "metadata": {
  "language_info": {
   "name": "python"
  }
 },
 "nbformat": 4,
 "nbformat_minor": 2
}
